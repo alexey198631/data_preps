{
 "cells": [
  {
   "cell_type": "code",
   "execution_count": 242,
   "id": "51302488",
   "metadata": {},
   "outputs": [
    {
     "name": "stdout",
     "output_type": "stream",
     "text": [
      "['.DS_Store', 'sales_gp_report.xlsx', 'definition_table.xlsx', 'sales_gp_last_month.xlsx']\n",
      "sales_gp_report\n",
      "custumer_definition_table\n",
      "horn\n",
      "sales_gp_last_month\n"
     ]
    }
   ],
   "source": [
    "import os\n",
    "import openpyxl\n",
    "import pandas as pd\n",
    "\n",
    "# Specify the folder path\n",
    "folder_path = 'data_files/'\n",
    "\n",
    "# List all files and folders in the specified folder path\n",
    "all_files_and_folders = os.listdir(folder_path)\n",
    "\n",
    "# Filter out only the files (exclude folders)\n",
    "files = [f for f in all_files_and_folders if os.path.isfile(os.path.join(folder_path, f))]\n",
    "\n",
    "# Print the list of files\n",
    "print(files)\n",
    "\n",
    "for file in files: \n",
    "    if '.xlsx' in file:\n",
    "        # Load the workbook\n",
    "        workbook = openpyxl.load_workbook(folder_path + file)\n",
    "        # Get all sheet names\n",
    "        sheet_names = workbook.sheetnames\n",
    "        for sheet_name in sheet_names:\n",
    "            print(sheet_name)"
   ]
  },
  {
   "cell_type": "code",
   "execution_count": 243,
   "id": "4e98c77a",
   "metadata": {},
   "outputs": [
    {
     "name": "stdout",
     "output_type": "stream",
     "text": [
      "sales_gp_report : Index(['fiscal_year', 'year_month', 'company_code_n', 'customer_group_cd',\n",
      "       'sales_order_so', 'bu', 'bu_n', 'sales_person_n', 'sold_to_customer',\n",
      "       'sold_to_customer_n', 'ec_eu_customer', 'ec_eu_customer_n',\n",
      "       'ec_eu_industry', 'ec_eu_industry_n', 'ec_eu_industry_segment',\n",
      "       'ec_eu_industry_segment_n', 'Sales (EURO)', 'GP (Euro)', 'BU/PJT',\n",
      "       'BU Group', 'BU Sub Group', 'OpCo', 'Type', 'Type with Channel',\n",
      "       'Company Type'],\n",
      "      dtype='object')\n",
      "definition_table : Index(['sold_to_customer', 'sales_person', 'company_code_n',\n",
      "       'sold_to_customer_n', 'customer_name', 'code', 'customer_group_case',\n",
      "       'indirect_direct', 'channel', 'type', 'Oscar i/d', 'Oscar Type', 'GB',\n",
      "       'i/d_in_proc.', 'Correction_Channel', 'Correction_ Type', 'T&M', 'tier',\n",
      "       'account', 'Partner page', 'Tableau', 'Comments', 'Link', 'additional',\n",
      "       'Date of agreement'],\n",
      "      dtype='object')\n",
      "sales_gp_last_month : Index(['fiscal_year', 'year_month', 'company_code_n', 'customer_group_cd',\n",
      "       'sales_order_so', 'bu', 'bu_n', 'sales_person_n', 'sold_to_customer',\n",
      "       'sold_to_customer_n', 'ec_eu_customer', 'ec_eu_customer_n',\n",
      "       'ec_eu_industry', 'ec_eu_industry_n', 'ec_eu_industry_segment',\n",
      "       'ec_eu_industry_segment_n', 'Sales (EURO)', 'GP (Euro)', 'BU/PJT',\n",
      "       'BU Group', 'BU Sub Group', 'OpCo'],\n",
      "      dtype='object')\n",
      "temp : Index(['sold_to_customer', 'company_code_n', 'sold_to_customer_n',\n",
      "       'customer_name', 'temp'],\n",
      "      dtype='object')\n"
     ]
    }
   ],
   "source": [
    "working_dfs = []\n",
    "for file in files:\n",
    "    if '.xlsx' in file:\n",
    "        df = pd.read_excel(folder_path + file)\n",
    "        name_without_extension = file.split('.')[0]\n",
    "        df.name = name_without_extension\n",
    "        working_dfs.append(df)\n",
    "\n",
    "temp = pd.read_excel(folder_path + 'definition_table.xlsx', sheet_name='horn')\n",
    "temp.name = 'temp'\n",
    "working_dfs.append(temp)\n",
    "        \n",
    "for dt_f in working_dfs:\n",
    "    print(dt_f.name, \":\", dt_f.columns)"
   ]
  },
  {
   "cell_type": "code",
   "execution_count": 252,
   "id": "58e912a5",
   "metadata": {},
   "outputs": [],
   "source": [
    "sales_gp_report = working_dfs[0]\n",
    "definition_table = working_dfs[1]\n",
    "sales_gp_last_month = working_dfs[2]\n",
    "temp = working_dfs[3]"
   ]
  },
  {
   "cell_type": "code",
   "execution_count": 253,
   "id": "fb2fee71",
   "metadata": {},
   "outputs": [],
   "source": [
    "sales_gp_report = sales_gp_report.loc[:, ['fiscal_year', 'year_month', 'company_code_n', 'sales_person_n', 'sold_to_customer', 'sales_order_so', \n",
    "       'Sales (EURO)', 'GP (Euro)']]\n",
    "definition_table = definition_table.loc[:,['sold_to_customer', 'sales_person', 'company_code_n',\n",
    "       'sold_to_customer_n', 'customer_name']]\n",
    "sales_gp_last_month = sales_gp_last_month.loc[:, ['fiscal_year', 'year_month', 'company_code_n', 'sales_person_n', 'sold_to_customer','sales_order_so', \n",
    "       'Sales (EURO)', 'GP (Euro)']]\n",
    "temp = temp.loc[:, ['sold_to_customer', 'customer_name', 'temp']]"
   ]
  },
  {
   "cell_type": "code",
   "execution_count": 254,
   "id": "77878d11",
   "metadata": {},
   "outputs": [
    {
     "name": "stdout",
     "output_type": "stream",
     "text": [
      "The following columns were changed to categorical data type: \n",
      "fiscal_year\n",
      "year_month\n",
      "company_code_n\n",
      "The following columns were changed to categorical data type: \n",
      "sales_person\n",
      "company_code_n\n",
      "The following columns were changed to categorical data type: \n",
      "fiscal_year\n",
      "year_month\n",
      "company_code_n\n",
      "The following columns were changed to categorical data type: \n",
      "sold_to_customer\n",
      "customer_name\n",
      "temp\n"
     ]
    }
   ],
   "source": [
    "# Reduce the memory usage of the dataframe and improve performance\n",
    "def check_unique_values(df):\n",
    "    changed_columns = []\n",
    "    for col in df.columns:\n",
    "        unique_values = df[col].nunique()\n",
    "        if unique_values < 50:\n",
    "            df[col] = df[col].astype('category')\n",
    "            changed_columns.append(col)\n",
    "    if len(changed_columns) > 0:\n",
    "        print(\"The following columns were changed to categorical data type: \")\n",
    "        for col in changed_columns:\n",
    "            print(col)\n",
    "    else:\n",
    "        print(\"No columns were changed to categorical data type.\")\n",
    "\n",
    "check_unique_values(sales_gp_report)\n",
    "check_unique_values(definition_table)\n",
    "check_unique_values(sales_gp_last_month)\n",
    "check_unique_values(temp)"
   ]
  },
  {
   "cell_type": "code",
   "execution_count": 255,
   "id": "5658967f",
   "metadata": {},
   "outputs": [
    {
     "name": "stdout",
     "output_type": "stream",
     "text": [
      "250757 + 6329 = 257086\n",
      "257086\n"
     ]
    }
   ],
   "source": [
    "print(f'{len(sales_gp_report)} + {len(sales_gp_last_month)} = {len(sales_gp_report) + len(sales_gp_last_month)}')\n",
    "sales_gp_report_full = pd.concat([sales_gp_report, sales_gp_last_month])\n",
    "print(len(sales_gp_report_full))"
   ]
  },
  {
   "cell_type": "code",
   "execution_count": 256,
   "id": "734490fb",
   "metadata": {},
   "outputs": [
    {
     "name": "stdout",
     "output_type": "stream",
     "text": [
      "13291\n"
     ]
    }
   ],
   "source": [
    "# Count the number of rows with missing values\n",
    "dropped_rows = len(sales_gp_report_full) - len(sales_gp_report_full.dropna(subset=['sold_to_customer']))\n",
    "# Drop rows with missing values in the 'sold_to_customer' column\n",
    "sales_gp_report_full = sales_gp_report_full.dropna(subset=['sold_to_customer'])\n",
    "print(dropped_rows)"
   ]
  },
  {
   "cell_type": "code",
   "execution_count": 257,
   "id": "5b58bc0a",
   "metadata": {},
   "outputs": [],
   "source": [
    "# Merge sales_gp_report_full and definition_table on 'sold_to_customer'\n",
    "sales_gp_report_full_customers = sales_gp_report_full.merge(definition_table[['sold_to_customer', 'customer_name']], on='sold_to_customer', how='left')\n",
    "\n"
   ]
  },
  {
   "cell_type": "code",
   "execution_count": 258,
   "id": "42dbffa9",
   "metadata": {},
   "outputs": [
    {
     "data": {
      "text/plain": [
       "202"
      ]
     },
     "execution_count": 258,
     "metadata": {},
     "output_type": "execute_result"
    }
   ],
   "source": [
    "# Count the number of rows where 'customer_name' is missing\n",
    "num_missing = sales_gp_report_full_customers['customer_name'].isna().sum()\n",
    "num_missing"
   ]
  },
  {
   "cell_type": "code",
   "execution_count": 259,
   "id": "d4d2e57a",
   "metadata": {},
   "outputs": [],
   "source": [
    "# Merge sales_gp_report_full_customers and definition_table on matching columns\n",
    "result = sales_gp_report_full_customers.merge(definition_table[['sold_to_customer_n', 'customer_name']], left_on='sales_person_n', right_on='sold_to_customer_n', how='left')"
   ]
  },
  {
   "cell_type": "code",
   "execution_count": 261,
   "id": "2e3542a4",
   "metadata": {},
   "outputs": [],
   "source": [
    "final_result = result.merge(temp[['sold_to_customer', 'temp']], on='sold_to_customer', how='left')\n",
    "final_result['temp'] = final_result['temp'].astype('object')"
   ]
  },
  {
   "cell_type": "code",
   "execution_count": 265,
   "id": "18c17d1b",
   "metadata": {},
   "outputs": [],
   "source": [
    "definition_table_types = working_dfs[1]\n",
    "definition_table_types = definition_table_types.loc[:,['customer_name', 'indirect_direct', 'channel', 'type']]\n",
    "definition_table_types = definition_table_types.drop_duplicates(subset=['customer_name'])"
   ]
  },
  {
   "cell_type": "code",
   "execution_count": 267,
   "id": "f70f52a4",
   "metadata": {},
   "outputs": [],
   "source": [
    "final_result['combined'] = final_result['temp'].fillna(final_result['customer_name_y']).fillna(final_result['customer_name_x'])"
   ]
  },
  {
   "cell_type": "code",
   "execution_count": 268,
   "id": "a16e6523",
   "metadata": {},
   "outputs": [],
   "source": [
    "final_result_with_types = final_result.merge(definition_table_types, left_on='combined', right_on='customer_name', how='left')"
   ]
  },
  {
   "cell_type": "code",
   "execution_count": 269,
   "id": "b0c01bd6",
   "metadata": {},
   "outputs": [],
   "source": [
    "writer = pd.ExcelWriter('data_files/result_sent.xlsx', engine='xlsxwriter')\n",
    "final_result_with_types.to_excel(writer, sheet_name='Sheet1')\n",
    "writer.save()"
   ]
  },
  {
   "cell_type": "code",
   "execution_count": null,
   "id": "43292ed8",
   "metadata": {},
   "outputs": [],
   "source": []
  }
 ],
 "metadata": {
  "kernelspec": {
   "display_name": "Python 3 (ipykernel)",
   "language": "python",
   "name": "python3"
  },
  "language_info": {
   "codemirror_mode": {
    "name": "ipython",
    "version": 3
   },
   "file_extension": ".py",
   "mimetype": "text/x-python",
   "name": "python",
   "nbconvert_exporter": "python",
   "pygments_lexer": "ipython3",
   "version": "3.9.12"
  }
 },
 "nbformat": 4,
 "nbformat_minor": 5
}
