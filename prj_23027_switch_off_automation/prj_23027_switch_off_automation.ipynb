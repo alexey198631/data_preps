{
 "cells": [
  {
   "cell_type": "code",
   "execution_count": 23,
   "id": "3026a541",
   "metadata": {},
   "outputs": [],
   "source": [
    "import pandas as pd\n",
    "import time\n",
    "import numpy as np\n",
    "import sqlite3\n",
    "import importlib\n",
    "import datetime\n",
    "from datetime import date\n",
    "from datetime import datetime\n",
    "import requests\n",
    "import win32com.client as win32\n",
    "import os\n",
    "# keeping company information in additional file\n",
    "import data_file"
   ]
  },
  {
   "cell_type": "code",
   "execution_count": null,
   "id": "6fa43f7f",
   "metadata": {},
   "outputs": [],
   "source": [
    "importlib.reload(data_file)"
   ]
  },
  {
   "cell_type": "code",
   "execution_count": 2,
   "id": "20fb2b75",
   "metadata": {},
   "outputs": [],
   "source": [
    "def get_draft_content(subject_identifier):\n",
    "    olApp = win32.Dispatch('Outlook.Application')\n",
    "    olNS = olApp.GetNamespace('MAPI')\n",
    "    \n",
    "    # Access the drafts folder\n",
    "    drafts_folder = olNS.GetDefaultFolder(16)  # 16 is the constant for the Drafts folder\n",
    "    for item in drafts_folder.Items:\n",
    "        if item.Subject == subject_identifier:\n",
    "            return item.HTMLBody  # Retrieve formatted content\n",
    "    return None"
   ]
  },
  {
   "cell_type": "code",
   "execution_count": 37,
   "id": "513f7753",
   "metadata": {},
   "outputs": [],
   "source": [
    "def send_email(output_folder, send_to, draft_subject, bcc_recipients=None, cc_recipients=None):\n",
    "    # automated sending the data\n",
    "    send_to = \"; \".join(send_to)\n",
    "    # Get today's date\n",
    "    current_date = date.today()\n",
    "    print(current_date)\n",
    "    # Convert date object to string\n",
    "    date_str = str(current_date)\n",
    "    \n",
    "    # Get content from draft\n",
    "    draft_content = get_draft_content(draft_subject)\n",
    "    if not draft_content:\n",
    "        print(f\"No draft found with subject: {draft_subject}\")\n",
    "        return\n",
    "\n",
    "    #----------------------------------\n",
    "    #Sending the email\n",
    "    #Below all is to send email\n",
    "    #construct outlook application instance\n",
    "    # construct outlook application instance\n",
    "    olApp = win32.Dispatch('Outlook.Application')\n",
    "    \n",
    "    \n",
    "    \n",
    "\n",
    "    # construct the email item object\n",
    "    mailItem = olApp.CreateItem(0)\n",
    "    mailItem.Subject = draft_subject\n",
    "    mailItem.HTMLBody = draft_content  # set content from the draft  \n",
    "    mailItem.To = send_to\n",
    "    \n",
    "    # Set CC recipients\n",
    "    if cc_recipients:\n",
    "        mailItem.CC = \"; \".join(cc_recipients)\n",
    "    \n",
    "    \n",
    "    if bcc_recipients:\n",
    "        mailItem.BCC = \"; \".join(bcc_recipients)  # Set the Bcc recipients here\n",
    "\n",
    "    \n",
    "    \n",
    "    # Attach each file in the output_folder to the email\n",
    "    for filename in os.listdir(output_folder):\n",
    "        filepath = os.path.join(output_folder, filename)\n",
    "        mailItem.Attachments.Add(filepath)\n",
    "        \n",
    "    # Show email\n",
    "    mailItem.Display()\n",
    "\n",
    "    # Execute to send email\n",
    "    mailItem.Send()"
   ]
  },
  {
   "cell_type": "code",
   "execution_count": 40,
   "id": "d637e40a",
   "metadata": {},
   "outputs": [],
   "source": [
    "output_folder = data_file.output_file_path\n",
    "output_folder_2 = data_file.output_file_path_two\n",
    "send_to = data_file.send_to\n",
    "send_to_two = data_file.send_to_two\n",
    "bcc_list = data_file.bcc_list\n",
    "cc_list = data_file.cc_list\n",
    "draft_subject = 'Weekly Progress Update 29-09-2023'\n",
    "draft_subejct_2 = 'Participants overview Channel Partner Training  October 3-5, 2023'"
   ]
  },
  {
   "cell_type": "code",
   "execution_count": 27,
   "id": "be086fa6",
   "metadata": {},
   "outputs": [
    {
     "name": "stdout",
     "output_type": "stream",
     "text": [
      "Are you sure you want to shut down the computer in 5 minutes? (yes/no): yes\n",
      "2023-09-28\n",
      "The computer will shut down in 5 minutes. Save all your work.\n"
     ]
    }
   ],
   "source": [
    "import os\n",
    "\n",
    "def shutdown_computer():\n",
    "    os.system(\"shutdown /s /t 1\")\n",
    "\n",
    "if __name__ == \"__main__\":\n",
    "    confirmation = input(\"Are you sure you want to shut down the computer in 9 hours? (yes/no): \").lower()\n",
    "    \n",
    "    if confirmation == 'yes':\n",
    "        print(\"The computer will shut down in 9 hours. Save all your work.\")\n",
    "        time.sleep(32000)\n",
    "        send_email(output_folder, send_to, draft_subject, bcc_list)\n",
    "        send_email(output_folder_2, send_to_two, draft_subejct_2, bcc_list, cc_list)\n",
    "        time.sleep(400)\n",
    "        shutdown_computer()\n",
    "    else:\n",
    "        print(\"Shutdown canceled.\")"
   ]
  },
  {
   "cell_type": "code",
   "execution_count": 38,
   "id": "67b848e9",
   "metadata": {},
   "outputs": [
    {
     "name": "stdout",
     "output_type": "stream",
     "text": [
      "2023-09-28\n",
      "2023-09-28\n"
     ]
    }
   ],
   "source": [
    "send_email(output_folder, send_to, draft_subject, bcc_list)\n",
    "send_email(output_folder_2, send_to_two, draft_subejct_2, bcc_list, cc_list)"
   ]
  }
 ],
 "metadata": {
  "kernelspec": {
   "display_name": "Python 3 (ipykernel)",
   "language": "python",
   "name": "python3"
  },
  "language_info": {
   "codemirror_mode": {
    "name": "ipython",
    "version": 3
   },
   "file_extension": ".py",
   "mimetype": "text/x-python",
   "name": "python",
   "nbconvert_exporter": "python",
   "pygments_lexer": "ipython3",
   "version": "3.10.9"
  }
 },
 "nbformat": 4,
 "nbformat_minor": 5
}
