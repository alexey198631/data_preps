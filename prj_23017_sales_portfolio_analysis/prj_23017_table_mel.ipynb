{
 "cells": [
  {
   "cell_type": "code",
   "execution_count": 1,
   "id": "5330f96b",
   "metadata": {},
   "outputs": [],
   "source": [
    "import pandas as pd\n",
    "\n",
    "\n",
    "# Read the Excel file and extract data from two sheets\n",
    "df_fy20 = pd.read_excel('data_files/for_melting.xlsx', sheet_name='FY20')\n",
    "df_fy19 = pd.read_excel('data_files/for_melting.xlsx', sheet_name='FY19')"
   ]
  },
  {
   "cell_type": "code",
   "execution_count": 49,
   "id": "17891aab",
   "metadata": {},
   "outputs": [],
   "source": [
    "original_table = df_fy20.copy()\n",
    "\n",
    "# Selecting the relevant columns\n",
    "columns_to_keep = \n",
    "columns_to_unpivot = \n",
    "new_columns = columns_to_keep + ['bu', 'order_intake']\n",
    "new_table = pd.DataFrame(columns=new_columns)\n",
    "new_rows = []\n",
    "\n",
    "# Iterating over each row in the original table\n",
    "for index, row in original_table.iterrows():\n",
    "    values = row[columns_to_unpivot].dropna()\n",
    "    \n",
    "    # Creating new rows for each value found\n",
    "    for col, value in values.items():\n",
    "        new_row = row[columns_to_keep].tolist() + [col, value]\n",
    "        new_rows.append(new_row)\n",
    "        \n",
    "# Concatenating the new rows with the existing DataFrame\n",
    "new_table = pd.DataFrame(new_rows, columns=new_columns)\n",
    "\n",
    "fy20_df = new_table.copy()\n",
    "\n",
    "fy20_df['FY'] = '2020'\n",
    "\n",
    "fy20_df['order_intake'] = fy20_df['order_intake'].div(117.59).round(2)"
   ]
  },
  {
   "cell_type": "code",
   "execution_count": 52,
   "id": "f4d58f85",
   "metadata": {},
   "outputs": [],
   "source": [
    "original_table = df_fy19.copy()\n",
    "\n",
    "# Selecting the relevant columns\n",
    "columns_to_keep = \n",
    "columns_to_unpivot = \n",
    "new_columns = columns_to_keep + ['bu', 'order_intake']\n",
    "new_table = pd.DataFrame(columns=new_columns)\n",
    "new_rows = []\n",
    "\n",
    "# Iterating over each row in the original table\n",
    "for index, row in original_table.iterrows():\n",
    "    values = row[columns_to_unpivot].dropna()\n",
    "    \n",
    "    # Creating new rows for each value found\n",
    "    for col, value in values.items():\n",
    "        new_row = row[columns_to_keep].tolist() + [col, value]\n",
    "        new_rows.append(new_row)\n",
    "        \n",
    "# Concatenating the new rows with the existing DataFrame\n",
    "new_table = pd.DataFrame(new_rows, columns=new_columns)\n",
    "\n",
    "fy19_df = new_table.copy()\n",
    "\n",
    "fy19_df['FY'] = '2019'\n",
    "\n",
    "fy19_df['order_intake'] = fy19_df['order_intake'].div(117.7).round(2)"
   ]
  },
  {
   "cell_type": "code",
   "execution_count": 54,
   "id": "dfef0115",
   "metadata": {},
   "outputs": [],
   "source": [
    "# Concatenate the DataFrames\n",
    "concatenated_df = pd.concat([fy19_df, fy20_df], axis=0, ignore_index=True)"
   ]
  },
  {
   "cell_type": "code",
   "execution_count": 56,
   "id": "4b0caf41",
   "metadata": {},
   "outputs": [],
   "source": [
    "writer = pd.ExcelWriter('outcome/order_intake_fy_19_20.xlsx')\n",
    "concatenated_df.to_excel(writer, sheet_name='fy', index=False)\n",
    "# Save the Excel file\n",
    "writer.close()"
   ]
  }
 ],
 "metadata": {
  "kernelspec": {
   "display_name": "Python 3 (ipykernel)",
   "language": "python",
   "name": "python3"
  },
  "language_info": {
   "codemirror_mode": {
    "name": "ipython",
    "version": 3
   },
   "file_extension": ".py",
   "mimetype": "text/x-python",
   "name": "python",
   "nbconvert_exporter": "python",
   "pygments_lexer": "ipython3",
   "version": "3.10.9"
  }
 },
 "nbformat": 4,
 "nbformat_minor": 5
}
