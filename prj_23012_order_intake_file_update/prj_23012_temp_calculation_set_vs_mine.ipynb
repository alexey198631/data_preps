{
 "cells": [
  {
   "cell_type": "code",
   "execution_count": 28,
   "id": "ff819e81",
   "metadata": {},
   "outputs": [],
   "source": [
    "import pandas as pd\n",
    "import numpy as np\n",
    "import sqlite3"
   ]
  },
  {
   "cell_type": "code",
   "execution_count": 29,
   "id": "e20044f6",
   "metadata": {},
   "outputs": [],
   "source": [
    "partners_data_set = pd.read_excel('data_files/Partners Data Set_ref.xlsx')\n",
    "indirect_data_set = pd.read_excel('data_files/outcome/temp.xlsx')"
   ]
  },
  {
   "cell_type": "code",
   "execution_count": 30,
   "id": "13dca9ff",
   "metadata": {},
   "outputs": [],
   "source": [
    "conn2 = sqlite3.connect('data_files/customer_data.db')\n",
    "query = \"SELECT * FROM customers\"  \n",
    "df_customers = pd.read_sql_query(query, conn2)\n",
    "conn2.close()"
   ]
  },
  {
   "cell_type": "code",
   "execution_count": 31,
   "id": "9d5f3a09",
   "metadata": {},
   "outputs": [],
   "source": [
    "temp = indirect_data_set[indirect_data_set['type'] != 'Agent']"
   ]
  },
  {
   "cell_type": "code",
   "execution_count": 32,
   "id": "1d453ccf",
   "metadata": {},
   "outputs": [],
   "source": [
    "mapping_dict = temp.dropna().set_index('sold_to_customer')['customer_name'].to_dict()\n",
    "\n",
    "partners_data_set['customer_name'] = ''\n",
    "partners_data_set['customer_name'].replace('', np.nan, inplace=True)\n",
    "\n",
    "# Fill NaN values in \"for_bu\" column using the mapping dictionary\n",
    "partners_data_set['customer_name'] = partners_data_set['customer_name'].fillna(partners_data_set['Customer Number'].map(mapping_dict))"
   ]
  },
  {
   "cell_type": "code",
   "execution_count": 33,
   "id": "42440c1e",
   "metadata": {},
   "outputs": [],
   "source": [
    "# Get DataFrame where Column1 contains NaN values\n",
    "filtered_df = partners_data_set[partners_data_set['customer_name'].isna()]\n",
    "filled_df = partners_data_set[~partners_data_set['customer_name'].isna()]"
   ]
  },
  {
   "cell_type": "code",
   "execution_count": 34,
   "id": "55d0f62d",
   "metadata": {},
   "outputs": [],
   "source": [
    "temp2 = df_customers[(df_customers['agent_person'].notna()) & (df_customers['agent_person'] != 'None')]"
   ]
  },
  {
   "cell_type": "code",
   "execution_count": null,
   "id": "769c1173",
   "metadata": {},
   "outputs": [],
   "source": [
    "filtered_df['Customer Number'] = filtered_df['Customer Number'].astype('str')\n",
    "temp2['agent_person'] = temp2['agent_person'].astype('int')\n",
    "temp2['agent_person'] = temp2['agent_person'].astype('str')\n",
    "\n",
    "temp2 = temp2[['agent_person', 'customer_name']]\n",
    "mapping_dict = temp2.dropna().set_index('agent_person')['customer_name'].to_dict()\n",
    "filtered_df['customer_name'] = filtered_df['customer_name'].fillna(filtered_df['Customer Number'].map(mapping_dict))\n",
    "filtered_df['customer_name'] = filtered_df['customer_name'].fillna(filtered_df['Customer Name'])"
   ]
  },
  {
   "cell_type": "code",
   "execution_count": 38,
   "id": "0a2de091",
   "metadata": {},
   "outputs": [],
   "source": [
    "merged = pd.concat([filtered_df, filled_df])\n",
    "merged = merged[['customer_name', 'Fiscal Year', 'Order Intake']]\n",
    "merged = merged.rename(columns={'Fiscal Year':'FY', 'Order Intake':'order_intake_amount_eur'})\n",
    "merged = merged[merged['FY'].isin([2017, 2018, 2019, 2020, 2021, 2022,\n",
    "       2023])]\n",
    "merged_sum = merged.groupby(['customer_name', 'FY']).sum().reset_index()\n",
    "\n",
    "indirect_data_set = indirect_data_set[indirect_data_set['tier_new'] == 'Channel Partner']\n",
    "indirect_data_set_cut = indirect_data_set[['customer_name', 'FY', 'order_intake_amount_eur']]\n",
    "indirect_data_set_cut = indirect_data_set_cut.dropna(subset=['customer_name'])\n",
    "indirect_data_set_cut['FY'] = indirect_data_set_cut['FY'].dt.year\n",
    "indirect_data_set_cut_sum = indirect_data_set_cut.groupby(['customer_name', 'FY']).sum().reset_index()"
   ]
  },
  {
   "cell_type": "code",
   "execution_count": 58,
   "id": "b98bf539",
   "metadata": {},
   "outputs": [],
   "source": [
    "final_df = merged_sum.merge(indirect_data_set_cut_sum, on=['customer_name', 'FY'], how='outer')\n",
    "\n",
    "# Keep rows where the ratio of column1 to column2 is in the range 0.98 - 1.02\n",
    "#final_df = final_df[~(final_df['order_intake_amount_eur_x'] / final_df['order_intake_amount_eur_y']).between(0.99, 1.01)]\n",
    "\n",
    "writer = pd.ExcelWriter('data_files/outcome/yorick_comparison.xlsx')\n",
    "# Save each DataFrame to a separate sheet in the same file\n",
    "final_df.to_excel(writer, sheet_name='target', index=False)\n",
    "# Save the file\n",
    "writer.close()"
   ]
  },
  {
   "cell_type": "code",
   "execution_count": 49,
   "id": "5fcac51f",
   "metadata": {},
   "outputs": [],
   "source": [
    "pivot_table1 = partners_data_set.pivot_table(columns='Fiscal Year', values='Order Intake', aggfunc='sum')\n",
    "pivot_table2 = indirect_data_set_cut_sum.pivot_table(columns='FY', values='order_intake_amount_eur', aggfunc='sum')"
   ]
  },
  {
   "cell_type": "code",
   "execution_count": 55,
   "id": "34190642",
   "metadata": {},
   "outputs": [],
   "source": [
    "writer = pd.ExcelWriter('data_files/outcome/two_pivots.xlsx')\n",
    "# Save each DataFrame to a separate sheet in the same file\n",
    "pivot_table1.to_excel(writer, sheet_name='target', index=False)\n",
    "pivot_table2.to_excel(writer, sheet_name='target2', index=False)\n",
    "# Save the file\n",
    "writer.close()"
   ]
  }
 ],
 "metadata": {
  "kernelspec": {
   "display_name": "Python 3 (ipykernel)",
   "language": "python",
   "name": "python3"
  },
  "language_info": {
   "codemirror_mode": {
    "name": "ipython",
    "version": 3
   },
   "file_extension": ".py",
   "mimetype": "text/x-python",
   "name": "python",
   "nbconvert_exporter": "python",
   "pygments_lexer": "ipython3",
   "version": "3.10.9"
  }
 },
 "nbformat": 4,
 "nbformat_minor": 5
}
