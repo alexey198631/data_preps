{
 "cells": [
  {
   "cell_type": "code",
   "execution_count": 1,
   "id": "b472e96f",
   "metadata": {},
   "outputs": [],
   "source": [
    "import pandas as pd\n",
    "import numpy as np\n",
    "\n",
    "# Read cost.txt into a dataframe\n",
    "cost_of_products = pd.read_excel('data_files/Book1.xlsx')"
   ]
  },
  {
   "cell_type": "code",
   "execution_count": 2,
   "id": "dee9e7ea",
   "metadata": {},
   "outputs": [],
   "source": [
    "reserve = cost_of_products.copy()"
   ]
  },
  {
   "cell_type": "code",
   "execution_count": 13,
   "id": "83025c2c",
   "metadata": {},
   "outputs": [],
   "source": [
    "cost_of_products = reserve.copy()"
   ]
  },
  {
   "cell_type": "code",
   "execution_count": 15,
   "id": "e950dabf",
   "metadata": {},
   "outputs": [],
   "source": [
    "# rename the columns\n",
    "cost_of_products = cost_of_products.rename(columns={'Material/Model': 'Model', \n",
    "                        'Description': 'Model_Description',                          \n",
    "                        'Description2': 'Option_Description', \n",
    "                        'Value': 'Option',\n",
    "                        'COGS': 'COGS',\n",
    "                        'Product Hierarchy': 'BU'})\n",
    "\n",
    "# extract the first 5 characters of the 'BU' column\n",
    "cost_of_products['BU'] = cost_of_products['BU'].str.slice(stop=5)\n",
    "\n",
    "# keep only the desired columns\n",
    "cost_of_products = cost_of_products[['Model', 'Model_Description', 'Characteristic', 'Option', 'Option_Description', 'COGS', 'BU']]\n",
    "\n",
    "cost_of_products['Characteristic_'] = cost_of_products['Characteristic'].astype('str')\n",
    "# update values\n",
    "cost_of_products['Characteristic_'] = cost_of_products['Characteristic_'].apply(lambda x: x.split('_', 1)[1] if '_' in x else x)\n",
    "\n",
    "cost_of_products['Option_'] = cost_of_products['Option'].astype('str')\n",
    "cost_of_products['Option_Description_'] = cost_of_products['Option_Description'].astype('str')"
   ]
  },
  {
   "cell_type": "code",
   "execution_count": 16,
   "id": "46ecf4fb",
   "metadata": {},
   "outputs": [
    {
     "name": "stdout",
     "output_type": "stream",
     "text": [
      "The following columns were changed to categorical data type: \n",
      "BU\n"
     ]
    }
   ],
   "source": [
    "cost_of_products_opt = cost_of_products.copy()\n",
    "# Reduce the memory usage of the dataframe and improve performance\n",
    "def check_unique_values(df):\n",
    "    changed_columns = []\n",
    "    for col in df.columns:\n",
    "        unique_values = df[col].nunique()\n",
    "        if unique_values < 50:\n",
    "            df[col] = df[col].astype('category')\n",
    "            changed_columns.append(col)\n",
    "    if len(changed_columns) > 0:\n",
    "        print(\"The following columns were changed to categorical data type: \")\n",
    "        for col in changed_columns:\n",
    "            print(col)\n",
    "    else:\n",
    "        print(\"No columns were changed to categorical data type.\")\n",
    "        \n",
    "check_unique_values(cost_of_products_opt)"
   ]
  },
  {
   "cell_type": "code",
   "execution_count": 114,
   "id": "caf91a02",
   "metadata": {},
   "outputs": [],
   "source": [
    "writer = pd.ExcelWriter('data_files/cogs_prep.xlsx', engine='xlsxwriter')\n",
    "cost_of_products_opt.to_excel(writer, sheet_name='cogs')\n",
    "writer.save()"
   ]
  },
  {
   "cell_type": "code",
   "execution_count": 25,
   "id": "cee01b8e",
   "metadata": {},
   "outputs": [],
   "source": [
    "index_step = 10000\n",
    "\n",
    "def create_product_models_from_dataframe(df):\n",
    "    # Create a list to store ProductModel objects\n",
    "    product_models = []\n",
    "\n",
    "    # Iterate over the rows in the DataFrame\n",
    "    for index, row in df.iterrows():\n",
    "        if index % index_step == 0:\n",
    "            print(f'Row {index} from {len(df)}')\n",
    "        \n",
    "        # Check if the row has NaN in the Characteristic column\n",
    "        if pd.isna(row['Characteristic']):\n",
    "            # Create a new ProductModel object\n",
    "            model = ProductModel(row['Model'], row['Model_Description'], row['COGS'])\n",
    "            # Append the model to the list\n",
    "            product_models.append(model)\n",
    "        # If the row has a value in the Characteristic column\n",
    "        else:\n",
    "            # Check the length of the Characteristic value\n",
    "            if len(row['Characteristic_']) == 2:\n",
    "                # Add a characteristic to an existing model\n",
    "                model = next((m for m in product_models if m.model_code == row['Model']), None)\n",
    "                if model:\n",
    "                    model.add_characteristic(row['Option'], row['Option_Description'], row['COGS'])\n",
    "                else:\n",
    "                    # If no model exists for this code, create a new one\n",
    "                    model = ProductModel(row['Model'], row['Model_Description'], row['COGS'])\n",
    "                    model.add_characteristic(row['Option'], row['Option_Description'], row['COGS'])\n",
    "                    product_models.append(model)\n",
    "            elif len(row['Characteristic_']) > 2:\n",
    "                # Add an option to an existing model\n",
    "                model = next((m for m in product_models if m.model_code == row['Model']), None)\n",
    "                if model:\n",
    "                    model.add_option(row['Option'], row['Option_Description'], row['COGS'])\n",
    "                else:\n",
    "                    # If no model exists for this code, create a new one\n",
    "                    model = ProductModel(row['Model'], row['Model_Description'], row['COGS'])\n",
    "                    model.add_option(row['Option'], row['Option_Description'], row['COGS'])\n",
    "                    product_models.append(model)\n",
    "\n",
    "    return product_models"
   ]
  },
  {
   "cell_type": "code",
   "execution_count": 18,
   "id": "1a594208",
   "metadata": {},
   "outputs": [],
   "source": [
    "# Identify 'easy' position with not complex code\n",
    "\n",
    "# Read Orders Data\n",
    "\n",
    "orders_data = pd.read_excel('data_files/orders_data.xlsx')\n",
    "\n",
    "codes = orders_data.loc[:, ['ms_code', 'order_intake_quantity']]\n",
    "# keep unique codes only\n",
    "codes_unique = codes.drop_duplicates(subset='ms_code')\n",
    "codes_unique = codes_unique.rename(columns={'ms_code': 'Model'})\n",
    "\n",
    "prices = cost_of_products_opt.copy()\n",
    "# Get the indices of the rows where 'Characteristic' is not NaN\n",
    "indices_to_drop = prices.index[prices['Characteristic'].notna()].tolist()\n",
    "# Drop the rows where 'Characteristic' is not NaN\n",
    "prices.drop(index=indices_to_drop, inplace=True)\n",
    "\n",
    "easy_positions = pd.merge(codes_unique[['Model']], prices[['Model', 'COGS']], on='Model', how='inner')\n",
    "\n",
    "# Save the result\n",
    "writer = pd.ExcelWriter('data_files/result.xlsx', engine='xlsxwriter')\n",
    "easy_positions.to_excel(writer, sheet_name='result')\n",
    "writer.save()"
   ]
  },
  {
   "cell_type": "code",
   "execution_count": 19,
   "id": "573a00c4",
   "metadata": {},
   "outputs": [],
   "source": [
    "# Create a boolean mask indicating which positions are in the second dataframe\n",
    "mask = codes_unique['Model'].isin(easy_positions['Model'])\n",
    "# Invert the boolean mask to keep only the positions not in the second dataframe\n",
    "mask = ~mask\n",
    "# Select the rows corresponding to the positions in the second dataframe\n",
    "complex_position = codes_unique.loc[mask]\n",
    "complex_position.reset_index(inplace=True, drop=True)"
   ]
  },
  {
   "cell_type": "code",
   "execution_count": 247,
   "id": "a1148042",
   "metadata": {},
   "outputs": [],
   "source": [
    "writer = pd.ExcelWriter('data_files/df_group1.xlsx', engine='xlsxwriter')\n",
    "df.to_excel(writer, sheet_name='result')\n",
    "writer.save()"
   ]
  },
  {
   "cell_type": "code",
   "execution_count": 22,
   "id": "cfe850e8",
   "metadata": {},
   "outputs": [],
   "source": [
    "# prepare price source\n",
    "\n",
    "# Create a boolean mask indicating which positions are in the df complex_positions dataframe\n",
    "mask_1 = cost_of_products_opt['Model'].isin(df['group1'])\n",
    "# Invert the boolean mask to keep only the positions not in the second dataframe\n",
    "#mask_1 = ~mask_1\n",
    "# Select the rows corresponding to the positions in the second dataframe\n",
    "price_prepared = cost_of_products_opt.loc[mask_1]\n",
    "price_prepared.reset_index(inplace=True, drop=True)"
   ]
  },
  {
   "cell_type": "code",
   "execution_count": 262,
   "id": "f13a70ad",
   "metadata": {},
   "outputs": [],
   "source": [
    "writer = pd.ExcelWriter('data_files/price_prepared.xlsx', engine='xlsxwriter')\n",
    "price_prepared.to_excel(writer, sheet_name='result')\n",
    "writer.save()"
   ]
  },
  {
   "cell_type": "code",
   "execution_count": 88,
   "id": "fa5b4a31",
   "metadata": {},
   "outputs": [],
   "source": [
    "# Define the regex pattern to match separators ('-' and '/')\n",
    "pattern = r'([-/][^-/]+|^[^-/]+)'\n",
    "\n",
    "\n",
    "def extract_groups(code):\n",
    "    code = str(code)\n",
    "    # Split the code into groups using regex\n",
    "    groups = re.findall(pattern, code)\n",
    "    # Split groups containing the first dash on a letter\n",
    "    \n",
    "    i = 1\n",
    "    while i < len(groups):\n",
    "        if '-' in groups[i] and len(groups[i]) > 3:\n",
    "            group_parts = [char for char in groups[i]]\n",
    "            # insert a list of elements at a specific position\n",
    "            groups[i:i+1] = group_parts\n",
    "            i += len(group_parts) - 1\n",
    "        else:\n",
    "            i += 1\n",
    "            \n",
    "    \n",
    "    for i in range(len(groups)-2):\n",
    "        if groups[i] == '-':\n",
    "            groups[i:i+2] = [''.join(groups[i:i+2])]\n",
    "    \n",
    "    # Combine all the groups into a dictionary\n",
    "    groups_dict = {'group{}'.format(i+1): groups[i] for i in range(len(groups))}\n",
    "    return groups_dict"
   ]
  },
  {
   "cell_type": "code",
   "execution_count": 97,
   "id": "946e4f92",
   "metadata": {},
   "outputs": [],
   "source": [
    "#model_cost = pd.read_excel('data_files/EJX130A.xlsx')\n",
    "#model_cost = price_prepared.copy()\n",
    "\n",
    "# Define the ProductModel class\n",
    "class ProductModel:\n",
    "    def __init__(self, model_code, model_description, price, characteristics=None, options=None):\n",
    "        self.model_code = model_code\n",
    "        self.model_description = model_description\n",
    "        self.price = price\n",
    "        self.characteristics = characteristics or []\n",
    "        self.options = options or []\n",
    "\n",
    "    def add_characteristic(self, name, description, price):\n",
    "        self.characteristics.append({\n",
    "            'name': name,\n",
    "            'description': description,\n",
    "            'price': price\n",
    "        })\n",
    "\n",
    "    def add_option(self, name, description, price):\n",
    "        self.options.append({\n",
    "            'name': name,\n",
    "            'description': description,\n",
    "            'price': price\n",
    "        })\n",
    "        \n",
    "    def define_cost(self, ms_code):\n",
    "        mis_val = []\n",
    "        group_dict = extract_groups(ms_code)\n",
    "        self.total_cost = 0\n",
    "        keys = list(group_dict.keys())\n",
    "        values = list(group_dict.values())\n",
    "        \n",
    "        if group_dict[keys[0]] != self.model_code:\n",
    "            return 0\n",
    "        else:\n",
    "            self.total_cost += self.price\n",
    "            values.remove(self.model_code)\n",
    "            counter = 0\n",
    "            for char in self.characteristics:\n",
    "                if str(char['name']) in values and str(char['name']) == values[0]:\n",
    "                    self.total_cost += char['price']\n",
    "                    #print(str(char['name']), char['price'])\n",
    "                    values.remove(str(char['name']))\n",
    "                    #print(values)\n",
    "            for opt in self.options:\n",
    "                if str(opt['name']) in values and str(opt['name']) == values[0]:\n",
    "                    self.total_cost += opt['price']\n",
    "                    #print(str(opt['name']), opt['price'])\n",
    "                    values.remove(str(opt['name']))\n",
    "            missing_values = values\n",
    "            if missing_values:\n",
    "                mis_val = mis_val + missing_values\n",
    "        \n",
    "        return round(self.total_cost,2), mis_val\n",
    "        \n",
    "    def __str__(self):\n",
    "        return f'Model code: {self.model_code}, Description: {self.model_description}, Price: {self.price}\\n Characteristics: {self.characteristics}\\n Options: {self.options}'  "
   ]
  },
  {
   "cell_type": "code",
   "execution_count": null,
   "id": "34d84697",
   "metadata": {},
   "outputs": [],
   "source": [
    "price_list = create_product_models_from_dataframe(price_prepared)"
   ]
  },
  {
   "cell_type": "code",
   "execution_count": null,
   "id": "90ebffff",
   "metadata": {},
   "outputs": [],
   "source": [
    "index_step = 5000\n",
    "\n",
    "costs = {}\n",
    "mis_values = {}\n",
    "ok = ''\n",
    "for index, model in enumerate(complex_position.Model):\n",
    "    if index % index_step == 0:\n",
    "        print(f'Row {index} from {len(complex_position.Model)}, {ok}')\n",
    "    for i in range(len(price_list)):\n",
    "        try:\n",
    "            if price_list[i].define_cost(model):\n",
    "                costs[model] = price_list[i].define_cost(model)[0]\n",
    "                mis_values[model] = price_list[i].define_cost(model)[1]\n",
    "                ok = model\n",
    "                \n",
    "        except:\n",
    "            costs[model] = 'check'\n",
    "            mis_values[model] = 'check'"
   ]
  },
  {
   "cell_type": "code",
   "execution_count": 117,
   "id": "a3746f23",
   "metadata": {},
   "outputs": [],
   "source": [
    "# transfer dict to df\n",
    "\n",
    "cost_df = pd.DataFrame.from_dict(costs, orient='index', columns=['Cost'])\n",
    "cost_df.reset_index(inplace = True)\n",
    "\n",
    "missing_df = pd.DataFrame.from_dict(mis_values, orient='index')\n",
    "missing_df.reset_index(inplace = True)"
   ]
  },
  {
   "cell_type": "code",
   "execution_count": 127,
   "id": "f026c46e",
   "metadata": {},
   "outputs": [],
   "source": [
    "compl_positions = pd.merge(cost_df, missing_df, on='index', how='left')"
   ]
  },
  {
   "cell_type": "code",
   "execution_count": 128,
   "id": "426aa59c",
   "metadata": {},
   "outputs": [],
   "source": [
    "writer = pd.ExcelWriter('data_files/compl_positions.xlsx', engine='xlsxwriter')\n",
    "compl_positions.to_excel(writer, sheet_name='result')\n",
    "writer.save()"
   ]
  },
  {
   "cell_type": "code",
   "execution_count": 132,
   "id": "ec8e41db",
   "metadata": {},
   "outputs": [],
   "source": [
    "compl_positions = compl_positions.rename(columns={'index': 'Model', 'Cost': 'COGS', '0': 'Check'})"
   ]
  },
  {
   "cell_type": "code",
   "execution_count": 134,
   "id": "dc6f6b8b",
   "metadata": {},
   "outputs": [],
   "source": [
    "cogs_price_positions = pd.concat([compl_positions, easy_positions], axis=0)"
   ]
  },
  {
   "cell_type": "code",
   "execution_count": 153,
   "id": "46059c9b",
   "metadata": {},
   "outputs": [],
   "source": [
    "import numpy as np\n",
    "\n",
    "def check_value(value):\n",
    "    if pd.isna(value) or value == 'None' or value == np.NaN:\n",
    "        return 0\n",
    "    else: \n",
    "        return 1\n",
    "    \n",
    "cogs_price_positions['Chk'] = cogs_price_positions[0].apply(check_value)"
   ]
  },
  {
   "cell_type": "code",
   "execution_count": 155,
   "id": "28b7c375",
   "metadata": {},
   "outputs": [],
   "source": [
    "writer = pd.ExcelWriter('data_files/priced_positions.xlsx', engine='xlsxwriter')\n",
    "cogs_price_positions.to_excel(writer, sheet_name='result')\n",
    "writer.save()"
   ]
  }
 ],
 "metadata": {
  "kernelspec": {
   "display_name": "Python 3 (ipykernel)",
   "language": "python",
   "name": "python3"
  },
  "language_info": {
   "codemirror_mode": {
    "name": "ipython",
    "version": 3
   },
   "file_extension": ".py",
   "mimetype": "text/x-python",
   "name": "python",
   "nbconvert_exporter": "python",
   "pygments_lexer": "ipython3",
   "version": "3.9.12"
  }
 },
 "nbformat": 4,
 "nbformat_minor": 5
}
