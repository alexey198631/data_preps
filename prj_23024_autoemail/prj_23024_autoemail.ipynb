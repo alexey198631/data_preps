{
 "cells": [
  {
   "cell_type": "code",
   "execution_count": 4,
   "id": "64814fe3",
   "metadata": {},
   "outputs": [],
   "source": [
    "import requests\n",
    "import datetime\n",
    "import os\n",
    "import win32com.client as win32\n",
    "import internaldata\n",
    "\n",
    "# test file for sending\n",
    "output_file = internaldata.output_file_path\n",
    "send_to = internaldata.send_to \n",
    "company = internaldata.company\n",
    "\n",
    "date = str(datetime.date.today())\n",
    "\n",
    "#----------------------------------\n",
    "#Sending the email\n",
    "#Below all is to send email\n",
    "#construct outlook application instance\n",
    "olApp = win32.Dispatch('Outlook.Application')\n",
    "olNS = olApp.GetNamespace('MAPI')\n",
    "\n",
    "#construct the email item object\n",
    "mailItem = olApp.CreateItem(0)\n",
    "mailItem.Subject = date + \" \" + company + \" Test Report\"\n",
    "mailItem.BodyFormat = 1\n",
    "mailItem.Body = \"This is an automatically generated email, please find attached.\\nThis is: \" + company.title()\n",
    "mailItem.To = send_to\n",
    "mailItem.Attachments.Add(output_file)\n",
    "#Show email\n",
    "mailItem.Display()\n",
    "\n",
    "#Execute to send email\n",
    "mailItem.Send()"
   ]
  },
  {
   "cell_type": "code",
   "execution_count": null,
   "id": "3c97a3c5",
   "metadata": {},
   "outputs": [],
   "source": []
  }
 ],
 "metadata": {
  "kernelspec": {
   "display_name": "Python 3 (ipykernel)",
   "language": "python",
   "name": "python3"
  },
  "language_info": {
   "codemirror_mode": {
    "name": "ipython",
    "version": 3
   },
   "file_extension": ".py",
   "mimetype": "text/x-python",
   "name": "python",
   "nbconvert_exporter": "python",
   "pygments_lexer": "ipython3",
   "version": "3.10.9"
  }
 },
 "nbformat": 4,
 "nbformat_minor": 5
}
