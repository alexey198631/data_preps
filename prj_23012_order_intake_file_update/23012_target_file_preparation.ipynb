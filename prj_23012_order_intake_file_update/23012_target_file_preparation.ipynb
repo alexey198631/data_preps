{
 "cells": [
  {
   "cell_type": "code",
   "execution_count": 139,
   "id": "0452a1af",
   "metadata": {},
   "outputs": [],
   "source": [
    "import pandas as pd\n",
    "import numpy as np\n",
    "import sqlite3\n",
    "import importlib\n",
    "\n",
    "# keeping company information in additional file\n",
    "import data_file"
   ]
  },
  {
   "cell_type": "code",
   "execution_count": null,
   "id": "a015472d",
   "metadata": {},
   "outputs": [],
   "source": [
    "importlib.reload(data_file)"
   ]
  },
  {
   "cell_type": "code",
   "execution_count": 140,
   "id": "c23c710a",
   "metadata": {},
   "outputs": [],
   "source": [
    "targets = pd.read_excel('data_files/targets.xlsx')\n",
    "targets['tm_check'] = 'no'\n",
    "targets['pure tm'] = 'no'"
   ]
  },
  {
   "cell_type": "code",
   "execution_count": 141,
   "id": "761f0ee1",
   "metadata": {},
   "outputs": [],
   "source": [
    "targets_fy21 = targets[['customer_name', 'tier', 'tier_new', 'company_code_n', 'type', 'FY21', 'tm_check', 'pure tm']]\n",
    "targets_fy21 = targets_fy21.dropna(subset=['FY21'])\n",
    "targets_fy21 = targets_fy21[targets_fy21['FY21'] != 0]\n",
    "targets_fy21['FY21'] = targets_fy21['FY21'] / 12\n",
    "targets_fy21['FY'] = 2021\n",
    "targets_fy21 = targets_fy21.rename(columns={'FY21': 'target_order_intake_amount_eur'})\n",
    "num_fy21 = len(targets_fy21)\n",
    "\n",
    "targets_fy22 = targets[['customer_name', 'tier', 'tier_new', 'company_code_n', 'type', 'FY22', 'tm_check', 'pure tm']]\n",
    "targets_fy22 = targets_fy22.dropna(subset=['FY22'])\n",
    "targets_fy22 = targets_fy22[targets_fy22['FY22'] != 0]\n",
    "targets_fy22['FY22'] = targets_fy22['FY22'] / 12\n",
    "targets_fy22['FY'] = 2022\n",
    "targets_fy22 = targets_fy22.rename(columns={'FY22': 'target_order_intake_amount_eur'})\n",
    "num_fy22 = len(targets_fy22)\n",
    "\n",
    "targets_fy23_pci = targets[['customer_name', 'tier', 'tier_new', 'company_code_n', 'type', 'FY23_PCI', 'tm_check', 'pure tm']]\n",
    "targets_fy23_pci = targets_fy23_pci.dropna(subset=['FY23_PCI'])\n",
    "targets_fy23_pci = targets_fy23_pci[targets_fy23_pci['FY23_PCI'] != 0]\n",
    "targets_fy23_pci['FY23_PCI'] = targets_fy23_pci['FY23_PCI'] / 12\n",
    "targets_fy23_pci['FY'] = 2023\n",
    "targets_fy23_pci = targets_fy23_pci.rename(columns={'FY23_PCI': 'target_order_intake_amount_eur'})\n",
    "num_fy23_p = len(targets_fy23_pci)\n",
    "\n",
    "targets_fy23_sys = targets[['customer_name', 'tier', 'tier_new', 'company_code_n', 'type', 'FY23_Systems', 'tm_check', 'pure tm']]\n",
    "targets_fy23_sys = targets_fy23_sys.dropna(subset=['FY23_Systems'])\n",
    "targets_fy23_sys = targets_fy23_sys[targets_fy23_sys['FY23_Systems'] != 0]\n",
    "targets_fy23_sys['FY23_Systems'] = targets_fy23_sys['FY23_Systems'] / 12\n",
    "targets_fy23_sys['FY'] = 2023\n",
    "targets_fy23_sys = targets_fy23_sys.rename(columns={'FY23_Systems': 'target_order_intake_amount_eur'})\n",
    "num_fy23_s = len(targets_fy23_sys)"
   ]
  },
  {
   "cell_type": "code",
   "execution_count": 142,
   "id": "d4dfc048",
   "metadata": {},
   "outputs": [],
   "source": [
    "fy_21 =  [202104, 202105, 202106, 202107, 202108, 202109, 202110, 202111, 202112, 202201, 202202, 202203]\n",
    "fy_22 =  [202204, 202205, 202206, 202207, 202208, 202209, 202210, 202211, 202212, 202301, 202302, 202303]\n",
    "fy_23 =  [202304, 202305, 202306, 202307, 202308, 202309, 202310, 202311, 202312, 202401, 202402, 202403]"
   ]
  },
  {
   "cell_type": "code",
   "execution_count": 143,
   "id": "c15147f0",
   "metadata": {},
   "outputs": [],
   "source": [
    "targets_fy21 = pd.concat([targets_fy21] * 12, ignore_index=True)\n",
    "targets_fy21 = targets_fy21.sort_values(by=['customer_name', 'target_order_intake_amount_eur'])\n",
    "targets_fy21['year_month'] = fy_21 * num_fy21\n",
    "targets_fy21['for_bu'] = 'PCI Others'\n",
    "targets_fy21['tm_check'] = 'no'\n",
    "targets_fy21['tm_check'] = 'no'\n",
    "\n",
    "targets_fy22 = pd.concat([targets_fy22] * 12, ignore_index=True)\n",
    "targets_fy22 = targets_fy22.sort_values(by=['customer_name', 'target_order_intake_amount_eur'])\n",
    "targets_fy22['year_month'] = fy_22 * num_fy22\n",
    "targets_fy22['for_bu'] = 'PCI Others'\n",
    "\n",
    "targets_fy23_pci = pd.concat([targets_fy23_pci] * 12, ignore_index=True)\n",
    "targets_fy23_pci = targets_fy23_pci.sort_values(by=['customer_name', 'target_order_intake_amount_eur'])\n",
    "targets_fy23_pci['year_month'] = fy_23 * num_fy23_p\n",
    "targets_fy23_pci['for_bu'] = 'PCI Others'\n",
    "\n",
    "targets_fy23_sys = pd.concat([targets_fy23_sys] * 12, ignore_index=True)\n",
    "targets_fy23_sys = targets_fy23_sys.sort_values(by=['customer_name', 'target_order_intake_amount_eur'])\n",
    "targets_fy23_sys['year_month'] = fy_23 * num_fy23_s\n",
    "targets_fy23_sys['for_bu'] = 'Systems&ADS'"
   ]
  },
  {
   "cell_type": "code",
   "execution_count": 144,
   "id": "1b1bb2bf",
   "metadata": {},
   "outputs": [],
   "source": [
    "combined_df = pd.concat([targets_fy21, targets_fy22, targets_fy23_pci, targets_fy23_sys], ignore_index=True)\n",
    "\n",
    "combined_df['FY'] = (pd.to_datetime(combined_df['year_month'], format='%Y%m') - pd.DateOffset(months=3)).dt.strftime('%d-%m-%Y')"
   ]
  },
  {
   "cell_type": "code",
   "execution_count": 146,
   "id": "07769615",
   "metadata": {},
   "outputs": [],
   "source": [
    "writer = pd.ExcelWriter('data_files/outcome/target.xlsx')\n",
    "# Save each DataFrame to a separate sheet in the same file\n",
    "combined_df.to_excel(writer, sheet_name='target', index=False)\n",
    "# Save the file\n",
    "writer.close()"
   ]
  },
  {
   "cell_type": "code",
   "execution_count": null,
   "id": "7133bfc6",
   "metadata": {},
   "outputs": [],
   "source": []
  }
 ],
 "metadata": {
  "kernelspec": {
   "display_name": "Python 3 (ipykernel)",
   "language": "python",
   "name": "python3"
  },
  "language_info": {
   "codemirror_mode": {
    "name": "ipython",
    "version": 3
   },
   "file_extension": ".py",
   "mimetype": "text/x-python",
   "name": "python",
   "nbconvert_exporter": "python",
   "pygments_lexer": "ipython3",
   "version": "3.10.9"
  }
 },
 "nbformat": 4,
 "nbformat_minor": 5
}
