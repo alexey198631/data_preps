{
 "cells": [
  {
   "cell_type": "code",
   "execution_count": 23,
   "id": "58f29622",
   "metadata": {},
   "outputs": [],
   "source": [
    "import pandas as pd\n",
    "import numpy as np\n",
    "import importlib\n",
    "\n",
    "import data_file\n",
    "\n",
    "df = pd.read_excel('data_files/salesgp.xlsx')"
   ]
  },
  {
   "cell_type": "code",
   "execution_count": 24,
   "id": "a48aeeae",
   "metadata": {},
   "outputs": [],
   "source": [
    "import sqlite3\n",
    "conn2 = sqlite3.connect('data_files/customer_data.db')\n",
    "query = \"SELECT * FROM customers\"  # Replace 'tablename' with your table name\n",
    "df_customers = pd.read_sql_query(query, conn2)\n",
    "conn2.close()"
   ]
  },
  {
   "cell_type": "code",
   "execution_count": 25,
   "id": "30380fc1",
   "metadata": {},
   "outputs": [],
   "source": [
    "df_customers = df_customers[['sold_to_customer', 'sold_to_customer_n', 'customer_name', \n",
    "       'indirect_direct', 'channel', 'type', \n",
    "       'tier_new', 'tier']]"
   ]
  },
  {
   "cell_type": "code",
   "execution_count": 26,
   "id": "e76cf224",
   "metadata": {},
   "outputs": [],
   "source": [
    "df_with_customers_types = pd.merge(df, df_customers, on = 'sold_to_customer', how='left')\n",
    "df_with_customers_types = df_with_customers_types.dropna(subset='indirect_direct')"
   ]
  },
  {
   "cell_type": "code",
   "execution_count": 29,
   "id": "80185539",
   "metadata": {},
   "outputs": [],
   "source": [
    "df_with_customers_types = df_with_customers_types[['company_code_n', 'customer_name', 'indirect_direct', 'channel', 'type', 'tier_new',\n",
    "       'tier', 'bu', 'fiscal_year','sales_rsp_eur', 'sales_eur', 'cogs(ms)_eur', 'gp_eur']]"
   ]
  },
  {
   "cell_type": "code",
   "execution_count": 30,
   "id": "76f0e8f4",
   "metadata": {},
   "outputs": [],
   "source": [
    "df_with_customers_types.loc[df_with_customers_types['tier'].isna(), 'tier'] = 'Direct'\n",
    "df_with_customers_types.loc[df_with_customers_types['tier'] == 'None', 'tier'] = 'Direct'\n",
    "df_with_customers_types.loc[df_with_customers_types['tier_new'].isna(), 'tier_new'] = 'Direct'\n",
    "df_with_customers_types.loc[df_with_customers_types['tier_new'] == 'None', 'tier_new'] = 'Direct'"
   ]
  },
  {
   "cell_type": "code",
   "execution_count": null,
   "id": "0f4dd98e",
   "metadata": {},
   "outputs": [],
   "source": [
    "grouped_df = df_with_customers_types.groupby(['company_code_n', 'tier_new', 'fiscal_year']).sum()[['sales_rsp_eur', 'sales_eur', 'cogs(ms)_eur', 'gp_eur']]\n",
    "\n",
    "# Save the grouped dataframe to a new dataframe\n",
    "result_df = grouped_df.reset_index()\n",
    "\n",
    "# Write the dataframe to an Excel file\n",
    "result_df.to_excel('data_files/sales_output.xlsx', index=False)"
   ]
  },
  {
   "cell_type": "code",
   "execution_count": null,
   "id": "405f9877",
   "metadata": {},
   "outputs": [],
   "source": []
  }
 ],
 "metadata": {
  "kernelspec": {
   "display_name": "Python 3 (ipykernel)",
   "language": "python",
   "name": "python3"
  },
  "language_info": {
   "codemirror_mode": {
    "name": "ipython",
    "version": 3
   },
   "file_extension": ".py",
   "mimetype": "text/x-python",
   "name": "python",
   "nbconvert_exporter": "python",
   "pygments_lexer": "ipython3",
   "version": "3.10.9"
  }
 },
 "nbformat": 4,
 "nbformat_minor": 5
}
