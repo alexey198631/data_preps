{
 "cells": [
  {
   "cell_type": "code",
   "execution_count": null,
   "id": "64e7165d",
   "metadata": {},
   "outputs": [],
   "source": [
    "\"\"\"\n",
    "This Python application is designed to extract data from a CSV file and create separate pandas DataFrames \n",
    "for specific rows that contain key words such as 'Host Details', 'Panelist Details', and 'Attendee Details'. \n",
    "The program reads the CSV file row by row and detects the target rows containing the key words using a flag variable. \n",
    "When a target row is found, the program creates a new DataFrame and appends the subsequent rows to it until the next \n",
    "target row is found. Once all the target rows have been processed, the program returns a list of \n",
    "DataFrames containing the data from the CSV file that corresponds to each of the target rows. This application \n",
    "can be useful for data processing and analysis tasks that require separate DataFrames for different types of data, \n",
    "such as attendance reports or meeting logs.\n",
    "\"\"\""
   ]
  },
  {
   "cell_type": "code",
   "execution_count": 68,
   "id": "7c50e300",
   "metadata": {},
   "outputs": [],
   "source": [
    "import os\n",
    "import pandas as pd\n",
    "\n",
    "key_words = ['Host Details', 'Panelist Details', 'Attendee Details']\n",
    "df_names = [x.replace(' ', '_').lower() for x in key_words]\n",
    "\n",
    "# Set the path to the folder containing the CSV files\n",
    "folder_path = 'data_files/csv/'\n",
    "\n",
    "# Get a list of all CSV files in the folder\n",
    "csv_files = [f for f in os.listdir(folder_path) if f.endswith('.csv')]"
   ]
  },
  {
   "cell_type": "code",
   "execution_count": 69,
   "id": "5c11a17e",
   "metadata": {},
   "outputs": [],
   "source": [
    "def section_data_list(file_path, key_words):\n",
    "    all_rows = []\n",
    "    key_words = key_words.copy()\n",
    "\n",
    "    with open(file_path, 'r') as csvfile:\n",
    "        csvreader = csv.reader(csvfile, delimiter=',', quotechar='\"')\n",
    "\n",
    "        # Read the CSV file row by row and process each row data\n",
    "        for row in csvreader:\n",
    "            all_rows.append(row)\n",
    "\n",
    "    key_indexes = []\n",
    "    for k in key_words:\n",
    "        for i, row in enumerate(all_rows):\n",
    "            if k in row:\n",
    "                key_indexes.append(i)\n",
    "                \n",
    "    var_names = [x.replace(' ', '_').lower() for x in key_words]\n",
    "    \n",
    "    # Create an empty dictionary to store the variables\n",
    "    variables = {}\n",
    "    \n",
    "    for i in range(len(var_names)):\n",
    "        # Get the start and end indices for the current variable\n",
    "        start = key_indexes[i]\n",
    "        end = key_indexes[i+1] if i < len(var_names)-1 else None\n",
    "\n",
    "        variables[var_names[i]] = all_rows[start:end]\n",
    "    \n",
    "    return variables"
   ]
  },
  {
   "cell_type": "code",
   "execution_count": 70,
   "id": "76bee638",
   "metadata": {},
   "outputs": [],
   "source": [
    "def extract_section_data(key, section_data_list):\n",
    "    \n",
    "    data = section_data_list[key]\n",
    "    \n",
    "    # Create an empty list to store the rows after the target row\n",
    "    length_of_row = []\n",
    "    \n",
    "    for row in data[1:]:\n",
    "        length_of_row.append(len(row))\n",
    "\n",
    "    # Identify the minimum value from the list of lenght of rows\n",
    "    min_value = min(length_of_row)\n",
    "    \n",
    "    data_m = data[1:]\n",
    "\n",
    "    for i, row in enumerate(data_m):\n",
    "        if len(row) > min_value:\n",
    "            data_m[i] = row[:-1]\n",
    "        else:\n",
    "            data_m[i] = row\n",
    "\n",
    "    # Create a pandas DataFrame from the list of rows after the target row\n",
    "    df = pd.DataFrame(data_m[1:], columns=data_m[0])\n",
    "    \n",
    "    return df "
   ]
  },
  {
   "cell_type": "code",
   "execution_count": 71,
   "id": "5b6481c3",
   "metadata": {},
   "outputs": [],
   "source": [
    "section_data_list = section_data_list(file_path, key_words)\n",
    "dfs = []\n",
    "for key in df_names:\n",
    "    dfs.append(extract_section_data(key, section_data_list))"
   ]
  },
  {
   "cell_type": "code",
   "execution_count": 73,
   "id": "5f329eba",
   "metadata": {},
   "outputs": [],
   "source": [
    "for i, df in enumerate(dfs):\n",
    "    with pd.ExcelWriter(f'{i}output.xlsx') as writer:\n",
    "        df.to_excel(writer, sheet_name='Sheet1', index=False)"
   ]
  },
  {
   "cell_type": "code",
   "execution_count": null,
   "id": "72ac0705",
   "metadata": {},
   "outputs": [],
   "source": []
  }
 ],
 "metadata": {
  "kernelspec": {
   "display_name": "Python 3 (ipykernel)",
   "language": "python",
   "name": "python3"
  },
  "language_info": {
   "codemirror_mode": {
    "name": "ipython",
    "version": 3
   },
   "file_extension": ".py",
   "mimetype": "text/x-python",
   "name": "python",
   "nbconvert_exporter": "python",
   "pygments_lexer": "ipython3",
   "version": "3.10.9"
  }
 },
 "nbformat": 4,
 "nbformat_minor": 5
}
