{
 "cells": [
  {
   "cell_type": "code",
   "execution_count": 1,
   "id": "e7314eb7",
   "metadata": {},
   "outputs": [],
   "source": [
    "import pandas as pd\n",
    "import numpy as np\n",
    "import sqlite3"
   ]
  },
  {
   "cell_type": "code",
   "execution_count": 18,
   "id": "1bdfde8d",
   "metadata": {},
   "outputs": [],
   "source": [
    "new = pd.read_excel('data_files/register_initial.xlsx', sheet_name='New Partner Register')\n",
    "old = pd.read_excel('data_files/register_initial.xlsx', sheet_name='Old Partner Register')"
   ]
  },
  {
   "cell_type": "code",
   "execution_count": 19,
   "id": "873beb1c",
   "metadata": {},
   "outputs": [],
   "source": [
    "new_updated = pd.merge(new, old, on='PARTNER')"
   ]
  },
  {
   "cell_type": "code",
   "execution_count": 23,
   "id": "0ca8e2c2",
   "metadata": {},
   "outputs": [],
   "source": [
    "conn = sqlite3.connect('data_files/customer_data.db')\n",
    "query = \"SELECT * FROM customers\"\n",
    "df_customers = pd.read_sql_query(query, conn)\n",
    "conn.close()"
   ]
  },
  {
   "cell_type": "code",
   "execution_count": 24,
   "id": "01ee9fc2",
   "metadata": {},
   "outputs": [],
   "source": [
    "orders = pd.read_excel('data_files/temp.xlsx')"
   ]
  },
  {
   "cell_type": "code",
   "execution_count": 53,
   "id": "12d23e4b",
   "metadata": {},
   "outputs": [],
   "source": [
    "grouped = orders.groupby([\"customer_name\", \"company_code_n\", \"sold_to_customer\"])[\"order_intake_amount_eur\"].sum().reset_index()\n",
    "\n",
    "max_customer_number = grouped.groupby([\"customer_name\", \"company_code_n\"])[\"order_intake_amount_eur\"].idxmax()\n",
    "key_customers = grouped.loc[max_customer_number, [\"customer_name\", \"company_code_n\", \"sold_to_customer\"]]\n",
    "\n",
    "other_customers = grouped[~grouped[\"sold_to_customer\"].isin(key_customers[\"sold_to_customer\"])]\n",
    "other_customers = other_customers.groupby([\"customer_name\", \"company_code_n\"])[\"sold_to_customer\"].apply(list).reset_index()\n",
    "\n",
    "# Convert the 'sold_to_customer_y' column to integer in key_customers and other_customers DataFrames\n",
    "key_customers['sold_to_customer'] = key_customers['sold_to_customer'].astype(int)\n",
    "other_customers['sold_to_customer'] = other_customers['sold_to_customer'].apply(lambda x: ', '.join(map(str, map(int, x))))\n",
    "\n",
    "final_df = key_customers.merge(other_customers, on=[\"customer_name\", \"company_code_n\"], how=\"left\")\n",
    "final_df.rename(columns={\"sold_to_customer\": \"key_id\", \"sold_to_customer_y\": \"list_of_other_ids\"}, inplace=True)\n",
    "\n",
    "writer = pd.ExcelWriter('data_files/outcome/check.xlsx')\n",
    "# Save each DataFrame to a separate sheet in the same file\n",
    "final_df.to_excel(writer, sheet_name='results', index=False)\n",
    "# Save the file\n",
    "writer.close()"
   ]
  },
  {
   "cell_type": "code",
   "execution_count": 70,
   "id": "1bd4451c",
   "metadata": {},
   "outputs": [],
   "source": [
    "grouped = orders.groupby([\"customer_name\", \"tier_new\", \"type\"]).first().reset_index()\n",
    "\n",
    "\n",
    "# Create new columns for each unique value in \"company_code_n\":\n",
    "unique_codes = orders[\"company_code_n\"].unique()\n",
    "for code in unique_codes:\n",
    "    grouped[code] = \"\"\n",
    "\n",
    "for index, row in grouped.iterrows():\n",
    "    customer_name = row[\"customer_name\"]\n",
    "    tier_new = row[\"tier_new\"]\n",
    "    type_value = row[\"type\"]\n",
    "    for code in unique_codes:\n",
    "        sales_people = orders.loc[(orders[\"customer_name\"] == customer_name) & (orders[\"tier_new\"] == tier_new) & (orders[\"type\"] == type_value) & (orders[\"company_code_n\"] == code) & (orders[\"FY\"].dt.year.isin([2021, 2022, 2023])), \"sales_person_n\"].dropna().unique()\n",
    "        sales_people = [str(x) for x in sales_people]  # Convert any float values to strings\n",
    "        grouped.at[index, code] = ','.join(sales_people)\n",
    "        \n",
    "writer = pd.ExcelWriter('data_files/outcome/check_2.xlsx')\n",
    "# Save each DataFrame to a separate sheet in the same file\n",
    "grouped.to_excel(writer, sheet_name='results', index=False)\n",
    "# Save the file\n",
    "writer.close()"
   ]
  },
  {
   "cell_type": "code",
   "execution_count": 76,
   "id": "8b4c8322",
   "metadata": {},
   "outputs": [],
   "source": [
    "database1 = grouped[grouped['tier_new'].isin(['Channel Partner', 'Indirect Business Partner'])]"
   ]
  },
  {
   "cell_type": "code",
   "execution_count": 80,
   "id": "94089f94",
   "metadata": {},
   "outputs": [],
   "source": [
    "database1 = database1[['sold_to_customer', 'customer_name', 'type', 'company_code_n', 'tier_new', 'YEF-G', 'YEF-NL', 'YEF-PL', 'YEF-I', 'YEF-GB', 'YEF-CZ', 'YEF-B',\n",
    "       'YEF-F', 'YEF-SK', 'YEF-HU', 'YEF-CH', 'YEF-E', 'YEF-RO', 'YEF-TR', 'YEF-A', 'YEF-HQ', 'YEF-RS']]"
   ]
  },
  {
   "cell_type": "code",
   "execution_count": 85,
   "id": "62a17d07",
   "metadata": {},
   "outputs": [],
   "source": [
    "partner_register = pd.merge(new_updated, database1, left_on='PARTNER', right_on= 'customer_name', how='outer')"
   ]
  },
  {
   "cell_type": "code",
   "execution_count": 88,
   "id": "8ee71cea",
   "metadata": {},
   "outputs": [],
   "source": [
    "partner_register = pd.merge(partner_register, final_df, left_on='PARTNER', right_on= 'customer_name', how='outer')"
   ]
  },
  {
   "cell_type": "code",
   "execution_count": 90,
   "id": "18ac9538",
   "metadata": {},
   "outputs": [],
   "source": [
    "writer = pd.ExcelWriter('data_files/outcome/partner_register.xlsx')\n",
    "# Save each DataFrame to a separate sheet in the same file\n",
    "partner_register.to_excel(writer, sheet_name='Partner register', index=False)\n",
    "# Save the file\n",
    "writer.close()"
   ]
  },
  {
   "cell_type": "code",
   "execution_count": 114,
   "id": "778b2aab",
   "metadata": {},
   "outputs": [],
   "source": [
    "# understanding what products \"for_bu\" customers are buying\n",
    "\n",
    "grouped = orders.groupby([\"customer_name\", \"company_code_n\", \"for_bu\"])[\"order_intake_amount_eur\"].sum().reset_index()\n",
    "\n",
    "max_customer_number = grouped.groupby([\"customer_name\", \"company_code_n\"])[\"order_intake_amount_eur\"].idxmax()\n",
    "key_customers = grouped.loc[max_customer_number, [\"customer_name\", \"company_code_n\", \"for_bu\"]]\n",
    "\n",
    "other_customers = grouped.loc[~grouped.index.isin(max_customer_number)].copy()\n",
    "other_customers = other_customers.groupby([\"customer_name\", \"company_code_n\"])[\"for_bu\"].apply(lambda x: ','.join(map(str, x))).reset_index()\n",
    "\n",
    "final_df = key_customers.merge(other_customers, on=[\"customer_name\", \"company_code_n\"], how=\"left\")\n",
    "final_df.rename(columns={\"for_bu\": \"key_bu\", \"sold_to_customer_y\": \"list_of_other_bus\"}, inplace=True)\n",
    "\n",
    "writer = pd.ExcelWriter('data_files/outcome/check_3.xlsx')\n",
    "# Save each DataFrame to a separate sheet in the same file\n",
    "final_df.to_excel(writer, sheet_name='results', index=False)\n",
    "# Save the file\n",
    "writer.close()"
   ]
  }
 ],
 "metadata": {
  "kernelspec": {
   "display_name": "Python 3 (ipykernel)",
   "language": "python",
   "name": "python3"
  },
  "language_info": {
   "codemirror_mode": {
    "name": "ipython",
    "version": 3
   },
   "file_extension": ".py",
   "mimetype": "text/x-python",
   "name": "python",
   "nbconvert_exporter": "python",
   "pygments_lexer": "ipython3",
   "version": "3.10.9"
  }
 },
 "nbformat": 4,
 "nbformat_minor": 5
}
