{
 "cells": [
  {
   "cell_type": "code",
   "execution_count": 34,
   "id": "087687fd",
   "metadata": {},
   "outputs": [],
   "source": [
    "import pandas as pd\n",
    "import numpy as np\n",
    "\n",
    "# Read Data1.xlsx into a dataframe\n",
    "orders_data_fy17_fy21 = pd.read_excel('data_files/Data1.xlsx')\n",
    "\n",
    "# Read Data2.xlsx into a dataframe\n",
    "orders_data_fy21_fy22 = pd.read_excel('data_files/Data2.xlsx')"
   ]
  },
  {
   "cell_type": "code",
   "execution_count": 35,
   "id": "d23ecb67",
   "metadata": {},
   "outputs": [],
   "source": [
    "# Keep desired columns\n",
    "temp_df = orders_data_fy17_fy21[['year_month', 'company_code_n', 'sold_to_customer_n_latest', 'bu', 'bu_n', 'material', 'ms_code', 'order_intake_quantity', 'order intake EUR']]\n",
    "\n",
    "# Parse 'year_month' column and create 'FY' column. FY start from 4 month\n",
    "temp_df['year_month_date'] = pd.to_datetime(temp_df['year_month'], format='%Y%m')\n",
    "temp_df['FY'] = np.where(temp_df['year_month_date'].dt.month >= 4, temp_df['year_month_date'].dt.year, temp_df['year_month_date'].dt.year - 1)\n",
    "\n",
    "# Create fiscal 'quarter' column\n",
    "quarter_dict = {1: 'Q4', 2: 'Q4', 3: 'Q4', 4: 'Q1', 5: 'Q1', 6: 'Q1', 7: 'Q2', 8: 'Q2', 9: 'Q2', 10: 'Q3', 11: 'Q3', 12: 'Q3'}\n",
    "temp_df['quarter'] = temp_df['year_month_date'].dt.month.map(quarter_dict)\n",
    "\n",
    "# Create 'half_year' column\n",
    "temp_df['half_year'] = np.where(temp_df['year_month_date'].dt.month.between(4, 9), 'HY1', 'HY2')\n",
    "\n",
    "# Rename columns\n",
    "temp_df = temp_df.rename(columns={'sold_to_customer_n_latest': 'customer', 'order intake EUR': 'order_intake_EUR'})\n"
   ]
  },
  {
   "cell_type": "code",
   "execution_count": 25,
   "id": "2cb3e39e",
   "metadata": {},
   "outputs": [],
   "source": [
    "# Check new_df\n",
    "new_df.to_excel('data_files/new_file.xlsx', index=False)"
   ]
  },
  {
   "cell_type": "code",
   "execution_count": null,
   "id": "cccf9906",
   "metadata": {},
   "outputs": [],
   "source": [
    "temp_df2 = orders_data_fy21_fy22[['year_month', 'company_code_n', 'sold_to_customer_n_latest', 'bu', 'bu_n', 'material', 'ms_code', 'order_intake_quantity', 'Order Intake Euro']]\n",
    "\n",
    "# Parse 'year_month' column and create 'FY' column. FY start from 4 month\n",
    "temp_df2['year_month_date'] = pd.to_datetime(temp_df2['year_month'], format='%Y%m')\n",
    "temp_df2['FY'] = np.where(temp_df2['year_month_date'].dt.month >= 4, temp_df2['year_month_date'].dt.year, temp_df2['year_month_date'].dt.year - 1)\n",
    "\n",
    "# Create fiscal 'quarter' column\n",
    "quarter_dict = {1: 'Q4', 2: 'Q4', 3: 'Q4', 4: 'Q1', 5: 'Q1', 6: 'Q1', 7: 'Q2', 8: 'Q2', 9: 'Q2', 10: 'Q3', 11: 'Q3', 12: 'Q3'}\n",
    "temp_df2['quarter'] = temp_df2['year_month_date'].dt.month.map(quarter_dict)\n",
    "\n",
    "# Create 'half_year' column\n",
    "temp_df2['half_year'] = np.where(temp_df2['year_month_date'].dt.month.between(4, 9), 'HY1', 'HY2')\n",
    "\n",
    "# Rename columns\n",
    "temp_df2 = temp_df2.rename(columns={'sold_to_customer_n_latest': 'customer', 'Order Intake Euro': 'order_intake_EUR'})"
   ]
  },
  {
   "cell_type": "code",
   "execution_count": 32,
   "id": "20da7d6f",
   "metadata": {},
   "outputs": [],
   "source": [
    "# Check new_df2\n",
    "temp_df2.to_excel('data_files/new_file2.xlsx', index=False)"
   ]
  },
  {
   "cell_type": "code",
   "execution_count": 37,
   "id": "8a297a3f",
   "metadata": {},
   "outputs": [],
   "source": [
    "# combine two prepared df\n",
    "orders_data = pd.concat([temp_df, temp_df2], ignore_index=True)\n",
    "# Check sales_data\n",
    "orders_data.to_excel('data_files/orders_data.xlsx', index=False)"
   ]
  },
  {
   "cell_type": "code",
   "execution_count": null,
   "id": "ffd400f7",
   "metadata": {},
   "outputs": [],
   "source": []
  }
 ],
 "metadata": {
  "kernelspec": {
   "display_name": "Python 3 (ipykernel)",
   "language": "python",
   "name": "python3"
  },
  "language_info": {
   "codemirror_mode": {
    "name": "ipython",
    "version": 3
   },
   "file_extension": ".py",
   "mimetype": "text/x-python",
   "name": "python",
   "nbconvert_exporter": "python",
   "pygments_lexer": "ipython3",
   "version": "3.9.12"
  }
 },
 "nbformat": 4,
 "nbformat_minor": 5
}
