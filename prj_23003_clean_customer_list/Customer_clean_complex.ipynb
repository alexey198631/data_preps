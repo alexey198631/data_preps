{
 "cells": [
  {
   "cell_type": "code",
   "execution_count": null,
   "id": "5d69b2b3",
   "metadata": {},
   "outputs": [],
   "source": [
    "\"\"\"\n",
    "Code for data cleaning. \n",
    "Main goal is to find and create ONE 'one_name' for one company but with different variants of:\n",
    "\n",
    "1. Company ID (sold_to_customer), \n",
    "2. Name spellings (sold_to_customer_n), \n",
    "\n",
    "each 'one_name' has to have eventually one definition for channel\n",
    "\n",
    "1. Type (Direct or Indirect)\n",
    "2. Type_with_channel (Direct - Direct or Indirect - Other or Indirect- Channel)\n",
    "3. Company_type according to our specification (End user, Distributor, VAR, OEM, EPC etc.)\n",
    "4. OPCO\n",
    "\n",
    "\n",
    "\"\"\""
   ]
  },
  {
   "cell_type": "code",
   "execution_count": null,
   "id": "cc42707e",
   "metadata": {},
   "outputs": [],
   "source": [
    "\"\"\"\n",
    "importing data from two files which were prepared accordingly from SAP system\n",
    "\n",
    "\n",
    "order's columns:\n",
    "\n",
    "['company_code_n', 'year_month', 'Date', 'FY', 'Sales group_case',\n",
    "       'customer_group_code', 'Column1', 'BU Group OAC', 'BU Group_case',\n",
    "       'bu2', 'bu_n', 'sales_person_n', 'sales_order_so', 'sold_to_customer',\n",
    "       'sold_to_customer_n', 'sold_to_region_n', 'eu_industry_n',\n",
    "       'ec_eu_customer_n', 'eu_region_n', 'ec_eu_industry_n',\n",
    "       'order_intake_amount_eur', 'OPCO', 'Type', 'Type with Channel',\n",
    "       'Company time']\n",
    "       \n",
    "customer's columns\n",
    "\n",
    "['Customer', 'Tier', 'Accounts', 'Company', 'Customer Name', 'Code',\n",
    "       'Customer Group Name', 'Oscar i/d', 'Oscar Type', 'Indirect/Direct',\n",
    "       'Channel3', 'New Type4', 'Correction_Indirect/Direct',\n",
    "       'Correction_Channel', 'Correction_ Type', 'T&M', 'Partner page',\n",
    "       'Tableau', 'Comments', 'Link']\n",
    "\n",
    "\n",
    "\"\"\"\n",
    "\n",
    "import pandas as pd\n",
    "import numpy as np\n",
    "\n",
    "order = pd.read_excel('data_files/full_order_data.xlsx',sheet_name='Data')\n",
    "customer = pd.read_excel('data_files/full_customer_data.xlsx',sheet_name='data')"
   ]
  },
  {
   "cell_type": "code",
   "execution_count": null,
   "id": "8019daf1",
   "metadata": {},
   "outputs": [],
   "source": [
    "\"\"\"\n",
    "Cleaning old names. Step 1 - get a current SAP name of companies for Company ID (sold_to_customer)\n",
    "\n",
    "1. Sort by FY (datetime), descending order\n",
    "2. Creat 'company_id' list\n",
    "3. check in cycle all lines of 'order' dataframe \n",
    "4. if Company ID (sold_to_customer) is in the list, then delete line  \n",
    "\n",
    "\"\"\""
   ]
  },
  {
   "cell_type": "code",
   "execution_count": null,
   "id": "7491742a",
   "metadata": {},
   "outputs": [],
   "source": [
    "#forting by date, descending order for keeping the newest\n",
    "order_sorted_by_FY_date = order.sort_values(by='FY', ascending=False).reset_index(drop = True)\n",
    "#it is necessary exlude all not essentional inforamtion:\n",
    "order_sorted_by_FY_date = order_sorted_by_FY_date.loc[:,['FY','sold_to_customer', 'sold_to_customer_n', 'OPCO']]"
   ]
  },
  {
   "cell_type": "code",
   "execution_count": null,
   "id": "9ea2dfab",
   "metadata": {},
   "outputs": [],
   "source": [
    "column_index = order_sorted_by_FY_date.columns.get_loc('sold_to_customer') #determine Company ID column index for iloc\n",
    "company_id_exist_list = [] #creat 'company_id' list\n",
    "result_df = order_sorted_by_FY_date.copy()\n",
    "\n",
    "rng = len(order_sorted_by_FY_date)\n",
    "\n",
    "for i in range(rng): #cycle for deleting repeting Company ID, saving the newest data\n",
    "    \n",
    "    if order_sorted_by_FY_date.iloc[i,column_index] not in company_id_exist_list:\n",
    "        company_id_exist_list.append(order_sorted_by_FY_date.iloc[i,column_index])\n",
    "    else:\n",
    "        result_df = result_df.drop(i)\n",
    "        print(i, rng, \"Working : %.1f%% \\r\" % (i * 100 / rng), end='')"
   ]
  },
  {
   "cell_type": "code",
   "execution_count": null,
   "id": "6447d11a",
   "metadata": {},
   "outputs": [],
   "source": [
    "\"\"\"\n",
    "easier way to do the same thing\n",
    "sevral seconds vs 30 minutes\n",
    "\n",
    "\"\"\"\n",
    "result2_df = order_sorted_by_FY_date.copy()\n",
    "result2_df.drop_duplicates(subset='sold_to_customer', keep='first', inplace=True, ignore_index=True)\n",
    "\n",
    "writer = pd.ExcelWriter('data_files/The_newest_names.xlsx', engine='xlsxwriter')\n",
    "result_df.to_excel(writer, sheet_name='1')\n",
    "result2_df.to_excel(writer, sheet_name='2')\n",
    "writer.save()"
   ]
  },
  {
   "cell_type": "code",
   "execution_count": null,
   "id": "44926ba0",
   "metadata": {},
   "outputs": [],
   "source": [
    "#to be continiued"
   ]
  },
  {
   "cell_type": "code",
   "execution_count": null,
   "id": "165f6f38",
   "metadata": {},
   "outputs": [],
   "source": [
    "customer_uniq = customer.copy()\n",
    "customer_uniq = customer_uniq.loc[:, ['Customer', 'Customer Name']]\n",
    "merg_customer_uniq = customer_uniq.merge(result2_df, how='left', left_on='Customer', right_on='sold_to_customer')\n",
    "merg_customer_uniq.dropna()\n",
    "result2_df.iloc[11,2].upper().replace('-' , ' ').replace('\"' , '').replace(\",\" , \" \").replace(\".\" , \" \").strip().split()\n",
    "#pattern = '|'.join(['-','\"', ',' ,'.'])\n",
    "result2_df.dropna(inplace = True)\n",
    "result2_df['sold_to_customer_n'] = result2_df['sold_to_customer_n'].str.replace('\\-|\\,|\\.|\\\"' , \" \", regex = True)\n",
    "result2_df['sold_to_customer_n'] = result2_df['sold_to_customer_n'].str.upper().str.strip()  #.str.split()"
   ]
  }
 ],
 "metadata": {
  "kernelspec": {
   "display_name": "Python 3 (ipykernel)",
   "language": "python",
   "name": "python3"
  },
  "language_info": {
   "codemirror_mode": {
    "name": "ipython",
    "version": 3
   },
   "file_extension": ".py",
   "mimetype": "text/x-python",
   "name": "python",
   "nbconvert_exporter": "python",
   "pygments_lexer": "ipython3",
   "version": "3.9.12"
  }
 },
 "nbformat": 4,
 "nbformat_minor": 5
}
