{
 "cells": [
  {
   "cell_type": "code",
   "execution_count": 2,
   "id": "838582fc",
   "metadata": {},
   "outputs": [],
   "source": [
    "import pandas as pd\n",
    "import numpy as np\n",
    "import sqlite3\n",
    "import importlib\n",
    "\n",
    "# keeping company information in additional file\n",
    "import data_file"
   ]
  },
  {
   "cell_type": "code",
   "execution_count": null,
   "id": "fbcc3dd9",
   "metadata": {},
   "outputs": [],
   "source": [
    "importlib.reload(data_file)"
   ]
  },
  {
   "cell_type": "code",
   "execution_count": 134,
   "id": "3ac28ccb",
   "metadata": {},
   "outputs": [],
   "source": [
    "# import sales data\n",
    "discount_data = pd.read_excel('data_files/discount_source.xlsx')\n",
    "\n",
    "conn = sqlite3.connect('data_files/customer_data.db')\n",
    "query = \"SELECT * FROM customers\"  # Replace 'tablename' with your table name\n",
    "df_customers = pd.read_sql_query(query, conn)\n",
    "conn.close()"
   ]
  },
  {
   "cell_type": "code",
   "execution_count": 135,
   "id": "f618f22c",
   "metadata": {},
   "outputs": [],
   "source": [
    "df_customers['tier'] = df_customers['tier'].fillna(df_customers['indirect_direct'])\n",
    "df_customers['tier_new'] = df_customers['tier_new'].fillna(df_customers['indirect_direct'])"
   ]
  },
  {
   "cell_type": "code",
   "execution_count": 136,
   "id": "f073a5d8",
   "metadata": {},
   "outputs": [],
   "source": [
    "sales_person_n = data_file.sales_person_n\n",
    "exlbu=data_file.exlbu\n",
    "exlpanrter=data_file.exlpanrter"
   ]
  },
  {
   "cell_type": "code",
   "execution_count": 137,
   "id": "dc76fe57",
   "metadata": {},
   "outputs": [],
   "source": [
    "order_data = discount_data.copy()\n",
    "wdf = df_customers.copy()"
   ]
  },
  {
   "cell_type": "code",
   "execution_count": 138,
   "id": "017d0699",
   "metadata": {},
   "outputs": [
    {
     "data": {
      "text/plain": [
       "3968"
      ]
     },
     "execution_count": 138,
     "metadata": {},
     "output_type": "execute_result"
    }
   ],
   "source": [
    "len(discount_data)"
   ]
  },
  {
   "cell_type": "code",
   "execution_count": 139,
   "id": "6a0ebc75",
   "metadata": {},
   "outputs": [
    {
     "data": {
      "text/plain": [
       "3968"
      ]
     },
     "execution_count": 139,
     "metadata": {},
     "output_type": "execute_result"
    }
   ],
   "source": [
    "len(order_data)"
   ]
  },
  {
   "cell_type": "code",
   "execution_count": 140,
   "id": "c0d7df7c",
   "metadata": {},
   "outputs": [
    {
     "data": {
      "text/plain": [
       "14802"
      ]
     },
     "execution_count": 140,
     "metadata": {},
     "output_type": "execute_result"
    }
   ],
   "source": [
    "len(wdf)"
   ]
  },
  {
   "cell_type": "code",
   "execution_count": 141,
   "id": "370da630",
   "metadata": {},
   "outputs": [],
   "source": [
    "order_columns = list(order_data.columns) + ['customer_name', 'indirect_direct', 'tier', 'tier_new', 'type']"
   ]
  },
  {
   "cell_type": "code",
   "execution_count": 142,
   "id": "9f5c0532",
   "metadata": {},
   "outputs": [],
   "source": [
    "# special case with specific SO for agent\n",
    "agent_so = data_file.special_so\n",
    "agent_so_two = data_file.special_so_two \n",
    "agent_one = data_file.agent_one\n",
    "so_order_data = order_data[ (order_data['sales_order_so'] == agent_so) | (order_data['sales_order_so'] == agent_so_two)]\n",
    "\n",
    "so_order_data['customer_name'] = agent_one\n",
    "so_order_data['indirect_direct'] = 'Indirect'\n",
    "so_order_data['tier'] = 'Channel Partner'\n",
    "so_order_data['type'] = 'Agent'"
   ]
  },
  {
   "cell_type": "code",
   "execution_count": 150,
   "id": "a3ef4997",
   "metadata": {},
   "outputs": [
    {
     "ename": "TypeError",
     "evalue": "'str' object cannot be interpreted as an integer",
     "output_type": "error",
     "traceback": [
      "\u001b[1;31m---------------------------------------------------------------------------\u001b[0m",
      "\u001b[1;31mTypeError\u001b[0m                                 Traceback (most recent call last)",
      "Cell \u001b[1;32mIn[150], line 1\u001b[0m\n\u001b[1;32m----> 1\u001b[0m indirect_list \u001b[38;5;241m=\u001b[39m \u001b[38;5;28;43mlist\u001b[39;49m\u001b[43m(\u001b[49m\u001b[43mwdf\u001b[49m\u001b[43m[\u001b[49m\u001b[38;5;124;43m'\u001b[39;49m\u001b[38;5;124;43mtier\u001b[39;49m\u001b[38;5;124;43m'\u001b[39;49m\u001b[43m]\u001b[49m\u001b[38;5;241;43m.\u001b[39;49m\u001b[43munique\u001b[49m\u001b[43m(\u001b[49m\u001b[43m)\u001b[49m\u001b[43m)\u001b[49m\u001b[38;5;241;43m.\u001b[39;49m\u001b[43mpop\u001b[49m\u001b[43m(\u001b[49m\u001b[38;5;124;43m'\u001b[39;49m\u001b[38;5;124;43mDirect\u001b[39;49m\u001b[38;5;124;43m'\u001b[39;49m\u001b[43m)\u001b[49m\n",
      "\u001b[1;31mTypeError\u001b[0m: 'str' object cannot be interpreted as an integer"
     ]
    }
   ],
   "source": [
    "indirect_list = list(wdf['tier'].unique()).remove('Direct')"
   ]
  },
  {
   "cell_type": "code",
   "execution_count": 149,
   "id": "90a6ac86",
   "metadata": {},
   "outputs": [
    {
     "data": {
      "text/plain": [
       "['Independent Sales Company',\n",
       " 'Direct',\n",
       " 'Indirect Business Partner',\n",
       " 'Channel Partner']"
      ]
     },
     "execution_count": 149,
     "metadata": {},
     "output_type": "execute_result"
    }
   ],
   "source": [
    "list(wdf['tier'].unique())"
   ]
  },
  {
   "cell_type": "code",
   "execution_count": 106,
   "id": "d45d4a58",
   "metadata": {},
   "outputs": [],
   "source": [
    "# special case with specific cutomers for agent\n",
    "partners_data = wdf[wdf['tier'].isin(indirect_list) | wdf[exlpanrter].notna()]\n",
    "agent_two = data_file.agent_two\n",
    "partners_data.loc[partners_data[exlpanrter].notna(), 'customer_name'] = agent_two\n",
    "partners_data = partners_data.loc[:, ['sold_to_customer', 'agent_person', 'company_code_n', 'sold_to_customer_n','customer_name', \n",
    "       'indirect_direct', 'channel', 'type', 'tier', 'tier_new']]\n",
    "\n",
    "partners_data['sold_to_customer'] = partners_data['sold_to_customer'].astype(str)"
   ]
  },
  {
   "cell_type": "code",
   "execution_count": 107,
   "id": "57c138ae",
   "metadata": {},
   "outputs": [],
   "source": [
    "agent_partners = partners_data[partners_data['agent_person'].notna()]"
   ]
  },
  {
   "cell_type": "code",
   "execution_count": 108,
   "id": "1b10155c",
   "metadata": {},
   "outputs": [],
   "source": [
    "# agent sales records preparation\n",
    "agents_order_data = order_data[order_data['sales_person_n'].isin(sales_person_n)]\n",
    "agents_order_data = agents_order_data.merge(agent_partners, left_on='sales_person_n', right_on='sold_to_customer_n', how='left')\n",
    "agents_order_data = agents_order_data.filter(regex='^(?!.*_y)')\n",
    "# Exclude '_x' from all column names\n",
    "agents_order_data.columns = agents_order_data.columns.str.replace('_x', '')\n",
    "agents_order_data = agents_order_data.loc[:, order_columns]\n",
    "agents_order_data['type'] = 'Agent'"
   ]
  },
  {
   "cell_type": "code",
   "execution_count": 109,
   "id": "b6c64380",
   "metadata": {},
   "outputs": [],
   "source": [
    "# exclude agents sales from order data not to double lines\n",
    "order_data = order_data[~order_data['sales_person_n'].isin(sales_person_n)]"
   ]
  },
  {
   "cell_type": "code",
   "execution_count": 110,
   "id": "d1314673",
   "metadata": {},
   "outputs": [],
   "source": [
    "partners_data['sold_to_customer'] = partners_data['sold_to_customer'].astype(str)\n",
    "order_data['sold_to_customer'] = order_data['sold_to_customer'].astype(str)\n",
    "order_data['sold_to_customer'] = order_data['sold_to_customer'].str.strip()\n",
    "\n",
    "# all partners except agents data preparation\n",
    "other_order_data = order_data[(order_data['sold_to_customer'].isin(partners_data['sold_to_customer'])) |(order_data['sold_to_customer_n_latest'].isin(partners_data['sold_to_customer_n']))]"
   ]
  },
  {
   "cell_type": "code",
   "execution_count": 111,
   "id": "08b26f42",
   "metadata": {},
   "outputs": [],
   "source": [
    "other_order_data = other_order_data.merge(partners_data, left_on='sold_to_customer', right_on='sold_to_customer', how='left')\n",
    "other_order_data = other_order_data.filter(regex='^(?!.*_y)')\n",
    "# Exclude '_x' from all column names\n",
    "other_order_data.columns = other_order_data.columns.str.replace('_x', '')\n",
    "other_order_data = other_order_data.loc[:, order_columns]\n",
    "# Update values in columns based on the specific value\n",
    "other_order_data.loc[other_order_data['indirect_direct'] == 'Direct', 'tier'] = 'Channel Partner'\n",
    "other_order_data.loc[other_order_data['indirect_direct'] == 'Direct', 'type'] = 'Agent'"
   ]
  },
  {
   "cell_type": "code",
   "execution_count": 130,
   "id": "ca0adcbb",
   "metadata": {},
   "outputs": [],
   "source": [
    "# combining all the sales records\n",
    "full_data['sold_to_customer'] = full_data['sold_to_customer'].astype(str)\n",
    "full_data = pd.concat([other_order_data, agents_order_data, so_order_data])\n",
    "full_data.reset_index(inplace=True, drop=True)"
   ]
  },
  {
   "cell_type": "code",
   "execution_count": 131,
   "id": "598c271a",
   "metadata": {},
   "outputs": [
    {
     "data": {
      "text/plain": [
       "1986"
      ]
     },
     "execution_count": 131,
     "metadata": {},
     "output_type": "execute_result"
    }
   ],
   "source": [
    "len(full_data)"
   ]
  },
  {
   "cell_type": "code",
   "execution_count": 124,
   "id": "44695d53",
   "metadata": {},
   "outputs": [],
   "source": [
    "check_df = discount_data.copy()\n",
    "\n",
    "check_df['sold_to_customer'] = check_df['sold_to_customer'].astype(str)\n",
    "check_df['sold_to_customer'] = check_df['sold_to_customer'].str.strip()\n",
    "\n",
    "check_df = check_df[(~check_df['sold_to_customer'].isin(full_data['sold_to_customer']))|(~check_df['sold_to_customer_n_latest'].isin(full_data['sold_to_customer_n_latest']))]"
   ]
  },
  {
   "cell_type": "code",
   "execution_count": 125,
   "id": "c52c58e5",
   "metadata": {},
   "outputs": [],
   "source": [
    "check = list(check_df['sold_to_customer_n_latest'].unique())"
   ]
  },
  {
   "cell_type": "code",
   "execution_count": 126,
   "id": "e4c74574",
   "metadata": {},
   "outputs": [],
   "source": [
    "writeit = discount_data[discount_data['sold_to_customer_n_latest'].isin(check)]"
   ]
  },
  {
   "cell_type": "code",
   "execution_count": 132,
   "id": "eecdd87c",
   "metadata": {},
   "outputs": [],
   "source": [
    "writer = pd.ExcelWriter('data_files/writeit.xlsx')\n",
    "writeit.to_excel(writer, sheet_name='writeit', index=False)\n",
    "full_data.to_excel(writer, sheet_name='222', index=False)\n",
    "writer.close()"
   ]
  },
  {
   "cell_type": "code",
   "execution_count": 123,
   "id": "de42338f",
   "metadata": {},
   "outputs": [
    {
     "data": {
      "text/html": [
       "<div>\n",
       "<style scoped>\n",
       "    .dataframe tbody tr th:only-of-type {\n",
       "        vertical-align: middle;\n",
       "    }\n",
       "\n",
       "    .dataframe tbody tr th {\n",
       "        vertical-align: top;\n",
       "    }\n",
       "\n",
       "    .dataframe thead th {\n",
       "        text-align: right;\n",
       "    }\n",
       "</style>\n",
       "<table border=\"1\" class=\"dataframe\">\n",
       "  <thead>\n",
       "    <tr style=\"text-align: right;\">\n",
       "      <th></th>\n",
       "      <th>company_code_n</th>\n",
       "      <th>sales_order_so</th>\n",
       "      <th>so_item</th>\n",
       "      <th>sstp_approval_no</th>\n",
       "      <th>sold_to_customer</th>\n",
       "      <th>sales_person_n</th>\n",
       "      <th>sold_to_customer_n_latest</th>\n",
       "      <th>ec_eu_customer_n</th>\n",
       "      <th>bu</th>\n",
       "      <th>bu_n</th>\n",
       "      <th>...</th>\n",
       "      <th>sales_eur</th>\n",
       "      <th>discount %</th>\n",
       "      <th>cogs(ms)_eur</th>\n",
       "      <th>gp_eur</th>\n",
       "      <th>Gross Margin</th>\n",
       "      <th>customer_name</th>\n",
       "      <th>indirect_direct</th>\n",
       "      <th>tier</th>\n",
       "      <th>tier_new</th>\n",
       "      <th>type</th>\n",
       "    </tr>\n",
       "  </thead>\n",
       "  <tbody>\n",
       "    <tr>\n",
       "      <th>0</th>\n",
       "      <td>YEF-A</td>\n",
       "      <td>2.008720e+09</td>\n",
       "      <td>30</td>\n",
       "      <td>VYDA0013-0012-000</td>\n",
       "      <td>200239154</td>\n",
       "      <td>Böck Hans-Jürgen</td>\n",
       "      <td>Axiom angewandte Prozesstechnik GmbH</td>\n",
       "      <td>Axiom angewandte Prozesstechnik GmbH</td>\n",
       "      <td>YY116</td>\n",
       "      <td>Transmitters</td>\n",
       "      <td>...</td>\n",
       "      <td>4965</td>\n",
       "      <td>0.7233</td>\n",
       "      <td>3227</td>\n",
       "      <td>1738</td>\n",
       "      <td>0.3500</td>\n",
       "      <td>AXIOM ANGEWANDTE PROZESSTECHNIK</td>\n",
       "      <td>Direct</td>\n",
       "      <td>Channel Partner</td>\n",
       "      <td>Direct</td>\n",
       "      <td>Agent</td>\n",
       "    </tr>\n",
       "    <tr>\n",
       "      <th>1</th>\n",
       "      <td>YEF-A</td>\n",
       "      <td>2.008720e+09</td>\n",
       "      <td>40</td>\n",
       "      <td>NaN</td>\n",
       "      <td>200239154</td>\n",
       "      <td>Böck Hans-Jürgen</td>\n",
       "      <td>Axiom angewandte Prozesstechnik GmbH</td>\n",
       "      <td>Axiom angewandte Prozesstechnik GmbH</td>\n",
       "      <td>YY116</td>\n",
       "      <td>Transmitters</td>\n",
       "      <td>...</td>\n",
       "      <td>8084</td>\n",
       "      <td>NaN</td>\n",
       "      <td>4446</td>\n",
       "      <td>3638</td>\n",
       "      <td>0.4500</td>\n",
       "      <td>AXIOM ANGEWANDTE PROZESSTECHNIK</td>\n",
       "      <td>Direct</td>\n",
       "      <td>Channel Partner</td>\n",
       "      <td>Direct</td>\n",
       "      <td>Agent</td>\n",
       "    </tr>\n",
       "    <tr>\n",
       "      <th>2</th>\n",
       "      <td>YEF-A</td>\n",
       "      <td>2.008720e+09</td>\n",
       "      <td>41</td>\n",
       "      <td>NaN</td>\n",
       "      <td>200239154</td>\n",
       "      <td>Böck Hans-Jürgen</td>\n",
       "      <td>Axiom angewandte Prozesstechnik GmbH</td>\n",
       "      <td>Axiom angewandte Prozesstechnik GmbH</td>\n",
       "      <td>YY116</td>\n",
       "      <td>Transmitters</td>\n",
       "      <td>...</td>\n",
       "      <td>1401</td>\n",
       "      <td>NaN</td>\n",
       "      <td>771</td>\n",
       "      <td>630</td>\n",
       "      <td>0.4500</td>\n",
       "      <td>AXIOM ANGEWANDTE PROZESSTECHNIK</td>\n",
       "      <td>Direct</td>\n",
       "      <td>Channel Partner</td>\n",
       "      <td>Direct</td>\n",
       "      <td>Agent</td>\n",
       "    </tr>\n",
       "    <tr>\n",
       "      <th>3</th>\n",
       "      <td>YEF-A</td>\n",
       "      <td>2.008720e+09</td>\n",
       "      <td>42</td>\n",
       "      <td>NaN</td>\n",
       "      <td>200239154</td>\n",
       "      <td>Böck Hans-Jürgen</td>\n",
       "      <td>Axiom angewandte Prozesstechnik GmbH</td>\n",
       "      <td>Axiom angewandte Prozesstechnik GmbH</td>\n",
       "      <td>YY116</td>\n",
       "      <td>Transmitters</td>\n",
       "      <td>...</td>\n",
       "      <td>1401</td>\n",
       "      <td>NaN</td>\n",
       "      <td>771</td>\n",
       "      <td>630</td>\n",
       "      <td>0.4500</td>\n",
       "      <td>AXIOM ANGEWANDTE PROZESSTECHNIK</td>\n",
       "      <td>Direct</td>\n",
       "      <td>Channel Partner</td>\n",
       "      <td>Direct</td>\n",
       "      <td>Agent</td>\n",
       "    </tr>\n",
       "    <tr>\n",
       "      <th>4</th>\n",
       "      <td>YEF-A</td>\n",
       "      <td>2.008720e+09</td>\n",
       "      <td>43</td>\n",
       "      <td>NaN</td>\n",
       "      <td>200239154</td>\n",
       "      <td>Böck Hans-Jürgen</td>\n",
       "      <td>Axiom angewandte Prozesstechnik GmbH</td>\n",
       "      <td>Axiom angewandte Prozesstechnik GmbH</td>\n",
       "      <td>YY116</td>\n",
       "      <td>Transmitters</td>\n",
       "      <td>...</td>\n",
       "      <td>1277</td>\n",
       "      <td>NaN</td>\n",
       "      <td>703</td>\n",
       "      <td>575</td>\n",
       "      <td>0.4500</td>\n",
       "      <td>AXIOM ANGEWANDTE PROZESSTECHNIK</td>\n",
       "      <td>Direct</td>\n",
       "      <td>Channel Partner</td>\n",
       "      <td>Direct</td>\n",
       "      <td>Agent</td>\n",
       "    </tr>\n",
       "    <tr>\n",
       "      <th>...</th>\n",
       "      <td>...</td>\n",
       "      <td>...</td>\n",
       "      <td>...</td>\n",
       "      <td>...</td>\n",
       "      <td>...</td>\n",
       "      <td>...</td>\n",
       "      <td>...</td>\n",
       "      <td>...</td>\n",
       "      <td>...</td>\n",
       "      <td>...</td>\n",
       "      <td>...</td>\n",
       "      <td>...</td>\n",
       "      <td>...</td>\n",
       "      <td>...</td>\n",
       "      <td>...</td>\n",
       "      <td>...</td>\n",
       "      <td>...</td>\n",
       "      <td>...</td>\n",
       "      <td>...</td>\n",
       "      <td>...</td>\n",
       "      <td>...</td>\n",
       "    </tr>\n",
       "    <tr>\n",
       "      <th>1981</th>\n",
       "      <td>YEF-I</td>\n",
       "      <td>2.008743e+09</td>\n",
       "      <td>20</td>\n",
       "      <td>NaN</td>\n",
       "      <td>200275006</td>\n",
       "      <td>Baglieri Maurizio</td>\n",
       "      <td>ANDRITZ NOVIMPIANTI SRL</td>\n",
       "      <td>ABC Tissue Products Pty Ltd</td>\n",
       "      <td>YY116</td>\n",
       "      <td>Transmitters</td>\n",
       "      <td>...</td>\n",
       "      <td>744</td>\n",
       "      <td>0.5927</td>\n",
       "      <td>470</td>\n",
       "      <td>274</td>\n",
       "      <td>0.3682</td>\n",
       "      <td>BAGLIERI MAURIZIO</td>\n",
       "      <td>Indirect</td>\n",
       "      <td>Channel Partner</td>\n",
       "      <td>Channel Partner</td>\n",
       "      <td>Agent</td>\n",
       "    </tr>\n",
       "    <tr>\n",
       "      <th>1982</th>\n",
       "      <td>YEF-I</td>\n",
       "      <td>2.008804e+09</td>\n",
       "      <td>10</td>\n",
       "      <td>NaN</td>\n",
       "      <td>200344811</td>\n",
       "      <td>AUMICO SNC PCI Locatelli Alberto &amp; Andre</td>\n",
       "      <td>CAFFARO GREEN CHEMICALS SRL</td>\n",
       "      <td>CAFFARO GREEN CHEMICALS SRL</td>\n",
       "      <td>YY116</td>\n",
       "      <td>Transmitters</td>\n",
       "      <td>...</td>\n",
       "      <td>1017</td>\n",
       "      <td>0.4543</td>\n",
       "      <td>487</td>\n",
       "      <td>530</td>\n",
       "      <td>0.5211</td>\n",
       "      <td>AUMICO</td>\n",
       "      <td>Indirect</td>\n",
       "      <td>Channel Partner</td>\n",
       "      <td>Channel Partner</td>\n",
       "      <td>Agent</td>\n",
       "    </tr>\n",
       "    <tr>\n",
       "      <th>1983</th>\n",
       "      <td>YEF-I</td>\n",
       "      <td>2.008804e+09</td>\n",
       "      <td>20</td>\n",
       "      <td>NaN</td>\n",
       "      <td>200344811</td>\n",
       "      <td>AUMICO SNC PCI Locatelli Alberto &amp; Andre</td>\n",
       "      <td>CAFFARO GREEN CHEMICALS SRL</td>\n",
       "      <td>CAFFARO GREEN CHEMICALS SRL</td>\n",
       "      <td>YY116</td>\n",
       "      <td>Transmitters</td>\n",
       "      <td>...</td>\n",
       "      <td>540</td>\n",
       "      <td>0.3713</td>\n",
       "      <td>346</td>\n",
       "      <td>195</td>\n",
       "      <td>0.3604</td>\n",
       "      <td>AUMICO</td>\n",
       "      <td>Indirect</td>\n",
       "      <td>Channel Partner</td>\n",
       "      <td>Channel Partner</td>\n",
       "      <td>Agent</td>\n",
       "    </tr>\n",
       "    <tr>\n",
       "      <th>1984</th>\n",
       "      <td>YEF-I</td>\n",
       "      <td>2.008915e+09</td>\n",
       "      <td>10</td>\n",
       "      <td>NaN</td>\n",
       "      <td>200274755</td>\n",
       "      <td>Baglieri Maurizio</td>\n",
       "      <td>BIRLA CARBON ITALY SRL</td>\n",
       "      <td>BIRLA CARBON ITALY SRL</td>\n",
       "      <td>YY116</td>\n",
       "      <td>Transmitters</td>\n",
       "      <td>...</td>\n",
       "      <td>351</td>\n",
       "      <td>0.0028</td>\n",
       "      <td>185</td>\n",
       "      <td>166</td>\n",
       "      <td>0.4717</td>\n",
       "      <td>BAGLIERI MAURIZIO</td>\n",
       "      <td>Indirect</td>\n",
       "      <td>Channel Partner</td>\n",
       "      <td>Channel Partner</td>\n",
       "      <td>Agent</td>\n",
       "    </tr>\n",
       "    <tr>\n",
       "      <th>1985</th>\n",
       "      <td>YEF-I</td>\n",
       "      <td>2.008915e+09</td>\n",
       "      <td>20</td>\n",
       "      <td>NaN</td>\n",
       "      <td>200274755</td>\n",
       "      <td>Baglieri Maurizio</td>\n",
       "      <td>BIRLA CARBON ITALY SRL</td>\n",
       "      <td>BIRLA CARBON ITALY SRL</td>\n",
       "      <td>YY116</td>\n",
       "      <td>Transmitters</td>\n",
       "      <td>...</td>\n",
       "      <td>280</td>\n",
       "      <td>0.1542</td>\n",
       "      <td>45</td>\n",
       "      <td>235</td>\n",
       "      <td>0.8384</td>\n",
       "      <td>BAGLIERI MAURIZIO</td>\n",
       "      <td>Indirect</td>\n",
       "      <td>Channel Partner</td>\n",
       "      <td>Channel Partner</td>\n",
       "      <td>Agent</td>\n",
       "    </tr>\n",
       "  </tbody>\n",
       "</table>\n",
       "<p>1986 rows × 24 columns</p>\n",
       "</div>"
      ],
      "text/plain": [
       "     company_code_n  sales_order_so  so_item   sstp_approval_no  \\\n",
       "0             YEF-A    2.008720e+09       30  VYDA0013-0012-000   \n",
       "1             YEF-A    2.008720e+09       40                NaN   \n",
       "2             YEF-A    2.008720e+09       41                NaN   \n",
       "3             YEF-A    2.008720e+09       42                NaN   \n",
       "4             YEF-A    2.008720e+09       43                NaN   \n",
       "...             ...             ...      ...                ...   \n",
       "1981          YEF-I    2.008743e+09       20                NaN   \n",
       "1982          YEF-I    2.008804e+09       10                NaN   \n",
       "1983          YEF-I    2.008804e+09       20                NaN   \n",
       "1984          YEF-I    2.008915e+09       10                NaN   \n",
       "1985          YEF-I    2.008915e+09       20                NaN   \n",
       "\n",
       "     sold_to_customer                            sales_person_n  \\\n",
       "0           200239154                          Böck Hans-Jürgen   \n",
       "1           200239154                          Böck Hans-Jürgen   \n",
       "2           200239154                          Böck Hans-Jürgen   \n",
       "3           200239154                          Böck Hans-Jürgen   \n",
       "4           200239154                          Böck Hans-Jürgen   \n",
       "...               ...                                       ...   \n",
       "1981        200275006                         Baglieri Maurizio   \n",
       "1982        200344811  AUMICO SNC PCI Locatelli Alberto & Andre   \n",
       "1983        200344811  AUMICO SNC PCI Locatelli Alberto & Andre   \n",
       "1984        200274755                         Baglieri Maurizio   \n",
       "1985        200274755                         Baglieri Maurizio   \n",
       "\n",
       "                 sold_to_customer_n_latest  \\\n",
       "0     Axiom angewandte Prozesstechnik GmbH   \n",
       "1     Axiom angewandte Prozesstechnik GmbH   \n",
       "2     Axiom angewandte Prozesstechnik GmbH   \n",
       "3     Axiom angewandte Prozesstechnik GmbH   \n",
       "4     Axiom angewandte Prozesstechnik GmbH   \n",
       "...                                    ...   \n",
       "1981               ANDRITZ NOVIMPIANTI SRL   \n",
       "1982           CAFFARO GREEN CHEMICALS SRL   \n",
       "1983           CAFFARO GREEN CHEMICALS SRL   \n",
       "1984                BIRLA CARBON ITALY SRL   \n",
       "1985                BIRLA CARBON ITALY SRL   \n",
       "\n",
       "                          ec_eu_customer_n     bu          bu_n  ...  \\\n",
       "0     Axiom angewandte Prozesstechnik GmbH  YY116  Transmitters  ...   \n",
       "1     Axiom angewandte Prozesstechnik GmbH  YY116  Transmitters  ...   \n",
       "2     Axiom angewandte Prozesstechnik GmbH  YY116  Transmitters  ...   \n",
       "3     Axiom angewandte Prozesstechnik GmbH  YY116  Transmitters  ...   \n",
       "4     Axiom angewandte Prozesstechnik GmbH  YY116  Transmitters  ...   \n",
       "...                                    ...    ...           ...  ...   \n",
       "1981           ABC Tissue Products Pty Ltd  YY116  Transmitters  ...   \n",
       "1982           CAFFARO GREEN CHEMICALS SRL  YY116  Transmitters  ...   \n",
       "1983           CAFFARO GREEN CHEMICALS SRL  YY116  Transmitters  ...   \n",
       "1984                BIRLA CARBON ITALY SRL  YY116  Transmitters  ...   \n",
       "1985                BIRLA CARBON ITALY SRL  YY116  Transmitters  ...   \n",
       "\n",
       "     sales_eur discount %  cogs(ms)_eur  gp_eur  Gross Margin  \\\n",
       "0         4965     0.7233          3227    1738        0.3500   \n",
       "1         8084        NaN          4446    3638        0.4500   \n",
       "2         1401        NaN           771     630        0.4500   \n",
       "3         1401        NaN           771     630        0.4500   \n",
       "4         1277        NaN           703     575        0.4500   \n",
       "...        ...        ...           ...     ...           ...   \n",
       "1981       744     0.5927           470     274        0.3682   \n",
       "1982      1017     0.4543           487     530        0.5211   \n",
       "1983       540     0.3713           346     195        0.3604   \n",
       "1984       351     0.0028           185     166        0.4717   \n",
       "1985       280     0.1542            45     235        0.8384   \n",
       "\n",
       "                        customer_name  indirect_direct             tier  \\\n",
       "0     AXIOM ANGEWANDTE PROZESSTECHNIK           Direct  Channel Partner   \n",
       "1     AXIOM ANGEWANDTE PROZESSTECHNIK           Direct  Channel Partner   \n",
       "2     AXIOM ANGEWANDTE PROZESSTECHNIK           Direct  Channel Partner   \n",
       "3     AXIOM ANGEWANDTE PROZESSTECHNIK           Direct  Channel Partner   \n",
       "4     AXIOM ANGEWANDTE PROZESSTECHNIK           Direct  Channel Partner   \n",
       "...                               ...              ...              ...   \n",
       "1981                BAGLIERI MAURIZIO         Indirect  Channel Partner   \n",
       "1982                           AUMICO         Indirect  Channel Partner   \n",
       "1983                           AUMICO         Indirect  Channel Partner   \n",
       "1984                BAGLIERI MAURIZIO         Indirect  Channel Partner   \n",
       "1985                BAGLIERI MAURIZIO         Indirect  Channel Partner   \n",
       "\n",
       "             tier_new   type  \n",
       "0              Direct  Agent  \n",
       "1              Direct  Agent  \n",
       "2              Direct  Agent  \n",
       "3              Direct  Agent  \n",
       "4              Direct  Agent  \n",
       "...               ...    ...  \n",
       "1981  Channel Partner  Agent  \n",
       "1982  Channel Partner  Agent  \n",
       "1983  Channel Partner  Agent  \n",
       "1984  Channel Partner  Agent  \n",
       "1985  Channel Partner  Agent  \n",
       "\n",
       "[1986 rows x 24 columns]"
      ]
     },
     "execution_count": 123,
     "metadata": {},
     "output_type": "execute_result"
    }
   ],
   "source": [
    "full_data"
   ]
  },
  {
   "cell_type": "code",
   "execution_count": null,
   "id": "52e598dd",
   "metadata": {},
   "outputs": [],
   "source": []
  }
 ],
 "metadata": {
  "kernelspec": {
   "display_name": "Python 3 (ipykernel)",
   "language": "python",
   "name": "python3"
  },
  "language_info": {
   "codemirror_mode": {
    "name": "ipython",
    "version": 3
   },
   "file_extension": ".py",
   "mimetype": "text/x-python",
   "name": "python",
   "nbconvert_exporter": "python",
   "pygments_lexer": "ipython3",
   "version": "3.10.9"
  }
 },
 "nbformat": 4,
 "nbformat_minor": 5
}
