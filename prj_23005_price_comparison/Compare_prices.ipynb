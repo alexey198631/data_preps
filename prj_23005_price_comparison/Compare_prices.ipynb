{
 "cells": [
  {
   "cell_type": "code",
   "execution_count": null,
   "id": "4ed6a33e",
   "metadata": {},
   "outputs": [],
   "source": [
    "\"\"\"To use this code I need Query from Access Price book and pricesheet from YGS system\"\"\"\n",
    "\n",
    "import pandas as pd\n",
    "import numpy as np\n",
    "\n",
    "ygs = pd.read_excel('data_files/check_prices.xlsx',sheet_name='txt')\n",
    "pricebook = pd.read_excel('data_files/check_prices.xlsx',sheet_name='Query1')\n",
    "\n",
    "#it is necessary to take Model name , Price and filter df on Characteristic == \"\"\n",
    "\n",
    "ygs1 = ygs.loc[:,['Material/Model', 'Characteristic', 'TLP (Comp)(EUR)']]\n",
    "pricebook1 = pricebook.loc[:,['Model_Model Number', 'Characteristic', 'Price']]\n",
    "\n",
    "main_ygs1 = ygs1[ygs1['Characteristic'].isna()]\n",
    "main_pricebook1 = pricebook1[pricebook1['Characteristic'].isna()]\n",
    "\n",
    "df = main_ygs1.merge(main_pricebook1, how='inner',left_on='Material/Model', right_on='Model_Model Number')\n",
    "\n",
    "writer = pd.ExcelWriter('data_files/pricebookcheck.xlsx', engine='xlsxwriter')\n",
    "df.to_excel(writer, sheet_name='checked')\n",
    "writer.save()"
   ]
  }
 ],
 "metadata": {
  "kernelspec": {
   "display_name": "Python 3 (ipykernel)",
   "language": "python",
   "name": "python3"
  },
  "language_info": {
   "codemirror_mode": {
    "name": "ipython",
    "version": 3
   },
   "file_extension": ".py",
   "mimetype": "text/x-python",
   "name": "python",
   "nbconvert_exporter": "python",
   "pygments_lexer": "ipython3",
   "version": "3.9.12"
  }
 },
 "nbformat": 4,
 "nbformat_minor": 5
}
