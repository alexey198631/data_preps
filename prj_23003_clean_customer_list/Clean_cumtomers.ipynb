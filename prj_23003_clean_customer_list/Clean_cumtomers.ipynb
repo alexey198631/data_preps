{
 "cells": [
  {
   "cell_type": "code",
   "execution_count": null,
   "id": "6c9da0e2",
   "metadata": {},
   "outputs": [],
   "source": [
    "\"\"\"\n",
    "Code for customer cleaning from the table. \n",
    "Main goal is to find and create ONE 'one_name' for one company but with different variants of:\n",
    "\n",
    "1. Company ID (sold_to_customer), \n",
    "2. Name spellings (sold_to_customer_n), \n",
    "\n",
    "['Customer' - sold_to_customer, 'Customer Name' - sold_to_customer_n]\n",
    "\n",
    "\"\"\""
   ]
  },
  {
   "cell_type": "code",
   "execution_count": 1,
   "id": "f3239ee0",
   "metadata": {},
   "outputs": [],
   "source": [
    "import pandas as pd\n",
    "import numpy as np\n",
    "from collections import Counter\n",
    "\n",
    "customer = pd.read_excel('data_files/cust.xlsx',sheet_name='Sheet1')\n",
    "workable = customer.copy()\n",
    "workable['sold_to_customer_n'] = workable['Customer Name'].str.replace('\\-|\\,|\\.|\\\"|\\-|\\(|\\)' , \" \", regex = True)\n",
    "workable['NEXT'] = workable['Customer Name'].str.replace(\"\\)|\\(|-|\\,\", \" \", regex = True)\n",
    "workable['UPPER'] = workable['NEXT'].str.upper().str.strip()\n",
    "workable['LISTS'] = workable['UPPER'].str.split()"
   ]
  },
  {
   "cell_type": "code",
   "execution_count": 2,
   "id": "18154143",
   "metadata": {},
   "outputs": [],
   "source": [
    "full = []\n",
    "for i in range(len(workable)):\n",
    "    l = workable.iloc[i, 5]\n",
    "    lenght_l = len(workable.iloc[i, 5])\n",
    "    if len(l[lenght_l - 1]) <= 7:\n",
    "        full = full + [l[lenght_l - 1]]\n",
    "        \n",
    "x = Counter(full)\n",
    "understand_better = pd.DataFrame.from_dict(x, orient='index')\n",
    "writer = pd.ExcelWriter('data_files/understand_better.xlsx', engine='xlsxwriter')\n",
    "understand_better.to_excel(writer, sheet_name='1')\n",
    "writer.save()"
   ]
  }
 ],
 "metadata": {
  "kernelspec": {
   "display_name": "Python 3 (ipykernel)",
   "language": "python",
   "name": "python3"
  },
  "language_info": {
   "codemirror_mode": {
    "name": "ipython",
    "version": 3
   },
   "file_extension": ".py",
   "mimetype": "text/x-python",
   "name": "python",
   "nbconvert_exporter": "python",
   "pygments_lexer": "ipython3",
   "version": "3.9.12"
  }
 },
 "nbformat": 4,
 "nbformat_minor": 5
}
