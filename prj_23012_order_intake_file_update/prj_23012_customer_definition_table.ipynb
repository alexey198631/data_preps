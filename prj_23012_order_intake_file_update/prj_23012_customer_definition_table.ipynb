{
 "cells": [
  {
   "cell_type": "code",
   "execution_count": 2,
   "id": "aa16cd3e",
   "metadata": {},
   "outputs": [],
   "source": [
    "import openpyxl\n",
    "import pandas as pd"
   ]
  },
  {
   "cell_type": "code",
   "execution_count": 6,
   "id": "f995c1bd",
   "metadata": {},
   "outputs": [],
   "source": [
    "file_name = 'data_files/customers.xlsx'\n",
    "\n",
    "# Load the workbook\n",
    "workbook = openpyxl.load_workbook('data_files/customers.xlsx')"
   ]
  },
  {
   "cell_type": "code",
   "execution_count": 7,
   "id": "3667eb04",
   "metadata": {},
   "outputs": [
    {
     "name": "stdout",
     "output_type": "stream",
     "text": [
      "custumer_definition_table\n"
     ]
    }
   ],
   "source": [
    "# Get the names of the sheets\n",
    "sheet_names = workbook.sheetnames\n",
    "\n",
    "# Print the names of the sheets\n",
    "for sheet_name in sheet_names:\n",
    "    print(sheet_name)"
   ]
  },
  {
   "cell_type": "code",
   "execution_count": 22,
   "id": "9f42b774",
   "metadata": {},
   "outputs": [],
   "source": [
    "# Convert the sheet to a Pandas dataframe\n",
    "df = pd.read_excel(file_name, sheet_name='custumer_definition_table')"
   ]
  },
  {
   "cell_type": "code",
   "execution_count": 24,
   "id": "0827efab",
   "metadata": {},
   "outputs": [],
   "source": [
    "wdf = df.copy()"
   ]
  },
  {
   "cell_type": "code",
   "execution_count": 25,
   "id": "f7829643",
   "metadata": {},
   "outputs": [],
   "source": [
    "wdfs = wdf.loc[:, ['sold_to_customer', 'sold_to_customer_n', 'customer_name', 'indirect_direct', 'channel', 'type']]"
   ]
  },
  {
   "cell_type": "code",
   "execution_count": 26,
   "id": "e1b59721",
   "metadata": {},
   "outputs": [
    {
     "name": "stdout",
     "output_type": "stream",
     "text": [
      "sold_to_customer contains only unique values\n"
     ]
    }
   ],
   "source": [
    "# Check if column1 contains only unique values\n",
    "if wdfs['sold_to_customer'].is_unique:\n",
    "    print(\"sold_to_customer contains only unique values\")\n",
    "else:\n",
    "    print(\"sold_to_customer contains non-unique values\")"
   ]
  },
  {
   "cell_type": "code",
   "execution_count": null,
   "id": "5fe10374",
   "metadata": {},
   "outputs": [],
   "source": [
    "# Group the data by company name and count the number of unique type combinations\n",
    "counts = df.groupby('sold_to_customer_n')['indirect_direct', 'channel', 'type'].apply(lambda x: x.drop_duplicates().nunique())"
   ]
  },
  {
   "cell_type": "code",
   "execution_count": 28,
   "id": "93bc829b",
   "metadata": {},
   "outputs": [],
   "source": [
    "# Count the number of companies that have different type combinations\n",
    "num_companies = (counts['indirect_direct'] > 1) | (counts['channel'] > 1 | (counts['type'] > 1))\n",
    "num_companies = num_companies.sum()"
   ]
  },
  {
   "cell_type": "code",
   "execution_count": 18,
   "id": "10a0c5c4",
   "metadata": {},
   "outputs": [],
   "source": [
    "writer = pd.ExcelWriter(f'data_files/counts.xlsx')\n",
    "counts.to_excel(writer, sheet_name='time')\n",
    "writer.close()"
   ]
  },
  {
   "cell_type": "code",
   "execution_count": null,
   "id": "d34c99ef",
   "metadata": {},
   "outputs": [],
   "source": [
    "# Group the data by company name and count the number of unique type combinations\n",
    "counts_cn = df.groupby('customer_name')['indirect_direct', 'channel', 'type'].apply(lambda x: x.drop_duplicates().nunique())\n",
    "# Count the number of companies that have different type combinations\n",
    "num_companies_cn = (counts_cn['indirect_direct'] > 1) | (counts_cn['channel'] > 1 | (counts_cn['type'] > 1))\n",
    "writer = pd.ExcelWriter(f'data_files/countscn.xlsx')\n",
    "counts_cn.to_excel(writer, sheet_name='time')\n",
    "writer.close()\n",
    "num_companies_cn = num_companies_cn.sum()\n",
    "num_companies_cn"
   ]
  }
 ],
 "metadata": {
  "kernelspec": {
   "display_name": "Python 3 (ipykernel)",
   "language": "python",
   "name": "python3"
  },
  "language_info": {
   "codemirror_mode": {
    "name": "ipython",
    "version": 3
   },
   "file_extension": ".py",
   "mimetype": "text/x-python",
   "name": "python",
   "nbconvert_exporter": "python",
   "pygments_lexer": "ipython3",
   "version": "3.10.9"
  }
 },
 "nbformat": 4,
 "nbformat_minor": 5
}
