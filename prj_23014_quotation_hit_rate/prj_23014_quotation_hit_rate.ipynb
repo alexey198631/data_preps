{
 "cells": [
  {
   "cell_type": "code",
   "execution_count": 1,
   "id": "a18d5214",
   "metadata": {},
   "outputs": [],
   "source": [
    "import pandas as pd\n",
    "\n",
    "# Construct file path\n",
    "file_path = \"data_files/Quotations.xlsx\"\n",
    "\n",
    "# Read xlsx file into pandas DataFrame\n",
    "quots_df = pd.read_excel(file_path)"
   ]
  },
  {
   "cell_type": "code",
   "execution_count": 3,
   "id": "b9fb341b",
   "metadata": {},
   "outputs": [],
   "source": [
    "# Construct file path\n",
    "file_path_customers = \"data_files/Customers.xlsx\"\n",
    "\n",
    "# Read xlsx file into pandas DataFrame\n",
    "customers_df = pd.read_excel(file_path_customers)"
   ]
  },
  {
   "cell_type": "code",
   "execution_count": 27,
   "id": "17c5fdbb",
   "metadata": {},
   "outputs": [],
   "source": [
    "quots_df_light = quots_df.loc[:, ['Quotation No.', 'Sales Document No.', 'MS code', 'Cumulative order quantity in sales units', 'Sold-to party','Name: Sold-to party', 'First Date (First Line)','Document Date (date received/sent)','BU']]\n",
    "quots_df_light['year_month'] = quots_df_light['Document Date (date received/sent)'].dt.year.astype(str) + quots_df_light['Document Date (date received/sent)'].dt.month.apply(lambda x: f'{x:02}')\n",
    "\n",
    "# extract year and month from year_month column\n",
    "quots_df_light['year'] = quots_df_light['year_month'].str[:4].astype(int)\n",
    "quots_df_light['month'] = quots_df_light['year_month'].str[4:].astype(int)\n",
    "\n",
    "# calculate fiscal year based on month value\n",
    "quots_df_light['fiscal_year'] = (quots_df_light['year'] + ((quots_df_light['month'] >= 4) * 1) - 1).astype(str).str[-2:]\n",
    "quots_df_light['fiscal_year'] = 'FY' + quots_df_light['fiscal_year'].astype(str)\n",
    "\n",
    "quots_df_light = quots_df_light.loc[:, ['Quotation No.', 'Sales Document No.', 'Sold-to party','Name: Sold-to party', 'fiscal_year']]"
   ]
  },
  {
   "cell_type": "code",
   "execution_count": 29,
   "id": "d0519563",
   "metadata": {},
   "outputs": [],
   "source": [
    "quots_df_light = quots_df_light.rename(columns={'Sold-to party':'sold_to_customer'})"
   ]
  },
  {
   "cell_type": "code",
   "execution_count": 30,
   "id": "1279bb94",
   "metadata": {},
   "outputs": [],
   "source": [
    "customers_df['sold_to_customer'] = customers_df['sold_to_customer'].astype(str)\n",
    "quots_df_light['sold_to_customer'] = quots_df_light['sold_to_customer'].str.strip()\n",
    "customers_df['sold_to_customer'] = customers_df['sold_to_customer'].astype(str)\n",
    "quots_df_light['sold_to_customer'] = quots_df_light['sold_to_customer'].str.strip()"
   ]
  },
  {
   "cell_type": "code",
   "execution_count": 31,
   "id": "502c4b8a",
   "metadata": {},
   "outputs": [],
   "source": [
    "merged_df = quots_df_light.merge(customers_df[['sold_to_customer', 'customer_name', 'indirect_direct', 'channel','company_code_n']], on='sold_to_customer',how='left')"
   ]
  },
  {
   "cell_type": "code",
   "execution_count": 32,
   "id": "d9e45b63",
   "metadata": {},
   "outputs": [],
   "source": [
    "count_df = merged_df.groupby(['fiscal_year', 'sold_to_customer']).agg({'Quotation No.': 'nunique', 'Sales Document No.': 'nunique'})"
   ]
  },
  {
   "cell_type": "code",
   "execution_count": 35,
   "id": "7bed5260",
   "metadata": {},
   "outputs": [],
   "source": [
    "unique_so = merged_df.groupby(['fiscal_year', 'sold_to_customer'])['Sales Document No.'].nunique(dropna='True').reset_index()\n",
    "unique_so = unique_so.rename(columns={'Sales Document No.': 'SO qty'})\n",
    "unique_quote = merged_df.groupby(['fiscal_year', 'sold_to_customer'])['Quotation No.'].nunique(dropna='True').reset_index()\n",
    "unique_quote = unique_quote.rename(columns={'Quotation No.': 'Quote qty'})"
   ]
  },
  {
   "cell_type": "code",
   "execution_count": 36,
   "id": "1b548533",
   "metadata": {},
   "outputs": [],
   "source": [
    "merged_df = merged_df.merge(unique_so, on='sold_to_customer',how='left')\n",
    "merged_df = merged_df.merge(unique_quote, on='sold_to_customer',how='left')"
   ]
  },
  {
   "cell_type": "code",
   "execution_count": 22,
   "id": "9c3e14b0",
   "metadata": {},
   "outputs": [],
   "source": [
    "# Create an ExcelWriter object\n",
    "writer = pd.ExcelWriter('data_files/temp.xlsx')\n",
    "# Save each DataFrame to a separate sheet in the same file\n",
    "merged_df.to_excel(writer, sheet_name='temp')\n",
    "# Save the file\n",
    "writer.close()"
   ]
  },
  {
   "cell_type": "code",
   "execution_count": 40,
   "id": "885500d8",
   "metadata": {},
   "outputs": [],
   "source": [
    "# Create an ExcelWriter object\n",
    "writer = pd.ExcelWriter('data_files/temp.xlsx')\n",
    "# Save each DataFrame to a separate sheet in the same file\n",
    "unique_so.to_excel(writer, sheet_name='unique_so')\n",
    "unique_quote.to_excel(writer, sheet_name='unique_quote')\n",
    "# Save the file\n",
    "writer.close()"
   ]
  },
  {
   "cell_type": "code",
   "execution_count": 42,
   "id": "e33b48ea",
   "metadata": {},
   "outputs": [],
   "source": [
    "# Construct file path\n",
    "file_path_orders = \"data_files/Orders.xlsx\"\n",
    "\n",
    "# Read xlsx file into pandas DataFrame\n",
    "orders_df = pd.read_excel(file_path_orders)"
   ]
  },
  {
   "cell_type": "code",
   "execution_count": 43,
   "id": "93421411",
   "metadata": {},
   "outputs": [],
   "source": [
    "# Construct file path\n",
    "file_path_quots = \"data_files/Quotations_t.xlsx\"\n",
    "\n",
    "# Read xlsx file into pandas DataFrame\n",
    "second_quots_df = pd.read_excel(file_path_quots)"
   ]
  },
  {
   "cell_type": "code",
   "execution_count": 50,
   "id": "b6626388",
   "metadata": {},
   "outputs": [],
   "source": [
    "orders_df_light = orders_df.loc[:, ['company_code_n', 'year_month', 'sales_order_so', 'sold_to_customer']]\n",
    "\n",
    "# extract year and month from year_month column\n",
    "orders_df_light['year_month'] = orders_df_light['year_month'].astype(str)\n",
    "orders_df_light['year'] = orders_df_light['year_month'].str[:4].astype(int)\n",
    "orders_df_light['month'] = orders_df_light['year_month'].str[4:].astype(int)\n",
    "\n",
    "# calculate fiscal year based on month value\n",
    "orders_df_light['fiscal_year'] = (orders_df_light['year'] + ((orders_df_light['month'] >= 4) * 1) - 1).astype(str).str[-2:]\n",
    "orders_df_light['fiscal_year'] = 'FY' + orders_df_light['fiscal_year'].astype(str)\n",
    "\n",
    "orders_df_light = orders_df_light.loc[:, ['fiscal_year', 'company_code_n', 'sales_order_so', 'sold_to_customer']]"
   ]
  },
  {
   "cell_type": "code",
   "execution_count": 56,
   "id": "6b343232",
   "metadata": {},
   "outputs": [],
   "source": [
    "second_quots_df['so_created_no'] = second_quots_df['so_created_no'].fillna(0).astype(int)"
   ]
  },
  {
   "cell_type": "code",
   "execution_count": 60,
   "id": "2a45afb1",
   "metadata": {},
   "outputs": [],
   "source": [
    "second_quots_df = second_quots_df.loc[:, ['quotation_no', 'Year of quotation_date', 'so_created_no', 'sold_to_customer']]"
   ]
  },
  {
   "cell_type": "code",
   "execution_count": null,
   "id": "74601df4",
   "metadata": {},
   "outputs": [],
   "source": [
    "# Drop duplicate values in column A and create new dataframe with columns A and B\n",
    "new_df = second_quots_df.drop_duplicates()\n",
    "new_df['sold_to_customer'] = new_df['sold_to_customer'].astype(str)\n",
    "new_df['sold_to_customer'] = new_df['sold_to_customer'].str.strip()\n",
    "new_df['one'] = 1\n",
    "\n",
    "customers_df['sold_to_customer'] = customers_df['sold_to_customer'].astype(str)\n",
    "customers_df['sold_to_customer'] = customers_df['sold_to_customer'].str.strip()"
   ]
  },
  {
   "cell_type": "code",
   "execution_count": 90,
   "id": "52725338",
   "metadata": {},
   "outputs": [],
   "source": [
    "# Select rows from df1 where column C values match column A values in df2\n",
    "new_df = new_df[new_df['sold_to_customer'].isin(customers_df['sold_to_customer'])]"
   ]
  },
  {
   "cell_type": "code",
   "execution_count": 93,
   "id": "1256dcb8",
   "metadata": {},
   "outputs": [],
   "source": [
    "# Create an ExcelWriter object\n",
    "writer = pd.ExcelWriter('data_files/temp.xlsx')\n",
    "# Save each DataFrame to a separate sheet in the same file\n",
    "new_df.to_excel(writer, sheet_name='temp')\n",
    "# Save the file\n",
    "writer.close()"
   ]
  },
  {
   "cell_type": "code",
   "execution_count": null,
   "id": "42657b85",
   "metadata": {},
   "outputs": [],
   "source": [
    "new_df = second_quots_df.drop_duplicates()\n",
    "new_df['sold_to_customer'] = new_df['sold_to_customer'].astype(str)\n",
    "new_df['sold_to_customer'] = new_df['sold_to_customer'].str.strip()\n",
    "\n",
    "customers_df['sold_to_customer'] = customers_df['sold_to_customer'].astype(str)\n",
    "customers_df['sold_to_customer'] = customers_df['sold_to_customer'].str.strip()\n",
    "\n",
    "result_df = new_df[~new_df['sold_to_customer'].isin(customers_df['sold_to_customer'])]\n",
    "\n",
    "# Create an ExcelWriter object\n",
    "writer = pd.ExcelWriter('data_files/temp2.xlsx')\n",
    "# Save each DataFrame to a separate sheet in the same file\n",
    "result_df.to_excel(writer, sheet_name='temp')\n",
    "# Save the file\n",
    "writer.close()"
   ]
  },
  {
   "cell_type": "code",
   "execution_count": null,
   "id": "ff62c14f",
   "metadata": {},
   "outputs": [],
   "source": [
    "all_so = orders_df_light.drop_duplicates(subset=['sales_order_so'],keep='first')\n",
    "print(len(all_so))\n",
    "all_so['sales_order_so'] = all_so['sales_order_so'].astype(str)\n",
    "all_so = orders_df_light.drop_duplicates(subset=['sales_order_so'],keep='first')\n",
    "all_so['sales_order_so'] = all_so['sales_order_so'].astype(str)\n",
    "print(len(all_so))\n",
    "\n",
    "quots_help = second_quots_df[['so_created_no', 'quotation_no']]\n",
    "quots_help = quots_help.drop_duplicates(subset=['so_created_no'],keep='first')\n",
    "quots_help = quots_help.drop(quots_help[quots_help['so_created_no'] == 0].index)\n",
    "quots_help['so_created_no'] = quots_help['so_created_no'].astype(str)\n",
    "quots_help = quots_help.rename(columns={'so_created_no': 'sales_order_so'})"
   ]
  },
  {
   "cell_type": "code",
   "execution_count": 151,
   "id": "072a62e3",
   "metadata": {},
   "outputs": [],
   "source": [
    "merge_all_so = all_so.merge(quots_help, on='sales_order_so', how='left')"
   ]
  },
  {
   "cell_type": "code",
   "execution_count": 154,
   "id": "89228430",
   "metadata": {},
   "outputs": [],
   "source": [
    "# Create an ExcelWriter object\n",
    "writer = pd.ExcelWriter('data_files/temp3.xlsx')\n",
    "# Save each DataFrame to a separate sheet in the same file\n",
    "merge_all_so.to_excel(writer, sheet_name='temp3')\n",
    "# Save the file\n",
    "writer.close()"
   ]
  },
  {
   "cell_type": "code",
   "execution_count": null,
   "id": "9550c432",
   "metadata": {},
   "outputs": [],
   "source": [
    "result_df = merge_all_so['quotation_no'].isna().groupby(merge_all_so['fiscal_year']).sum().astype(int)\n",
    "print(result_df)"
   ]
  },
  {
   "cell_type": "code",
   "execution_count": 159,
   "id": "b8d3ec35",
   "metadata": {},
   "outputs": [],
   "source": [
    "second_quots_df['counts'] = 1"
   ]
  },
  {
   "cell_type": "code",
   "execution_count": 163,
   "id": "6e9e7d01",
   "metadata": {},
   "outputs": [],
   "source": [
    "second_quots_df_no_dubl = second_quots_df.drop_duplicates(subset=['quotation_no'],keep='first')"
   ]
  },
  {
   "cell_type": "code",
   "execution_count": 164,
   "id": "564e3efe",
   "metadata": {},
   "outputs": [],
   "source": [
    "quots_count_df = second_quots_df_no_dubl['counts'].groupby(second_quots_df_no_dubl['Year of quotation_date']).sum().astype(int)"
   ]
  },
  {
   "cell_type": "code",
   "execution_count": 166,
   "id": "d8630141",
   "metadata": {},
   "outputs": [],
   "source": [
    "second_quots_df_no_dubl_so = second_quots_df.drop_duplicates(subset=['so_created_no'],keep='first')"
   ]
  },
  {
   "cell_type": "code",
   "execution_count": 168,
   "id": "8bf22695",
   "metadata": {},
   "outputs": [],
   "source": [
    "second_quots_df_no_dubl_so = second_quots_df_no_dubl_so[second_quots_df_no_dubl_so['so_created_no'] != 0]"
   ]
  },
  {
   "cell_type": "code",
   "execution_count": 170,
   "id": "0e050fab",
   "metadata": {},
   "outputs": [],
   "source": [
    "so_count_df = second_quots_df_no_dubl_so['counts'].groupby(second_quots_df_no_dubl_so['Year of quotation_date']).sum().astype(int)"
   ]
  },
  {
   "cell_type": "code",
   "execution_count": null,
   "id": "07ca4407",
   "metadata": {},
   "outputs": [],
   "source": [
    "all_so['counts'] = 1\n",
    "so_count_df_full = all_so['counts'].groupby(all_so['fiscal_year']).sum().astype(int)"
   ]
  }
 ],
 "metadata": {
  "kernelspec": {
   "display_name": "Python 3 (ipykernel)",
   "language": "python",
   "name": "python3"
  },
  "language_info": {
   "codemirror_mode": {
    "name": "ipython",
    "version": 3
   },
   "file_extension": ".py",
   "mimetype": "text/x-python",
   "name": "python",
   "nbconvert_exporter": "python",
   "pygments_lexer": "ipython3",
   "version": "3.10.9"
  }
 },
 "nbformat": 4,
 "nbformat_minor": 5
}
