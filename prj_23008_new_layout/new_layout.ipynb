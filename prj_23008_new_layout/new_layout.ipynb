{
 "cells": [
  {
   "cell_type": "code",
   "execution_count": 22,
   "id": "fca60500",
   "metadata": {},
   "outputs": [],
   "source": [
    "\"\"\"\n",
    "main purpose to create a better table for pivoting. \n",
    "\n",
    "From initial table I want to create table with information for each company which represented by\n",
    "\n",
    "columns: 'Partner', 'Type', 'Country', 'OPCO'\n",
    "\n",
    "regarding numbers in the columns: 'Transmitters', 'Flowmeters',\n",
    "       'Analytics', 'Control Instruments', 'Recorders', 'Asset Sensor',\n",
    "       'Systems', 'ADS', 'T&M', 'Service', 'Other'\n",
    "\n",
    "Thus, for a company it will be added new row with values from each columns = 11 rows in total.\n",
    "\n",
    "Also I've implemented 'if' to check whether my total sum equals total sum for new_layout file.\n",
    "If totals are the same, code creates final file and save it in data_files/\n",
    "\n",
    "\"\"\"\n",
    "\n",
    "import pandas as pd\n",
    "import numpy as np\n",
    "\n",
    "source = pd.read_excel('data_files/for_new_layout.xlsx', sheet_name='BU report')\n",
    "# the last row includes total sum, so it shoul be kept for checking and droped\n",
    "last_value = source.loc[source.index[-1], \"TOTAL\"]\n",
    "source = source.iloc[:source.index[-1], :]"
   ]
  },
  {
   "cell_type": "code",
   "execution_count": 23,
   "id": "ca32ddb4",
   "metadata": {},
   "outputs": [
    {
     "name": "stdout",
     "output_type": "stream",
     "text": [
      "Everything is ok\n"
     ]
    }
   ],
   "source": [
    "new_layout = pd.melt(source, id_vars =['Partner', 'Type', 'Country', 'OPCO'], value_vars =['Transmitters', 'Flowmeters',\n",
    "       'Analytics', 'Control Instruments', 'Recorders', 'Asset Sensor',\n",
    "       'Systems', 'ADS', 'T&M', 'Service', 'Other'])\n",
    "\n",
    "column_sum = new_layout[\"value\"].sum()\n",
    "\n",
    "if round(last_value,2) == round(column_sum,2):\n",
    "    print('Everything is ok')\n",
    "    writer = pd.ExcelWriter('data_files/new_layout.xlsx', engine='xlsxwriter')\n",
    "    new_layout.to_excel(writer, sheet_name='data')\n",
    "    writer.save()\n",
    "else:\n",
    "    print('Something is wrong')"
   ]
  },
  {
   "cell_type": "code",
   "execution_count": null,
   "id": "32bf8f55",
   "metadata": {},
   "outputs": [],
   "source": []
  }
 ],
 "metadata": {
  "kernelspec": {
   "display_name": "Python 3 (ipykernel)",
   "language": "python",
   "name": "python3"
  },
  "language_info": {
   "codemirror_mode": {
    "name": "ipython",
    "version": 3
   },
   "file_extension": ".py",
   "mimetype": "text/x-python",
   "name": "python",
   "nbconvert_exporter": "python",
   "pygments_lexer": "ipython3",
   "version": "3.9.12"
  }
 },
 "nbformat": 4,
 "nbformat_minor": 5
}
