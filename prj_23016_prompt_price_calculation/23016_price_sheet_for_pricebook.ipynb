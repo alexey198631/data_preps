{
 "cells": [
  {
   "cell_type": "code",
   "execution_count": 1,
   "id": "88839c2d",
   "metadata": {},
   "outputs": [],
   "source": [
    "import pandas as pd\n",
    "import numpy as np\n",
    "import re"
   ]
  },
  {
   "cell_type": "code",
   "execution_count": 2,
   "id": "92800aa4",
   "metadata": {},
   "outputs": [],
   "source": [
    "# Read ygs.txt into a dataframe\n",
    "#price_of_products_df = pd.read_excel('data_files/ygs.xlsx')\n",
    "price_of_products_df = pd.read_excel('data_files/ygs_.xlsx')\n",
    "\n",
    "pricebook_df = pd.read_excel('data_files/pbquery.xlsx')"
   ]
  },
  {
   "cell_type": "code",
   "execution_count": 3,
   "id": "acab6bc7",
   "metadata": {},
   "outputs": [],
   "source": [
    "price_of_products_df.reset_index(inplace=True)"
   ]
  },
  {
   "cell_type": "code",
   "execution_count": 4,
   "id": "df7aa121",
   "metadata": {},
   "outputs": [],
   "source": [
    "wrong_positions = price_of_products_df[price_of_products_df['Curr.'] != 'EUR']"
   ]
  },
  {
   "cell_type": "code",
   "execution_count": 5,
   "id": "e0695c1e",
   "metadata": {},
   "outputs": [],
   "source": [
    "wrong1 = wrong_positions[wrong_positions['Column1'] == 'EUR']\n",
    "\n",
    "wrong2 = wrong_positions[wrong_positions['Column1'].isna()]\n",
    "\n",
    "wrong_temp = wrong_positions[~wrong_positions['Column1'].isna()]\n",
    "\n",
    "wrong3 = wrong_temp[wrong_temp['Column1'] != 'EUR']"
   ]
  },
  {
   "cell_type": "code",
   "execution_count": 6,
   "id": "33083a59",
   "metadata": {},
   "outputs": [
    {
     "data": {
      "text/plain": [
       "True"
      ]
     },
     "execution_count": 6,
     "metadata": {},
     "output_type": "execute_result"
    }
   ],
   "source": [
    "len(wrong_positions) == len(wrong1) + len(wrong2) + len(wrong3)"
   ]
  },
  {
   "cell_type": "code",
   "execution_count": null,
   "id": "111c1148",
   "metadata": {},
   "outputs": [],
   "source": [
    "# fixing first wrong data\n",
    "\n",
    "# Shift the values in each column by 1\n",
    "wrong1['Value'] = wrong1['Description_2'] \n",
    "wrong1['Description_2'] = wrong1['Del. Time'] \n",
    "wrong1['Del. Time'] = wrong1['Min.Order qty']\n",
    "wrong1['DLP'] = wrong1['Curr.']\n",
    "wrong1['Curr.'] = wrong1['Column1']\n",
    "wrong1['Column1'] = \"\"\n",
    "\n",
    "wrong1['DLP'] = wrong1['DLP'].astype(str)\n",
    "wrong1['DLP'] = wrong1['DLP'].str.strip()"
   ]
  },
  {
   "cell_type": "code",
   "execution_count": null,
   "id": "688381d7",
   "metadata": {},
   "outputs": [],
   "source": [
    "# Create a copy of the DataFrame slice using .copy()\n",
    "wrong1_copy = wrong1.loc[:, 'Value'].copy()\n",
    "\n",
    "# Assign values from 'Description_2' column to the copied 'Value' column\n",
    "wrong1_copy.loc[:] = wrong1.loc[:, 'Description_2']\n",
    "\n",
    "# Update the original DataFrame with the modified copy\n",
    "wrong1.loc[:, 'Value'] = wrong1_copy"
   ]
  },
  {
   "cell_type": "code",
   "execution_count": 9,
   "id": "89154302",
   "metadata": {},
   "outputs": [],
   "source": [
    "# fixing wrong data #2 \n",
    "\n",
    "wrong2 = wrong2.dropna(axis=1)\n",
    "wrong2[['Description', 'Characteristic', 'Description_1', 'Value', 'Description_2',\n",
    "       'Del. Time', 'Min.Order qty', 'DLP', 'Curr.', 'Column1', '_3']] = wrong2['Description'].str.split('\\t', expand=True)\n",
    "\n",
    "wrong2['DLP'] = wrong2['DLP'].astype(str)\n",
    "wrong2['DLP'] = wrong2['DLP'].str.strip()"
   ]
  },
  {
   "cell_type": "code",
   "execution_count": null,
   "id": "5a2e8edb",
   "metadata": {},
   "outputs": [],
   "source": [
    "# fixing the third case of wrong data\n",
    "\n",
    "# Split the column value into two columns\n",
    "wrong3['Description_2'] = wrong3['Curr.']\n",
    "\n",
    "split_values = wrong3['Curr.'].str.split(' ', 1, expand=True)\n",
    "wrong3['Value'] = split_values.iloc[:, 0]\n",
    "\n",
    "wrong3['DLP'] = wrong3['_3']\n",
    "wrong3['Min.Order qty'] = wrong3['Column1']\n",
    "wrong3['Curr.'] = 'EUR'\n",
    "\n",
    "wrong3['DLP'] = wrong3['DLP'].astype(str)\n",
    "wrong3['DLP'] = wrong3['DLP'].str.strip()"
   ]
  },
  {
   "cell_type": "code",
   "execution_count": 11,
   "id": "d24d82cf",
   "metadata": {},
   "outputs": [],
   "source": [
    "right_positions = price_of_products_df[~(price_of_products_df['Curr.'] != 'EUR')]"
   ]
  },
  {
   "cell_type": "code",
   "execution_count": 12,
   "id": "a437ed7c",
   "metadata": {},
   "outputs": [],
   "source": [
    "final = pd.concat([right_positions, wrong1, wrong2, wrong3])\n",
    "final_int = final.copy()"
   ]
  },
  {
   "cell_type": "code",
   "execution_count": 23,
   "id": "88071787",
   "metadata": {},
   "outputs": [],
   "source": [
    "final = final_int.copy()"
   ]
  },
  {
   "cell_type": "code",
   "execution_count": 15,
   "id": "751c8f26",
   "metadata": {},
   "outputs": [
    {
     "data": {
      "text/plain": [
       "Index(['Model Number', 'Group', 'Product Hierarchy', 'Model Description',\n",
       "       'Characteristic', 'Characteristic Characteristic', 'Option',\n",
       "       'Option Description', 'Price'],\n",
       "      dtype='object')"
      ]
     },
     "execution_count": 15,
     "metadata": {},
     "output_type": "execute_result"
    }
   ],
   "source": [
    "pricebook_df.columns"
   ]
  },
  {
   "cell_type": "code",
   "execution_count": 24,
   "id": "a52eea0c",
   "metadata": {},
   "outputs": [],
   "source": [
    "final = final.sort_values(by='index')\n",
    "\"\"\"final = final.loc[:, ['Material/Model', 'Product Hierarchy', 'Description',\n",
    "       'Characteristic', 'Description_1', 'Value', 'Description_2',\n",
    "       'Del. Time', 'Min.Order qty', 'DLP', 'Curr.']]\"\"\"\n",
    "\n",
    "final = final.rename(columns={'Material/Model': 'Model Number', \n",
    "                        'Description': 'Model Description',                          \n",
    "                        'Description_1': 'Characteristic Description', \n",
    "                         'Description_2': 'Option Description',\n",
    "                        'Value': 'Option',\n",
    "                        'Del. Time': 'Del Time',\n",
    "                        'DLP': 'Price'})\n",
    "\n",
    "# extract the first 5 characters of the 'BU' column\n",
    "final['Group'] = final['Product Hierarchy'].str.slice(stop=5)\n",
    "\n",
    "\n",
    "# keep only the desired columns\n",
    "final = final[['Model Number', 'Group',  'Product Hierarchy', 'Model Description', 'Characteristic', 'Characteristic Description', 'Option', 'Option Description', 'Del Time','Price']]\n",
    "\n",
    "final['Characteristic'] = final['Characteristic'].astype('str')\n",
    "# update values\n",
    "#final['Characteristic'] = final['Characteristic'].apply(lambda x: x.split('_', 1)[1] if '_' in x else x)\n",
    "\n",
    "final['Option'] = final['Option'].astype('str')\n",
    "final['Option Description'] = final['Option Description'].astype('str')\n",
    "\n",
    "# Replace 'nan' values with None in a specific column\n",
    "final['Characteristic'] = final['Characteristic'].replace('nan', np.nan)\n",
    "final['Option'] = final['Option'].replace('nan', np.nan)\n",
    "final['Option Description'] = final['Option Description'].replace('nan', np.nan)\n",
    "\n",
    "final = final.reset_index()"
   ]
  },
  {
   "cell_type": "code",
   "execution_count": null,
   "id": "f1a8c279",
   "metadata": {},
   "outputs": [],
   "source": [
    "# Convert string values to float in a specific column and create a mask for errors\n",
    "mask = pd.to_numeric(final['Price'], errors='coerce').isna()\n",
    "\n",
    "# Filter the DataFrame to include only the rows with errors\n",
    "error_df = final[mask]\n",
    "normal_df = final[~mask]\n",
    "\n",
    "normal_df['Price'] = pd.to_numeric(normal_df['Price'], errors='coerce')\n",
    "\n",
    "error_df['Price'] = error_df['Price'].str.replace('.','').str.replace('-', '').str.replace(',', '.').astype(float)"
   ]
  },
  {
   "cell_type": "code",
   "execution_count": 26,
   "id": "10e098d7",
   "metadata": {},
   "outputs": [],
   "source": [
    "final = pd.concat([normal_df, error_df])\n",
    "final = final.sort_values(by='index')\n",
    "# keep only positions which were in the previous version\n",
    "models = list(pricebook_df['Model Number'].unique())\n",
    "final = final[final['Model Number'].isin(models)]\n",
    "final = final.reset_index(drop=True)"
   ]
  },
  {
   "cell_type": "code",
   "execution_count": 37,
   "id": "549f9df3",
   "metadata": {},
   "outputs": [],
   "source": [
    "final = final.loc[:, 'Model Number':]\n",
    "writer = pd.ExcelWriter('data_files/final_for_pb.xlsx')\n",
    "final.to_excel(writer, sheet_name='pricesheet', index=False)\n",
    "writer.close()"
   ]
  }
 ],
 "metadata": {
  "kernelspec": {
   "display_name": "Python 3 (ipykernel)",
   "language": "python",
   "name": "python3"
  },
  "language_info": {
   "codemirror_mode": {
    "name": "ipython",
    "version": 3
   },
   "file_extension": ".py",
   "mimetype": "text/x-python",
   "name": "python",
   "nbconvert_exporter": "python",
   "pygments_lexer": "ipython3",
   "version": "3.10.9"
  }
 },
 "nbformat": 4,
 "nbformat_minor": 5
}
