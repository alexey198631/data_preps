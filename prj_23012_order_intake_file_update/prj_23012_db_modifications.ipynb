{
 "cells": [
  {
   "cell_type": "code",
   "execution_count": 2,
   "id": "fdfed74b",
   "metadata": {},
   "outputs": [],
   "source": [
    "import sqlite3\n",
    "import pandas as pd"
   ]
  },
  {
   "cell_type": "code",
   "execution_count": 17,
   "id": "7453a408",
   "metadata": {},
   "outputs": [],
   "source": [
    "def rename_column(db_file, table_name, old_column_name, new_column_name):\n",
    "    # Connect to the database\n",
    "    conn = sqlite3.connect(db_file)\n",
    "    cursor = conn.cursor()\n",
    "\n",
    "    # Execute the ALTER TABLE statement to rename the column\n",
    "    alter_query = f\"ALTER TABLE {table_name} RENAME COLUMN {old_column_name} TO {new_column_name};\"\n",
    "    cursor.execute(alter_query)\n",
    "\n",
    "    # Commit the changes and close the connection\n",
    "    conn.commit()\n",
    "    conn.close()\n",
    "\n",
    "# Provide the necessary details\n",
    "database_file = 'data_files/order_data.db'\n",
    "table_name = 'orders'\n",
    "old_column_name = \"Column1\"\n",
    "new_column_name = \"source\"\n",
    "\n",
    "# Call the function to rename the column\n",
    "rename_column(database_file, table_name, old_column_name, new_column_name)"
   ]
  },
  {
   "cell_type": "code",
   "execution_count": 27,
   "id": "2c243499",
   "metadata": {},
   "outputs": [],
   "source": [
    "conn = sqlite3.connect('data_files/order_data.db')\n",
    "query = \"SELECT * FROM orders\"\n",
    "df_customers = pd.read_sql_query(query, conn)\n",
    "conn.close()"
   ]
  },
  {
   "cell_type": "code",
   "execution_count": null,
   "id": "18f04513",
   "metadata": {},
   "outputs": [],
   "source": [
    "# deleting not necessary columns from db\n",
    "\n",
    "# Connect to the database\n",
    "conn = sqlite3.connect('data_files/order_data.db')\n",
    "cursor = conn.cursor()\n",
    "\n",
    "# Define the table name\n",
    "table_name = 'orders'\n",
    "\n",
    "# Retrieve column information from sqlite_master table\n",
    "cursor.execute(f\"PRAGMA table_info({table_name})\")\n",
    "columns = cursor.fetchall()\n",
    "\n",
    "for_text_line = []\n",
    "for_columns = []\n",
    "# Iterate over the columns and print the name and datatype\n",
    "for column in columns:\n",
    "    column_name = column[1]\n",
    "    column_datatype = column[2]\n",
    "    for_text_line.append(f'{column_name} {column_datatype}')\n",
    "    for_columns.append(f'{column_name}')\n",
    "\n",
    "# Close the connection\n",
    "conn.close()\n",
    "\n",
    "result = ', '.join(str(item) for item in for_text_line)\n",
    "results2 = ', '.join(str(item) for item in for_columns)\n",
    "\n",
    "print(result)\n",
    "print(results2)"
   ]
  },
  {
   "cell_type": "code",
   "execution_count": 19,
   "id": "a9bb6348",
   "metadata": {},
   "outputs": [],
   "source": [
    "necessary_columns_with_types = \"\"\"company_code_n TEXT, year_month INTEGER, Date TIMESTAMP, FY TIMESTAMP, \n",
    "customer_group_code TEXT, source TEXT, bu2 TEXT, bu_n TEXT, sales_person_n TEXT, sales_order_so INTEGER, \n",
    "sold_to_customer TEXT, sold_to_customer_n TEXT, sold_to_region_n TEXT, eu_industry_n TEXT, ec_eu_customer_n TEXT, \n",
    "eu_region_n TEXT, ec_eu_industry_n TEXT, order_intake_amount_eur REAL\"\"\"\n",
    "\n",
    "necessary_columns = \"\"\"company_code_n, year_month, Date, FY, customer_group_code, source, bu2, bu_n, sales_person_n, \n",
    "sales_order_so, sold_to_customer, sold_to_customer_n, sold_to_region_n, eu_industry_n, ec_eu_customer_n, eu_region_n, \n",
    "ec_eu_industry_n, order_intake_amount_eur\"\"\"\n",
    "\n",
    "# Connect to the database\n",
    "conn = sqlite3.connect('data_files/order_data.db')\n",
    "cursor = conn.cursor()\n",
    "\n",
    "table_name = 'orders'\n",
    "\n",
    "# Create a new table without the 'word' column\n",
    "create_query = f\"CREATE TABLE new_table_name ({necessary_columns_with_types})\"  \n",
    "    \n",
    "cursor.execute(create_query)\n",
    "\n",
    "# Copy data from the old table to the new table\n",
    "copy_query = f\"INSERT INTO new_table_name ({necessary_columns}) SELECT {necessary_columns} FROM {table_name}\"\n",
    "cursor.execute(copy_query)\n",
    "\n",
    "# Drop the old table\n",
    "drop_query = f\"DROP TABLE {table_name}\"\n",
    "cursor.execute(drop_query)\n",
    "\n",
    "# Rename the new table to the original table name\n",
    "rename_query = f\"ALTER TABLE new_table_name RENAME TO {table_name}\"\n",
    "cursor.execute(rename_query)\n",
    "\n",
    "# Commit the changes and close the connection\n",
    "conn.commit()\n",
    "conn.close()"
   ]
  },
  {
   "cell_type": "code",
   "execution_count": null,
   "id": "2590328f",
   "metadata": {},
   "outputs": [],
   "source": [
    "# deletion some lines from db\n",
    "\n",
    "conn = sqlite3.connect('data_files/order_data.db')\n",
    "cursor = conn.cursor()\n",
    "\n",
    "company_name = 'Company Name'  \n",
    "company_code = 'Company Code'  \n",
    "\n",
    "query = \"DELETE FROM orders WHERE sold_to_customer_n = ? AND company_code_n = ?\"\n",
    "\n",
    "cursor.execute(query, (company_name, company_code))\n",
    "conn.commit()\n",
    "\n",
    "conn.close()"
   ]
  },
  {
   "cell_type": "markdown",
   "id": "ef8bffa8",
   "metadata": {},
   "source": [
    "Update customer database with country information"
   ]
  },
  {
   "cell_type": "code",
   "execution_count": 3,
   "id": "adc7ce65",
   "metadata": {},
   "outputs": [],
   "source": [
    "country_info = pd.read_excel('data_files/customer_countries.xlsx')"
   ]
  },
  {
   "cell_type": "code",
   "execution_count": 17,
   "id": "6cb3745f",
   "metadata": {},
   "outputs": [
    {
     "name": "stdout",
     "output_type": "stream",
     "text": [
      "Column 'countries' has been added to the table successfully.\n"
     ]
    }
   ],
   "source": [
    "# Connect to the SQLite database\n",
    "connection = sqlite3.connect('data_files/customer_data.db')\n",
    "cursor = connection.cursor()\n",
    "\n",
    "# Execute the SQL command to add the 'countries' column\n",
    "table_name = 'customers'  # Replace with the actual table name\n",
    "alter_query = f\"ALTER TABLE {table_name} ADD COLUMN countries TEXT;\"\n",
    "cursor.execute(alter_query)\n",
    "\n",
    "# Commit the changes and close the connection\n",
    "connection.commit()\n",
    "connection.close()\n",
    "\n",
    "print(\"Column 'countries' has been added to the table successfully.\")"
   ]
  },
  {
   "cell_type": "code",
   "execution_count": 18,
   "id": "2da60aa6",
   "metadata": {},
   "outputs": [
    {
     "name": "stdout",
     "output_type": "stream",
     "text": [
      "Column 'countries' has been updated in the database successfully.\n"
     ]
    }
   ],
   "source": [
    "# Connect to the SQLite database\n",
    "connection = sqlite3.connect('data_files/customer_data.db')\n",
    "\n",
    "# Iterate over each row in the dataframe\n",
    "for index, row in country_info.iterrows():\n",
    "    sold_to_customer = row['sold_to_customer']\n",
    "    sold_to_country = row['sold_to_country_n']\n",
    "    \n",
    "    # Update the 'countries' column in the SQLite database for the matching 'sold_to_customer' and 'sold_to_country'\n",
    "    update_query = f\"UPDATE customers SET countries = '{sold_to_country}' WHERE sold_to_customer = '{sold_to_customer}';\"\n",
    "    connection.execute(update_query)\n",
    "\n",
    "# Commit the changes and close the connection\n",
    "connection.commit()\n",
    "connection.close()\n",
    "\n",
    "print(\"Column 'countries' has been updated in the database successfully.\")"
   ]
  },
  {
   "cell_type": "code",
   "execution_count": 3,
   "id": "3c3c2ba1",
   "metadata": {},
   "outputs": [],
   "source": [
    "conn = sqlite3.connect('data_files/customer_data.db')\n",
    "query = \"SELECT * FROM customers\"\n",
    "df_customers = pd.read_sql_query(query, conn)\n",
    "conn.close()"
   ]
  },
  {
   "cell_type": "code",
   "execution_count": 23,
   "id": "2df95b52",
   "metadata": {},
   "outputs": [],
   "source": [
    "# write previous pivot\n",
    "writer = pd.ExcelWriter('data_files/outcome/df_customers_countries.xlsx')\n",
    "df_customers.to_excel(writer, sheet_name='pivot')\n",
    "writer.close()"
   ]
  },
  {
   "cell_type": "code",
   "execution_count": null,
   "id": "5e316b3c",
   "metadata": {},
   "outputs": [],
   "source": [
    "\"\"\"\n",
    "conn = sqlite3.connect('data_files/order_data.db')\n",
    "query = \"SELECT * FROM orders\"  # Replace 'tablename' with your table name\n",
    "df_orders = pd.read_sql_query(query, conn)\n",
    "conn.close()\n",
    "\n",
    "conn = sqlite3.connect('data_files/order_data.db')\n",
    "query = \"DELETE FROM orders WHERE year_month = 202305\"\n",
    "conn.execute(query)\n",
    "conn.commit()\n",
    "conn.close()\n",
    "\n",
    "df_orders['sold_to_customer_n'] = df_orders['sold_to_customer_n'].fillna('')\n",
    "df_orders[df_orders['sold_to_customer_n'].str.contains('COMPANY')] \n",
    "\n",
    "conn = sqlite3.connect('data_files/order_data.db')\n",
    "query = \"DELETE FROM orders WHERE sold_to_customer_n LIKE '%COMPANY%'\"\n",
    "conn.execute(query)\n",
    "conn.commit()\n",
    "conn.close()\"\"\""
   ]
  }
 ],
 "metadata": {
  "kernelspec": {
   "display_name": "Python 3 (ipykernel)",
   "language": "python",
   "name": "python3"
  },
  "language_info": {
   "codemirror_mode": {
    "name": "ipython",
    "version": 3
   },
   "file_extension": ".py",
   "mimetype": "text/x-python",
   "name": "python",
   "nbconvert_exporter": "python",
   "pygments_lexer": "ipython3",
   "version": "3.10.9"
  }
 },
 "nbformat": 4,
 "nbformat_minor": 5
}
