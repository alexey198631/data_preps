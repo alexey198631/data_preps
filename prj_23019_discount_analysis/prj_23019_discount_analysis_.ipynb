{
 "cells": [
  {
   "cell_type": "markdown",
   "id": "a1a94061",
   "metadata": {},
   "source": [
    "Project Name: Discount Analysis\n",
    "\n",
    "Description:\n",
    "\n",
    "This project aims to analyze sales and gross margin (GM) data for various OPCOs (Operating Companies). The methodology involves several steps:\n",
    "\n",
    "1. Calculate Overall Sales and GM: The first step is to determine the overall sales and GM for each OPCO. The results will be summarized in the \"opco_summary\" sheet of the provided Excel file.\n",
    "\n",
    "2. Identify Decrease in GM: Next, we analyze the companies experiencing a decrease in the overall GM. Specifically, we focus on the following customer types: direct, indirect other, and channel partners. We highlight in the table only those companies whose GM is below the target. The relevant information can be found in the \"opco_below\" tab.\n",
    "\n",
    "3. Analyze Customer Orders: Based on the problematic customer types identified in the previous step, we prepare a table that lists the orders from customers responsible for the decrease in the target GM. This data is available in the \"companies_below\" tab.\n",
    "\n",
    "4. Weighted Contribution Analysis: To determine the impact of different customer types, we calculate their respective weights in contributing to the overall results. This ensures that larger project amounts have a greater influence on the final profitability.\n",
    "\n",
    "5. Evaluation of Product Category Projects: We assess the achievement of the GM target by focusing on projects in the Product category during the months of April and May. The analysis provides an overall perspective on the GM performance.\n",
    "\n",
    "6. Key OPCOs and Target Industries: We identify key OPCOs that made significant contributions to sales and GM decrease. Moreover, we examine the industries of customers involved, which are considered target industries for our business.\n",
    "\n",
    "The Python script provided in this repository facilitates the execution of the methodology. It reads the data from the provided Excel file, performs the required calculations, and generates the relevant outputs. Make sure to customize the script with the appropriate file path, column names, and target GM value based on your specific data.\n",
    "\n",
    "Dependencies:\n",
    "- Python 3.x\n",
    "- pandas library\n",
    "\n",
    "Feel free to explore the code, modify it as needed, and utilize the generated insights to make informed decisions about sales and GM optimization."
   ]
  },
  {
   "cell_type": "code",
   "execution_count": null,
   "id": "ca871dba",
   "metadata": {},
   "outputs": [],
   "source": [
    "import pandas as pd\n",
    "import numpy as np\n",
    "import sqlite3\n",
    "import importlib\n",
    "\n",
    "# keeping company information in additional file\n",
    "import data_file"
   ]
  },
  {
   "cell_type": "code",
   "execution_count": null,
   "id": "a0d3d240",
   "metadata": {},
   "outputs": [],
   "source": [
    "importlib.reload(data_file)"
   ]
  },
  {
   "cell_type": "code",
   "execution_count": null,
   "id": "59f8d25a",
   "metadata": {},
   "outputs": [],
   "source": [
    "# Orders and Discount initial data\n",
    "discount_data = pd.read_excel('data_files/discount_source.xlsx')\n",
    "discount_data['sold_to_customer'] = discount_data['sold_to_customer'].astype(str)\n",
    "discount_data['sold_to_customer'] = discount_data['sold_to_customer'].str.strip()\n",
    "\n",
    "# Intial target Data\n",
    "target_gm = pd.read_excel('data_files/target_gm.xlsx')\n",
    "\n",
    "# Customer Data\n",
    "conn = sqlite3.connect('data_files/customer_data.db')\n",
    "query = \"SELECT * FROM customers\"  # Replace 'tablename' with your table name\n",
    "df_customers = pd.read_sql_query(query, conn)\n",
    "conn.close()\n",
    "\n",
    "df_customers['tier'] = df_customers['tier'].fillna(df_customers['indirect_direct'])\n",
    "df_customers['tier_new'] = df_customers['tier_new'].fillna(df_customers['indirect_direct'])"
   ]
  },
  {
   "cell_type": "code",
   "execution_count": null,
   "id": "b1403604",
   "metadata": {},
   "outputs": [],
   "source": [
    "order_data = discount_data.copy()\n",
    "wdf = df_customers.copy()"
   ]
  },
  {
   "cell_type": "code",
   "execution_count": null,
   "id": "9914b971",
   "metadata": {},
   "outputs": [],
   "source": [
    "len(order_data)"
   ]
  },
  {
   "cell_type": "code",
   "execution_count": null,
   "id": "a4e3cfd4",
   "metadata": {},
   "outputs": [],
   "source": [
    "order_columns = list(order_data.columns) + ['customer_name', 'indirect_direct', 'tier', 'tier_new', 'type']"
   ]
  },
  {
   "cell_type": "code",
   "execution_count": null,
   "id": "9d56e9d9",
   "metadata": {},
   "outputs": [],
   "source": [
    "# agents df\n",
    "\n",
    "list_of_sales_person_n = data_file.sales_person_n\n",
    "exlpanrter=data_file.exlpanrter\n",
    "\n",
    "exl_list = list(wdf[wdf[exlpanrter].notna()]['sold_to_customer'].unique())\n",
    "agents_df = discount_data[(discount_data['sales_person_n'].isin(list_of_sales_person_n)) | (discount_data['sold_to_customer'].isin(exl_list))]\n",
    "wdf['sold_to_customer'] = wdf['sold_to_customer'].astype(str)\n",
    "agents_df = agents_df.merge(wdf[['sold_to_customer', 'customer_name']], left_on='sold_to_customer', right_on='sold_to_customer', how='left')\n",
    "agents_df['indirect_direct'] = 'Indirect'\n",
    "agents_df['channel'] = 'Channel Partner'\n",
    "agents_df['type'] = 'Agent'\n",
    "agents_df['tier'] = 'Channel Partner'\n",
    "agents_df['tier_new'] = 'Channel Partner'"
   ]
  },
  {
   "cell_type": "code",
   "execution_count": null,
   "id": "fd9ed86f",
   "metadata": {},
   "outputs": [],
   "source": [
    "# other df\n",
    "other_df = discount_data[(~discount_data['sales_person_n'].isin(list_of_sales_person_n)) & (~discount_data['sold_to_customer'].isin(exl_list))]\n",
    "wdf['sold_to_customer'] = wdf['sold_to_customer'].astype(str)\n",
    "other_df = other_df.merge(wdf[['sold_to_customer', 'customer_name', 'indirect_direct', 'channel', 'type', 'tier', 'tier_new']], left_on='sold_to_customer', right_on='sold_to_customer', how='left')\n",
    "final_df = pd.concat([other_df, agents_df])\n",
    "\n",
    "final = final_df[final_df['sold_to_customer'].isin(wdf['sold_to_customer'])]\n",
    "other = final_df[~final_df['sold_to_customer'].isin(wdf['sold_to_customer'])]\n",
    "\n",
    "# checking data integrity\n",
    "print(len(final) + len(other))"
   ]
  },
  {
   "cell_type": "code",
   "execution_count": null,
   "id": "010131f8",
   "metadata": {},
   "outputs": [],
   "source": [
    "# preparation of summary information to get the list of OPCO which are below target\n",
    "\n",
    "df = final.copy()\n",
    "pivot_table = pd.pivot_table(df, values=['sales_eur', 'gp_eur'], index='company_code_n', aggfunc='sum')\n",
    "pivot_table.reset_index(inplace=True)\n",
    "pivot_table['result_gm'] = pivot_table['gp_eur'] / pivot_table['sales_eur']\n",
    "\n",
    "merged_df = pd.merge(target_gm, pivot_table, left_on='OPCO', right_on='company_code_n')\n",
    "merged_df = merged_df[['OPCO', 'sales_eur', 'gp_eur', 'target_gm', 'result_gm']]\n",
    "\n",
    "overview_opco_df = merged_df.copy()\n",
    "overview_opco_df['dif'] = overview_opco_df['result_gm'] - overview_opco_df['target_gm']\n",
    "\n",
    "filtered_df = merged_df[merged_df['target_gm'] > merged_df['result_gm']]\n",
    "\n",
    "opco_below_target = list(filtered_df['OPCO'].unique())"
   ]
  },
  {
   "cell_type": "code",
   "execution_count": null,
   "id": "77929adb",
   "metadata": {},
   "outputs": [],
   "source": [
    "# it is necessary to understand sum of all orders for each OPCO\n",
    "\n",
    "grouped_opco_sum_sales = final.groupby(['company_code_n']).agg({\n",
    "    'sales_eur': 'sum',\n",
    "    'gp_eur': 'sum'\n",
    "})\n",
    "\n",
    "grouped_opco_sum_sales.reset_index(inplace=True)\n",
    "grouped_opco_sum_sales = grouped_opco_sum_sales.rename(columns={'sales_eur': 'sum_sales', 'gp_eur' : 'sum gp'})"
   ]
  },
  {
   "cell_type": "code",
   "execution_count": null,
   "id": "06fe2150",
   "metadata": {},
   "outputs": [],
   "source": [
    "# and then to add to the processed table\n",
    "final_with_targe_gm = final.merge(target_gm, left_on='company_code_n', right_on='OPCO')\n",
    "\n",
    "final_with_targe_gm = final_with_targe_gm.merge(grouped_opco_sum_sales, how='left')\n",
    "final_with_targe_gm = final_with_targe_gm[final_with_targe_gm['company_code_n'].isin(opco_below_target)]\n",
    "\n",
    "grouped_data = final_with_targe_gm.groupby(['company_code_n', 'tier_new', 'target_gm', 'sum_sales', 'sum gp']).agg({\n",
    "    'sales_eur': 'sum',\n",
    "    'gp_eur': 'sum'\n",
    "})\n",
    "\n",
    "grouped_data['result gm'] = grouped_data['gp_eur'] / grouped_data['sales_eur']\n",
    "\n",
    "final_data = grouped_data.reset_index()"
   ]
  },
  {
   "cell_type": "code",
   "execution_count": null,
   "id": "4b5eeb2e",
   "metadata": {},
   "outputs": [],
   "source": [
    "final_data['sales weight'] = final_data['sales_eur'] / final_data['sum_sales'] * 100\n",
    "final_data['sales weight'] = final_data['sales weight'].round(0)\n",
    "final_data['gp weight'] = final_data['gp_eur'] / final_data['sum gp'] * 100\n",
    "final_data['gp weight'] = final_data['gp weight'].round(0)\n",
    "\n",
    "final_opco_data = final_data[['company_code_n', 'tier_new', 'target_gm', 'result gm', 'sales_eur', 'sales weight', 'gp_eur', 'gp weight']]\n",
    "\n",
    "next_filtered_df = final_data[final_data['target_gm'] > final_data['result gm']]\n",
    "\n",
    "# delete rows with 0 weight or > 100% as irrelevant for analysis\n",
    "filtered_final_opco_data = next_filtered_df[(next_filtered_df['sales weight'] > 0) & (next_filtered_df['gp weight'] > 0) & (next_filtered_df['gp weight'] <= 100)]\n",
    "\n",
    "\n",
    "filtered_final_opco_data['dif'] = filtered_final_opco_data['result gm'] - filtered_final_opco_data['target_gm']"
   ]
  },
  {
   "cell_type": "code",
   "execution_count": null,
   "id": "e9e233f2",
   "metadata": {},
   "outputs": [],
   "source": [
    "# now it is time to dive deeper with companies \n",
    "\n",
    "grouped_company_sum_sales = final.groupby(['company_code_n',  'customer_name']).agg({\n",
    "    'sales_eur': 'sum',\n",
    "    'gp_eur': 'sum'\n",
    "})\n",
    "\n",
    "grouped_company_sum_sales.reset_index(inplace=True)\n",
    "grouped_company_sum_sales = grouped_company_sum_sales.rename(columns={'sales_eur': 'sum_sales', 'gp_eur' : 'sum gp'})\n",
    "\n",
    "next_filtered_df = next_filtered_df[['company_code_n', 'tier_new', 'target_gm']]\n",
    "\n",
    "companies_merged_df = final.merge(next_filtered_df, on=['company_code_n', 'tier_new'], how='inner')\n",
    "\n",
    "\n",
    "companies_merged_df = companies_merged_df.merge(grouped_company_sum_sales, on=['company_code_n', 'customer_name'], how='left')\n",
    "\n",
    "companies_grouped_data = companies_merged_df.groupby(['company_code_n',  'customer_name', 'ec_eu_customer_n', 'sales_person_n', 'sstp_approval_no', 'tier_new','target_gm', 'sales_order_so','sum_sales', 'sum gp']).agg({\n",
    "    'sales_eur': 'sum',\n",
    "    'gp_eur': 'sum'\n",
    "})\n",
    "\n",
    "companies_grouped_data.reset_index(inplace=True)\n",
    "\n",
    "companies_grouped_data['sales weight'] = companies_grouped_data['sales_eur'] / companies_grouped_data['sum_sales'] * 100\n",
    "companies_grouped_data['sales weight'] = companies_grouped_data['sales weight'].round(0)\n",
    "companies_grouped_data['gp weight'] = companies_grouped_data['gp_eur'] / companies_grouped_data['sum gp'] * 100\n",
    "companies_grouped_data['gp weight'] = companies_grouped_data['gp weight'].round(0)\n",
    "\n",
    "\n",
    "companies_grouped_data['result gm'] = companies_grouped_data['gp_eur'] / companies_grouped_data['sales_eur']\n",
    "\n",
    "companies_grouped_data.reset_index(inplace=True)\n",
    "\n",
    "companies_grouped_data = companies_grouped_data[companies_grouped_data['target_gm'] > companies_grouped_data['result gm']]\n",
    "\n",
    "# delete rows with 0 weight or > 100% as irrelevant for analysis\n",
    "companies_grouped_data = companies_grouped_data[(companies_grouped_data['sales weight'] > 0) & (companies_grouped_data['gp weight'] > 0) & (companies_grouped_data['gp weight'] <= 100)]\n",
    "\n",
    "companies_grouped_data['difference'] = companies_grouped_data['target_gm'] - companies_grouped_data['result gm']\n",
    "companies_grouped_data = companies_grouped_data.sort_values(by=['sales_eur','sales weight', 'difference'], ascending=[False, False,False])\n",
    "\n",
    "companies_grouped_data = companies_grouped_data.loc[:, 'company_code_n':]\n",
    "\n",
    "companies_grouped_data = companies_grouped_data[['company_code_n', 'customer_name', 'ec_eu_customer_n', 'sales_person_n',\n",
    "       'sstp_approval_no', 'tier_new', 'target_gm', 'sales_order_so', 'sales_eur', 'gp_eur', 'sales weight',\n",
    "       'gp weight', 'result gm', 'difference']]"
   ]
  },
  {
   "cell_type": "code",
   "execution_count": null,
   "id": "d73aa96c",
   "metadata": {},
   "outputs": [],
   "source": [
    "writer = pd.ExcelWriter('data_files/result_table.xlsx')\n",
    "# Save each DataFrames to a separate sheet in the same file\n",
    "overview_opco_df.to_excel(writer, sheet_name='opco_summary', index=False)\n",
    "filtered_final_opco_data.to_excel(writer, sheet_name='opco_below', index=False)\n",
    "companies_grouped_data.to_excel(writer, sheet_name='results', index=False)\n",
    "# Save the file\n",
    "writer.close()"
   ]
  }
 ],
 "metadata": {
  "kernelspec": {
   "display_name": "Python 3 (ipykernel)",
   "language": "python",
   "name": "python3"
  },
  "language_info": {
   "codemirror_mode": {
    "name": "ipython",
    "version": 3
   },
   "file_extension": ".py",
   "mimetype": "text/x-python",
   "name": "python",
   "nbconvert_exporter": "python",
   "pygments_lexer": "ipython3",
   "version": "3.10.9"
  }
 },
 "nbformat": 4,
 "nbformat_minor": 5
}
