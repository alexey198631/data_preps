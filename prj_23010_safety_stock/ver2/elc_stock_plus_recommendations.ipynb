{
 "cells": [
  {
   "cell_type": "code",
   "execution_count": 1,
   "id": "a4433e58",
   "metadata": {},
   "outputs": [],
   "source": [
    "import pandas as pd\n",
    "import numpy as np\n",
    "\n",
    "# Read Data1.xlsx into a dataframe\n",
    "elc_stock_df = pd.read_excel('data_files/elc_stock.xlsx')"
   ]
  },
  {
   "cell_type": "code",
   "execution_count": 2,
   "id": "1d51086a",
   "metadata": {},
   "outputs": [
    {
     "data": {
      "text/plain": [
       "Index(['Plnt', 'SLoc', 'Material', 'MS Code', 'Material Description', 'L/O',\n",
       "       'Product hierarchy', 'Pl', 'PDT', 'Typ',\n",
       "       'Current Free Stock for Ordering OpCo', 'BUn', 'ProcType',\n",
       "       'Reorder Point', 'BUn.1', 'Safety Stock', 'BUn.2', 'Min. Lot Sze',\n",
       "       'BUn.3', 'SG', 'PGr', 'LS', 'SPT', 'Profl.', 'Rounding val.',\n",
       "       'Language', 'Orig', 'Code number', 'Date of Last Count', 'MRPC', 'Bin',\n",
       "       'MTyp', 'BUn.4', 'Pro.', 'Orig.1', 'Matl Group', 'GRT', 'Max. level',\n",
       "       'BUn.5', 'Blocked', 'BUn.6', 'M', 'SPT.1', 'Replenishmt qty', 'BUn.7',\n",
       "       'Reorder point', 'BUn.8', 'Order Instruction Control Type', 'MRPpr',\n",
       "       'Security export control item', 'ESLoc', 'Orig.2', 'SLoc.1',\n",
       "       'Standard price', 'Crcy', 'Pe', 'Total Stock', 'BUn.9', 'per',\n",
       "       'Total Value', 'Crcy.1'],\n",
       "      dtype='object')"
      ]
     },
     "execution_count": 2,
     "metadata": {},
     "output_type": "execute_result"
    }
   ],
   "source": [
    "elc_stock_df.columns"
   ]
  },
  {
   "cell_type": "code",
   "execution_count": 10,
   "id": "682f4fb2",
   "metadata": {},
   "outputs": [],
   "source": [
    "elc_stock_df['MS Code'] = elc_stock_df['MS Code'].fillna(elc_stock_df['Material'])\n",
    "elc_stock_df['BU'] = elc_stock_df['Product hierarchy'].str.slice(stop=5)\n",
    "elc_stock_df_l = elc_stock_df.loc[:, ['MS Code', 'BU', 'Current Free Stock for Ordering OpCo', 'Safety Stock']]"
   ]
  },
  {
   "cell_type": "code",
   "execution_count": 11,
   "id": "bf99df4e",
   "metadata": {},
   "outputs": [],
   "source": [
    "# Drop rows where column MS Code is NaN\n",
    "elc_stock_df_l = elc_stock_df_l.dropna(subset=['MS Code'])"
   ]
  },
  {
   "cell_type": "code",
   "execution_count": 14,
   "id": "d1ade798",
   "metadata": {},
   "outputs": [],
   "source": [
    "key_bu = ['YY112', 'YY113', 'YY114', 'YY115', 'YY116', 'YY117','YY118', 'YY119', 'YY138']\n",
    "\n",
    "elc_stock_df_l = elc_stock_df_l[elc_stock_df_l['BU'].isin(key_bu)]"
   ]
  },
  {
   "cell_type": "code",
   "execution_count": 15,
   "id": "4c8d97ce",
   "metadata": {},
   "outputs": [],
   "source": [
    "# Write the DataFrame to an Excel file\n",
    "elc_stock_df_l.to_excel('data_files/output.xlsx', index=False)"
   ]
  },
  {
   "cell_type": "code",
   "execution_count": null,
   "id": "265d12d5",
   "metadata": {},
   "outputs": [],
   "source": []
  }
 ],
 "metadata": {
  "kernelspec": {
   "display_name": "Python 3 (ipykernel)",
   "language": "python",
   "name": "python3"
  },
  "language_info": {
   "codemirror_mode": {
    "name": "ipython",
    "version": 3
   },
   "file_extension": ".py",
   "mimetype": "text/x-python",
   "name": "python",
   "nbconvert_exporter": "python",
   "pygments_lexer": "ipython3",
   "version": "3.10.9"
  }
 },
 "nbformat": 4,
 "nbformat_minor": 5
}
