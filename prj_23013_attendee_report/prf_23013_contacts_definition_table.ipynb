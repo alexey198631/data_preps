{
 "cells": [
  {
   "cell_type": "code",
   "execution_count": 49,
   "id": "8a0d15ba",
   "metadata": {},
   "outputs": [],
   "source": [
    "import pandas as pd\n",
    "\n",
    "\n",
    "contacts_df = pd.read_excel('data_files/data_base.xlsx', sheet_name='Webinar invitees', header=3)"
   ]
  },
  {
   "cell_type": "code",
   "execution_count": 51,
   "id": "deaeaa5d",
   "metadata": {},
   "outputs": [],
   "source": [
    "contacts_df['Email'] = contacts_df['Email'].str.strip().str.lower()"
   ]
  },
  {
   "cell_type": "code",
   "execution_count": 52,
   "id": "351be4fe",
   "metadata": {},
   "outputs": [],
   "source": [
    "contacts_df['person'] = contacts_df['person'].str.strip()\n",
    "contacts_df['first_name'] = contacts_df['first_name'].str.strip()\n",
    "contacts_df['last_name'] = contacts_df['last_name'].str.strip()"
   ]
  },
  {
   "cell_type": "code",
   "execution_count": 54,
   "id": "af41f10b",
   "metadata": {},
   "outputs": [],
   "source": [
    "contacts_df['person'] = contacts_df['person'].astype(str)\n",
    "contacts_df['first_name'] = contacts_df['first_name'].astype(str)\n",
    "contacts_df['last_name'] = contacts_df['last_name'].astype(str)"
   ]
  },
  {
   "cell_type": "code",
   "execution_count": 55,
   "id": "97982230",
   "metadata": {},
   "outputs": [],
   "source": [
    "# convert the names to the desired format\n",
    "contacts_df['person'] = contacts_df['person'].apply(lambda x: x.title())\n",
    "contacts_df['first_name'] = contacts_df['first_name'].apply(lambda x: x.lower().capitalize())\n",
    "contacts_df['last_name'] = contacts_df['last_name'].apply(lambda x: x.lower().capitalize())"
   ]
  },
  {
   "cell_type": "code",
   "execution_count": null,
   "id": "f6a166ee",
   "metadata": {},
   "outputs": [],
   "source": [
    "writer = pd.ExcelWriter('data_files/contacts_df.xlsx')\n",
    "contacts_df.to_excel(writer, sheet_name='contacts_df')\n",
    "writer.close()"
   ]
  },
  {
   "cell_type": "code",
   "execution_count": 12,
   "id": "440b566d",
   "metadata": {},
   "outputs": [],
   "source": [
    "contacts_df['domain_names'] = contacts_df['Email'].str.split('@').str[1]\n",
    "contacts_df['domain_names'] = contacts_df['domain_names'].str.strip().str.lower()\n",
    "contacts_df['Company'] = contacts_df['Company'].str.strip().str.upper()\n",
    "\n",
    "exlude_emails = ['gmail.com']\n",
    "contacts_df = contacts_df[~contacts_df['domain_names'].isin(exlude_emails)]"
   ]
  },
  {
   "cell_type": "code",
   "execution_count": 13,
   "id": "f1aa3e90",
   "metadata": {},
   "outputs": [],
   "source": [
    "company_mail_df = contacts_df.loc[:, ['Company', 'domain_names']]"
   ]
  },
  {
   "cell_type": "code",
   "execution_count": 14,
   "id": "122bef98",
   "metadata": {},
   "outputs": [],
   "source": [
    "company_mail_df = company_mail_df.drop_duplicates()"
   ]
  },
  {
   "cell_type": "code",
   "execution_count": 15,
   "id": "e84824bd",
   "metadata": {},
   "outputs": [],
   "source": [
    "company_mail_df.reset_index(inplace=True, drop=True)"
   ]
  },
  {
   "cell_type": "code",
   "execution_count": null,
   "id": "050c06bf",
   "metadata": {},
   "outputs": [],
   "source": [
    "writer = pd.ExcelWriter('data_files/test.xlsx')\n",
    "company_mail_df.to_excel(writer, sheet_name='test')\n",
    "writer.close()"
   ]
  },
  {
   "cell_type": "code",
   "execution_count": 6,
   "id": "981ab9b3",
   "metadata": {},
   "outputs": [],
   "source": [
    "# получаем только повторяющиеся значения в столбце \"Name\"\n",
    "duplicated_companies = company_mail_df.loc[company_mail_df['Company'].duplicated(), 'Company'].unique()\n",
    "# получаем только повторяющиеся значения в столбце \"Name\"\n",
    "duplicated_domains = company_mail_df.loc[company_mail_df['domain_names'].duplicated(), 'domain_names'].unique()"
   ]
  },
  {
   "cell_type": "code",
   "execution_count": 7,
   "id": "3e04c6f5",
   "metadata": {},
   "outputs": [],
   "source": [
    "duplicated_companies = list(duplicated_companies)\n",
    "duplicated_domains = list(duplicated_domains)"
   ]
  },
  {
   "cell_type": "code",
   "execution_count": 8,
   "id": "a0819f76",
   "metadata": {},
   "outputs": [],
   "source": [
    "# создаем новый dataframe с помощью фильтрации\n",
    "new_df = company_mail_df[(company_mail_df['Company'].isin(duplicated_companies)) | (company_mail_df['domain_names'].isin(duplicated_domains))]"
   ]
  },
  {
   "cell_type": "code",
   "execution_count": null,
   "id": "c9cec79b",
   "metadata": {},
   "outputs": [],
   "source": [
    "writer = pd.ExcelWriter('data_files/test.xlsx')\n",
    "company_mail_df.to_excel(writer, sheet_name='test')\n",
    "writer.close()"
   ]
  },
  {
   "cell_type": "code",
   "execution_count": null,
   "id": "8946ff18",
   "metadata": {},
   "outputs": [],
   "source": [
    "\"\"\"\n",
    "нужно навести порядок в компаниях\n",
    "заполнить по всем компаням отвественный офис\n",
    "Сделать так, чтобы имена были написаны правильно и не повторялись\n",
    "добавить channel manager\n",
    "Страну\n",
    "\n",
    "\"\"\""
   ]
  },
  {
   "cell_type": "code",
   "execution_count": null,
   "id": "6d6c7a59",
   "metadata": {},
   "outputs": [],
   "source": [
    "import pandas as pd\n",
    "contacts_df = pd.read_excel('data_files/report.xlsx', sheet_name='attendee_details')\n",
    "contacts_df['User Name (Original Name)'] = contacts_df['User Name (Original Name)'].str.strip()\n",
    "contacts_df['First Name'] = contacts_df['First Name'].str.strip()\n",
    "contacts_df['Last Name'] = contacts_df['Last Name'].str.strip()\n",
    "contacts_df['Email'] = contacts_df['Email'].str.strip()\n",
    "contacts_df['Organization'] = contacts_df['Organization'].str.strip()\n",
    "\n",
    "contacts_df['First Name'] = contacts_df['First Name'].astype(str)\n",
    "contacts_df['User Name (Original Name)'] = contacts_df['User Name (Original Name)'].astype(str)\n",
    "contacts_df['Last Name'] = contacts_df['Last Name'].astype(str)\n",
    "contacts_df['Email'] = contacts_df['Email'].astype(str)\n",
    "contacts_df['Organization'] = contacts_df['Organization'].astype(str)\n",
    "\n",
    "contacts_df['User Name (Original Name)'] = contacts_df['User Name (Original Name)'].apply(lambda x: x.title())\n",
    "contacts_df['First Name'] = contacts_df['First Name'].apply(lambda x: x.lower().capitalize())\n",
    "contacts_df['Last Name'] = contacts_df['Last Name'].apply(lambda x: x.lower().capitalize())\n",
    "contacts_df['Email'] = contacts_df['Email'].str.lower()\n",
    "contacts_df['Organization'] = contacts_df['Organization'].str.upper()\n",
    "\n",
    "writer = pd.ExcelWriter('data_files/test33.xlsx')\n",
    "contacts_df.to_excel(writer, sheet_name='test')\n",
    "writer.close()"
   ]
  }
 ],
 "metadata": {
  "kernelspec": {
   "display_name": "Python 3 (ipykernel)",
   "language": "python",
   "name": "python3"
  },
  "language_info": {
   "codemirror_mode": {
    "name": "ipython",
    "version": 3
   },
   "file_extension": ".py",
   "mimetype": "text/x-python",
   "name": "python",
   "nbconvert_exporter": "python",
   "pygments_lexer": "ipython3",
   "version": "3.10.9"
  }
 },
 "nbformat": 4,
 "nbformat_minor": 5
}
