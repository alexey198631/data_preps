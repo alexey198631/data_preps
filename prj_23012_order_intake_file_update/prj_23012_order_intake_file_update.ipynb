{
 "cells": [
  {
   "cell_type": "code",
   "execution_count": 2,
   "id": "03fa6247",
   "metadata": {},
   "outputs": [],
   "source": [
    "import pandas as pd\n",
    "\n",
    "file_name = 'data_files/data.xlsx'\n",
    "#updates_file = 'updates.xlsx'\n",
    "\n",
    "df = pd.read_excel(file_name, sheet_name='Data')"
   ]
  },
  {
   "cell_type": "code",
   "execution_count": 4,
   "id": "b4a114a2",
   "metadata": {},
   "outputs": [],
   "source": [
    "import numpy as np\n",
    "\n",
    "def optimize_dataframe(df):\n",
    "    \"\"\"\n",
    "    This function optimizes the data types of columns in a pandas dataframe for more efficient memory usage.\n",
    "    \n",
    "    Parameters:\n",
    "    df (pandas.DataFrame): The input dataframe to optimize.\n",
    "    \n",
    "    Returns:\n",
    "    df_optimized (pandas.DataFrame): The optimized dataframe.\n",
    "    \"\"\"\n",
    "    \n",
    "    # Get the initial memory usage of the dataframe\n",
    "    initial_memory = df.memory_usage().sum() / (1024**2)\n",
    "    print(f\"Initial memory usage: {initial_memory:.2f} MB\")\n",
    "    \n",
    "    # Get the data types of each column\n",
    "    dtypes = df.dtypes\n",
    "    \n",
    "    # Create a dictionary to store the optimized data types\n",
    "    optimized_dtypes = {}\n",
    "    \n",
    "    # Loop through each column\n",
    "    for col, dtype in dtypes.iteritems():\n",
    "        \n",
    "        # Convert integer columns to smaller integer types if possible\n",
    "        if dtype == 'int64':\n",
    "            c_min = df[col].min()\n",
    "            c_max = df[col].max()\n",
    "            if c_min >= np.iinfo(np.int8).min and c_max <= np.iinfo(np.int8).max:\n",
    "                optimized_dtypes[col] = 'int8'\n",
    "            elif c_min >= np.iinfo(np.int16).min and c_max <= np.iinfo(np.int16).max:\n",
    "                optimized_dtypes[col] = 'int16'\n",
    "            elif c_min >= np.iinfo(np.int32).min and c_max <= np.iinfo(np.int32).max:\n",
    "                optimized_dtypes[col] = 'int32'\n",
    "            else:\n",
    "                optimized_dtypes[col] = 'int64'\n",
    "        \n",
    "        # Convert float columns to smaller float types if possible\n",
    "        elif dtype == 'float64':\n",
    "            c_min = df[col].min()\n",
    "            c_max = df[col].max()\n",
    "            if c_min >= np.finfo(np.float16).min and c_max <= np.finfo(np.float16).max:\n",
    "                optimized_dtypes[col] = 'float16'\n",
    "            elif c_min >= np.finfo(np.float32).min and c_max <= np.finfo(np.float32).max:\n",
    "                optimized_dtypes[col] = 'float32'\n",
    "            else:\n",
    "                optimized_dtypes[col] = 'float64'\n",
    "        \n",
    "        # Keep non-numeric columns as is\n",
    "        else:\n",
    "            optimized_dtypes[col] = dtype\n",
    "    \n",
    "    # Optimize the dataframe by changing the data types of columns\n",
    "    df_optimized = df.astype(optimized_dtypes)\n",
    "    \n",
    "    # Get the optimized memory usage of the dataframe\n",
    "    optimized_memory = df_optimized.memory_usage().sum() / (1024**2)\n",
    "    print(f\"Optimized memory usage: {optimized_memory:.2f} MB\")\n",
    "    \n",
    "    return df_optimized"
   ]
  },
  {
   "cell_type": "code",
   "execution_count": 5,
   "id": "9984b46b",
   "metadata": {},
   "outputs": [
    {
     "name": "stdout",
     "output_type": "stream",
     "text": [
      "Initial memory usage: 50.06 MB\n",
      "Optimized memory usage: 45.13 MB\n"
     ]
    },
    {
     "name": "stderr",
     "output_type": "stream",
     "text": [
      "C:\\Users\\30050122\\AppData\\Local\\Temp\\ipykernel_10936\\1275459287.py:25: FutureWarning: iteritems is deprecated and will be removed in a future version. Use .items instead.\n",
      "  for col, dtype in dtypes.iteritems():\n"
     ]
    }
   ],
   "source": [
    "better = optimize_dataframe(df)"
   ]
  },
  {
   "cell_type": "code",
   "execution_count": 7,
   "id": "0bfb83f6",
   "metadata": {},
   "outputs": [
    {
     "name": "stdout",
     "output_type": "stream",
     "text": [
      "<class 'pandas.core.frame.DataFrame'>\n",
      "RangeIndex: 198829 entries, 0 to 198828\n",
      "Data columns (total 33 columns):\n",
      " #   Column                   Non-Null Count   Dtype         \n",
      "---  ------                   --------------   -----         \n",
      " 0   company_code_n           198829 non-null  object        \n",
      " 1   year_month               198829 non-null  int32         \n",
      " 2   Date                     198829 non-null  datetime64[ns]\n",
      " 3   FY                       198829 non-null  datetime64[ns]\n",
      " 4   Sales group_case         151503 non-null  object        \n",
      " 5   customer_group_code      187444 non-null  object        \n",
      " 6   Column1                  198829 non-null  object        \n",
      " 7   BU Group OAC             198829 non-null  object        \n",
      " 8   BU Group_case            198829 non-null  object        \n",
      " 9   bu2                      198829 non-null  object        \n",
      " 10  bu_n                     198829 non-null  object        \n",
      " 11  sales_person_n           198829 non-null  object        \n",
      " 12  sales_order_so           198829 non-null  int64         \n",
      " 13  sold_to_customer         198829 non-null  object        \n",
      " 14  sold_to_customer_n       198463 non-null  object        \n",
      " 15  sold_to_region_n         116363 non-null  object        \n",
      " 16  eu_industry_n            198829 non-null  object        \n",
      " 17  ec_eu_customer_n         198828 non-null  object        \n",
      " 18  eu_region_n              115887 non-null  object        \n",
      " 19  ec_eu_industry_n         198829 non-null  object        \n",
      " 20  order_intake_amount_eur  198829 non-null  float32       \n",
      " 21  t&m ammount              198829 non-null  float32       \n",
      " 22  customer_name            198829 non-null  object        \n",
      " 23  Indirect_direct          198829 non-null  object        \n",
      " 24  channel                  198829 non-null  object        \n",
      " 25  type                     198829 non-null  object        \n",
      " 26  new                      0 non-null       float64       \n",
      " 27  t&m_check                198829 non-null  object        \n",
      " 28  special case             198829 non-null  int8          \n",
      " 29  special case_jan         198829 non-null  int8          \n",
      " 30  for_bu                   198829 non-null  object        \n",
      " 31  for fy22 t&M             16272 non-null   object        \n",
      " 32  Horn                     2153 non-null    object        \n",
      "dtypes: datetime64[ns](2), float32(2), float64(1), int32(1), int64(1), int8(2), object(24)\n",
      "memory usage: 45.1+ MB\n"
     ]
    }
   ],
   "source": [
    "better.info()"
   ]
  },
  {
   "cell_type": "code",
   "execution_count": null,
   "id": "fd7faffd",
   "metadata": {},
   "outputs": [],
   "source": []
  }
 ],
 "metadata": {
  "kernelspec": {
   "display_name": "Python 3 (ipykernel)",
   "language": "python",
   "name": "python3"
  },
  "language_info": {
   "codemirror_mode": {
    "name": "ipython",
    "version": 3
   },
   "file_extension": ".py",
   "mimetype": "text/x-python",
   "name": "python",
   "nbconvert_exporter": "python",
   "pygments_lexer": "ipython3",
   "version": "3.10.9"
  }
 },
 "nbformat": 4,
 "nbformat_minor": 5
}
