{
 "cells": [
  {
   "cell_type": "code",
   "execution_count": null,
   "id": "d46690b2",
   "metadata": {},
   "outputs": [],
   "source": [
    "import pandas as pd\n",
    "\n",
    "# Define the file path\n",
    "file_path = 'data_files/initial.xlsx'\n",
    "\n",
    "# Task 1: Print names of each sheet\n",
    "xls = pd.ExcelFile(file_path)\n",
    "sheet_names = xls.sheet_names\n",
    "print(\"Sheet names:\", sheet_names)\n",
    "\n",
    "# Task 2: Create separate DataFrame for each sheet\n",
    "dfs = {}  # Dictionary to store DataFrames\n",
    "for sheet_name in sheet_names:\n",
    "    df = xls.parse(sheet_name)\n",
    "    dfs[sheet_name] = df\n",
    "\n",
    "# Task 3: Get info for each of these DataFrames\n",
    "for sheet_name, df in dfs.items():\n",
    "    print(f\"\\nInfo for sheet '{sheet_name}':\")\n",
    "    print(df.info())\n",
    "    print(df.head())  # Print the first few rows of the DataFrame"
   ]
  },
  {
   "cell_type": "code",
   "execution_count": null,
   "id": "ae20d179",
   "metadata": {},
   "outputs": [],
   "source": [
    "target_df = dfs['2022106 (2)']"
   ]
  },
  {
   "cell_type": "code",
   "execution_count": null,
   "id": "7e2be3dd",
   "metadata": {},
   "outputs": [],
   "source": [
    "# List of European countries\n",
    "european_countries = [\"Czech Republic\",'Netherlands', 'UK', 'Poland', 'Checo','Checho', 'Romania', 'Lithuania', 'Turkey', 'United Kingdom', \n",
    "                      'France', 'Italy', 'Hungary', 'Germany', 'Spain', 'Switzerland', 'Belarus', 'Belgium', \n",
    "                      'Bulgaria', 'Portugal', 'Checho', 'Czechoslovakia', 'Chechoslovakia', 'Russia', 'Kazakhstan', 'Serbia', 'Ukraine']\n",
    "\n",
    "# Filter target_df based on European countries\n",
    "european_df = target_df[target_df['Country'].isin(european_countries)]\n",
    "not_european_df = target_df[~target_df['Country'].isin(european_countries)]\n",
    "\n",
    "print(len(european_df))\n",
    "\n",
    "# Correct mapping of country names\n",
    "corrections = {\n",
    "    'United Kingdom': 'UK',\n",
    "    'Czechoslovakia': 'Czech Republic',\n",
    "    'Checho': 'Czech Republic',\n",
    "    'Checo': 'Czech Republic'\n",
    "}\n",
    "\n",
    "# Apply corrections to the 'Country' column\n",
    "european_df['Country'] = european_df['Country'].str.strip()\n",
    "european_df['Country'] = european_df['Country'].replace(corrections)\n",
    "\n",
    "# Save the new DataFrame to an Excel file\n",
    "output_file_path = 'data_files/european_countries.xlsx'\n",
    "output_file_path_non = 'data_files/non_european_countries.xlsx'\n",
    "european_df.to_excel(output_file_path, index=False)\n",
    "non_european_df.to_excel(output_file_path_non, index=False)"
   ]
  }
 ],
 "metadata": {
  "kernelspec": {
   "display_name": "Python 3 (ipykernel)",
   "language": "python",
   "name": "python3"
  },
  "language_info": {
   "codemirror_mode": {
    "name": "ipython",
    "version": 3
   },
   "file_extension": ".py",
   "mimetype": "text/x-python",
   "name": "python",
   "nbconvert_exporter": "python",
   "pygments_lexer": "ipython3",
   "version": "3.10.9"
  }
 },
 "nbformat": 4,
 "nbformat_minor": 5
}
