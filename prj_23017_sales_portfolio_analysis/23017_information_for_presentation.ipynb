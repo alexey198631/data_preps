{
 "cells": [
  {
   "cell_type": "code",
   "execution_count": 85,
   "id": "ea50994c",
   "metadata": {},
   "outputs": [],
   "source": [
    "import pandas as pd\n",
    "import numpy as np\n",
    "import importlib\n",
    "\n",
    "import data_file"
   ]
  },
  {
   "cell_type": "code",
   "execution_count": null,
   "id": "4c71ef93",
   "metadata": {},
   "outputs": [],
   "source": [
    "importlib.reload(data_file)"
   ]
  },
  {
   "cell_type": "code",
   "execution_count": 87,
   "id": "4538656c",
   "metadata": {},
   "outputs": [],
   "source": [
    "target_bu = data_file.target_bu"
   ]
  },
  {
   "cell_type": "code",
   "execution_count": 157,
   "id": "7d33131e",
   "metadata": {},
   "outputs": [],
   "source": [
    "df = pd.read_excel('data_files/order_intake.xlsx')"
   ]
  },
  {
   "cell_type": "code",
   "execution_count": 158,
   "id": "8de8d907",
   "metadata": {},
   "outputs": [],
   "source": [
    "# Create a mapping dictionary from non-null values in \"bu2\" and \"for_bu\" columns\n",
    "mapping_dict = df.dropna().set_index('bu2')['for_bu'].to_dict()"
   ]
  },
  {
   "cell_type": "code",
   "execution_count": 159,
   "id": "b8d50466",
   "metadata": {},
   "outputs": [],
   "source": [
    "# Fill NaN values in \"for_bu\" column using the mapping dictionary\n",
    "df['for_bu'] = df['for_bu'].fillna(df['bu2'].map(mapping_dict))"
   ]
  },
  {
   "cell_type": "code",
   "execution_count": 160,
   "id": "64a8c073",
   "metadata": {},
   "outputs": [],
   "source": [
    "# Convert 'FY' column to datetime if it's not already\n",
    "df['FY'] = pd.to_datetime(df['FY'])\n",
    "df['FY'] = df['FY'].dt.year"
   ]
  },
  {
   "cell_type": "code",
   "execution_count": 79,
   "id": "0e60a4ea",
   "metadata": {},
   "outputs": [],
   "source": [
    "customer_tiers_order_intake = df.pivot_table(index=['company_code_n', 'customer_name', 'tier', 'type', df['FY']],\n",
    "                        values='order_intake_amount_eur', aggfunc='sum').reset_index()\n",
    "\n",
    "customer_tiers_order_intake = customer_tiers_order_intake.fillna(0)\n",
    "customer_tiers_order_intake['qty'] = 1"
   ]
  },
  {
   "cell_type": "code",
   "execution_count": 80,
   "id": "a6cb2aa9",
   "metadata": {},
   "outputs": [],
   "source": [
    "customer_tiers_order_intake_no_fy = df.pivot_table(index=['company_code_n', 'customer_name', 'tier', 'type'],\n",
    "                        values='order_intake_amount_eur', aggfunc='sum').reset_index()\n",
    "\n",
    "customer_tiers_order_intake_no_fy = customer_tiers_order_intake_no_fy.fillna(0)\n",
    "customer_tiers_order_intake_no_fy['qty'] = 1"
   ]
  },
  {
   "cell_type": "code",
   "execution_count": 81,
   "id": "18ab925b",
   "metadata": {},
   "outputs": [],
   "source": [
    "writer = pd.ExcelWriter('outcome/test.xlsx')\n",
    "customer_tiers_order_intake_no_fy.to_excel(writer, sheet_name='overall', index=False)\n",
    "customer_tiers_order_intake.to_excel(writer, sheet_name='fy', index=False)\n",
    "# Save the Excel file\n",
    "writer.close()"
   ]
  },
  {
   "cell_type": "code",
   "execution_count": 161,
   "id": "c01fccba",
   "metadata": {},
   "outputs": [],
   "source": [
    "df['sales_order_so'] = df['sales_order_so'].fillna('not_known')\n",
    "\n",
    "# it is necessary to make the similar data for Produtcts only\n",
    "df_target_bu = df[df['bu2'].isin(target_bu)]"
   ]
  },
  {
   "cell_type": "code",
   "execution_count": 93,
   "id": "e1fda418",
   "metadata": {},
   "outputs": [],
   "source": [
    "customer_tiers_order_intake_bu = df_target_bu.pivot_table(index=['company_code_n', 'customer_name', 'tier', 'type', df['FY']],\n",
    "                        values='order_intake_amount_eur', aggfunc='sum').reset_index()\n",
    "\n",
    "customer_tiers_order_intake_bu = customer_tiers_order_intake_bu.fillna(0)\n",
    "customer_tiers_order_intake_bu['qty'] = 1\n",
    "\n",
    "customer_tiers_order_intake_no_fy_bu = df_target_bu.pivot_table(index=['company_code_n', 'customer_name', 'tier', 'type'],\n",
    "                        values='order_intake_amount_eur', aggfunc='sum').reset_index()\n",
    "\n",
    "customer_tiers_order_intake_no_fy_bu = customer_tiers_order_intake_no_fy_bu.fillna(0)\n",
    "customer_tiers_order_intake_no_fy_bu['qty'] = 1\n",
    "\n",
    "writer = pd.ExcelWriter('outcome/test_2.xlsx')\n",
    "customer_tiers_order_intake_no_fy_bu.to_excel(writer, sheet_name='overall', index=False)\n",
    "customer_tiers_order_intake_bu.to_excel(writer, sheet_name='fy', index=False)\n",
    "# Save the Excel file\n",
    "writer.close()"
   ]
  },
  {
   "cell_type": "code",
   "execution_count": 65,
   "id": "db837116",
   "metadata": {},
   "outputs": [],
   "source": [
    "writer = pd.ExcelWriter('outcome/test.xlsx')\n",
    "unique_by_year.to_excel(writer, sheet_name='test1', index=False)\n",
    "unique_overall.to_excel(writer, sheet_name='test2', index=False)\n",
    "# Save the Excel file\n",
    "writer.close()"
   ]
  },
  {
   "cell_type": "code",
   "execution_count": 110,
   "id": "125568ba",
   "metadata": {},
   "outputs": [],
   "source": [
    "# Calculate the average deal size for each company_name and FY\n",
    "average_deal_size = df.groupby(['company_code_n','customer_name','tier', 'type','FY']).agg({'order_intake_amount_eur': 'mean', 'sales_order_so': 'count'}).reset_index()\n",
    "average_deal_size = average_deal_size.rename(columns={'sales_order_so': 'number_of_deals'})\n",
    "average_deal_size_bu = df_target_bu.groupby(['company_code_n','customer_name','tier', 'type','FY']).agg({'order_intake_amount_eur': 'mean', 'sales_order_so': 'count'}).reset_index()\n",
    "average_deal_size_bu = average_deal_size_bu.rename(columns={'sales_order_so': 'number_of_deals'})"
   ]
  },
  {
   "cell_type": "code",
   "execution_count": 170,
   "id": "da1eed92",
   "metadata": {},
   "outputs": [],
   "source": [
    "# Calculate the overall sum of order_intake_amount_eur for each company_code_n\n",
    "company_sum = df.groupby('company_code_n')['order_intake_amount_eur'].sum()\n",
    "\n",
    "# Sort the customers within each company_code_n based on their sum of order_intake_amount_eur in descending order\n",
    "df_sorted = df.groupby(['company_code_n', 'customer_name'])['order_intake_amount_eur'].sum().reset_index()\n",
    "\n",
    "df_sorted = df_sorted.sort_values(by=['company_code_n', 'order_intake_amount_eur'], ascending=[True, False])\n",
    "\n",
    "# Calculate the cumulative sum of order_intake_amount_eur within each company_code_n group\n",
    "df_sorted['cumulative_sum'] = df_sorted.groupby('company_code_n')['order_intake_amount_eur'].cumsum()\n",
    "\n",
    "# Calculate the cumulative percentage of order_intake_amount_eur for each company_code_n\n",
    "df_sorted['cumulative_percentage'] = df_sorted.groupby('company_code_n')['cumulative_sum'].transform(lambda x: x / x.max() * 100)\n",
    "\n",
    "# Categorize the customers based on specific percentage thresholds\n",
    "df_sorted['category'] = pd.cut(df_sorted['cumulative_percentage'], bins=[0, 70, 95, 100], labels=['A', 'B', 'C'], right=False)\n",
    "\n",
    "# Merge the categorization back to the original DataFrame\n",
    "merged_df = pd.merge(df, df_sorted[['company_code_n', 'customer_name', 'category']], on=['company_code_n', 'customer_name'], how='left')\n",
    "\n",
    "# Output the resulting DataFrame\n",
    "result = merged_df[['company_code_n', 'customer_name', 'category']]\n",
    "\n",
    "result['category']= result['category'].fillna('C')\n",
    "result = result.drop_duplicates()"
   ]
  },
  {
   "cell_type": "code",
   "execution_count": 176,
   "id": "d64883ea",
   "metadata": {},
   "outputs": [],
   "source": [
    "average_deal_size_x = average_deal_size.merge(result, on=['customer_name', 'company_code_n'])"
   ]
  },
  {
   "cell_type": "code",
   "execution_count": 177,
   "id": "52a2d448",
   "metadata": {},
   "outputs": [],
   "source": [
    "writer = pd.ExcelWriter('outcome/deals.xlsx')\n",
    "average_deal_size_x.to_excel(writer, sheet_name='test1', index=False)\n",
    "# Save the Excel file\n",
    "writer.close()"
   ]
  },
  {
   "cell_type": "code",
   "execution_count": null,
   "id": "fa3748dc",
   "metadata": {},
   "outputs": [],
   "source": []
  }
 ],
 "metadata": {
  "kernelspec": {
   "display_name": "Python 3 (ipykernel)",
   "language": "python",
   "name": "python3"
  },
  "language_info": {
   "codemirror_mode": {
    "name": "ipython",
    "version": 3
   },
   "file_extension": ".py",
   "mimetype": "text/x-python",
   "name": "python",
   "nbconvert_exporter": "python",
   "pygments_lexer": "ipython3",
   "version": "3.10.9"
  }
 },
 "nbformat": 4,
 "nbformat_minor": 5
}
