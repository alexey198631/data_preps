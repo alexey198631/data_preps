{
 "cells": [
  {
   "cell_type": "code",
   "execution_count": null,
   "id": "b24e719e",
   "metadata": {},
   "outputs": [],
   "source": [
    "\"\"\"\n",
    "file 1 columns: \n",
    "\n",
    "['Customer', 'Company', 'Customer Name', 'Code', 'Customer Group Name',\n",
    "       'Indirect/Direct', 'Channel', 'New Type', 'T&M', 'Partner page',\n",
    "       'Tableau', 'Comments']\n",
    "       \n",
    "       \n",
    "File 2 columns\n",
    "\n",
    "['OPCO', 'Customer', 'Customer_Name', 'Oscar_type',\n",
    "       'Oscar_Customer_group', 'T&M']\n",
    "\n",
    "\n",
    "\"\"\""
   ]
  },
  {
   "cell_type": "code",
   "execution_count": 1,
   "id": "50a3fc62",
   "metadata": {},
   "outputs": [],
   "source": [
    "import pandas as pd\n",
    "import numpy as np\n",
    "\n",
    "customers = pd.read_excel('data_files/file1.xlsx',sheet_name='Customers')\n",
    "oscars = pd.read_excel('data_files/file2.xlsx',sheet_name='Check')"
   ]
  },
  {
   "cell_type": "code",
   "execution_count": 2,
   "id": "8de5a0e6",
   "metadata": {},
   "outputs": [],
   "source": [
    "class Customer(object):\n",
    "    def __init__(self, number, name, typ, channel, yoko_typ, yoko):\n",
    "        self.number = number #2000756...\n",
    "        self.name = name #Name of company\n",
    "        self.typ = typ #Direct, Indirect\n",
    "        self.channel = channel #Direct, Indirect, Other\n",
    "        self.yoko_typ = yoko_typ #Distributor, Agent, etc.\n",
    "        self.yoko = yoko #affiliate\n",
    "    def getName(self):\n",
    "        return self.name\n",
    "    def getNumber(self):\n",
    "        return self.number\n",
    "    def getTyp(self):\n",
    "        return self.typ\n",
    "    def getYoko_typ(self):\n",
    "        return self.yoko_typ\n",
    "    def getChannel(self):\n",
    "        return self.channel\n",
    "    def getOPCO(self):\n",
    "        return self.yoko"
   ]
  },
  {
   "cell_type": "code",
   "execution_count": 3,
   "id": "efb47727",
   "metadata": {},
   "outputs": [],
   "source": [
    "def loadcustomers(df):\n",
    "    customerList = []\n",
    "    for i in range (len(df)):\n",
    "        customerList.append(Customer(df.iloc[i,1], df.iloc[i,2], df.iloc[i,3], None, df.iloc[i,4], df.iloc[i,0]))\n",
    "    return customerList\n",
    "\n",
    "customerList = loadcustomers(oscars)"
   ]
  },
  {
   "cell_type": "code",
   "execution_count": null,
   "id": "3550d0b3",
   "metadata": {},
   "outputs": [],
   "source": [
    "#checking Company Name with OPCO. If a company name has different OPCOs \n",
    "#it will be added to the list and writed to excel\n",
    "for_file_name = 'OPCO'\n",
    "check = []\n",
    "for i in range(len(customerList)):\n",
    "    #print(i,'from', len(customerList))\n",
    "    example = (customerList[i].getName(),customerList[i].getOPCO())\n",
    "    for j in range(len(customerList)):\n",
    "        if example[0] == customerList[j].getName() and example[1] != customerList[j].getOPCO():\n",
    "            check.append(example[0])\n",
    "            print(example[0],example[1])\n",
    "\n",
    "check = set(check)\n",
    "check = list(check)\n",
    "\n",
    "df = pd.DataFrame(check)\n",
    "writer = pd.ExcelWriter(f'data_files/check_{for_file_name}.xlsx', engine='xlsxwriter')\n",
    "df.to_excel(writer, sheet_name='OPCO')\n",
    "writer.save()"
   ]
  },
  {
   "cell_type": "code",
   "execution_count": 7,
   "id": "77bbc24d",
   "metadata": {},
   "outputs": [],
   "source": [
    "#checking Company Name with type and type of channel. If a company name has different types and channels \n",
    "#it will be added to the list and writed to excel\n",
    "\n",
    "check = []\n",
    "check_channel = []\n",
    "for i in range(len(customerList)):\n",
    "    #print(i,'from', len(customerList))\n",
    "    example = (customerList[i].getName(),customerList[i].getTyp(),customerList[i].getChannel())\n",
    "    for j in range(len(customerList)):\n",
    "        if example[0] == customerList[j].getName() and example[1] != customerList[j].getTyp():\n",
    "            check.append(example[0])\n",
    "            #print(example[0],example[1])\n",
    "        elif example[0] == customerList[j].getName() and example[2] != customerList[j].getChannel():\n",
    "            check_channel.append(example[0])\n",
    "            #print(example[0],example[2])\n",
    "\n",
    "check = set(check)\n",
    "check_channel = set(check_channel)\n",
    "check = list(check)\n",
    "check_channel = list(check_channel)\n",
    "\n",
    "df = pd.DataFrame(check)\n",
    "df2 = pd.DataFrame(check_channel)\n",
    "writer = pd.ExcelWriter('data_files/check_types.xlsx', engine='xlsxwriter')\n",
    "df.to_excel(writer, sheet_name='time')\n",
    "df2.to_excel(writer, sheet_name='time2')\n",
    "writer.save()"
   ]
  },
  {
   "cell_type": "code",
   "execution_count": null,
   "id": "b0d55242",
   "metadata": {},
   "outputs": [],
   "source": [
    "#checking Company Name with type and type - direct or indirect. If a company name has different types and channels \n",
    "#it will be added to the list and writed to excel\n",
    "for_name = 'type'\n",
    "check = []\n",
    "for i in range(len(customerList)):\n",
    "    #print(i,'from', len(customerList))\n",
    "    example = (customerList[i].getName(),customerList[i].getTyp())\n",
    "    for j in range(len(customerList)):\n",
    "        if example[0] == customerList[j].getName() and example[1] != customerList[j].getTyp():\n",
    "            check.append(example[0])\n",
    "            print(example[0],example[1])\n",
    "\n",
    "\n",
    "check = set(check)\n",
    "check = list(check)\n",
    "\n",
    "df = pd.DataFrame(check)\n",
    "writer = pd.ExcelWriter(f'data_files/{for_name}_check_types.xlsx', engine='xlsxwriter')\n",
    "df.to_excel(writer, sheet_name='time')\n",
    "writer.save()"
   ]
  }
 ],
 "metadata": {
  "kernelspec": {
   "display_name": "Python 3 (ipykernel)",
   "language": "python",
   "name": "python3"
  },
  "language_info": {
   "codemirror_mode": {
    "name": "ipython",
    "version": 3
   },
   "file_extension": ".py",
   "mimetype": "text/x-python",
   "name": "python",
   "nbconvert_exporter": "python",
   "pygments_lexer": "ipython3",
   "version": "3.9.12"
  }
 },
 "nbformat": 4,
 "nbformat_minor": 5
}
