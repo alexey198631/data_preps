{
 "cells": [
  {
   "cell_type": "code",
   "execution_count": null,
   "id": "73af4940",
   "metadata": {},
   "outputs": [],
   "source": [
    "\"\"\"\n",
    "This script processes data from Zoom CSV files, where the duration of webinars is incorrectly specified due \n",
    "to the fact that webinars started at 10am and ended around 11am. The host's login time was recorded, which \n",
    "is not the correct way to track participants' attendance time. In this script, the time of \n",
    "the last participant's disconnection will be found to obtain the actual duration of the webinar.\n",
    "\n",
    "\"\"\""
   ]
  },
  {
   "cell_type": "code",
   "execution_count": null,
   "id": "2597522e",
   "metadata": {},
   "outputs": [],
   "source": [
    "import datetime\n",
    "import pandas as pd\n",
    "import openpyxl\n",
    "import numpy as np\n",
    "from openpyxl.utils.dataframe import dataframe_to_rows\n",
    "\n",
    "attendee_details = pd.read_excel('data_files/report.xlsx', sheet_name='attendee_details')\n",
    "attendee_details['Time in Session (minutes)'] = attendee_details['Time in Session (minutes)'].round(0)\n",
    "\n",
    "#last webinar was added automatically and it has different kind of time, it is necessary to prepare separately\n",
    "last_webinar = attendee_details['Webinar'].iloc[len(attendee_details) - 1]\n",
    "\n",
    "int_attendee_details = attendee_details[attendee_details['Webinar'] != last_webinar]\n",
    "last_attendee_details = attendee_details[attendee_details['Webinar'] == last_webinar]\n",
    "\n",
    "int_attendee_details['Join Time'] = pd.to_datetime(int_attendee_details['Join Time'], errors='coerce').dt.time\n",
    "int_attendee_details['Leave Time'] = pd.to_datetime(int_attendee_details['Leave Time'], errors='coerce').dt.time\n",
    "\n",
    "attendee_details = pd.concat([int_attendee_details, last_attendee_details])\n",
    "\n",
    "# actual duration of webinars\n",
    "\n",
    "attendee_details['Webinar Start'] = '10:00:00'\n",
    "attendee_details['Webinar Start'] = pd.to_datetime(attendee_details['Webinar Start'], format='%H:%M:%S')\n",
    "\n",
    "# convert time columns to datetime objects\n",
    "attendee_details['Join Time'] = pd.to_datetime(attendee_details['Join Time'], format='%H:%M:%S')\n",
    "attendee_details['Leave Time'] = pd.to_datetime(attendee_details['Leave Time'], format='%H:%M:%S')\n",
    "\n",
    "\n",
    "# calculate duration of participation of each attendee\n",
    "attendee_details['participation_time'] = (attendee_details['Leave Time'] - attendee_details['Join Time']).dt.total_seconds() / 60\n",
    "attendee_details['participation_time'] = attendee_details['participation_time'].round(0)\n",
    "\n",
    "attendee_details['webinar_duration'] = (attendee_details['Leave Time'] - attendee_details['Webinar Start']).dt.total_seconds() / 60\n",
    "attendee_details['webinar_duration'] = attendee_details['webinar_duration'].round(0)\n",
    "\n",
    "# calculate the maximum value for each webinar group\n",
    "max_duration = attendee_details.groupby('Webinar')['webinar_duration'].transform('max')\n",
    "max_participation = attendee_details.groupby('Webinar')['participation_time'].transform('max')\n",
    "\n",
    "\n",
    "# assign the max values to a new column\n",
    "attendee_details['actual_duration'] = max_duration\n",
    "attendee_details['max_participation'] = max_participation"
   ]
  },
  {
   "cell_type": "code",
   "execution_count": 51,
   "id": "fa570b25",
   "metadata": {},
   "outputs": [],
   "source": [
    "# calculate the maximum non-extreme value for each webinar group\n",
    "#mean = np.mean(attendee_details['time_diff_minutes'])\n",
    "#std = np.std(attendee_details['time_diff_minutes'])\n",
    "#threshold = 2\n",
    "#max_values[attendee_details.groupby('Webinar')['time_diff_minutes'].transform(lambda x: len([i for i in x if (i >= mean - threshold * std) and (i <= mean + threshold * std)]) == 0)] = np.nan\n",
    "#max_values = attendee_details.groupby('Webinar')['time_diff_minutes'].transform(lambda x: max([i for i in x if (i >= mean - threshold * std) and (i <= mean + threshold * std)]))   "
   ]
  },
  {
   "cell_type": "code",
   "execution_count": null,
   "id": "7f62f9c9",
   "metadata": {},
   "outputs": [],
   "source": [
    "writer = pd.ExcelWriter('data_files/temp.xlsx')\n",
    "attendee_details.to_excel(writer, sheet_name='temp')\n",
    "writer.save()"
   ]
  },
  {
   "cell_type": "code",
   "execution_count": null,
   "id": "afd06858",
   "metadata": {},
   "outputs": [],
   "source": [
    "# it is neceassry to implement duration assessment"
   ]
  }
 ],
 "metadata": {
  "kernelspec": {
   "display_name": "Python 3 (ipykernel)",
   "language": "python",
   "name": "python3"
  },
  "language_info": {
   "codemirror_mode": {
    "name": "ipython",
    "version": 3
   },
   "file_extension": ".py",
   "mimetype": "text/x-python",
   "name": "python",
   "nbconvert_exporter": "python",
   "pygments_lexer": "ipython3",
   "version": "3.10.9"
  }
 },
 "nbformat": 4,
 "nbformat_minor": 5
}
