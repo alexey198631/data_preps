{
 "cells": [
  {
   "cell_type": "code",
   "execution_count": 1,
   "id": "d2f7b4a2",
   "metadata": {},
   "outputs": [],
   "source": [
    "import pandas as pd\n",
    "import sqlite3\n",
    "import importlib"
   ]
  },
  {
   "cell_type": "code",
   "execution_count": 6,
   "id": "a2242cb9",
   "metadata": {},
   "outputs": [],
   "source": [
    "source_file = 'data_files/new_customers.xlsx'\n",
    "new_customers = pd.read_excel(source_file)"
   ]
  },
  {
   "cell_type": "code",
   "execution_count": 7,
   "id": "c07ecf8e",
   "metadata": {},
   "outputs": [],
   "source": [
    "#data = new_customers.to_records(index=False)"
   ]
  },
  {
   "cell_type": "code",
   "execution_count": 8,
   "id": "52c23e48",
   "metadata": {},
   "outputs": [],
   "source": [
    "conn = sqlite3.connect('data_files/customer_data.db')\n",
    "# Insert the DataFrame into the 'customers' table\n",
    "new_customers.to_sql('customers', conn, if_exists='append', index=False)\n",
    "conn.close()"
   ]
  },
  {
   "cell_type": "code",
   "execution_count": 4,
   "id": "b45ee915",
   "metadata": {},
   "outputs": [
    {
     "data": {
      "text/plain": [
       "14787"
      ]
     },
     "execution_count": 4,
     "metadata": {},
     "output_type": "execute_result"
    }
   ],
   "source": [
    "14730 + len(new_customers)"
   ]
  },
  {
   "cell_type": "code",
   "execution_count": 9,
   "id": "6ffe8eed",
   "metadata": {},
   "outputs": [],
   "source": [
    "conn = sqlite3.connect('data_files/customer_data.db')\n",
    "query = \"SELECT * FROM customers\"  # Replace 'tablename' with your table name\n",
    "df_customers = pd.read_sql_query(query, conn)\n",
    "conn.close()"
   ]
  },
  {
   "cell_type": "code",
   "execution_count": 10,
   "id": "a1d9dd10",
   "metadata": {},
   "outputs": [
    {
     "data": {
      "text/plain": [
       "14787"
      ]
     },
     "execution_count": 10,
     "metadata": {},
     "output_type": "execute_result"
    }
   ],
   "source": [
    "len(df_customers)"
   ]
  },
  {
   "cell_type": "code",
   "execution_count": 11,
   "id": "6d16ff60",
   "metadata": {},
   "outputs": [],
   "source": [
    "df_customers.to_excel('data_files/df_customers_2.xlsx', index=False)"
   ]
  },
  {
   "cell_type": "code",
   "execution_count": null,
   "id": "ebf6ccf2",
   "metadata": {},
   "outputs": [],
   "source": []
  }
 ],
 "metadata": {
  "kernelspec": {
   "display_name": "Python 3 (ipykernel)",
   "language": "python",
   "name": "python3"
  },
  "language_info": {
   "codemirror_mode": {
    "name": "ipython",
    "version": 3
   },
   "file_extension": ".py",
   "mimetype": "text/x-python",
   "name": "python",
   "nbconvert_exporter": "python",
   "pygments_lexer": "ipython3",
   "version": "3.10.9"
  }
 },
 "nbformat": 4,
 "nbformat_minor": 5
}
