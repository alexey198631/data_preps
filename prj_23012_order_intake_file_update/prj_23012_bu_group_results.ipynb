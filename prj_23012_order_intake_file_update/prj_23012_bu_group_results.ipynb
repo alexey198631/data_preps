{
 "cells": [
  {
   "cell_type": "code",
   "execution_count": 2,
   "id": "19195d55",
   "metadata": {},
   "outputs": [
    {
     "name": "stdout",
     "output_type": "stream",
     "text": [
      "202306\n"
     ]
    }
   ],
   "source": [
    "import pandas as pd\n",
    "from datetime import datetime\n",
    "from dateutil.relativedelta import relativedelta\n",
    "import importlib\n",
    "\n",
    "# keeping company information in additional file\n",
    "import data_file\n",
    "importlib.reload(data_file)\n",
    "\n",
    "# Get current year and month\n",
    "now = datetime.now()\n",
    "\n",
    "# Subtract one month from current date\n",
    "last_month = now - relativedelta(months=1)  #\n",
    "\n",
    "# Format last month as string in YYYYMM format\n",
    "year_month = last_month.strftime(\"%Y%m\")\n",
    "\n",
    "print(year_month)\n",
    "\n",
    "# Construct file path\n",
    "file_path = f\"data_files/{year_month}.xlsx\"\n",
    "\n",
    "# Read xlsx file into pandas DataFrame\n",
    "df = pd.read_excel(file_path)"
   ]
  },
  {
   "cell_type": "code",
   "execution_count": 3,
   "id": "c7aada94",
   "metadata": {},
   "outputs": [],
   "source": [
    "#combining products groups \n",
    "control = data_file.control\n",
    "transmitters = data_file.transmitters\n",
    "flowmeters = data_file.flowmeters\n",
    "gc = data_file.gc\n",
    "analytical = data_file.analytical\n",
    "asi = data_file.asi\n",
    "other_prj_product = data_file.other_prj_product\n",
    "\n",
    "all_groups = control + transmitters + flowmeters + gc + analytical + asi + other_prj_product"
   ]
  },
  {
   "cell_type": "code",
   "execution_count": 4,
   "id": "e04baa0e",
   "metadata": {},
   "outputs": [],
   "source": [
    "year_month_int = int(year_month)\n",
    "df = df[df['year_month'] == year_month_int]"
   ]
  },
  {
   "cell_type": "code",
   "execution_count": 5,
   "id": "fd82a3bf",
   "metadata": {},
   "outputs": [],
   "source": [
    "my_company_name = data_file.my_company_name\n",
    "exclusion_company_one = data_file.exclusion_company_one\n",
    "exclusion_company_two = data_file.exclusion_company_two\n",
    "\n",
    "last_column_name = 'order_intake_amount_eur'\n",
    "df = df.rename(columns={df.columns[-1]: last_column_name})\n",
    "\n",
    "#necessary modifications of columns\n",
    "df['bu'] = df['bu'].astype(str)\n",
    "df['company_up'] = df['sold_to_customer_n'].str.upper()\n",
    "\n",
    "\n",
    "# Filter out rows with unwanted value in column2\n",
    "df = df[~df['company_up'].str.contains(my_company_name) & ~df['company_up'].str.contains(exclusion_company_one) & ~df['company_up'].str.contains(exclusion_company_two)]  "
   ]
  },
  {
   "cell_type": "code",
   "execution_count": 6,
   "id": "58912667",
   "metadata": {},
   "outputs": [],
   "source": [
    "# Drop rows where 'ColumnA' value is 0\n",
    "df = df.drop(df[df[last_column_name] == 0].index)"
   ]
  },
  {
   "cell_type": "code",
   "execution_count": 7,
   "id": "cc36c800",
   "metadata": {},
   "outputs": [],
   "source": [
    "# Create an ExcelWriter object\n",
    "writer = pd.ExcelWriter(f'data_files/outcome/df_wo_{my_company_name}_{year_month}.xlsx')\n",
    "# Save each DataFrame to a separate sheet in the same file\n",
    "df.to_excel(writer, sheet_name='report_bu')\n",
    "# Save the file\n",
    "writer.close()"
   ]
  },
  {
   "cell_type": "code",
   "execution_count": 8,
   "id": "f06c297c",
   "metadata": {},
   "outputs": [],
   "source": [
    "# Define a function to combine values in bu\n",
    "def combine_values(x):\n",
    "    if x in control:\n",
    "        return f'Control {control}'\n",
    "    elif x in transmitters:\n",
    "        return f'Transmitters {transmitters}'\n",
    "    elif x in flowmeters:\n",
    "        return f'Flowmeters {flowmeters}'\n",
    "    elif x in gc:\n",
    "        return f'GC {gc}'\n",
    "    elif x in analytical:\n",
    "        return f'Analytical Products {analytical}'\n",
    "    elif x in asi:\n",
    "        return f'ASI {asi}'\n",
    "    elif x in other_prj_product:\n",
    "        return f'Other prj products {other_prj_product}'\n",
    "    else:\n",
    "        return 'Other'\n",
    "\n",
    "# Apply the function to create a new column with combined values\n",
    "df['Business Unit'] = df['bu'].apply(combine_values)\n",
    "\n",
    "# Group the data by the new combined column and sum the values in order_intake_amount_eur\n",
    "report_bu = df.groupby(['Business Unit'])['order_intake_amount_eur'].agg('sum')\n",
    "report_bu = report_bu.div(1000).round(1)\n",
    "\n",
    "# Compute the total excluding the value Other in Business Unit\n",
    "report_bu = report_bu.loc[report_bu.index.get_level_values('Business Unit') != 'Other'].groupby('Business Unit').agg('sum').to_frame('Total, kEuro')\n",
    "\n",
    "# Append the total row to the bottom of the grouped DataFrame\n",
    "report_bu = report_bu.reset_index()\n",
    "col_sum = report_bu['Total, kEuro'].sum()\n",
    "report_bu.loc[len(report_bu)] = ['Total: ', col_sum]\n",
    "\n",
    "report_opco = df.groupby(['company_code_n', 'bu'])['order_intake_amount_eur'].sum()\n",
    "\n",
    "# Drop rows with 0 values for 'order_intake_amount_eur'\n",
    "report_opco = report_opco[report_opco != 0]\n",
    "\n",
    "\n",
    "# Divide the sums by 1000 and round them\n",
    "report_opco = report_opco.div(1000).round(1)\n",
    "# Sort the values in descending order\n",
    "report_opco = report_opco.sort_values(ascending=False)\n",
    "report_opco = report_opco.reset_index()\n",
    "# keeping only product bu groups\n",
    "report_opco = report_opco[report_opco['bu'].isin(all_groups)]"
   ]
  },
  {
   "cell_type": "code",
   "execution_count": 9,
   "id": "54ffa51e",
   "metadata": {},
   "outputs": [],
   "source": [
    "# Create an ExcelWriter object\n",
    "writer = pd.ExcelWriter(f'data_files/outcome/bu_summary_{year_month}.xlsx')\n",
    "\n",
    "# Save each DataFrame to a separate sheet in the same file\n",
    "report_bu.to_excel(writer, sheet_name='report_bu')\n",
    "report_opco.to_excel(writer, sheet_name='report_opco')\n",
    "\n",
    "# Save the file\n",
    "writer.close()"
   ]
  },
  {
   "cell_type": "code",
   "execution_count": null,
   "id": "44599158",
   "metadata": {},
   "outputs": [],
   "source": []
  }
 ],
 "metadata": {
  "kernelspec": {
   "display_name": "Python 3 (ipykernel)",
   "language": "python",
   "name": "python3"
  },
  "language_info": {
   "codemirror_mode": {
    "name": "ipython",
    "version": 3
   },
   "file_extension": ".py",
   "mimetype": "text/x-python",
   "name": "python",
   "nbconvert_exporter": "python",
   "pygments_lexer": "ipython3",
   "version": "3.10.9"
  }
 },
 "nbformat": 4,
 "nbformat_minor": 5
}
