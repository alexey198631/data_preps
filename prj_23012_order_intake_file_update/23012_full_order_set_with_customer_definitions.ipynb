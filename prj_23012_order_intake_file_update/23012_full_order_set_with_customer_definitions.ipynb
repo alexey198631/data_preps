{
 "cells": [
  {
   "cell_type": "code",
   "execution_count": 82,
   "id": "42c2d850",
   "metadata": {},
   "outputs": [],
   "source": [
    "import pandas as pd\n",
    "import numpy as np\n",
    "import sqlite3\n",
    "import importlib\n",
    "from datetime import datetime\n",
    "\n",
    "# keeping company information in additional file\n",
    "import data_file"
   ]
  },
  {
   "cell_type": "code",
   "execution_count": 83,
   "id": "bc86b68d",
   "metadata": {},
   "outputs": [],
   "source": [
    "sales_person_n = data_file.sales_person_n\n",
    "exlbu=data_file.exlbu\n",
    "exlpanrter=data_file.exlpanrter\n",
    "\n",
    "# Get current year and month\n",
    "now = datetime.now()\n",
    "last_month = now\n",
    "# Format last month as string in YYYYMM format\n",
    "year_month = last_month.strftime(\"%Y%m\")"
   ]
  },
  {
   "cell_type": "code",
   "execution_count": 84,
   "id": "cd834a17",
   "metadata": {},
   "outputs": [],
   "source": [
    "conn = sqlite3.connect('data_files/order_data.db')\n",
    "query = \"SELECT * FROM orders\"\n",
    "df_orders = pd.read_sql_query(query, conn)\n",
    "conn.close()\n",
    "\n",
    "conn2 = sqlite3.connect('data_files/customer_data.db')\n",
    "query = \"SELECT * FROM customers\"\n",
    "df_customers = pd.read_sql_query(query, conn2)\n",
    "conn2.close()"
   ]
  },
  {
   "cell_type": "code",
   "execution_count": null,
   "id": "9b8cb52a",
   "metadata": {},
   "outputs": [],
   "source": [
    "df_orders['sold_to_customer'] = df_orders['sold_to_customer'].astype(str)\n",
    "df_customers['sold_to_customer'] = df_customers['sold_to_customer'].astype(str)\n",
    "df_orders[~df_orders['sold_to_customer'].isin(df_customers['sold_to_customer'].to_list())]\n",
    "#print('order data lines:', len(df_orders), \"Total Order Intake Amount: {:.2f}\".format(df_orders.order_intake_amount_eur.sum()))"
   ]
  },
  {
   "cell_type": "code",
   "execution_count": 48,
   "id": "d77e0e81",
   "metadata": {},
   "outputs": [],
   "source": [
    "# for testing purposes I keep this lines\n",
    "wdf = df_customers.copy()\n",
    "wdf.loc[wdf['tier'].isna(), 'tier'] = 'Direct'\n",
    "wdf.loc[wdf['tier'] == 'None', 'tier'] = 'Direct'\n",
    "wdf.loc[wdf['tier_new'].isna(), 'tier_new'] = 'Direct'\n",
    "wdf.loc[wdf['tier_new'] == 'None', 'tier_new'] = 'Direct'\n",
    "wdf.loc[wdf[exlpanrter] == 'None', exlpanrter] = 'NA'\n",
    "wdf.loc[wdf[exlpanrter].isna(), exlpanrter] = 'NA'\n",
    "\n",
    "dfc = df_orders.copy()"
   ]
  },
  {
   "cell_type": "code",
   "execution_count": 49,
   "id": "f08e2b85",
   "metadata": {},
   "outputs": [],
   "source": [
    "bu_defin = pd.read_excel('data_files/bu_defin.xlsx')\n",
    "bu_defin = bu_defin.loc[:, 'bu2':]\n",
    "bu_defin['for_bu'] = bu_defin['for_bu'].astype(str)\n",
    "bu_defin['bu2'] = bu_defin['bu2'].astype(str)\n",
    "bu_defin['bu2'] = bu_defin['bu2'].str.strip()"
   ]
  },
  {
   "cell_type": "code",
   "execution_count": 50,
   "id": "01395867",
   "metadata": {},
   "outputs": [],
   "source": [
    "order_data = dfc.loc[:,['company_code_n', 'year_month', 'FY', \n",
    "       'bu2', 'sales_person_n', 'sales_order_so', 'sold_to_customer',\n",
    "       'sold_to_customer_n', 'ec_eu_customer_n', 'order_intake_amount_eur']]\n",
    "\n",
    "order_data['bu2'] = order_data['bu2'].astype(str)\n",
    "order_data['bu2'] = order_data['bu2'].str.strip()\n",
    "\n",
    "# add bu column for future reports\n",
    "order_data = order_data.merge(bu_defin, how='left' )"
   ]
  },
  {
   "cell_type": "code",
   "execution_count": 51,
   "id": "bdf017f8",
   "metadata": {},
   "outputs": [],
   "source": [
    "# Convert 'FY' column to datetime format\n",
    "order_data['FY'] = pd.to_datetime(order_data['FY'])"
   ]
  },
  {
   "cell_type": "code",
   "execution_count": 52,
   "id": "46781272",
   "metadata": {},
   "outputs": [],
   "source": [
    "order_columns = list(order_data.columns) + ['customer_name', 'indirect_direct', 'tier', 'tier_new', 'type', exlpanrter]"
   ]
  },
  {
   "cell_type": "code",
   "execution_count": 53,
   "id": "68310771",
   "metadata": {},
   "outputs": [
    {
     "name": "stdout",
     "output_type": "stream",
     "text": [
      "should be 0:  0\n"
     ]
    }
   ],
   "source": [
    "# special case with specific SO for agent\n",
    "agent_so = data_file.special_so\n",
    "agent_so_two = data_file.special_so_two \n",
    "agent_one = data_file.agent_one\n",
    "so_order_data = order_data[(order_data['sales_order_so'] == agent_so) | (order_data['sales_order_so'] == agent_so_two)]\n",
    "order_data = order_data[~((order_data['sales_order_so'] == agent_so) | (order_data['sales_order_so'] == agent_so_two))]\n",
    "print('should be 0: ', len(order_data) + len(so_order_data) - len(df_orders))\n",
    "\n",
    "so_order_data['customer_name'] = agent_one\n",
    "so_order_data['indirect_direct'] = 'Indirect'\n",
    "so_order_data['tier'] = 'Channel Partner'\n",
    "so_order_data['tier_new'] = 'Channel Partner'\n",
    "so_order_data['type'] = 'Agent'"
   ]
  },
  {
   "cell_type": "code",
   "execution_count": 54,
   "id": "0c87b746",
   "metadata": {},
   "outputs": [],
   "source": [
    "# special case with specific cutomers for agent\n",
    "partners_data = wdf.copy()\n",
    "agent_two = data_file.agent_two\n",
    "partners_data.loc[partners_data[exlpanrter].notna(), 'customer_name'] = agent_two\n",
    "partners_data = partners_data.loc[:, ['sold_to_customer', 'agent_person', 'company_code_n', 'sold_to_customer_n','customer_name', \n",
    "       'indirect_direct', 'channel', 'type', 'tier', 'tier_new',  exlpanrter]]\n",
    "\n",
    "partners_data['sold_to_customer'] = partners_data['sold_to_customer'].astype(str)"
   ]
  },
  {
   "cell_type": "code",
   "execution_count": 55,
   "id": "3980fa8a",
   "metadata": {},
   "outputs": [
    {
     "name": "stdout",
     "output_type": "stream",
     "text": [
      "should be 0:  0\n",
      "should be 0:  0\n"
     ]
    }
   ],
   "source": [
    "agent_partners = partners_data[partners_data['agent_person'].notna()]\n",
    "agent_partners = agent_partners[agent_partners['agent_person'] != 'None']\n",
    "\n",
    "# agent sales records preparation\n",
    "agents_order_data = order_data[order_data['sales_person_n'].isin(sales_person_n)]\n",
    "order_data = order_data[~order_data['sales_person_n'].isin(sales_person_n)]\n",
    "\n",
    "agents_order_before = agents_order_data.copy()\n",
    "\n",
    "print('should be 0: ', len(agents_order_data) + len(order_data) +  len(so_order_data) - len(df_orders))\n",
    "\n",
    "agents_order_data = agents_order_data.merge(agent_partners, left_on='sales_person_n', right_on='sold_to_customer_n', how='left')\n",
    "agents_order_data = agents_order_data.filter(regex='^(?!.*_y)')\n",
    "# Exclude '_x' from all column names\n",
    "agents_order_data.columns = agents_order_data.columns.str.replace('_x', '')\n",
    "agents_order_data = agents_order_data.loc[:, order_columns]\n",
    "agents_order_data['type'] = 'Agent'\n",
    "\n",
    "print('should be 0: ', len(agents_order_data) + len(order_data) +  len(so_order_data) - len(df_orders))"
   ]
  },
  {
   "cell_type": "code",
   "execution_count": 56,
   "id": "7a54ca85",
   "metadata": {},
   "outputs": [
    {
     "name": "stdout",
     "output_type": "stream",
     "text": [
      "not in the customer db: 1\n",
      "should be 0:  0\n"
     ]
    }
   ],
   "source": [
    "# all partners except agents data preparation\n",
    "other_order_data = order_data[order_data['sold_to_customer'].isin(partners_data['sold_to_customer'])]\n",
    "checkthis = order_data[~order_data['sold_to_customer'].isin(partners_data['sold_to_customer'])]\n",
    "print('not in the customer db:', len(checkthis))\n",
    "other_order_data = order_data.copy()\n",
    "other_order_data = other_order_data.merge(partners_data, left_on='sold_to_customer', right_on='sold_to_customer', how='left')\n",
    "other_order_data = other_order_data.filter(regex='^(?!.*_y)')\n",
    "# Exclude '_x' from all column names\n",
    "other_order_data.columns = other_order_data.columns.str.replace('_x', '')\n",
    "other_order_data = other_order_data.loc[:, order_columns]\n",
    "# Update values in columns based on the specific value\n",
    "other_order_data.loc[((other_order_data['indirect_direct'] == 'Direct') & ( (other_order_data['tier_new'] != 'Direct') | (other_order_data[exlpanrter] != 'NA' ) )), 'tier'] = 'Channel Partner'\n",
    "other_order_data.loc[((other_order_data['indirect_direct'] == 'Direct') & ( (other_order_data['tier_new'] != 'Direct') | (other_order_data[exlpanrter] != 'NA') )), 'tier_new'] = 'Channel Partner'\n",
    "other_order_data.loc[((other_order_data['indirect_direct'] == 'Direct') & ( (other_order_data['tier_new'] != 'Direct') | (other_order_data[exlpanrter] != 'NA') )), 'type'] = 'Agent' \n",
    "print('should be 0: ', len(agents_order_data) + len(other_order_data) +  len(so_order_data) - len(df_orders))"
   ]
  },
  {
   "cell_type": "code",
   "execution_count": null,
   "id": "c8ea2dd9",
   "metadata": {},
   "outputs": [],
   "source": [
    "checkthis"
   ]
  },
  {
   "cell_type": "code",
   "execution_count": 58,
   "id": "6f598255",
   "metadata": {},
   "outputs": [
    {
     "name": "stdout",
     "output_type": "stream",
     "text": [
      "should be 0:  0\n"
     ]
    }
   ],
   "source": [
    "# combining all the sales records\n",
    "full_data = pd.concat([other_order_data, agents_order_data, so_order_data])\n",
    "full_data.reset_index(inplace=True, drop=True)\n",
    "#full_data.drop_duplicates(inplace=True)\n",
    "print('should be 0: ', len(full_data) - len(df_orders))"
   ]
  },
  {
   "cell_type": "code",
   "execution_count": 59,
   "id": "03901f64",
   "metadata": {},
   "outputs": [],
   "source": [
    "# Create a dictionary mapping sold_to_customer values to corresponding countries\n",
    "df_customers['sold_to_customer'] = df_customers['sold_to_customer'].astype(str)\n",
    "customer_country_map = df_customers.set_index('sold_to_customer')['countries'].to_dict()\n",
    "\n",
    "# Fill missing values in temp_df['countries'] using the mapping dictionary\n",
    "full_data['countries'] = ''\n",
    "full_data['sold_to_customer'] = full_data['sold_to_customer'].astype(str)\n",
    "full_data['countries'] = full_data['countries'].replace('', pd.NA).fillna(full_data['sold_to_customer'].map(customer_country_map))\n",
    "\n",
    "checkthis = full_data[full_data.countries.isna()]"
   ]
  },
  {
   "cell_type": "code",
   "execution_count": null,
   "id": "de0cfc81",
   "metadata": {},
   "outputs": [],
   "source": [
    "checkthis"
   ]
  },
  {
   "cell_type": "code",
   "execution_count": 61,
   "id": "157f3f3f",
   "metadata": {},
   "outputs": [],
   "source": [
    "# Drop rows where 'countries' column contains NaN values\n",
    "full_data = full_data.dropna(subset=['countries'])"
   ]
  },
  {
   "cell_type": "code",
   "execution_count": 62,
   "id": "83414654",
   "metadata": {},
   "outputs": [
    {
     "data": {
      "text/plain": [
       "-2.384185791015625e-07"
      ]
     },
     "execution_count": 62,
     "metadata": {},
     "output_type": "execute_result"
    }
   ],
   "source": [
    "full_data.order_intake_amount_eur.sum() - dfc.order_intake_amount_eur.sum() + checkthis.order_intake_amount_eur.sum()"
   ]
  },
  {
   "cell_type": "code",
   "execution_count": 68,
   "id": "97a96a83",
   "metadata": {},
   "outputs": [],
   "source": [
    "indirect_so = pd.read_excel(f'data_files/outcome/results_{year_month}.xlsx')"
   ]
  },
  {
   "cell_type": "code",
   "execution_count": 71,
   "id": "2f90a3fe",
   "metadata": {},
   "outputs": [],
   "source": [
    "indirect_so = indirect_so[['customer_name', 'indirect_direct', 'sales_order_so','tier_new', 'type', 'order_intake_amount_eur']]\n",
    "indirect_so['sum_column'] = indirect_so.groupby('sales_order_so')['order_intake_amount_eur'].transform('sum')\n",
    "\n",
    "indirect_so = indirect_so.sort_values(by='sum_column', ascending=False)\n",
    "\n",
    "indirect_so = indirect_so.drop_duplicates(subset='sales_order_so', keep='first')\n",
    "\n",
    "# Step 1: Count unique values in the column\n",
    "value_counts = indirect_so['sales_order_so'].value_counts()\n",
    "\n",
    "# Step 2: Filter values that occur more than once\n",
    "values_gt_one = value_counts[value_counts > 1]\n",
    "\n",
    "# Step 3: Write the filtered values to a new DataFrame or file, or use them as required\n",
    "filtered_values_df = pd.DataFrame({'sales_order_so': values_gt_one.index, 'count': values_gt_one.values})"
   ]
  },
  {
   "cell_type": "code",
   "execution_count": 78,
   "id": "e7c391c6",
   "metadata": {},
   "outputs": [],
   "source": [
    "temp = full_data.copy()\n",
    "temp['sales_order_so'] = temp['sales_order_so'].astype(float)\n",
    "temp = temp.merge(indirect_so, on='sales_order_so', how='left', suffixes= ('', '_ind'))"
   ]
  },
  {
   "cell_type": "code",
   "execution_count": 79,
   "id": "c63be124",
   "metadata": {},
   "outputs": [
    {
     "data": {
      "text/plain": [
       "-2.384185791015625e-07"
      ]
     },
     "execution_count": 79,
     "metadata": {},
     "output_type": "execute_result"
    }
   ],
   "source": [
    "temp.order_intake_amount_eur.sum() - dfc.order_intake_amount_eur.sum() + checkthis.order_intake_amount_eur.sum()"
   ]
  },
  {
   "cell_type": "code",
   "execution_count": null,
   "id": "46b11168",
   "metadata": {},
   "outputs": [],
   "source": [
    "df = temp.copy()\n",
    "# Step 1: Use the 'fillna()' method with the 'mask' parameter to replace values where the indicator column is not NaN\n",
    "df['customer_name'] = df['customer_name'].fillna(df['customer_name_ind'].mask(df['customer_name_ind'].notnull()))\n",
    "df['indirect_direct'] = df['indirect_direct'].fillna(df['indirect_direct_ind'].mask(df['indirect_direct_ind'].notnull()))\n",
    "df['tier_new'] = df['tier_new'].fillna(df['tier_new_ind'].mask(df['tier_new_ind'].notnull()))\n",
    "df['type'] = df['type'].fillna(df['type_ind'].mask(df['type_ind'].notnull()))"
   ]
  },
  {
   "cell_type": "code",
   "execution_count": 81,
   "id": "a12a8821",
   "metadata": {},
   "outputs": [],
   "source": [
    "full_data_df = temp[['company_code_n', 'year_month', 'FY', 'bu2', 'sales_person_n',\n",
    "       'sales_order_so', 'sold_to_customer', 'sold_to_customer_n',\n",
    "       'ec_eu_customer_n', 'order_intake_amount_eur', 'for_bu',\n",
    "       'customer_name', 'indirect_direct', 'tier', 'tier_new', 'type',\n",
    "       'countries', 'customer_name_ind', 'indirect_direct_ind', 'tier_new_ind', 'type_ind']]\n",
    "\n",
    "writer = pd.ExcelWriter(f'data_files/outcome/full_order_data_set_{year_month}.xlsx')\n",
    "# Save each DataFrame to a separate sheet in the same file\n",
    "full_data_df.to_excel(writer, sheet_name='results', index=False)\n",
    "# Save the file\n",
    "writer.close()"
   ]
  }
 ],
 "metadata": {
  "kernelspec": {
   "display_name": "Python 3 (ipykernel)",
   "language": "python",
   "name": "python3"
  },
  "language_info": {
   "codemirror_mode": {
    "name": "ipython",
    "version": 3
   },
   "file_extension": ".py",
   "mimetype": "text/x-python",
   "name": "python",
   "nbconvert_exporter": "python",
   "pygments_lexer": "ipython3",
   "version": "3.10.9"
  }
 },
 "nbformat": 4,
 "nbformat_minor": 5
}
