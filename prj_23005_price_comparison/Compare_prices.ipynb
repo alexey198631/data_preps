{
 "cells": [
  {
   "cell_type": "code",
   "execution_count": 22,
   "id": "f9bc07c2",
   "metadata": {},
   "outputs": [],
   "source": [
    "\"\"\"To use this code I need Query from Access Price book and pricesheet from YGS system\"\"\"\n",
    "\n",
    "import pandas as pd\n",
    "\n",
    "# read in the excel file \n",
    "\n",
    "xlsx = pd.ExcelFile('data_files/llp.xlsx')\n",
    "\n",
    "# dictionary to store the dataframes\n",
    "\n",
    "dfs = {}\n",
    "\n",
    "for sheet_name in xlsx.sheet_names:\n",
    "    dfs[sheet_name] = xlsx.parse(sheet_name)"
   ]
  },
  {
   "cell_type": "code",
   "execution_count": 14,
   "id": "f807dc0a",
   "metadata": {},
   "outputs": [],
   "source": [
    "# another possible solution\n",
    "\n",
    "for sheet_name in xlsx.sheet_names:\n",
    "    globals()[sheet_name] = xlsx.parse(sheet_name)"
   ]
  },
  {
   "cell_type": "code",
   "execution_count": 74,
   "id": "3647510e",
   "metadata": {},
   "outputs": [],
   "source": [
    "nes_columns = ['Model Number', 'Characteristic', 'RSP-EUR', 'LLP-EUR']\n",
    "rsp = 'RSP-EUR'\n",
    "llp = 'LLP-EUR'\n",
    "\n",
    "f = []\n",
    "t = []\n",
    "l = []\n",
    "\n",
    "for key in dfs.keys():\n",
    "    if rsp in dfs[key].columns and llp in dfs[key].columns:\n",
    "        f.append(dfs[key])\n",
    "    elif rsp in dfs[key].columns:\n",
    "        t.append(dfs[key])\n",
    "    elif llp in dfs[key].columns:\n",
    "        l.append(dfs[key])"
   ]
  },
  {
   "cell_type": "code",
   "execution_count": 77,
   "id": "5d2f9fc8",
   "metadata": {},
   "outputs": [],
   "source": [
    "fin = []\n",
    "\n",
    "\n",
    "for df in f:\n",
    "    df = df.loc[:,['Model Number', 'Characteristic', 'RSP-EUR', 'LLP-EUR']]\n",
    "    df = df[df['Characteristic'].isna()]\n",
    "    fin.append(df)\n",
    "for df in t:\n",
    "    df = df.loc[:,['Model Number', 'Characteristic', 'RSP-EUR']]\n",
    "    df = df[df['Characteristic'].isna()]\n",
    "    fin.append(df)\n",
    "for df in l:\n",
    "    df = df.loc[:,['Model Number', 'Characteristic', 'LLP-EUR']]\n",
    "    df = df[df['Characteristic'].isna()]\n",
    "    fin.append(df)"
   ]
  },
  {
   "cell_type": "code",
   "execution_count": 78,
   "id": "f4626f05",
   "metadata": {},
   "outputs": [
    {
     "data": {
      "text/html": [
       "<div>\n",
       "<style scoped>\n",
       "    .dataframe tbody tr th:only-of-type {\n",
       "        vertical-align: middle;\n",
       "    }\n",
       "\n",
       "    .dataframe tbody tr th {\n",
       "        vertical-align: top;\n",
       "    }\n",
       "\n",
       "    .dataframe thead th {\n",
       "        text-align: right;\n",
       "    }\n",
       "</style>\n",
       "<table border=\"1\" class=\"dataframe\">\n",
       "  <thead>\n",
       "    <tr style=\"text-align: right;\">\n",
       "      <th></th>\n",
       "      <th>Model Number</th>\n",
       "      <th>Characteristic</th>\n",
       "      <th>RSP-EUR</th>\n",
       "    </tr>\n",
       "  </thead>\n",
       "  <tbody>\n",
       "    <tr>\n",
       "      <th>0</th>\n",
       "      <td>00275-0095-0001</td>\n",
       "      <td>NaN</td>\n",
       "      <td>85.93</td>\n",
       "    </tr>\n",
       "    <tr>\n",
       "      <th>1</th>\n",
       "      <td>00275-0096-0001</td>\n",
       "      <td>NaN</td>\n",
       "      <td>124.12</td>\n",
       "    </tr>\n",
       "    <tr>\n",
       "      <th>2</th>\n",
       "      <td>00275-0170-0100</td>\n",
       "      <td>NaN</td>\n",
       "      <td>181.40</td>\n",
       "    </tr>\n",
       "    <tr>\n",
       "      <th>3</th>\n",
       "      <td>00275-0170-0102</td>\n",
       "      <td>NaN</td>\n",
       "      <td>203.46</td>\n",
       "    </tr>\n",
       "    <tr>\n",
       "      <th>4</th>\n",
       "      <td>00275-0171-0102</td>\n",
       "      <td>NaN</td>\n",
       "      <td>343.69</td>\n",
       "    </tr>\n",
       "    <tr>\n",
       "      <th>...</th>\n",
       "      <td>...</td>\n",
       "      <td>...</td>\n",
       "      <td>...</td>\n",
       "    </tr>\n",
       "    <tr>\n",
       "      <th>106534</th>\n",
       "      <td>XS110A</td>\n",
       "      <td>NaN</td>\n",
       "      <td>206.34</td>\n",
       "    </tr>\n",
       "    <tr>\n",
       "      <th>106564</th>\n",
       "      <td>XS530</td>\n",
       "      <td>NaN</td>\n",
       "      <td>376.27</td>\n",
       "    </tr>\n",
       "    <tr>\n",
       "      <th>106604</th>\n",
       "      <td>XS550</td>\n",
       "      <td>NaN</td>\n",
       "      <td>303.44</td>\n",
       "    </tr>\n",
       "    <tr>\n",
       "      <th>106639</th>\n",
       "      <td>XS70BT</td>\n",
       "      <td>NaN</td>\n",
       "      <td>90.91</td>\n",
       "    </tr>\n",
       "    <tr>\n",
       "      <th>106652</th>\n",
       "      <td>XS770A</td>\n",
       "      <td>NaN</td>\n",
       "      <td>423.55</td>\n",
       "    </tr>\n",
       "  </tbody>\n",
       "</table>\n",
       "<p>9159 rows × 3 columns</p>\n",
       "</div>"
      ],
      "text/plain": [
       "           Model Number Characteristic  RSP-EUR\n",
       "0       00275-0095-0001            NaN    85.93\n",
       "1       00275-0096-0001            NaN   124.12\n",
       "2       00275-0170-0100            NaN   181.40\n",
       "3       00275-0170-0102            NaN   203.46\n",
       "4       00275-0171-0102            NaN   343.69\n",
       "...                 ...            ...      ...\n",
       "106534           XS110A            NaN   206.34\n",
       "106564            XS530            NaN   376.27\n",
       "106604            XS550            NaN   303.44\n",
       "106639           XS70BT            NaN    90.91\n",
       "106652           XS770A            NaN   423.55\n",
       "\n",
       "[9159 rows x 3 columns]"
      ]
     },
     "execution_count": 78,
     "metadata": {},
     "output_type": "execute_result"
    }
   ],
   "source": [
    "fin[1]"
   ]
  },
  {
   "cell_type": "code",
   "execution_count": 68,
   "id": "2545615b",
   "metadata": {},
   "outputs": [],
   "source": [
    "alldf = f + t + l"
   ]
  },
  {
   "cell_type": "code",
   "execution_count": 83,
   "id": "67169457",
   "metadata": {},
   "outputs": [
    {
     "ename": "ValueError",
     "evalue": "Can only compare identically-labeled DataFrame objects",
     "output_type": "error",
     "traceback": [
      "\u001b[0;31m---------------------------------------------------------------------------\u001b[0m",
      "\u001b[0;31mValueError\u001b[0m                                Traceback (most recent call last)",
      "Input \u001b[0;32mIn [83]\u001b[0m, in \u001b[0;36m<cell line: 6>\u001b[0;34m()\u001b[0m\n\u001b[1;32m      4\u001b[0m         max_l \u001b[38;5;241m=\u001b[39m \u001b[38;5;28mlen\u001b[39m(i)\n\u001b[1;32m      5\u001b[0m         max_df \u001b[38;5;241m=\u001b[39m i\n\u001b[0;32m----> 6\u001b[0m \u001b[43mfin\u001b[49m\u001b[38;5;241;43m.\u001b[39;49m\u001b[43mremove\u001b[49m\u001b[43m(\u001b[49m\u001b[43mmax_df\u001b[49m\u001b[43m)\u001b[49m\n",
      "File \u001b[0;32m~/opt/anaconda3/lib/python3.9/site-packages/pandas/core/ops/common.py:70\u001b[0m, in \u001b[0;36m_unpack_zerodim_and_defer.<locals>.new_method\u001b[0;34m(self, other)\u001b[0m\n\u001b[1;32m     66\u001b[0m             \u001b[38;5;28;01mreturn\u001b[39;00m \u001b[38;5;28mNotImplemented\u001b[39m\n\u001b[1;32m     68\u001b[0m other \u001b[38;5;241m=\u001b[39m item_from_zerodim(other)\n\u001b[0;32m---> 70\u001b[0m \u001b[38;5;28;01mreturn\u001b[39;00m \u001b[43mmethod\u001b[49m\u001b[43m(\u001b[49m\u001b[38;5;28;43mself\u001b[39;49m\u001b[43m,\u001b[49m\u001b[43m \u001b[49m\u001b[43mother\u001b[49m\u001b[43m)\u001b[49m\n",
      "File \u001b[0;32m~/opt/anaconda3/lib/python3.9/site-packages/pandas/core/arraylike.py:40\u001b[0m, in \u001b[0;36mOpsMixin.__eq__\u001b[0;34m(self, other)\u001b[0m\n\u001b[1;32m     38\u001b[0m \u001b[38;5;129m@unpack_zerodim_and_defer\u001b[39m(\u001b[38;5;124m\"\u001b[39m\u001b[38;5;124m__eq__\u001b[39m\u001b[38;5;124m\"\u001b[39m)\n\u001b[1;32m     39\u001b[0m \u001b[38;5;28;01mdef\u001b[39;00m \u001b[38;5;21m__eq__\u001b[39m(\u001b[38;5;28mself\u001b[39m, other):\n\u001b[0;32m---> 40\u001b[0m     \u001b[38;5;28;01mreturn\u001b[39;00m \u001b[38;5;28;43mself\u001b[39;49m\u001b[38;5;241;43m.\u001b[39;49m\u001b[43m_cmp_method\u001b[49m\u001b[43m(\u001b[49m\u001b[43mother\u001b[49m\u001b[43m,\u001b[49m\u001b[43m \u001b[49m\u001b[43moperator\u001b[49m\u001b[38;5;241;43m.\u001b[39;49m\u001b[43meq\u001b[49m\u001b[43m)\u001b[49m\n",
      "File \u001b[0;32m~/opt/anaconda3/lib/python3.9/site-packages/pandas/core/frame.py:6931\u001b[0m, in \u001b[0;36mDataFrame._cmp_method\u001b[0;34m(self, other, op)\u001b[0m\n\u001b[1;32m   6928\u001b[0m \u001b[38;5;28;01mdef\u001b[39;00m \u001b[38;5;21m_cmp_method\u001b[39m(\u001b[38;5;28mself\u001b[39m, other, op):\n\u001b[1;32m   6929\u001b[0m     axis \u001b[38;5;241m=\u001b[39m \u001b[38;5;241m1\u001b[39m  \u001b[38;5;66;03m# only relevant for Series other case\u001b[39;00m\n\u001b[0;32m-> 6931\u001b[0m     \u001b[38;5;28mself\u001b[39m, other \u001b[38;5;241m=\u001b[39m \u001b[43mops\u001b[49m\u001b[38;5;241;43m.\u001b[39;49m\u001b[43malign_method_FRAME\u001b[49m\u001b[43m(\u001b[49m\u001b[38;5;28;43mself\u001b[39;49m\u001b[43m,\u001b[49m\u001b[43m \u001b[49m\u001b[43mother\u001b[49m\u001b[43m,\u001b[49m\u001b[43m \u001b[49m\u001b[43maxis\u001b[49m\u001b[43m,\u001b[49m\u001b[43m \u001b[49m\u001b[43mflex\u001b[49m\u001b[38;5;241;43m=\u001b[39;49m\u001b[38;5;28;43;01mFalse\u001b[39;49;00m\u001b[43m,\u001b[49m\u001b[43m \u001b[49m\u001b[43mlevel\u001b[49m\u001b[38;5;241;43m=\u001b[39;49m\u001b[38;5;28;43;01mNone\u001b[39;49;00m\u001b[43m)\u001b[49m\n\u001b[1;32m   6933\u001b[0m     \u001b[38;5;66;03m# See GH#4537 for discussion of scalar op behavior\u001b[39;00m\n\u001b[1;32m   6934\u001b[0m     new_data \u001b[38;5;241m=\u001b[39m \u001b[38;5;28mself\u001b[39m\u001b[38;5;241m.\u001b[39m_dispatch_frame_op(other, op, axis\u001b[38;5;241m=\u001b[39maxis)\n",
      "File \u001b[0;32m~/opt/anaconda3/lib/python3.9/site-packages/pandas/core/ops/__init__.py:289\u001b[0m, in \u001b[0;36malign_method_FRAME\u001b[0;34m(left, right, axis, flex, level)\u001b[0m\n\u001b[1;32m    287\u001b[0m             left, right \u001b[38;5;241m=\u001b[39m left\u001b[38;5;241m.\u001b[39malign(right, join\u001b[38;5;241m=\u001b[39m\u001b[38;5;124m\"\u001b[39m\u001b[38;5;124mouter\u001b[39m\u001b[38;5;124m\"\u001b[39m, level\u001b[38;5;241m=\u001b[39mlevel, copy\u001b[38;5;241m=\u001b[39m\u001b[38;5;28;01mFalse\u001b[39;00m)\n\u001b[1;32m    288\u001b[0m         \u001b[38;5;28;01melse\u001b[39;00m:\n\u001b[0;32m--> 289\u001b[0m             \u001b[38;5;28;01mraise\u001b[39;00m \u001b[38;5;167;01mValueError\u001b[39;00m(\n\u001b[1;32m    290\u001b[0m                 \u001b[38;5;124m\"\u001b[39m\u001b[38;5;124mCan only compare identically-labeled DataFrame objects\u001b[39m\u001b[38;5;124m\"\u001b[39m\n\u001b[1;32m    291\u001b[0m             )\n\u001b[1;32m    292\u001b[0m \u001b[38;5;28;01melif\u001b[39;00m \u001b[38;5;28misinstance\u001b[39m(right, ABCSeries):\n\u001b[1;32m    293\u001b[0m     \u001b[38;5;66;03m# axis=1 is default for DataFrame-with-Series op\u001b[39;00m\n\u001b[1;32m    294\u001b[0m     axis \u001b[38;5;241m=\u001b[39m left\u001b[38;5;241m.\u001b[39m_get_axis_number(axis) \u001b[38;5;28;01mif\u001b[39;00m axis \u001b[38;5;129;01mis\u001b[39;00m \u001b[38;5;129;01mnot\u001b[39;00m \u001b[38;5;28;01mNone\u001b[39;00m \u001b[38;5;28;01melse\u001b[39;00m \u001b[38;5;241m1\u001b[39m\n",
      "\u001b[0;31mValueError\u001b[0m: Can only compare identically-labeled DataFrame objects"
     ]
    }
   ],
   "source": [
    "max_l = 0\n",
    "for i in fin:\n",
    "    if len(i) >= max_l:\n",
    "        max_l = len(i)\n",
    "        max_df = i\n",
    "        "
   ]
  },
  {
   "cell_type": "code",
   "execution_count": 81,
   "id": "58abe85c",
   "metadata": {},
   "outputs": [
    {
     "data": {
      "text/plain": [
       "9733"
      ]
     },
     "execution_count": 81,
     "metadata": {},
     "output_type": "execute_result"
    }
   ],
   "source": [
    "max_df.join()"
   ]
  },
  {
   "cell_type": "code",
   "execution_count": null,
   "id": "8c8b89f6",
   "metadata": {},
   "outputs": [],
   "source": [
    "#it is necessary to take Model name , Price and filter df on Characteristic == \"\"\n",
    "\n",
    "ygs1 = ygs.loc[:,['Material/Model', 'Characteristic', 'TLP (Comp)(EUR)']]\n",
    "pricebook1 = pricebook.loc[:,['Model_Model Number', 'Characteristic', 'Price']]\n",
    "\n",
    "main_ygs1 = ygs1[ygs1['Characteristic'].isna()]\n",
    "main_pricebook1 = pricebook1[pricebook1['Characteristic'].isna()]\n",
    "\n",
    "df = main_ygs1.merge(main_pricebook1, how='inner',left_on='Material/Model', right_on='Model_Model Number')\n",
    "\n",
    "writer = pd.ExcelWriter('data_files/pricebookcheck.xlsx', engine='xlsxwriter')\n",
    "df.to_excel(writer, sheet_name='checked')\n",
    "writer.save()"
   ]
  },
  {
   "cell_type": "code",
   "execution_count": 65,
   "id": "30b504a3",
   "metadata": {},
   "outputs": [],
   "source": [
    "import numpy as np"
   ]
  },
  {
   "cell_type": "code",
   "execution_count": null,
   "id": "19913116",
   "metadata": {},
   "outputs": [],
   "source": []
  }
 ],
 "metadata": {
  "kernelspec": {
   "display_name": "Python 3 (ipykernel)",
   "language": "python",
   "name": "python3"
  },
  "language_info": {
   "codemirror_mode": {
    "name": "ipython",
    "version": 3
   },
   "file_extension": ".py",
   "mimetype": "text/x-python",
   "name": "python",
   "nbconvert_exporter": "python",
   "pygments_lexer": "ipython3",
   "version": "3.9.12"
  }
 },
 "nbformat": 4,
 "nbformat_minor": 5
}
