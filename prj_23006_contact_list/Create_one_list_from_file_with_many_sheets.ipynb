{
 "cells": [
  {
   "cell_type": "code",
   "execution_count": 22,
   "id": "acc5b487",
   "metadata": {},
   "outputs": [
    {
     "name": "stderr",
     "output_type": "stream",
     "text": [
      "C:\\Users\\30050122\\AppData\\Local\\Temp\\ipykernel_6016\\1389442544.py:16: FutureWarning: Defining usecols with out of bounds indices is deprecated and will raise a ParserError in a future version.\n",
      "  df = pd.read_excel(file_path, sheet_name=sheet_name, usecols=\"A:D\")\n"
     ]
    },
    {
     "name": "stdout",
     "output_type": "stream",
     "text": [
      "Concatenation done and saved to data_files/outcome/allemails.xlsx.\n"
     ]
    }
   ],
   "source": [
    "import pandas as pd\n",
    "\n",
    "def read_and_concat_xls(file_path):\n",
    "    # Load the Excel file\n",
    "    xls = pd.ExcelFile(file_path)\n",
    "\n",
    "    # Get all the sheet names in the Excel file\n",
    "    all_sheet_names = xls.sheet_names\n",
    "    \n",
    "    # List to store DataFrames from sheets that meet the criteria\n",
    "    dfs = []\n",
    "\n",
    "    # Loop over each sheet name and read the respective DataFrame\n",
    "    for sheet_name in all_sheet_names:\n",
    "        # Read only columns A through E (0 through 4 by index)\n",
    "        df = pd.read_excel(file_path, sheet_name=sheet_name, usecols=\"A:D\")\n",
    "        \n",
    "        # Check if the string 'OPCO' is in the A1 cell (i.e., position (0,0))\n",
    "        if df.columns[0] == 'OPCO':\n",
    "            dfs.append(df)\n",
    "            \n",
    "\n",
    "    # Concatenate all the DataFrames in dfs\n",
    "    concat_df = pd.concat(dfs, ignore_index=True)\n",
    "\n",
    "    return concat_df\n",
    "\n",
    "# Read and concatenate the dataframes from the specified sheets\n",
    "concatenated_df = read_and_concat_xls('data_files/Point_of_contacts.xlsx')\n",
    "\n",
    "# Save the concatenated DataFrame to a new Excel file\n",
    "concatenated_df.to_excel('data_files/outcome/allemails.xlsx', index=False)\n",
    "\n",
    "print(\"Concatenation done and saved to data_files/outcome/allemails.xlsx.\")"
   ]
  },
  {
   "cell_type": "code",
   "execution_count": null,
   "id": "ff003d96",
   "metadata": {},
   "outputs": [],
   "source": []
  }
 ],
 "metadata": {
  "kernelspec": {
   "display_name": "Python 3 (ipykernel)",
   "language": "python",
   "name": "python3"
  },
  "language_info": {
   "codemirror_mode": {
    "name": "ipython",
    "version": 3
   },
   "file_extension": ".py",
   "mimetype": "text/x-python",
   "name": "python",
   "nbconvert_exporter": "python",
   "pygments_lexer": "ipython3",
   "version": "3.10.9"
  }
 },
 "nbformat": 4,
 "nbformat_minor": 5
}
