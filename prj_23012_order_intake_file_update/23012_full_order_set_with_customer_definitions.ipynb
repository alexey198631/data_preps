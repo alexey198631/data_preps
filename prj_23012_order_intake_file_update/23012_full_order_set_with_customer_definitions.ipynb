{
 "cells": [
  {
   "cell_type": "code",
   "execution_count": 1,
   "id": "42c2d850",
   "metadata": {},
   "outputs": [],
   "source": [
    "import pandas as pd\n",
    "import numpy as np\n",
    "import sqlite3\n",
    "import importlib\n",
    "\n",
    "# keeping company information in additional file\n",
    "import data_file"
   ]
  },
  {
   "cell_type": "code",
   "execution_count": 2,
   "id": "bc86b68d",
   "metadata": {},
   "outputs": [],
   "source": [
    "sales_person_n = data_file.sales_person_n\n",
    "exlbu=data_file.exlbu\n",
    "exlpanrter=data_file.exlpanrter"
   ]
  },
  {
   "cell_type": "code",
   "execution_count": 3,
   "id": "cd834a17",
   "metadata": {},
   "outputs": [],
   "source": [
    "conn = sqlite3.connect('data_files/order_data.db')\n",
    "query = \"SELECT * FROM orders\"  # Replace 'tablename' with your table name\n",
    "df_orders = pd.read_sql_query(query, conn)\n",
    "conn.close()\n",
    "\n",
    "conn2 = sqlite3.connect('data_files/customer_data.db')\n",
    "query = \"SELECT * FROM customers\"  # Replace 'tablename' with your table name\n",
    "df_customers = pd.read_sql_query(query, conn2)\n",
    "conn2.close()"
   ]
  },
  {
   "cell_type": "code",
   "execution_count": 4,
   "id": "9b8cb52a",
   "metadata": {},
   "outputs": [
    {
     "data": {
      "text/html": [
       "<div>\n",
       "<style scoped>\n",
       "    .dataframe tbody tr th:only-of-type {\n",
       "        vertical-align: middle;\n",
       "    }\n",
       "\n",
       "    .dataframe tbody tr th {\n",
       "        vertical-align: top;\n",
       "    }\n",
       "\n",
       "    .dataframe thead th {\n",
       "        text-align: right;\n",
       "    }\n",
       "</style>\n",
       "<table border=\"1\" class=\"dataframe\">\n",
       "  <thead>\n",
       "    <tr style=\"text-align: right;\">\n",
       "      <th></th>\n",
       "      <th>company_code_n</th>\n",
       "      <th>year_month</th>\n",
       "      <th>Date</th>\n",
       "      <th>FY</th>\n",
       "      <th>customer_group_code</th>\n",
       "      <th>source</th>\n",
       "      <th>bu2</th>\n",
       "      <th>bu_n</th>\n",
       "      <th>sales_person_n</th>\n",
       "      <th>sales_order_so</th>\n",
       "      <th>...</th>\n",
       "      <th>sold_to_customer_n</th>\n",
       "      <th>sold_to_region_n</th>\n",
       "      <th>eu_industry_n</th>\n",
       "      <th>ec_eu_customer_n</th>\n",
       "      <th>eu_region_n</th>\n",
       "      <th>ec_eu_industry_n</th>\n",
       "      <th>order_intake_amount_eur</th>\n",
       "      <th>sold_to_country_n</th>\n",
       "      <th>ec_eu_customer</th>\n",
       "      <th>ec_eu_country_n</th>\n",
       "    </tr>\n",
       "  </thead>\n",
       "  <tbody>\n",
       "  </tbody>\n",
       "</table>\n",
       "<p>0 rows × 21 columns</p>\n",
       "</div>"
      ],
      "text/plain": [
       "Empty DataFrame\n",
       "Columns: [company_code_n, year_month, Date, FY, customer_group_code, source, bu2, bu_n, sales_person_n, sales_order_so, sold_to_customer, sold_to_customer_n, sold_to_region_n, eu_industry_n, ec_eu_customer_n, eu_region_n, ec_eu_industry_n, order_intake_amount_eur, sold_to_country_n, ec_eu_customer, ec_eu_country_n]\n",
       "Index: []\n",
       "\n",
       "[0 rows x 21 columns]"
      ]
     },
     "execution_count": 4,
     "metadata": {},
     "output_type": "execute_result"
    }
   ],
   "source": [
    "df_orders['sold_to_customer'] = df_orders['sold_to_customer'].astype(str)\n",
    "df_customers['sold_to_customer'] = df_customers['sold_to_customer'].astype(str)\n",
    "df_orders[~df_orders['sold_to_customer'].isin(df_customers['sold_to_customer'].to_list())]"
   ]
  },
  {
   "cell_type": "code",
   "execution_count": 5,
   "id": "8cbc83b4",
   "metadata": {},
   "outputs": [
    {
     "data": {
      "text/plain": [
       "14802"
      ]
     },
     "execution_count": 5,
     "metadata": {},
     "output_type": "execute_result"
    }
   ],
   "source": [
    "len(df_customers)"
   ]
  },
  {
   "cell_type": "code",
   "execution_count": 6,
   "id": "d77e0e81",
   "metadata": {},
   "outputs": [],
   "source": [
    "# for testing purposes I keep this lines\n",
    "wdf = df_customers.copy()\n",
    "dfc = df_orders.copy()"
   ]
  },
  {
   "cell_type": "code",
   "execution_count": 7,
   "id": "28fa360b",
   "metadata": {},
   "outputs": [
    {
     "data": {
      "text/plain": [
       "205248"
      ]
     },
     "execution_count": 7,
     "metadata": {},
     "output_type": "execute_result"
    }
   ],
   "source": [
    "len(dfc)"
   ]
  },
  {
   "cell_type": "code",
   "execution_count": 8,
   "id": "f08e2b85",
   "metadata": {},
   "outputs": [],
   "source": [
    "bu_defin = pd.read_excel('data_files/bu_defin.xlsx')\n",
    "bu_defin = bu_defin.loc[:, 'bu2':]\n",
    "bu_defin['for_bu'] = bu_defin['for_bu'].astype(str)\n",
    "bu_defin['bu2'] = bu_defin['bu2'].astype(str)\n",
    "bu_defin['bu2'] = bu_defin['bu2'].str.strip()"
   ]
  },
  {
   "cell_type": "code",
   "execution_count": 11,
   "id": "01395867",
   "metadata": {},
   "outputs": [],
   "source": [
    "order_data = dfc.loc[:,['company_code_n', 'year_month', 'FY', \n",
    "       'bu2', 'sales_person_n', 'sales_order_so', 'sold_to_customer',\n",
    "       'sold_to_customer_n', 'ec_eu_customer_n', 'order_intake_amount_eur']]\n",
    "\n",
    "order_data['bu2'] = order_data['bu2'].astype(str)\n",
    "order_data['bu2'] = order_data['bu2'].str.strip()\n",
    "\n",
    "# add bu column for future reports\n",
    "order_data = order_data.merge(bu_defin, how='left' )"
   ]
  },
  {
   "cell_type": "code",
   "execution_count": 13,
   "id": "bdf017f8",
   "metadata": {},
   "outputs": [],
   "source": [
    "# Convert 'FY' column to datetime format\n",
    "order_data['FY'] = pd.to_datetime(order_data['FY'])"
   ]
  },
  {
   "cell_type": "code",
   "execution_count": 14,
   "id": "8196dfac",
   "metadata": {},
   "outputs": [
    {
     "data": {
      "text/plain": [
       "205248"
      ]
     },
     "execution_count": 14,
     "metadata": {},
     "output_type": "execute_result"
    }
   ],
   "source": [
    "len(order_data)"
   ]
  },
  {
   "cell_type": "code",
   "execution_count": 15,
   "id": "46781272",
   "metadata": {},
   "outputs": [],
   "source": [
    "order_columns = list(order_data.columns) + ['customer_name', 'indirect_direct', 'tier', 'type', exlpanrter]"
   ]
  },
  {
   "cell_type": "code",
   "execution_count": null,
   "id": "68310771",
   "metadata": {},
   "outputs": [],
   "source": [
    "# special case with specific SO for agent\n",
    "agent_so = data_file.special_so\n",
    "agent_so_two = data_file.special_so_two \n",
    "agent_one = data_file.agent_one\n",
    "so_order_data = order_data[(order_data['sales_order_so'] == agent_so) | (order_data['sales_order_so'] == agent_so_two)]\n",
    "print(len(so_order_data))\n",
    "order_data = order_data[~((order_data['sales_order_so'] == agent_so) | (order_data['sales_order_so'] == agent_so_two))]\n",
    "print(len(order_data))\n",
    "\n",
    "so_order_data['customer_name'] = agent_one\n",
    "so_order_data['indirect_direct'] = 'Indirect'\n",
    "so_order_data['tier'] = 'Channel Partner'\n",
    "so_order_data['type'] = 'Agent'"
   ]
  },
  {
   "cell_type": "code",
   "execution_count": 17,
   "id": "0c87b746",
   "metadata": {},
   "outputs": [],
   "source": [
    "# special case with specific cutomers for agent\n",
    "partners_data = wdf.copy()\n",
    "agent_two = data_file.agent_two\n",
    "partners_data.loc[partners_data[exlpanrter].notna(), 'customer_name'] = agent_two\n",
    "partners_data = partners_data.loc[:, ['sold_to_customer', 'agent_person', 'company_code_n', 'sold_to_customer_n','customer_name', \n",
    "       'indirect_direct', 'channel', 'type', 'tier', exlpanrter]]\n",
    "\n",
    "partners_data['sold_to_customer'] = partners_data['sold_to_customer'].astype(str)"
   ]
  },
  {
   "cell_type": "code",
   "execution_count": 18,
   "id": "3980fa8a",
   "metadata": {},
   "outputs": [
    {
     "name": "stdout",
     "output_type": "stream",
     "text": [
      "205246\n",
      "2840\n",
      "202406\n"
     ]
    }
   ],
   "source": [
    "agent_partners = partners_data[partners_data['agent_person'].notna()]\n",
    "# agent sales records preparation\n",
    "agents_order_data = order_data[order_data['sales_person_n'].isin(sales_person_n)]\n",
    "print(len(order_data))\n",
    "print(len(agents_order_data))\n",
    "order_data = order_data[~order_data['sales_person_n'].isin(sales_person_n)]\n",
    "print(len(order_data))\n",
    "agents_order_data = agents_order_data.merge(agent_partners, left_on='sales_person_n', right_on='sold_to_customer_n', how='left')\n",
    "agents_order_data = agents_order_data.filter(regex='^(?!.*_y)')\n",
    "# Exclude '_x' from all column names\n",
    "agents_order_data.columns = agents_order_data.columns.str.replace('_x', '')\n",
    "agents_order_data = agents_order_data.loc[:, order_columns]\n",
    "agents_order_data['type'] = 'Agent'"
   ]
  },
  {
   "cell_type": "code",
   "execution_count": 19,
   "id": "7a54ca85",
   "metadata": {},
   "outputs": [],
   "source": [
    "# all partners except agents data preparation\n",
    "\"\"\"other_order_data = order_data[order_data['sold_to_customer'].isin(partners_data['sold_to_customer'])]\n",
    "print(len(order_data))\n",
    "print(len(other_order_data))\n",
    "checkthis = order_data[~order_data['sold_to_customer'].isin(partners_data['sold_to_customer'])]\n",
    "print(len(checkthis))\"\"\"\n",
    "\n",
    "other_order_data = order_data.copy()\n",
    "\n",
    "other_order_data = other_order_data.merge(partners_data, left_on='sold_to_customer', right_on='sold_to_customer', how='left')\n",
    "other_order_data = other_order_data.filter(regex='^(?!.*_y)')\n",
    "# Exclude '_x' from all column names\n",
    "other_order_data.columns = other_order_data.columns.str.replace('_x', '')\n",
    "other_order_data = other_order_data.loc[:, order_columns]\n",
    "# Update values in columns based on the specific value\n",
    "other_order_data.loc[((other_order_data['indirect_direct'] == 'Direct') & ( (other_order_data['tier'].notna()) | (other_order_data[exlpanrter].notna()) )), 'tier'] = 'Channel Partner'\n",
    "other_order_data.loc[((other_order_data['indirect_direct'] == 'Direct') & ( (other_order_data['tier'].notna()) | (other_order_data[exlpanrter].notna()) )), 'type'] = 'Agent'                                                                       "
   ]
  },
  {
   "cell_type": "code",
   "execution_count": 20,
   "id": "650d045a",
   "metadata": {},
   "outputs": [
    {
     "data": {
      "text/plain": [
       "202406"
      ]
     },
     "execution_count": 20,
     "metadata": {},
     "output_type": "execute_result"
    }
   ],
   "source": [
    "len(other_order_data)"
   ]
  },
  {
   "cell_type": "code",
   "execution_count": 21,
   "id": "6f598255",
   "metadata": {},
   "outputs": [],
   "source": [
    "# combining all the sales records\n",
    "full_data = pd.concat([other_order_data, agents_order_data, so_order_data])\n",
    "full_data.reset_index(inplace=True, drop=True)\n",
    "#full_data.drop_duplicates(inplace=True)"
   ]
  },
  {
   "cell_type": "code",
   "execution_count": 22,
   "id": "77cd4e43",
   "metadata": {},
   "outputs": [
    {
     "data": {
      "text/plain": [
       "205248"
      ]
     },
     "execution_count": 22,
     "metadata": {},
     "output_type": "execute_result"
    }
   ],
   "source": [
    "len(full_data)"
   ]
  },
  {
   "cell_type": "code",
   "execution_count": 23,
   "id": "a12a8821",
   "metadata": {},
   "outputs": [],
   "source": [
    "writer = pd.ExcelWriter('data_files/outcome/full_order_data_set_may23.xlsx')\n",
    "# Save each DataFrame to a separate sheet in the same file\n",
    "full_data.to_excel(writer, sheet_name='results', index=False)\n",
    "# Save the file\n",
    "writer.close()"
   ]
  },
  {
   "cell_type": "code",
   "execution_count": 85,
   "id": "e381880f",
   "metadata": {},
   "outputs": [],
   "source": [
    "\"\"\"\n",
    "conn = sqlite3.connect('data_files/order_data.db')\n",
    "query = \"SELECT * FROM orders\"  # Replace 'tablename' with your table name\n",
    "df_orders = pd.read_sql_query(query, conn)\n",
    "conn.close()\n",
    "\n",
    "conn = sqlite3.connect('data_files/order_data.db')\n",
    "query = \"DELETE FROM orders WHERE year_month = 202305\"\n",
    "conn.execute(query)\n",
    "conn.commit()\n",
    "conn.close()\n",
    "\n",
    "df_orders['sold_to_customer_n'] = df_orders['sold_to_customer_n'].fillna('')\n",
    "df_orders[df_orders['sold_to_customer_n'].str.contains('COMPANY')] \n",
    "\n",
    "conn = sqlite3.connect('data_files/order_data.db')\n",
    "query = \"DELETE FROM orders WHERE sold_to_customer_n LIKE '%COMPANY%'\"\n",
    "conn.execute(query)\n",
    "conn.commit()\n",
    "conn.close()\"\"\""
   ]
  }
 ],
 "metadata": {
  "kernelspec": {
   "display_name": "Python 3 (ipykernel)",
   "language": "python",
   "name": "python3"
  },
  "language_info": {
   "codemirror_mode": {
    "name": "ipython",
    "version": 3
   },
   "file_extension": ".py",
   "mimetype": "text/x-python",
   "name": "python",
   "nbconvert_exporter": "python",
   "pygments_lexer": "ipython3",
   "version": "3.10.9"
  }
 },
 "nbformat": 4,
 "nbformat_minor": 5
}
