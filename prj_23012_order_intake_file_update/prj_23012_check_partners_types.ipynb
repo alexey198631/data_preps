{
 "cells": [
  {
   "cell_type": "code",
   "execution_count": 1,
   "id": "6b6d30d9",
   "metadata": {},
   "outputs": [],
   "source": [
    "import pandas as pd\n",
    "import numpy as np\n",
    "import sqlite3"
   ]
  },
  {
   "cell_type": "code",
   "execution_count": 2,
   "id": "0fd5d326",
   "metadata": {},
   "outputs": [],
   "source": [
    "conn = sqlite3.connect('data_files/customer_data.db')\n",
    "query = \"SELECT * FROM customers\"  # Replace 'tablename' with your table name\n",
    "df_customers = pd.read_sql_query(query, conn)\n",
    "conn.close()"
   ]
  },
  {
   "cell_type": "code",
   "execution_count": 3,
   "id": "8f1502e6",
   "metadata": {},
   "outputs": [],
   "source": [
    "# for testing purposes I keep this lines\n",
    "wdf = df_customers.copy()"
   ]
  },
  {
   "cell_type": "code",
   "execution_count": 4,
   "id": "48ce61c5",
   "metadata": {},
   "outputs": [],
   "source": [
    "# cheching definition table\n",
    "wdfs = wdf.loc[:, ['sold_to_customer', 'sold_to_customer_n', 'customer_name', 'indirect_direct', 'channel', 'type']]"
   ]
  },
  {
   "cell_type": "code",
   "execution_count": 5,
   "id": "77a66f05",
   "metadata": {},
   "outputs": [
    {
     "name": "stdout",
     "output_type": "stream",
     "text": [
      "sold_to_customer contains only unique values\n"
     ]
    }
   ],
   "source": [
    "# Check if column1 contains only unique values\n",
    "if wdfs['sold_to_customer'].is_unique:\n",
    "    print(\"sold_to_customer contains only unique values\")\n",
    "else:\n",
    "    print(\"sold_to_customer contains non-unique values\")"
   ]
  },
  {
   "cell_type": "code",
   "execution_count": null,
   "id": "dee980da",
   "metadata": {},
   "outputs": [],
   "source": [
    "# Group the data by company name and count the number of unique type combinations\n",
    "counts = wdfs.groupby('sold_to_customer_n')['indirect_direct', 'channel', 'type'].apply(lambda x: x.drop_duplicates().nunique())"
   ]
  },
  {
   "cell_type": "code",
   "execution_count": null,
   "id": "337a9181",
   "metadata": {},
   "outputs": [],
   "source": [
    "# Count the number of companies that have different type combinations\n",
    "num_companies = (counts['indirect_direct'] > 1) | (counts['channel'] > 1 | (counts['type'] > 1))\n",
    "num_companies = num_companies.sum()\n",
    "num_companies"
   ]
  },
  {
   "cell_type": "code",
   "execution_count": null,
   "id": "413dcf44",
   "metadata": {},
   "outputs": [],
   "source": [
    "# Group the data by company name and count the number of unique type combinations\n",
    "counts_cn = wdfs.groupby('customer_name')['indirect_direct', 'channel', 'type'].apply(lambda x: x.drop_duplicates().nunique())\n",
    "# Count the number of companies that have different type combinations\n",
    "num_companies_cn = (counts_cn['indirect_direct'] > 1) | (counts_cn['channel'] > 1 | (counts_cn['type'] > 1))\n",
    "writer = pd.ExcelWriter(f'data_files/countscn.xlsx')\n",
    "counts_cn.to_excel(writer, sheet_name='time')\n",
    "writer.close()\n",
    "num_companies_cn = num_companies_cn.sum()\n",
    "num_companies_cn"
   ]
  }
 ],
 "metadata": {
  "kernelspec": {
   "display_name": "Python 3 (ipykernel)",
   "language": "python",
   "name": "python3"
  },
  "language_info": {
   "codemirror_mode": {
    "name": "ipython",
    "version": 3
   },
   "file_extension": ".py",
   "mimetype": "text/x-python",
   "name": "python",
   "nbconvert_exporter": "python",
   "pygments_lexer": "ipython3",
   "version": "3.10.9"
  }
 },
 "nbformat": 4,
 "nbformat_minor": 5
}
