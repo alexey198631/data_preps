{
 "cells": [
  {
   "cell_type": "code",
   "execution_count": 27,
   "id": "e80b08e9",
   "metadata": {},
   "outputs": [],
   "source": [
    "import pandas as pd\n",
    "import numpy as np\n",
    "\n",
    "# read in the Excel file\n",
    "#xlsx = pd.ExcelFile('data_files/llp.xlsx')\n",
    "xlsx = pd.ExcelFile('llp.xlsx')\n",
    "\n",
    "# dictionary to store the dataframes from all excel sheets\n",
    "dfs = {}\n",
    "\n",
    "for sheet_name in xlsx.sheet_names:\n",
    "    dfs[sheet_name] = xlsx.parse(sheet_name)\n",
    "\n",
    "data_frames = dfs.copy()  # for saving initial data frames"
   ]
  },
  {
   "cell_type": "code",
   "execution_count": null,
   "id": "0bc11448",
   "metadata": {},
   "outputs": [],
   "source": [
    "\"\"\"\n",
    "Some of sheets contains 'RSP-EUR' or 'LLP-EUR' or both.  \n",
    "Depending on this fact it is necessary to prepare dataframes with necessary columns only. \n",
    "\"Model name\", \"Characteristic\" and \"Price\" which can be 'RSP-EUR' or 'LLP-EUR' or both. \n",
    "To exclude lines with options for product models, it is necessary to exclude line where \n",
    "\"Characteristic\" not empty. \n",
    "All prepared dataframes are added to a list which will be used for dataframes merging. \n",
    "\"\"\" \"\"\n",
    "\n",
    "dfs = data_frames.copy()\n",
    "\n",
    "rsp = 'RSP-EUR'\n",
    "llp = 'LLP-EUR'\n",
    "\n",
    "l_for_merging = []\n",
    "for key in dfs.keys():\n",
    "    # keys - names of sheets in excel and they have explicit name with time line identification\n",
    "    # they are used for naming columns with price\n",
    "    if rsp in dfs[key].columns and llp in dfs[key].columns:\n",
    "        dfs[key] = dfs[key].loc[:, ['Model Number', 'Characteristic', 'RSP-EUR', 'LLP-EUR']]\n",
    "        dfs[key] = dfs[key][dfs[key]['Characteristic'].isna()]\n",
    "        dfs[key] = dfs[key].loc[:, ['Model Number', 'RSP-EUR', 'LLP-EUR']]\n",
    "        dfs[key] = dfs[key].rename(columns={'RSP-EUR': key + '_' + 'RSP-EUR', 'LLP-EUR': key + '_' + 'LLP-EUR'})\n",
    "        l_for_merging.append(dfs[key])\n",
    "    elif rsp in dfs[key].columns:\n",
    "        dfs[key] = dfs[key].loc[:, ['Model Number', 'Characteristic', 'RSP-EUR']]\n",
    "        dfs[key] = dfs[key][dfs[key]['Characteristic'].isna()]\n",
    "        dfs[key] = dfs[key].loc[:, ['Model Number', 'RSP-EUR']]\n",
    "        dfs[key] = dfs[key].rename(columns={'RSP-EUR': key + '_' + 'RSP-EUR'})\n",
    "        l_for_merging.append(dfs[key])\n",
    "    elif llp in dfs[key].columns:\n",
    "        dfs[key] = dfs[key].loc[:, ['Model Number', 'Characteristic', 'LLP-EUR']]\n",
    "        dfs[key] = dfs[key][dfs[key]['Characteristic'].isna()]\n",
    "        dfs[key] = dfs[key].loc[:, ['Model Number', 'LLP-EUR']]\n",
    "        dfs[key] = dfs[key].rename(columns={'LLP-EUR': key + '_' + 'LLP-EUR'})\n",
    "        l_for_merging.append(dfs[key])\n",
    "        \n",
    "# determination of the dataframe with the biggest quantity of product models\n",
    "max_l = 0\n",
    "for i, df in enumerate(l_for_merging):\n",
    "    print(len(l_for_merging))\n",
    "    if len(l_for_merging) >= max_l:\n",
    "        max_l = len(l_for_merging)\n",
    "        max_df = df\n",
    "        max_i = i\n",
    "# creation a dataframe with only one column \"Model Number\" for left-merging for keeping all models\n",
    "model_df = l_for_merging[max_i].loc[:, ['Model Number']]        \n",
    "        \n",
    "# creation of final dataframe with all prices columns for all products models\n",
    "final_df = model_df.copy()\n",
    "for df in l_for_merging:\n",
    "    final_df = final_df.merge(df, how='left', left_on='Model Number', right_on='Model Number')        "
   ]
  },
  {
   "cell_type": "code",
   "execution_count": 35,
   "id": "afd45936",
   "metadata": {},
   "outputs": [],
   "source": [
    "# it is necessary to understand price different in % for 23 and 24 years for LLP and RSP prices\n",
    "final_df['difference LLP - v4 / v3'] = round((final_df['LLPv4_LLP-EUR'] / final_df['LLPv3_LLP-EUR'] * 100 - 100), 0)\n",
    "final_df['difference RSP - v4 / v3'] = round((final_df['RSPv4_RSP-EUR'] / final_df['RSPv3_RSP-EUR'] * 100 - 100), 0)\n",
    "final_df['difference RSP'] = round((final_df['RSPv4_RSP-EUR'] / final_df['RSP23_RSP-EUR'] * 100 - 100), 0)\n",
    "final_df['difference LLP'] = round((final_df['LLPv4_LLP-EUR'] / final_df['LLP23_LLP-EUR'] * 100 - 100), 0)"
   ]
  },
  {
   "cell_type": "code",
   "execution_count": null,
   "id": "859f8f55",
   "metadata": {},
   "outputs": [],
   "source": [
    "writer = pd.ExcelWriter('data_files/pricebookcheck.xlsx')\n",
    "final_df.to_excel(writer, sheet_name='summary')\n",
    "writer.close()\n",
    "print('You file is ready')"
   ]
  }
 ],
 "metadata": {
  "kernelspec": {
   "display_name": "Python 3 (ipykernel)",
   "language": "python",
   "name": "python3"
  },
  "language_info": {
   "codemirror_mode": {
    "name": "ipython",
    "version": 3
   },
   "file_extension": ".py",
   "mimetype": "text/x-python",
   "name": "python",
   "nbconvert_exporter": "python",
   "pygments_lexer": "ipython3",
   "version": "3.10.9"
  }
 },
 "nbformat": 4,
 "nbformat_minor": 5
}
