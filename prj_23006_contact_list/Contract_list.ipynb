{
 "cells": [
  {
   "cell_type": "code",
   "execution_count": 1,
   "id": "32763e4a",
   "metadata": {},
   "outputs": [],
   "source": [
    "\"\"\"\n",
    "Code for creation a table with different sheets where it writes sales managers responsible for country-sheet\n",
    "with e-mail\n",
    "\n",
    "\"\"\"\n",
    "\n",
    "import pandas as pd\n",
    "import numpy as np\n",
    "import re"
   ]
  },
  {
   "cell_type": "code",
   "execution_count": 2,
   "id": "55895445",
   "metadata": {},
   "outputs": [],
   "source": [
    "#raw initial data import\n",
    "\n",
    "master = pd.read_excel('data_files/master_contacts.xlsx', sheet_name='master')\n",
    "emails = pd.read_excel('data_files/master_contacts.xlsx', sheet_name='emails', header = None, names = ['Channel Manager','mail'])\n",
    "\n",
    "# to search email\n",
    "\n",
    "expression = '[A-z\\._]+@[a-z]+\\.[a-z]+.[a-z]+'\n",
    "\n",
    "#new column with email\n",
    "\n",
    "for n in range(len(emails)):\n",
    "    emails.loc[n,'email'] = re.findall(expression, emails.iloc[n,1])[0]\n",
    "    \n",
    "emails = emails.drop(columns='mail')\n",
    "\n",
    "# creation of table without duplicates with necessary columns, droping all empty lines\n",
    "master = pd.merge(master,emails, how = 'left', on = 'Channel Manager')\n",
    "master = master.loc[:,['Country', 'OPCO', 'Channel Manager', 'email']]\n",
    "master.drop_duplicates(keep='first', inplace=True, ignore_index=True)\n",
    "master.dropna(inplace = True)\n",
    "\n",
    "# keeping unique countries only\n",
    "\n",
    "countries_list = sorted(master.Country.unique())\n",
    "countries_index = ['Index'] + countries_list\n",
    "countries = pd.DataFrame(countries_index)\n",
    "\n",
    "master['Role'] = 'Channel Manager'\n",
    "master.rename(columns={'Channel Manager':'Name'},inplace = True)\n",
    "\n",
    "master = master.loc[:,['OPCO', 'Name', 'Role', 'email', 'Country']]\n",
    "\n",
    "# creation list of contacts \n",
    "\n",
    "list_of_contacts = []\n",
    "list_of_contacts.append(countries)\n",
    "for country in countries_list:\n",
    "    mask = master.Country == country\n",
    "    list_of_contacts.append(master[mask])\n",
    "\n",
    "for n in range(len(list_of_contacts)):\n",
    "    list_of_contacts[n].name = countries_index[n]\n",
    "\n",
    "# final file creation \n",
    "\n",
    "writer = pd.ExcelWriter('data_files/Channel_Partner_Contacts.xlsx', engine='xlsxwriter')\n",
    "for d in list_of_contacts:\n",
    "    d.to_excel(writer, sheet_name = f'{d.name}')\n",
    "    \n",
    "writer.save()"
   ]
  }
 ],
 "metadata": {
  "kernelspec": {
   "display_name": "Python 3 (ipykernel)",
   "language": "python",
   "name": "python3"
  },
  "language_info": {
   "codemirror_mode": {
    "name": "ipython",
    "version": 3
   },
   "file_extension": ".py",
   "mimetype": "text/x-python",
   "name": "python",
   "nbconvert_exporter": "python",
   "pygments_lexer": "ipython3",
   "version": "3.9.12"
  }
 },
 "nbformat": 4,
 "nbformat_minor": 5
}
