{
 "cells": [
  {
   "cell_type": "code",
   "execution_count": 2,
   "id": "48b7fb3c",
   "metadata": {},
   "outputs": [
    {
     "name": "stdout",
     "output_type": "stream",
     "text": [
      "202305\n"
     ]
    }
   ],
   "source": [
    "import pandas as pd\n",
    "from datetime import datetime\n",
    "from dateutil.relativedelta import relativedelta\n",
    "import importlib\n",
    "import sqlite3\n",
    "\n",
    "# keeping company information in additional file\n",
    "import data_file\n",
    "importlib.reload(data_file)\n",
    "\n",
    "# Get current year and month\n",
    "now = datetime.now()\n",
    "\n",
    "# Subtract one month from current date\n",
    "last_month = now - relativedelta(months=1)  #\n",
    "\n",
    "# Format last month as string in YYYYMM format\n",
    "year_month = last_month.strftime(\"%Y%m\")\n",
    "\n",
    "print(year_month)\n",
    "\n",
    "# Construct file path\n",
    "file_path = f\"data_files/{year_month}.xlsx\"\n",
    "\n",
    "# Read xlsx file into pandas DataFrame\n",
    "df = pd.read_excel(file_path)"
   ]
  },
  {
   "cell_type": "code",
   "execution_count": 3,
   "id": "917ea92d",
   "metadata": {},
   "outputs": [],
   "source": [
    "my_company_name = data_file.my_company_name\n",
    "exclusion_company_one = data_file.exclusion_company_one\n",
    "exclusion_company_two = data_file.exclusion_company_two\n",
    "\n",
    "last_column_name = 'order_intake_amount_eur'\n",
    "df = df.rename(columns={df.columns[-1]: last_column_name})\n",
    "\n",
    "# necessary modifications of columns\n",
    "\n",
    "df['bu'] = df['bu'].astype(str)\n",
    "df['customer_name'] = df['sold_to_customer_n'].str.upper()\n",
    "\n",
    "# Filter out rows with unwanted value in customer_name\n",
    "df = df[~df['customer_name'].str.contains(my_company_name) & ~df['customer_name'].str.contains(exclusion_company_one) & ~df['customer_name'].str.contains(exclusion_company_two)]\n",
    "\n",
    "# Drop rows where 'total' value is 0\n",
    "df = df.drop(df[df[last_column_name] == 0].index)\n",
    "\n",
    "# Get 'sales_order_so' where the sum of 'order_intake_amount_eur' is 0\n",
    "result = df.groupby('sales_order_so')[last_column_name].transform('sum') == 0\n",
    "sales_order_with_sum_zero = df[result]['sales_order_so'].unique().tolist()\n",
    "df = df[~df['sales_order_so'].isin(sales_order_with_sum_zero)]"
   ]
  },
  {
   "cell_type": "code",
   "execution_count": 4,
   "id": "79281fb5",
   "metadata": {},
   "outputs": [
    {
     "data": {
      "text/plain": [
       "1.0025514695682574"
      ]
     },
     "execution_count": 4,
     "metadata": {},
     "output_type": "execute_result"
    }
   ],
   "source": [
    "# visual check - sums should be the same or very close ~ 1\n",
    "df.groupby(['source'])['order_intake_amount_eur'].sum()[0] / df.groupby(['source'])['order_intake_amount_eur'].sum()[1]"
   ]
  },
  {
   "cell_type": "code",
   "execution_count": 5,
   "id": "ca7a973e",
   "metadata": {},
   "outputs": [
    {
     "data": {
      "text/plain": [
       "28020302"
      ]
     },
     "execution_count": 5,
     "metadata": {},
     "output_type": "execute_result"
    }
   ],
   "source": [
    "df.groupby(['source'])['order_intake_amount_eur'].sum()[0]"
   ]
  },
  {
   "cell_type": "code",
   "execution_count": 6,
   "id": "aaea26df",
   "metadata": {},
   "outputs": [
    {
     "data": {
      "text/plain": [
       "27948991"
      ]
     },
     "execution_count": 6,
     "metadata": {},
     "output_type": "execute_result"
    }
   ],
   "source": [
    "df.groupby(['source'])['order_intake_amount_eur'].sum()[1]"
   ]
  },
  {
   "cell_type": "code",
   "execution_count": 7,
   "id": "646c9ce0",
   "metadata": {},
   "outputs": [],
   "source": [
    "#combining bu products groups for PRJ and BU sources\n",
    "prj_bu = data_file.prj_bu\n",
    "prd_bu = data_file.prd_bu\n",
    "\n",
    "# delete doubled rows from difficrent sources PRJ and BU\n",
    "list_prj_so = df[df['bu'].isin(prj_bu)]['sales_order_so'].to_list()\n",
    "df_wo_prj_so = df[(~df['sales_order_so'].isin(list_prj_so)) & (df['source'] == 'BU')]\n",
    "df_with_prj_so = df[df['bu'].isin(prj_bu)]\n",
    "\n",
    "# keeping only unique sales orders\n",
    "df_final = pd.concat([df_wo_prj_so, df_with_prj_so])"
   ]
  },
  {
   "cell_type": "code",
   "execution_count": 8,
   "id": "efe869ac",
   "metadata": {},
   "outputs": [
    {
     "data": {
      "text/plain": [
       "1.0000000356884091"
      ]
     },
     "execution_count": 8,
     "metadata": {},
     "output_type": "execute_result"
    }
   ],
   "source": [
    "# visual check - sums should be the same or very close ~ 1\n",
    "df_final['order_intake_amount_eur'].sum() / df.groupby(['source'])['order_intake_amount_eur'].sum()[0]"
   ]
  },
  {
   "cell_type": "code",
   "execution_count": 9,
   "id": "981bf6b7",
   "metadata": {},
   "outputs": [],
   "source": [
    "# Create an ExcelWriter object\n",
    "writer = pd.ExcelWriter(f'data_files/outcome/month_results_table_{year_month}.xlsx')\n",
    "# Save each DataFrame to a separate sheet in the same file\n",
    "df_final.to_excel(writer, sheet_name=f'{year_month}', index=False)\n",
    "# Save the file\n",
    "writer.close()"
   ]
  },
  {
   "cell_type": "code",
   "execution_count": 10,
   "id": "608081f5",
   "metadata": {},
   "outputs": [
    {
     "data": {
      "text/plain": [
       "2878"
      ]
     },
     "execution_count": 10,
     "metadata": {},
     "output_type": "execute_result"
    }
   ],
   "source": [
    "len(df_final)"
   ]
  },
  {
   "cell_type": "code",
   "execution_count": 27,
   "id": "7af54062",
   "metadata": {},
   "outputs": [
    {
     "name": "stdout",
     "output_type": "stream",
     "text": [
      "14802\n"
     ]
    }
   ],
   "source": [
    "import numpy as np\n",
    "import sqlite3\n",
    "conn2 = sqlite3.connect('data_files/customer_data.db')\n",
    "query = \"SELECT * FROM customers\"  # Replace 'tablename' with your table name\n",
    "df_customers = pd.read_sql_query(query, conn2)\n",
    "conn2.close()\n",
    "\n",
    "print(len(df_customers))"
   ]
  },
  {
   "cell_type": "code",
   "execution_count": 12,
   "id": "61b8ec28",
   "metadata": {},
   "outputs": [],
   "source": [
    "# Extract the difference by subtracting the common part\n",
    "\n",
    "df_customers['legal_form'] = ''\n",
    "df_customers['sold_to_customer_n'] = df_customers['sold_to_customer_n'].str.upper()\n",
    "for i, row in df_customers.iterrows():\n",
    "    common_part = row['customer_name']\n",
    "    if common_part in row['sold_to_customer_n']:\n",
    "        df_customers.at[i, 'legal_form'] = row['sold_to_customer_n'].replace(common_part, '').strip()\n",
    "\n",
    "legal_forms = df_customers['legal_form'].tolist()\n",
    "legal_forms = list(set(legal_forms))"
   ]
  },
  {
   "cell_type": "code",
   "execution_count": 13,
   "id": "f7a58e00",
   "metadata": {},
   "outputs": [],
   "source": [
    "list_of_existing_customer = df_customers['sold_to_customer'].tolist()\n",
    "new_customers = df_final[~df_final['sold_to_customer'].isin(list_of_existing_customer)]"
   ]
  },
  {
   "cell_type": "code",
   "execution_count": 14,
   "id": "4381d714",
   "metadata": {},
   "outputs": [],
   "source": [
    "# reading table of definition for customer types\n",
    "def_for_customers = pd.read_excel('data_files/def_for_customers.xlsx')"
   ]
  },
  {
   "cell_type": "code",
   "execution_count": 15,
   "id": "f7b461df",
   "metadata": {},
   "outputs": [],
   "source": [
    "new_customers = new_customers.loc[:, ['sold_to_customer', 'company_code_n', 'sold_to_customer_n', 'customer_name','customer_group_code']]\n",
    "new_customers.drop_duplicates(inplace=True)\n",
    "new_customers['customer_group_code'] = new_customers['customer_group_code'].fillna(0)\n",
    "new_customers = new_customers.merge(def_for_customers, how='left')\n",
    "\n",
    "new_customers['customer_name_prev'] = new_customers['customer_name']\n",
    "new_customers['legal_form'] = ''\n",
    "for i, row in new_customers.iterrows():\n",
    "    common_part = row['customer_name']\n",
    "    coinc = []\n",
    "    for lf in legal_forms:\n",
    "        if lf in common_part:\n",
    "            coinc.append(lf)\n",
    "    \n",
    "    longest_element = max(coinc, key=len)\n",
    "    new_customers.at[i, 'customer_name'] = row['customer_name'].replace(longest_element, '').strip()\n",
    "    new_customers.at[i, 'legal_form'] = longest_element\n",
    "\n",
    "# Create an ExcelWriter object\n",
    "writer = pd.ExcelWriter(f'data_files/outcome/new_customers_{year_month}.xlsx')\n",
    "# Save each DataFrame to a separate sheet in the same file\n",
    "new_customers.to_excel(writer, sheet_name='new_customers', index=False)\n",
    "# Save the file\n",
    "writer.close()"
   ]
  },
  {
   "cell_type": "code",
   "execution_count": null,
   "id": "944a6f84",
   "metadata": {},
   "outputs": [],
   "source": [
    "\n",
    "# NOW it is necessary to open the file and check legal forms determination, then save the file and read it again\n"
   ]
  },
  {
   "cell_type": "code",
   "execution_count": 16,
   "id": "a7efce86",
   "metadata": {},
   "outputs": [
    {
     "name": "stdout",
     "output_type": "stream",
     "text": [
      "2\n",
      "13\n",
      "4\n",
      "17\n"
     ]
    }
   ],
   "source": [
    "# after visual check of legal forms separation\n",
    "checked_new_customers = pd.read_excel(f'data_files/outcome/new_customers_{year_month}.xlsx')\n",
    "\n",
    "new_customer_list = checked_new_customers['customer_name'].tolist()\n",
    "\n",
    "conn2 = sqlite3.connect('data_files/customer_data.db')\n",
    "query = \"SELECT * FROM customers\" \n",
    "df_customers = pd.read_sql_query(query, conn2)\n",
    "conn2.close()\n",
    "\n",
    "df_customers_to_check = df_customers[df_customers['customer_name'].isin(new_customer_list)]\n",
    "\n",
    "existing_list = list(set(df_customers_to_check['customer_name'].tolist()))\n",
    "\n",
    "existing_in_new = checked_new_customers[checked_new_customers['customer_name'].isin(existing_list)]\n",
    "print(len(existing_in_new))\n",
    "\n",
    "checked_new_customers = checked_new_customers[~checked_new_customers['customer_name'].isin(existing_list)]\n",
    "print(len(checked_new_customers))\n",
    "\n",
    "existing_in_new = existing_in_new.loc[:, ['sold_to_customer', 'company_code_n', 'sold_to_customer_n',\n",
    "       'customer_name', 'customer_group_code'] ]\n",
    "\n",
    "\n",
    "df_customers_for_use = df_customers.loc[:, ['customer_name', 'indirect_direct', 'channel',\n",
    "       'type', 'tier']]\n",
    "\n",
    "df_customers_for_use.drop_duplicates(inplace=True)\n",
    "\n",
    "existing_in_new = existing_in_new.merge(df_customers_for_use, how='left')\n",
    "\n",
    "print(len(existing_in_new))\n",
    "\n",
    "checked_new_customers = pd.concat([checked_new_customers, existing_in_new])\n",
    "print(len(checked_new_customers))"
   ]
  },
  {
   "cell_type": "code",
   "execution_count": 17,
   "id": "0a239ab4",
   "metadata": {},
   "outputs": [],
   "source": [
    "duplicated_rows = checked_new_customers[checked_new_customers['customer_name'].duplicated(keep=False)]\n",
    "if len(duplicated_rows) > 0:\n",
    "    writer = pd.ExcelWriter(f'data_files/outcome/check_doubled.xlsx')\n",
    "    checked_new_customers.to_excel(writer, sheet_name='doubled', index=False)\n",
    "    writer.close()"
   ]
  },
  {
   "cell_type": "code",
   "execution_count": 24,
   "id": "18332277",
   "metadata": {},
   "outputs": [],
   "source": [
    "checked_new_customers = checked_new_customers.loc[:, 'sold_to_customer':]"
   ]
  },
  {
   "cell_type": "code",
   "execution_count": 28,
   "id": "25283c73",
   "metadata": {},
   "outputs": [],
   "source": [
    "writer = pd.ExcelWriter(f'data_files/outcome/df_customers_plus_this_month.xlsx')\n",
    "df_customers.to_excel(writer, sheet_name='doubled', index=False)\n",
    "writer.close()"
   ]
  },
  {
   "cell_type": "code",
   "execution_count": 21,
   "id": "615583e5",
   "metadata": {},
   "outputs": [],
   "source": [
    "indexes_to_drop = [14, 15]\n",
    "\n",
    "for i in indexes_to_drop:\n",
    "    checked_new_customers = checked_new_customers.drop(i) # check shift..."
   ]
  },
  {
   "cell_type": "code",
   "execution_count": 26,
   "id": "dbb98f8f",
   "metadata": {},
   "outputs": [],
   "source": [
    "checked_new_customers = checked_new_customers.rename(columns={'customer_group_code':'code'})\n",
    "checked_new_customers['Comments'] = year_month\n",
    "\n",
    "df = checked_new_customers.copy()\n",
    "\n",
    "# Connect to the SQLite database\n",
    "conn = sqlite3.connect('data_files/customer_data.db')\n",
    "table_name = 'customers'\n",
    "\n",
    "existing_table = pd.read_sql_query(f\"SELECT * FROM {table_name} LIMIT 0\", conn)\n",
    "\n",
    "# Find the columns in the DataFrame that are not in the existing table\n",
    "new_columns = [column for column in df.columns if column not in existing_table.columns]\n",
    "\n",
    "# Add the missing columns to the existing table (alter table query)\n",
    "for column in new_columns:\n",
    "    dtype = str(df[column].dtype)\n",
    "    alter_query = f\"ALTER TABLE {table_name} ADD COLUMN {column} {dtype}\"\n",
    "    conn.execute(alter_query)\n",
    "    \n",
    "    \n",
    "# Insert the DataFrame data into the existing table\n",
    "df.to_sql(table_name, conn, if_exists='append', index=False)\n",
    "\n",
    "# Close the connection to the database\n",
    "conn.close()"
   ]
  },
  {
   "cell_type": "code",
   "execution_count": 29,
   "id": "bae1dccf",
   "metadata": {},
   "outputs": [],
   "source": [
    "# update orders of last period according to the initial order table\n",
    "df_final = df_final.drop('customer_name', axis=1)\n",
    "df_final = df_final.rename(columns={'bu':'bu2'})\n",
    "df_final['Date'] = pd.to_datetime(df_final['year_month'], format='%Y%m')\n",
    "df_final['FY'] = df_final['Date'] - pd.DateOffset(months=3)"
   ]
  },
  {
   "cell_type": "code",
   "execution_count": 30,
   "id": "f5c28cc3",
   "metadata": {},
   "outputs": [
    {
     "name": "stdout",
     "output_type": "stream",
     "text": [
      "204559\n"
     ]
    }
   ],
   "source": [
    "conn = sqlite3.connect('data_files/order_data.db')\n",
    "query = \"SELECT * FROM orders\"\n",
    "df_orders = pd.read_sql_query(query, conn)\n",
    "# Close the connection to the database\n",
    "conn.close()\n",
    "\n",
    "print(len(df_orders))"
   ]
  },
  {
   "cell_type": "code",
   "execution_count": 31,
   "id": "40220876",
   "metadata": {},
   "outputs": [
    {
     "name": "stdout",
     "output_type": "stream",
     "text": [
      "202305\n"
     ]
    }
   ],
   "source": [
    "# clean data base from entries for this period\n",
    "\n",
    "print(year_month)\n",
    "\n",
    "def delete_rows(db_file, table_name, column_name, value):\n",
    "    # Connect to the database\n",
    "    conn = sqlite3.connect(db_file)\n",
    "    cursor = conn.cursor()\n",
    "\n",
    "    # Execute the DELETE statement to remove rows\n",
    "    delete_query = f\"DELETE FROM {table_name} WHERE {column_name} = ?\"\n",
    "    cursor.execute(delete_query, (value,))\n",
    "\n",
    "    # Commit the changes and close the connection\n",
    "    conn.commit()\n",
    "    conn.close()\n",
    "\n",
    "# Provide the necessary details\n",
    "database_file = \"data_files/order_data.db\"\n",
    "table_name = \"orders\"\n",
    "column_name = \"year_month\"\n",
    "value = year_month\n",
    "\n",
    "# Call the function to delete rows\n",
    "delete_rows(database_file, table_name, column_name, value)"
   ]
  },
  {
   "cell_type": "code",
   "execution_count": 32,
   "id": "ad1949f9",
   "metadata": {},
   "outputs": [],
   "source": [
    "# updating db with orders\n",
    "\n",
    "conn = sqlite3.connect('data_files/order_data.db')\n",
    "query = \"SELECT * FROM orders\"  # Replace 'tablename' with your table name\n",
    "\n",
    "#df_orders = pd.read_sql_query(query, conn)\n",
    "\n",
    "#copy df with new results\n",
    "df = df_final.copy()\n",
    "\n",
    "table_name = 'orders'\n",
    "\n",
    "existing_table = pd.read_sql_query(f\"SELECT * FROM {table_name} LIMIT 0\", conn)\n",
    "\n",
    "# Find the columns in the DataFrame that are not in the existing table\n",
    "new_columns = [column for column in df.columns if column not in existing_table.columns]\n",
    "\n",
    "# Add the missing columns to the existing table (alter table query)\n",
    "for column in new_columns:\n",
    "    dtype = str(df[column].dtype)\n",
    "    alter_query = f\"ALTER TABLE {table_name} ADD COLUMN {column} {dtype}\"\n",
    "    conn.execute(alter_query)\n",
    "    \n",
    "    \n",
    "# Insert the DataFrame data into the existing table\n",
    "df.to_sql(table_name, conn, if_exists='append', index=False)\n",
    "\n",
    "# Close the connection to the database\n",
    "conn.close()"
   ]
  },
  {
   "cell_type": "code",
   "execution_count": 33,
   "id": "f9551dc8",
   "metadata": {},
   "outputs": [
    {
     "name": "stdout",
     "output_type": "stream",
     "text": [
      "205248\n"
     ]
    }
   ],
   "source": [
    "conn = sqlite3.connect('data_files/order_data.db')\n",
    "query = \"SELECT * FROM orders\"\n",
    "df_orders = pd.read_sql_query(query, conn)\n",
    "# Close the connection to the database\n",
    "conn.close()\n",
    "\n",
    "print(len(df_orders))"
   ]
  },
  {
   "cell_type": "code",
   "execution_count": 34,
   "id": "17c4eb99",
   "metadata": {},
   "outputs": [],
   "source": [
    "writer = pd.ExcelWriter(f'data_files/outcome/df_orders_check.xlsx')\n",
    "df_orders.to_excel(writer, sheet_name='orders', index=False)\n",
    "writer.close()"
   ]
  },
  {
   "cell_type": "code",
   "execution_count": 28,
   "id": "61c74ba6",
   "metadata": {},
   "outputs": [],
   "source": [
    "conn2 = sqlite3.connect('data_files/customer_data.db')\n",
    "query = \"SELECT * FROM customers\"  # Replace 'tablename' with your table name\n",
    "df_customers = pd.read_sql_query(query, conn2)\n",
    "conn2.close()\n",
    "\n",
    "writer = pd.ExcelWriter(f'data_files/outcome/df_customers_check.xlsx')\n",
    "df_customers.to_excel(writer, sheet_name='doubled', index=False)\n",
    "writer.close()"
   ]
  },
  {
   "cell_type": "code",
   "execution_count": null,
   "id": "b6eadc57",
   "metadata": {},
   "outputs": [],
   "source": []
  }
 ],
 "metadata": {
  "kernelspec": {
   "display_name": "Python 3 (ipykernel)",
   "language": "python",
   "name": "python3"
  },
  "language_info": {
   "codemirror_mode": {
    "name": "ipython",
    "version": 3
   },
   "file_extension": ".py",
   "mimetype": "text/x-python",
   "name": "python",
   "nbconvert_exporter": "python",
   "pygments_lexer": "ipython3",
   "version": "3.10.9"
  }
 },
 "nbformat": 4,
 "nbformat_minor": 5
}
