{
 "cells": [
  {
   "cell_type": "code",
   "execution_count": 11,
   "id": "5f135fd8",
   "metadata": {},
   "outputs": [
    {
     "name": "stdout",
     "output_type": "stream",
     "text": [
      "202307\n"
     ]
    }
   ],
   "source": [
    "import pandas as pd\n",
    "from datetime import datetime\n",
    "from dateutil.relativedelta import relativedelta\n",
    "import importlib\n",
    "import sqlite3\n",
    "\n",
    "# keeping company information in additional file\n",
    "import data_file\n",
    "\n",
    "# Get current year and month\n",
    "now = datetime.now()\n",
    "\n",
    "# Subtract one month from current date\n",
    "last_month = now - relativedelta(months=1)  #\n",
    "\n",
    "# Format last month as string in YYYYMM format\n",
    "year_month = last_month.strftime(\"%Y%m\")\n",
    "\n",
    "print(year_month)\n",
    "\n",
    "# Construct file path\n",
    "file_path = \"data_files/order22withmu.xlsx\"\n",
    "\n",
    "# Read xlsx file into pandas DataFrame\n",
    "df = pd.read_excel(file_path)"
   ]
  },
  {
   "cell_type": "code",
   "execution_count": null,
   "id": "6adfb87c",
   "metadata": {},
   "outputs": [],
   "source": [
    "#importlib.reload(data_file)"
   ]
  },
  {
   "cell_type": "code",
   "execution_count": 12,
   "id": "ffd268d8",
   "metadata": {},
   "outputs": [],
   "source": [
    "my_company_name = data_file.my_company_name\n",
    "exclusion_company_one = data_file.exclusion_company_one\n",
    "exclusion_company_two = data_file.exclusion_company_two\n",
    "\n",
    "last_column_name = 'order_intake_amount_eur'\n",
    "df = df.rename(columns={df.columns[-1]: last_column_name})\n",
    "\n",
    "# necessary modifications of columns\n",
    "\n",
    "df['bu'] = df['bu'].astype(str)\n",
    "df['customer_name'] = df['sold_to_customer_n'].str.upper()\n",
    "\n",
    "# Filter out rows with unwanted value in customer_name\n",
    "df = df[~df['customer_name'].str.contains(my_company_name) & ~df['customer_name'].str.contains(exclusion_company_one) & ~df['customer_name'].str.contains(exclusion_company_two)]\n",
    "\n",
    "# Drop rows where 'total' value is 0\n",
    "df = df.drop(df[df[last_column_name] == 0].index)\n",
    "\n",
    "# Get 'sales_order_so' where the sum of 'order_intake_amount_eur' is 0\n",
    "#result = df.groupby('sales_order_so')[last_column_name].transform('sum') == 0\n",
    "#sales_order_with_sum_zero = df[result]['sales_order_so'].unique().tolist()\n",
    "#df = df[~df['sales_order_so'].isin(sales_order_with_sum_zero)]"
   ]
  },
  {
   "cell_type": "code",
   "execution_count": 13,
   "id": "c99eee32",
   "metadata": {},
   "outputs": [],
   "source": [
    "last_year = [202204, 202205, 202206, 202207, 202208, 202209, 202210, 202211,\n",
    "       202212, 202301, 202302, 202303]\n",
    "\n",
    "df_last_year = df[df['year_month'].isin(last_year)]"
   ]
  },
  {
   "cell_type": "code",
   "execution_count": 14,
   "id": "3d378a7d",
   "metadata": {},
   "outputs": [],
   "source": [
    "# Group data and calculate the sum of order_intake_amount_eur\n",
    "grouped_df = df_last_year.groupby('mu_n_latest')['order_intake_amount_eur'].sum().reset_index()\n",
    "\n",
    "# Save the results to an Excel file\n",
    "grouped_df.to_excel('data_files/output_file.xlsx', index=False)"
   ]
  },
  {
   "cell_type": "code",
   "execution_count": 15,
   "id": "0fd1776b",
   "metadata": {},
   "outputs": [],
   "source": [
    "conn2 = sqlite3.connect('data_files/customer_data.db')\n",
    "query = \"SELECT * FROM customers\" \n",
    "df_customers = pd.read_sql_query(query, conn2)\n",
    "conn2.close()"
   ]
  },
  {
   "cell_type": "code",
   "execution_count": 17,
   "id": "507d97f7",
   "metadata": {},
   "outputs": [],
   "source": [
    "df_customers = df_customers[['sold_to_customer', 'customer_name', 'tier_new']]"
   ]
  },
  {
   "cell_type": "code",
   "execution_count": null,
   "id": "f1250197",
   "metadata": {},
   "outputs": [],
   "source": [
    "df_customers['sold_to_customer'] = df_customers['sold_to_customer'].astype(str)"
   ]
  },
  {
   "cell_type": "code",
   "execution_count": 19,
   "id": "dc8c1a1c",
   "metadata": {},
   "outputs": [],
   "source": [
    "df['sold_to_customer'] = df['sold_to_customer'].astype(str)"
   ]
  },
  {
   "cell_type": "code",
   "execution_count": 20,
   "id": "298703b9",
   "metadata": {},
   "outputs": [],
   "source": [
    "df_total = df.merge(df_customers, how='left', on='sold_to_customer')\n",
    "# Save the results to an Excel file\n",
    "df_total.to_excel('data_files/df_total.xlsx', index=False)"
   ]
  }
 ],
 "metadata": {
  "kernelspec": {
   "display_name": "Python 3 (ipykernel)",
   "language": "python",
   "name": "python3"
  },
  "language_info": {
   "codemirror_mode": {
    "name": "ipython",
    "version": 3
   },
   "file_extension": ".py",
   "mimetype": "text/x-python",
   "name": "python",
   "nbconvert_exporter": "python",
   "pygments_lexer": "ipython3",
   "version": "3.10.9"
  }
 },
 "nbformat": 4,
 "nbformat_minor": 5
}
