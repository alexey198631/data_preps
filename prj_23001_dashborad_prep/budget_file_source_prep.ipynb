{
 "cells": [
  {
   "cell_type": "code",
   "execution_count": 1,
   "id": "ea16fa79",
   "metadata": {},
   "outputs": [
    {
     "data": {
      "text/plain": [
       "\"\\nSTEP 1\\n\\nThere is the customer_master.xlsx file as a definition table for data preparation. \\nIt helps to exlude wrong inforamtion in an internal data source which cannot be corrected.\\n\\ncolumns: ['Customer', 'Tier', 'Accounts', 'Company', 'the_newest_OPCO',\\n       'Customer Name', 'ONE_NAME', 'Indirect/Direct', 'Channel3', 'New Type4']\\n\\nThere is a budget file which budget information for two fiscal years. \\n\\ncolumns: ['sold_to_customer', 'sold_to_customer_n', 'Country', 'Country Name',\\n       'City', 'Type', 'OI Bgt FY21', 'OI Bgt FY22', 'Comments']\\n\\nMain goal of this code to combine these two files in one which would be used as one of \\nTableau data sources.\\n\\n\""
      ]
     },
     "execution_count": 1,
     "metadata": {},
     "output_type": "execute_result"
    }
   ],
   "source": [
    "\"\"\"\n",
    "STEP 1\n",
    "\n",
    "There is the customer_master.xlsx file as a definition table for data preparation. \n",
    "It helps to exlude wrong inforamtion in an internal data source which cannot be corrected.\n",
    "\n",
    "columns: ['Customer', 'Tier', 'Accounts', 'Company', 'the_newest_OPCO',\n",
    "       'Customer Name', 'ONE_NAME', 'Indirect/Direct', 'Channel3', 'New Type4']\n",
    "\n",
    "There is a budget file which budget information for two fiscal years. \n",
    "\n",
    "columns: ['sold_to_customer', 'sold_to_customer_n', 'Country', 'Country Name',\n",
    "       'City', 'Type', 'OI Bgt FY21', 'OI Bgt FY22', 'Comments']\n",
    "\n",
    "Main goal of this code to combine these two files in one which would be used as one of \n",
    "Tableau data sources.\n",
    "\n",
    "\"\"\""
   ]
  },
  {
   "cell_type": "code",
   "execution_count": 32,
   "id": "3960c159",
   "metadata": {},
   "outputs": [],
   "source": [
    "import pandas as pd\n",
    "import numpy as np\n",
    "\n",
    "#budget df preparation\n",
    "budget = pd.read_excel('data_files/initial_budget_file.xlsx', sheet_name='Budget')\n",
    "budget['sold_to_customer'] = budget['sold_to_customer'].astype('str')\n",
    "budget.sold_to_customer = \"0\" + budget.sold_to_customer\n",
    "\n",
    "#budget_df = pd.read_excel('data_files/budget_file.xlsx', sheet_name='budget_by_month', index_col='sold_to_customer')\n",
    "#budget_df = budget_df.reset_index()\n",
    "#budget_df.sold_to_customer = budget_df.sold_to_customer.astype('str') # the internal database has ID beginning with 0 in str format\n",
    "#budget_df.sold_to_customer = \"0\" + budget_df.sold_to_customer\n",
    "\n",
    "#customer master df preparation\n",
    "customer_df = pd.read_excel('data_files/customer_master.xlsx', sheet_name='data')\n",
    "customer_df = customer_df.loc[:,['Customer', 'Tier', 'the_newest_OPCO',\n",
    "       'Customer Name', 'ONE_NAME', 'Indirect/Direct', 'Channel3', 'New Type4']]\n",
    "customer_df = customer_df.rename(columns={'Customer':'sold_to_customer','the_newest_OPCO':'OPCO', 'Channel3':'Channel', 'New Type4':'Type'})\n",
    "customer_df.sold_to_customer = customer_df.sold_to_customer.astype('str') # the internal database has ID beginning with 0 in str format\n",
    "customer_df.sold_to_customer = \"0\" + customer_df.sold_to_customer\n",
    "customer_df=customer_df.dropna(subset=['ONE_NAME'])\n",
    "customer_df = customer_df.reset_index()\n",
    "#customer_df = customer_df.set_index('sold_to_customer')"
   ]
  },
  {
   "cell_type": "code",
   "execution_count": 33,
   "id": "7db03ddf",
   "metadata": {},
   "outputs": [],
   "source": [
    "class One_name(object):\n",
    "\n",
    "    \"\"\"Combining different ID and Company Names in One_name with all necessary parametres\"\"\"\n",
    "\n",
    "    def __init__(self, one_name):\n",
    "        self.one_name = one_name\n",
    "        self.sold_to_customer = []\n",
    "        self.sold_to_customer_n = []\n",
    "        self.typ = ['Direct','Direct','End User']\n",
    "        self.target = [0,0]\n",
    "\n",
    "  \n",
    "    def add_id(self, sold_to_customer):\n",
    "        if sold_to_customer not in self.sold_to_customer:\n",
    "            self.sold_to_customer.append(sold_to_customer)\n",
    "    \n",
    "    def add_name(self, sold_to_customer_n):\n",
    "        if sold_to_customer_n not in self.sold_to_customer_n:\n",
    "            self.sold_to_customer_n.append(sold_to_customer_n)\n",
    "    \n",
    "    def add_type(self, typ):\n",
    "        self.typ = typ\n",
    "        \n",
    "    def add_tier(self, tier):\n",
    "        self.tier = tier    \n",
    "    \n",
    "    def add_opco(self, opco):\n",
    "        self.opco = opco\n",
    "        \n",
    "    def add_target(self, target):\n",
    "        if target[0] > 0:\n",
    "            self.target[0] = self.target[0] + target[0]\n",
    "        if target[1] > 0:\n",
    "            self.target[1] = self.target[1] + target[1]\n",
    "           \n",
    "    def get_one(self):\n",
    "        return self.one_name\n",
    "    def get_id(self):\n",
    "        return self.sold_to_customer\n",
    "    def get_tier(self):\n",
    "        return self.tier\n",
    "    def get_opco(self):\n",
    "        return self.opco\n",
    "    def get_name(self):\n",
    "        return self.sold_to_customer_n\n",
    "    def get_typ(self):\n",
    "        return self.typ\n",
    "    def get_target(self):\n",
    "        return self.target"
   ]
  },
  {
   "cell_type": "code",
   "execution_count": 34,
   "id": "e225ed55",
   "metadata": {},
   "outputs": [],
   "source": [
    "check = []\n",
    "comps = []\n",
    "for i in range(len(customer_df)):\n",
    "    p = One_name(customer_df.loc[i,'ONE_NAME'])\n",
    "    if customer_df.loc[i,'ONE_NAME'] not in check:\n",
    "        comps.append(p)  \n",
    "    check.append(customer_df.loc[i,'ONE_NAME'])\n",
    "\n",
    "for comp in comps:\n",
    "    for i in range(len(customer_df)):\n",
    "        if comp.get_one() == customer_df.loc[i,'ONE_NAME']:\n",
    "            comp.add_id(customer_df.loc[i,'sold_to_customer'])\n",
    "            comp.add_tier(customer_df.loc[i,'Tier'])\n",
    "            comp.add_opco(customer_df.loc[i,'OPCO'])\n",
    "            comp.add_name(customer_df.loc[i,'Customer Name'])\n",
    "            comp.add_type([customer_df.loc[i,'Indirect/Direct'],customer_df.loc[i,'Channel'],customer_df.loc[i,'Type']])\n",
    "\n",
    "for comp in comps:\n",
    "    for i in range(len(budget)):\n",
    "        if budget.loc[i,'sold_to_customer'] in comp.get_id() : \n",
    "            comp.add_name(budget.loc[i,'sold_to_customer_n'])\n",
    "            comp.add_target([budget.loc[i,'OI Bgt FY21'], budget.loc[i,'OI Bgt FY22']])"
   ]
  },
  {
   "cell_type": "code",
   "execution_count": 35,
   "id": "49e58418",
   "metadata": {},
   "outputs": [],
   "source": [
    "final = pd.DataFrame(columns=['ID','OPCO', 'Tier', 'ONE_NAME', 'Indirect/Direct', 'Channel', 'Type', 'OI Bgt FY21', 'OI Bgt FY22'])\n",
    "\n",
    "for comp in comps:\n",
    "    for i in range(len(comp.get_id())):\n",
    "        temp = pd.DataFrame(columns=['ID','OPCO', 'Tier', 'ONE_NAME', 'Indirect/Direct', 'Channel', 'Type', 'OI Bgt FY21', 'OI Bgt FY22'])\n",
    "        temp.loc[i, 'ID'] = comp.get_id()[i]\n",
    "        temp.loc[i, 'OPCO'] = comp.get_opco()\n",
    "        temp.loc[i, 'Tier'] = comp.get_tier()\n",
    "        temp.loc[i, 'ONE_NAME'] = comp.get_one()\n",
    "        temp.loc[i, 'Indirect/Direct'] = comp.get_typ()[0]\n",
    "        temp.loc[i, 'Channel'] = comp.get_typ()[1]\n",
    "        temp.loc[i, 'Type'] = comp.get_typ()[2]\n",
    "        if i == 0:\n",
    "            temp.loc[i, 'OI Bgt FY21'] = comp.get_target()[0]\n",
    "            temp.loc[i, 'OI Bgt FY22'] = comp.get_target()[1]\n",
    "        else:\n",
    "            temp.loc[i, 'OI Bgt FY21'] = 0\n",
    "            temp.loc[i, 'OI Bgt FY22'] = 0\n",
    "        \n",
    "        final = pd.concat([final, temp], ignore_index=True)"
   ]
  },
  {
   "cell_type": "code",
   "execution_count": 36,
   "id": "6b124dda",
   "metadata": {},
   "outputs": [],
   "source": [
    "writer = pd.ExcelWriter('data_files/budget_file_intermediate.xlsx', engine='xlsxwriter')\n",
    "final.to_excel(writer, sheet_name='budget_by_month')\n",
    "writer.save()"
   ]
  },
  {
   "cell_type": "code",
   "execution_count": null,
   "id": "cf8c1392",
   "metadata": {},
   "outputs": [],
   "source": []
  }
 ],
 "metadata": {
  "kernelspec": {
   "display_name": "Python 3 (ipykernel)",
   "language": "python",
   "name": "python3"
  },
  "language_info": {
   "codemirror_mode": {
    "name": "ipython",
    "version": 3
   },
   "file_extension": ".py",
   "mimetype": "text/x-python",
   "name": "python",
   "nbconvert_exporter": "python",
   "pygments_lexer": "ipython3",
   "version": "3.9.12"
  }
 },
 "nbformat": 4,
 "nbformat_minor": 5
}
