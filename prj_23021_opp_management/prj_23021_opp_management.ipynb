{
 "cells": [
  {
   "cell_type": "code",
   "execution_count": 2,
   "id": "ed6dcbed",
   "metadata": {},
   "outputs": [],
   "source": [
    "import pandas as pd\n",
    "import numpy as np\n",
    "import sqlite3"
   ]
  },
  {
   "cell_type": "code",
   "execution_count": 3,
   "id": "5a0ee6af",
   "metadata": {},
   "outputs": [],
   "source": [
    "conn = sqlite3.connect('data_files/customer_data.db')\n",
    "query = \"SELECT * FROM customers\" \n",
    "df_customers = pd.read_sql_query(query, conn)\n",
    "conn.close()"
   ]
  },
  {
   "cell_type": "code",
   "execution_count": 5,
   "id": "f47993ec",
   "metadata": {},
   "outputs": [],
   "source": [
    "open_opp = pd.read_excel('data_files/Open_Opportunities.xlsx')"
   ]
  },
  {
   "cell_type": "code",
   "execution_count": 10,
   "id": "294c5916",
   "metadata": {},
   "outputs": [],
   "source": [
    "merged = pd.merge(open_opp, df_customers, left_on='Customer Name', right_on = 'sold_to_customer_n', how='left')"
   ]
  },
  {
   "cell_type": "code",
   "execution_count": 11,
   "id": "a8a0b756",
   "metadata": {},
   "outputs": [],
   "source": [
    "writer = pd.ExcelWriter('data_files/outcome/merged.xlsx')\n",
    "# Save each DataFrame to a separate sheet in the same file\n",
    "merged.to_excel(writer, sheet_name='temp', index=False)\n",
    "# Save the file\n",
    "writer.close()"
   ]
  }
 ],
 "metadata": {
  "kernelspec": {
   "display_name": "Python 3 (ipykernel)",
   "language": "python",
   "name": "python3"
  },
  "language_info": {
   "codemirror_mode": {
    "name": "ipython",
    "version": 3
   },
   "file_extension": ".py",
   "mimetype": "text/x-python",
   "name": "python",
   "nbconvert_exporter": "python",
   "pygments_lexer": "ipython3",
   "version": "3.10.9"
  }
 },
 "nbformat": 4,
 "nbformat_minor": 5
}
