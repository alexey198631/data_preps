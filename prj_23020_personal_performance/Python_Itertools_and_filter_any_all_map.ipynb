{
 "cells": [
  {
   "cell_type": "markdown",
   "id": "6ec602b1",
   "metadata": {},
   "source": [
    "filter(), any(), all(), map() examples"
   ]
  },
  {
   "cell_type": "code",
   "execution_count": 12,
   "id": "8957ce04",
   "metadata": {},
   "outputs": [
    {
     "name": "stdout",
     "output_type": "stream",
     "text": [
      "2\n",
      "4\n",
      "6\n"
     ]
    }
   ],
   "source": [
    "numbers = [1, 2, 3, 4, 5, 6]\n",
    "def is_even(n):\n",
    "    return n % 2 == 0\n",
    "\n",
    "even_numbers = filter(is_even, numbers)\n",
    "\n",
    "for number in even_numbers:\n",
    "    print(number)"
   ]
  },
  {
   "cell_type": "code",
   "execution_count": 13,
   "id": "49ba5d4a",
   "metadata": {},
   "outputs": [
    {
     "name": "stdout",
     "output_type": "stream",
     "text": [
      "True\n"
     ]
    }
   ],
   "source": [
    "numbers = [0, 2, 0, 0, 0, 6]\n",
    "print(any(numbers))  # This will return True"
   ]
  },
  {
   "cell_type": "code",
   "execution_count": 16,
   "id": "5b0bdd47",
   "metadata": {},
   "outputs": [
    {
     "name": "stdout",
     "output_type": "stream",
     "text": [
      "True\n",
      "False\n"
     ]
    }
   ],
   "source": [
    "numbers = [2, 4, 6, 8]\n",
    "print(all(numbers))  # This will return True\n",
    "\n",
    "numbers = [2, 4, 0, 6]\n",
    "print(all(numbers))  # This will return False"
   ]
  },
  {
   "cell_type": "code",
   "execution_count": 17,
   "id": "530d4ff2",
   "metadata": {},
   "outputs": [
    {
     "name": "stdout",
     "output_type": "stream",
     "text": [
      "1\n",
      "4\n",
      "9\n",
      "16\n",
      "25\n"
     ]
    }
   ],
   "source": [
    "numbers = [1, 2, 3, 4, 5]\n",
    "def square(n):\n",
    "    return n ** 2\n",
    "\n",
    "squared_numbers = map(square, numbers)\n",
    "\n",
    "for number in squared_numbers:\n",
    "    print(number)"
   ]
  },
  {
   "cell_type": "code",
   "execution_count": 18,
   "id": "d1e44c69",
   "metadata": {},
   "outputs": [
    {
     "name": "stdout",
     "output_type": "stream",
     "text": [
      "1\n",
      "8\n",
      "27\n",
      "64\n",
      "125\n"
     ]
    }
   ],
   "source": [
    "numbers = [1, 2, 3, 4, 5]\n",
    "\n",
    "result = map(lambda x: x**3, numbers)\n",
    "\n",
    "for number in result:\n",
    "    print(number)"
   ]
  },
  {
   "cell_type": "markdown",
   "id": "2a618208",
   "metadata": {},
   "source": [
    "Intertools examples"
   ]
  },
  {
   "cell_type": "code",
   "execution_count": null,
   "id": "2e4a6ebf",
   "metadata": {},
   "outputs": [],
   "source": [
    "from itertools import permutations, combinations_with_replacement\n",
    "\n",
    "p_1 = permutations(\"ABC\")"
   ]
  },
  {
   "cell_type": "code",
   "execution_count": 7,
   "id": "d74b3ead",
   "metadata": {},
   "outputs": [
    {
     "name": "stdout",
     "output_type": "stream",
     "text": [
      "('A', 'B', 'C')\n",
      "('A', 'C', 'B')\n",
      "('B', 'A', 'C')\n",
      "('B', 'C', 'A')\n",
      "('C', 'A', 'B')\n",
      "('C', 'B', 'A')\n"
     ]
    }
   ],
   "source": [
    "for i in p_1:\n",
    "    print(i)"
   ]
  },
  {
   "cell_type": "code",
   "execution_count": 8,
   "id": "b93f45e3",
   "metadata": {},
   "outputs": [],
   "source": [
    "p_2 = permutations(\"ABC\", r=2)"
   ]
  },
  {
   "cell_type": "code",
   "execution_count": 9,
   "id": "8b9a1d6e",
   "metadata": {},
   "outputs": [],
   "source": [
    "c_5 = combinations_with_replacement((1, 2, 3), r=2)\n",
    "# (1, 1) (1, 2) (1, 3) (2, 2) (2, 3) (3, 3)"
   ]
  },
  {
   "cell_type": "code",
   "execution_count": 10,
   "id": "937a91c9",
   "metadata": {},
   "outputs": [
    {
     "name": "stdout",
     "output_type": "stream",
     "text": [
      "(1, 1)\n",
      "(1, 2)\n",
      "(1, 3)\n",
      "(2, 2)\n",
      "(2, 3)\n",
      "(3, 3)\n"
     ]
    }
   ],
   "source": [
    "for i in c_5:\n",
    "    print(i)"
   ]
  },
  {
   "cell_type": "code",
   "execution_count": null,
   "id": "c6b0e92e",
   "metadata": {},
   "outputs": [],
   "source": [
    "list_1 = [\"a\", \"b\", \"c\"]\n",
    "list_2 = [1, 2, 3]\n",
    "cartesian_product = product(list_1, list_2)\n",
    "# ('a', 1) ('a', 2) ('a', 3) ('b', 1) ('b', 2) ('b', 3) ('c', 1) ('c', 2) ('c', 3)"
   ]
  }
 ],
 "metadata": {
  "kernelspec": {
   "display_name": "Python 3 (ipykernel)",
   "language": "python",
   "name": "python3"
  },
  "language_info": {
   "codemirror_mode": {
    "name": "ipython",
    "version": 3
   },
   "file_extension": ".py",
   "mimetype": "text/x-python",
   "name": "python",
   "nbconvert_exporter": "python",
   "pygments_lexer": "ipython3",
   "version": "3.10.9"
  }
 },
 "nbformat": 4,
 "nbformat_minor": 5
}
