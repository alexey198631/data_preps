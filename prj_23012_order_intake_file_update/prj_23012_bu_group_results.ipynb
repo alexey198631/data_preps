{
 "cells": [
  {
   "cell_type": "code",
   "execution_count": 1,
   "id": "19195d55",
   "metadata": {},
   "outputs": [],
   "source": [
    "import pandas as pd\n",
    "from datetime import datetime\n",
    "from dateutil.relativedelta import relativedelta\n",
    "\n",
    "# Get current year and month\n",
    "now = datetime.now()\n",
    "\n",
    "# Subtract one month from current date\n",
    "last_month = now - relativedelta(months=1)\n",
    "\n",
    "# Format last month as string in YYYYMM format\n",
    "year_month = last_month.strftime(\"%Y%m\")\n",
    "\n",
    "# Construct file path\n",
    "file_path = f\"data_files/{year_month}.xlsx\"\n",
    "\n",
    "# Read xlsx file into pandas DataFrame\n",
    "df = pd.read_excel(file_path)"
   ]
  },
  {
   "cell_type": "code",
   "execution_count": 2,
   "id": "c7aada94",
   "metadata": {},
   "outputs": [],
   "source": [
    "#combining products groups \n",
    "control = ['YY112', 'YY113', 'YY114', 'YY115', 'YY138']\n",
    "transmitters = ['YY116', '811']\n",
    "flowmeters = ['YY117', '821']\n",
    "gc = ['YY118']\n",
    "analytical = ['YY119']\n",
    "asi = ['311', '312']"
   ]
  },
  {
   "cell_type": "code",
   "execution_count": 3,
   "id": "fd82a3bf",
   "metadata": {},
   "outputs": [],
   "source": [
    "#necessary modifications of columns\n",
    "df['bu'] = df['bu'].astype(str)\n",
    "df['company_up'] = df['sold_to_customer_n'].str.upper()\n",
    "df = df.rename(columns={'Unnamed: 14': 'order_intake_amount_eur'})\n",
    "# Filter out rows with unwanted value in column2\n",
    "df = df[~df['company_up'].str.contains('YOKOGAWA') & ~df['company_up'].str.contains('PXISE') & ~df['company_up'].str.contains('KBC')]  "
   ]
  },
  {
   "cell_type": "code",
   "execution_count": 7,
   "id": "f06c297c",
   "metadata": {},
   "outputs": [],
   "source": [
    "# Define a function to combine values in bu\n",
    "def combine_values(x):\n",
    "    if x in control:\n",
    "        return 'Control (YY112+YY113+YY114+YY115+YY138)'\n",
    "    elif x in transmitters:\n",
    "        return 'Transmitters (YY116+811)'\n",
    "    elif x in flowmeters:\n",
    "        return 'Flowmeters (YY117+821)'\n",
    "    elif x in gc:\n",
    "        return 'GC (YY118)'\n",
    "    elif x in analytical:\n",
    "        return 'Analytical Products (YY119)'\n",
    "    elif x in asi:\n",
    "        return 'ASI (311 + 312)'\n",
    "    else:\n",
    "        return 'Other'\n",
    "\n",
    "# Apply the function to create a new column with combined values\n",
    "df['Business Unit'] = df['bu'].apply(combine_values)\n",
    "\n",
    "# Group the data by the new combined column and sum the values in order_intake_amount_eur\n",
    "report_bu = df.groupby(['Business Unit'])['order_intake_amount_eur'].agg('sum')\n",
    "report_bu = report_bu.div(1000).round(1)\n",
    "\n",
    "# Compute the total excluding the value Other in Business Unit\n",
    "report_bu = report_bu.loc[report_bu.index.get_level_values('Business Unit') != 'Other'].groupby('Business Unit').agg('sum').to_frame('Total, kEuro')\n",
    "\n",
    "# Append the total row to the bottom of the grouped DataFrame\n",
    "report_bu = report_bu.reset_index()\n",
    "col_sum = report_bu['Total, kEuro'].sum()\n",
    "report_bu.loc[len(report_bu)] = ['Total: ', col_sum]\n",
    "\n",
    "report_opco = df.groupby(['company_code_n', 'Business Unit'])['order_intake_amount_eur'].sum()\n",
    "\n",
    "# Divide the sums by 1000 and round them\n",
    "report_opco = report_opco.div(1000).round(1)\n",
    "# Sort the values in descending order\n",
    "report_opco = report_opco.sort_values(ascending=False)"
   ]
  },
  {
   "cell_type": "code",
   "execution_count": 8,
   "id": "54ffa51e",
   "metadata": {},
   "outputs": [
    {
     "name": "stderr",
     "output_type": "stream",
     "text": [
      "C:\\Users\\30050122\\AppData\\Local\\Temp\\ipykernel_3876\\1549216441.py:9: FutureWarning: save is not part of the public API, usage can give unexpected results and will be removed in a future version\n",
      "  writer.save()\n"
     ]
    }
   ],
   "source": [
    "# Create an ExcelWriter object\n",
    "writer = pd.ExcelWriter('data_files/bu_summary.xlsx')\n",
    "\n",
    "# Save each DataFrame to a separate sheet in the same file\n",
    "report_bu.to_excel(writer, sheet_name='report_bu')\n",
    "report_opco.to_excel(writer, sheet_name='report_opco')\n",
    "\n",
    "# Save the file\n",
    "writer.save()"
   ]
  },
  {
   "cell_type": "code",
   "execution_count": null,
   "id": "02f5f6f7",
   "metadata": {},
   "outputs": [],
   "source": []
  }
 ],
 "metadata": {
  "kernelspec": {
   "display_name": "Python 3 (ipykernel)",
   "language": "python",
   "name": "python3"
  },
  "language_info": {
   "codemirror_mode": {
    "name": "ipython",
    "version": 3
   },
   "file_extension": ".py",
   "mimetype": "text/x-python",
   "name": "python",
   "nbconvert_exporter": "python",
   "pygments_lexer": "ipython3",
   "version": "3.10.9"
  }
 },
 "nbformat": 4,
 "nbformat_minor": 5
}
