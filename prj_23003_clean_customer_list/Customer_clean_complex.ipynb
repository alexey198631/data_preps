{
 "cells": [
  {
   "cell_type": "code",
   "execution_count": null,
   "id": "5d69b2b3",
   "metadata": {},
   "outputs": [],
   "source": [
    "\"\"\"\n",
    "Code for data cleaning. \n",
    "Main goal is to find and create ONE 'one_name' for one company but with different variants of:\n",
    "\n",
    "1. Company ID (sold_to_customer), \n",
    "2. Name spellings (sold_to_customer_n), \n",
    "\n",
    "each 'one_name' has to have eventually one definition for channel\n",
    "\n",
    "1. Type (Direct or Indirect)\n",
    "2. Type_with_channel (Direct - Direct or Indirect - Other or Indirect- Channel)\n",
    "3. Company_type according to our specification (End user, Distributor, VAR, OEM, EPC etc.)\n",
    "4. OPCO\n",
    "\n",
    "\n",
    "\"\"\""
   ]
  },
  {
   "cell_type": "code",
   "execution_count": 256,
   "id": "cc42707e",
   "metadata": {},
   "outputs": [],
   "source": [
    "\"\"\"\n",
    "importing data from two files which were prepared accordingly from SAP system\n",
    "\n",
    "\n",
    "order's columns:\n",
    "\n",
    "['company_code_n', 'year_month', 'Date', 'FY', 'Sales group_case',\n",
    "       'customer_group_code', 'Column1', 'BU Group OAC', 'BU Group_case',\n",
    "       'bu2', 'bu_n', 'sales_person_n', 'sales_order_so', 'sold_to_customer',\n",
    "       'sold_to_customer_n', 'sold_to_region_n', 'eu_industry_n',\n",
    "       'ec_eu_customer_n', 'eu_region_n', 'ec_eu_industry_n',\n",
    "       'order_intake_amount_eur', 'OPCO', 'Type', 'Type with Channel',\n",
    "       'Company time']\n",
    "       \n",
    "customer's columns\n",
    "\n",
    "['Customer', 'Tier', 'Accounts', 'Company', 'Customer Name', 'Code',\n",
    "       'Customer Group Name', 'Oscar i/d', 'Oscar Type', 'Indirect/Direct',\n",
    "       'Channel3', 'New Type4', 'Correction_Indirect/Direct',\n",
    "       'Correction_Channel', 'Correction_ Type', 'T&M', 'Partner page',\n",
    "       'Tableau', 'Comments', 'Link']\n",
    "\n",
    "\n",
    "\"\"\"\n",
    "\n",
    "import pandas as pd\n",
    "import numpy as np\n",
    "\n",
    "#order = pd.read_excel('data_files/full_order_data.xlsx',sheet_name='Data')\n",
    "#customer = pd.read_excel('data_files/full_customer_data.xlsx',sheet_name='data')\n",
    "\n",
    "# import all sheets from an initial file\n",
    "xlsx = pd.ExcelFile('data_files/initial_companies.xlsx')\n",
    "dfs = {}\n",
    "for sheet_name in xlsx.sheet_names:\n",
    "    dfs[sheet_name] = xlsx.parse(sheet_name)"
   ]
  },
  {
   "cell_type": "code",
   "execution_count": 257,
   "id": "b74239df",
   "metadata": {},
   "outputs": [],
   "source": [
    "# names of sheets in file 'data' with customer data and 'legal' with abbreviations\n",
    "data_df = dfs['data']\n",
    "legal_forms_df = dfs['legal']"
   ]
  },
  {
   "cell_type": "code",
   "execution_count": 258,
   "id": "a58c7258",
   "metadata": {},
   "outputs": [],
   "source": [
    "# keeping necessary columns only\n",
    "customers_df = data_df.loc[:,['Customer', 'Customer Name', 'Legal']]\n",
    "customers_df.rename(columns = {'Customer' : 'ID', 'Customer Name': 'Initial_Name' }, inplace = True)\n",
    "# minor modification of Initial Name cleaned from not necessary signs\n",
    "customers_df['upper'] = customers_df['Initial_Name'].str.upper().str.strip()\n",
    "#customers_df['clean'] = customers_df['Initial_Name'].str.replace('\\,|\\\"|\\(|\\)' , \" \", regex = True).str.strip()\n",
    "customers_df['upper_clean'] = customers_df['upper'].str.replace('\\,|\\\"|\\(|\\)' , \" \", regex = True).str.strip()\n",
    "#customers_df['list_name'] = customers_df['upper_clean'].str.split()\n",
    "customers_df['Legal'] = customers_df['Legal'].str.upper().str.strip()\n",
    "\n",
    "# column with the last part of the company name (it is legal form often)\n",
    "#customers_df['last_part'] = customers_df['Initial_Name'].apply(lambda x: x.split()[-1])\n",
    "#customers_df['upper_last_part'] = customers_df['last_part'].str.upper().str.strip()\n",
    "\n",
    "# creating list of all legal abbreviations as it is and in upper case\n",
    "abbr_legal = list(set(legal_forms_df['Abbr'].tolist()))\n",
    "upper_abbr_legal = [x.upper() for x in abbr_legal]\n",
    "upper_abbr_legal = list(set(upper_abbr_legal))"
   ]
  },
  {
   "cell_type": "code",
   "execution_count": 259,
   "id": "436020b5",
   "metadata": {},
   "outputs": [],
   "source": [
    "customers_df = customers_df.loc[:,['ID','Initial_Name', 'upper_clean','Legal']]"
   ]
  },
  {
   "cell_type": "code",
   "execution_count": 260,
   "id": "d7b0759c",
   "metadata": {},
   "outputs": [],
   "source": [
    "# define a function to replace the value in upper_clean with ' '\n",
    "\n",
    "def replace_with_space(row):\n",
    "    return row['upper_clean'].replace(row['Legal'], ' ')\n",
    "\n",
    "\n",
    "# applying the function to the dataframe\n",
    "\n",
    "customers_df['test'] = customers_df.apply(replace_with_space, axis=1)\n",
    "customers_df['test'] = customers_df['test'].str.strip()\n",
    "\n",
    "def one_name(company, abbreviation):\n",
    "    result = 0\n",
    "    last = x.split()[-1]\n",
    "    ab_list = []\n",
    "    for a in abbr:\n",
    "        if a in x:\n",
    "            ab_list.append(a)\n",
    "    if len(ab_list) > 0:\n",
    "        max_elem = max(ab_list, key=len)\n",
    "        for ab in ab_list:\n",
    "            if ab in x.split():   \n",
    "                if ab == last:\n",
    "                    result = x.split(ab)[0].strip()\n",
    "                    return result\n",
    "                else:\n",
    "                    if len(ab) > 2:\n",
    "                        result = x.split(ab)[0].strip()\n",
    "                    else:\n",
    "                        if not x.startswith(ab):\n",
    "                            result = x.split(ab)[0].strip()\n",
    "                        else:\n",
    "                            result = x\n",
    "            else:\n",
    "                if x.endswith(ab):\n",
    "                    result = x.split(ab)[0].strip()\n",
    "                    return result\n",
    "                else:\n",
    "                    result = x\n",
    "    else:\n",
    "        result = x\n",
    "    return result\n",
    "\n",
    "#x.startswith(ab), x.endswith(ab)"
   ]
  },
  {
   "cell_type": "code",
   "execution_count": 263,
   "id": "8692f363",
   "metadata": {},
   "outputs": [],
   "source": [
    "#customers_df"
   ]
  },
  {
   "cell_type": "code",
   "execution_count": 242,
   "id": "e22bc64f",
   "metadata": {},
   "outputs": [],
   "source": [
    "customers_df['TEST_1'] = customers_df['Initial_Name'].apply(lambda x: naming(x,abbr_legal))\n",
    "customers_df['TEST_2'] = customers_df['upper_clean'].apply(lambda x: naming(x,upper_abbr_legal))\n",
    "customers_df['TEST_3'] = customers_df['Initial_Name'].apply(lambda x: stw(x,abbr_legal))\n",
    "customers_df['TEST_4'] = customers_df['upper_clean'].apply(lambda x: stw(x,upper_abbr_legal))"
   ]
  },
  {
   "cell_type": "code",
   "execution_count": 246,
   "id": "253379a1",
   "metadata": {},
   "outputs": [],
   "source": [
    "# max length abbreviation found\n",
    "customers_df['abbr'] = customers_df['Initial_Name'].apply(lambda x: max([abbr for abbr in abbr_legal if abbr in x], key=len) if [abbr for abbr in abbr_legal if abbr in x] else None)\n",
    "# list of all abbreviation found\n",
    "customers_df['abbr_list'] = customers_df['Initial_Name'].apply(lambda x: [abbr for abbr in abbr_legal if abbr in x] if [abbr for abbr in abbr_legal if abbr in x] else None)\n",
    "\n",
    "\n",
    "# max length abbreviation found - clean names\n",
    "customers_df['abbr_clean'] = customers_df['clean'].apply(lambda x: max([abbr for abbr in abbr_legal if abbr in x], key=len) if [abbr for abbr in abbr_legal if abbr in x] else None)\n",
    "# list of all abbreviation found - clean names\n",
    "customers_df['abbr_list_clean'] = customers_df['clean'].apply(lambda x: [abbr for abbr in abbr_legal if abbr in x] if [abbr for abbr in abbr_legal if abbr in x] else None)\n",
    "\n",
    "\n",
    "# max length abbreviation transformed in Upper found\n",
    "customers_df['upper_abbr'] = customers_df['upper'].apply(lambda x: max([abbr for abbr in upper_abbr_legal if abbr in x], key=len) if [abbr for abbr in upper_abbr_legal if abbr in x] else None)\n",
    "# list of all abbreviation transformed in Upper found\n",
    "customers_df['upper_abbr_list'] = customers_df['upper'].apply(lambda x: [abbr for abbr in upper_abbr_legal if abbr in x] if [abbr for abbr in upper_abbr_legal if abbr in x] else None)\n",
    "\n",
    "# max length abbreviation transformed in Upper found - clean names\n",
    "customers_df['upper_abbr'] = customers_df['upper_clean'].apply(lambda x: max([abbr for abbr in upper_abbr_legal if abbr in x], key=len) if [abbr for abbr in upper_abbr_legal if abbr in x] else None)\n",
    "# list of all abbreviation transformed in Upper found - clean names\n",
    "customers_df['upper_abbr_list'] = customers_df['upper_clean'].apply(lambda x: [abbr for abbr in upper_abbr_legal if abbr in x] if [abbr for abbr in upper_abbr_legal if abbr in x] else None)\n",
    "\n",
    "customers_df['LAST'] = customers_df['upper_last_part'].apply(lambda x: max([abbr for abbr in upper_abbr_legal if abbr in x], key=len) if [abbr for abbr in upper_abbr_legal if abbr in x] else None)"
   ]
  },
  {
   "cell_type": "code",
   "execution_count": 248,
   "id": "0ac1b310",
   "metadata": {},
   "outputs": [],
   "source": [
    "#customers_df"
   ]
  },
  {
   "cell_type": "code",
   "execution_count": 262,
   "id": "c648243b",
   "metadata": {},
   "outputs": [],
   "source": [
    "writer = pd.ExcelWriter('data_files/the_first_iteration.xlsx', engine='xlsxwriter')\n",
    "customers_df.to_excel(writer, sheet_name='1')\n",
    "writer.save()"
   ]
  },
  {
   "cell_type": "code",
   "execution_count": null,
   "id": "8019daf1",
   "metadata": {},
   "outputs": [],
   "source": [
    "\"\"\"\n",
    "Cleaning old names. Step 1 - get a current SAP name of companies for Company ID (sold_to_customer)\n",
    "\n",
    "1. Sort by FY (datetime), descending order\n",
    "2. Creat 'company_id' list\n",
    "3. check in cycle all lines of 'order' dataframe \n",
    "4. if Company ID (sold_to_customer) is in the list, then delete line  \n",
    "\n",
    "\"\"\""
   ]
  },
  {
   "cell_type": "code",
   "execution_count": null,
   "id": "7491742a",
   "metadata": {},
   "outputs": [],
   "source": [
    "#forting by date, descending order for keeping the newest\n",
    "order_sorted_by_FY_date = order.sort_values(by='FY', ascending=False).reset_index(drop = True)\n",
    "#it is necessary exlude all not essentional inforamtion:\n",
    "order_sorted_by_FY_date = order_sorted_by_FY_date.loc[:,['FY','sold_to_customer', 'sold_to_customer_n', 'OPCO']]"
   ]
  },
  {
   "cell_type": "code",
   "execution_count": null,
   "id": "9ea2dfab",
   "metadata": {},
   "outputs": [],
   "source": [
    "column_index = order_sorted_by_FY_date.columns.get_loc('sold_to_customer') #determine Company ID column index for iloc\n",
    "company_id_exist_list = [] #creat 'company_id' list\n",
    "result_df = order_sorted_by_FY_date.copy()\n",
    "\n",
    "rng = len(order_sorted_by_FY_date)\n",
    "\n",
    "for i in range(rng): #cycle for deleting repeting Company ID, saving the newest data\n",
    "    \n",
    "    if order_sorted_by_FY_date.iloc[i,column_index] not in company_id_exist_list:\n",
    "        company_id_exist_list.append(order_sorted_by_FY_date.iloc[i,column_index])\n",
    "    else:\n",
    "        result_df = result_df.drop(i)\n",
    "        print(i, rng, \"Working : %.1f%% \\r\" % (i * 100 / rng), end='')"
   ]
  },
  {
   "cell_type": "code",
   "execution_count": null,
   "id": "6447d11a",
   "metadata": {},
   "outputs": [],
   "source": [
    "\"\"\"\n",
    "easier way to do the same thing\n",
    "sevral seconds vs 30 minutes\n",
    "\n",
    "\"\"\"\n",
    "result2_df = order_sorted_by_FY_date.copy()\n",
    "result2_df.drop_duplicates(subset='sold_to_customer', keep='first', inplace=True, ignore_index=True)\n",
    "\n",
    "writer = pd.ExcelWriter('data_files/The_newest_names.xlsx', engine='xlsxwriter')\n",
    "result_df.to_excel(writer, sheet_name='1')\n",
    "result2_df.to_excel(writer, sheet_name='2')\n",
    "writer.save()"
   ]
  },
  {
   "cell_type": "code",
   "execution_count": null,
   "id": "44926ba0",
   "metadata": {},
   "outputs": [],
   "source": [
    "#to be continiued"
   ]
  },
  {
   "cell_type": "code",
   "execution_count": null,
   "id": "165f6f38",
   "metadata": {},
   "outputs": [],
   "source": [
    "customer_uniq = customer.copy()\n",
    "customer_uniq = customer_uniq.loc[:, ['Customer', 'Customer Name']]\n",
    "merg_customer_uniq = customer_uniq.merge(result2_df, how='left', left_on='Customer', right_on='sold_to_customer')\n",
    "merg_customer_uniq.dropna()\n",
    "result2_df.iloc[11,2].upper().replace('-' , ' ').replace('\"' , '').replace(\",\" , \" \").replace(\".\" , \" \").strip().split()\n",
    "#pattern = '|'.join(['-','\"', ',' ,'.'])\n",
    "result2_df.dropna(inplace = True)\n",
    "result2_df['sold_to_customer_n'] = result2_df['sold_to_customer_n'].str.replace('\\-|\\,|\\.|\\\"' , \" \", regex = True)\n",
    "result2_df['sold_to_customer_n'] = result2_df['sold_to_customer_n'].str.upper().str.strip()  #.str.split()"
   ]
  }
 ],
 "metadata": {
  "kernelspec": {
   "display_name": "Python 3 (ipykernel)",
   "language": "python",
   "name": "python3"
  },
  "language_info": {
   "codemirror_mode": {
    "name": "ipython",
    "version": 3
   },
   "file_extension": ".py",
   "mimetype": "text/x-python",
   "name": "python",
   "nbconvert_exporter": "python",
   "pygments_lexer": "ipython3",
   "version": "3.9.12"
  }
 },
 "nbformat": 4,
 "nbformat_minor": 5
}
