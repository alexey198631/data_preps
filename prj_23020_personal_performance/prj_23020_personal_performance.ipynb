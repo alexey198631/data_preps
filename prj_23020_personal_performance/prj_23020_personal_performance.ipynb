{
 "cells": [
  {
   "cell_type": "code",
   "execution_count": 1,
   "id": "6afec925",
   "metadata": {
    "scrolled": true
   },
   "outputs": [],
   "source": [
    "import os\n",
    "import pandas as pd\n",
    "from openpyxl import Workbook\n",
    "from openpyxl import load_workbook\n",
    "from openpyxl.utils.dataframe import dataframe_to_rows\n",
    "\n",
    "# Folder containing the workbook file\n",
    "folder_path = \"data_files\"\n",
    "\n",
    "# Get all files in the folder\n",
    "files = os.listdir(folder_path)\n",
    "\n",
    "# Search for workbook file\n",
    "workbook_file = None\n",
    "for file in files:\n",
    "    if file.endswith(\".xlsx\"):\n",
    "        workbook_file = file\n",
    "        break\n",
    "\n",
    "# If a workbook file is found\n",
    "if workbook_file:\n",
    "    # Path to the workbook file\n",
    "    file_path = os.path.join(folder_path, workbook_file)\n",
    "\n",
    "    # Load the workbook\n",
    "    workbook = load_workbook(file_path, read_only=True)\n",
    "\n",
    "    # Get the sheet by name\n",
    "    sheet = workbook['reserve']\n",
    "\n",
    "    # Load sheet data into a DataFrame\n",
    "    data = sheet.values\n",
    "    columns = next(data)  # Assuming the first row contains column names\n",
    "    df = pd.DataFrame(data, columns=columns)\n",
    "\n",
    "else:\n",
    "    print(\"Workbook file not found in the specified folder.\")"
   ]
  },
  {
   "cell_type": "code",
   "execution_count": 3,
   "id": "c6ccbeb6",
   "metadata": {},
   "outputs": [],
   "source": [
    "# key_fields list\n",
    "key_fields = ['PYTHON', 'TOTAL_DUT', 'TOTAL_ENG', 'TOTAL_SPA', 'SPORT_TIME',  'EYES', 'RUN', 'CYCLE', 'WRITING']\n",
    "\n",
    "# Create a new workbook\n",
    "new_workbook = Workbook()\n",
    "\n",
    "# Iterate over key_fields\n",
    "for field in key_fields:\n",
    "    # Create a new DataFrame with the desired columns\n",
    "    new_df = df[['WEEK#', 'WEEK_EVENT', field]].copy()\n",
    "\n",
    "    # Filter out rows where the target column is 0\n",
    "    new_df = new_df[new_df[field] != 0]\n",
    "\n",
    "    # Sort the DataFrame by the target column in descending order\n",
    "    new_df = new_df.sort_values(field, ascending=False)\n",
    "\n",
    "    # Create a new sheet in the workbook\n",
    "    new_sheet = new_workbook.create_sheet(title=field)\n",
    "\n",
    "    # Write the DataFrame to the sheet\n",
    "    for row in dataframe_to_rows(new_df, index=False, header=True):\n",
    "        new_sheet.append(row)\n",
    "\n",
    "# Remove the default sheet created by openpyxl\n",
    "new_workbook.remove(new_workbook['Sheet'])\n",
    "\n",
    "# Save the workbook\n",
    "new_workbook.save('data_files/outcome/summary_book.xlsx')"
   ]
  },
  {
   "cell_type": "code",
   "execution_count": null,
   "id": "31180985",
   "metadata": {},
   "outputs": [],
   "source": []
  }
 ],
 "metadata": {
  "kernelspec": {
   "display_name": "Python 3 (ipykernel)",
   "language": "python",
   "name": "python3"
  },
  "language_info": {
   "codemirror_mode": {
    "name": "ipython",
    "version": 3
   },
   "file_extension": ".py",
   "mimetype": "text/x-python",
   "name": "python",
   "nbconvert_exporter": "python",
   "pygments_lexer": "ipython3",
   "version": "3.10.9"
  }
 },
 "nbformat": 4,
 "nbformat_minor": 5
}
