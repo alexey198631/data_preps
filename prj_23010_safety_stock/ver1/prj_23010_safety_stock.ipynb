{
 "cells": [
  {
   "cell_type": "code",
   "execution_count": 34,
   "id": "b6b1db40",
   "metadata": {},
   "outputs": [],
   "source": [
    "import pandas as pd\n",
    "import numpy as np\n",
    "\n",
    "# Read Data1.xlsx into a dataframe\n",
    "orders_data_fy17_fy21 = pd.read_excel('data_files/Data1.xlsx')\n",
    "\n",
    "# Read Data2.xlsx into a dataframe\n",
    "orders_data_fy21_fy22 = pd.read_excel('data_files/Data2.xlsx')"
   ]
  },
  {
   "cell_type": "code",
   "execution_count": 10,
   "id": "a872f12d",
   "metadata": {},
   "outputs": [
    {
     "name": "stderr",
     "output_type": "stream",
     "text": [
      "/var/folders/k0/5mz4jdsj64n5f2jltclyq9zh0000gn/T/ipykernel_11836/564131788.py:1: FutureWarning: The error_bad_lines argument has been deprecated and will be removed in a future version. Use on_bad_lines in the future.\n",
      "\n",
      "\n",
      "  df3 = pd.read_csv('data_files/cost.txt', encoding='ISO-8859-1', delimiter='\\t', error_bad_lines=False)\n",
      "b'Skipping line 185787: expected 13 fields, saw 17\\nSkipping line 185900: expected 13 fields, saw 17\\nSkipping line 189668: expected 13 fields, saw 14\\nSkipping line 189727: expected 13 fields, saw 14\\nSkipping line 190553: expected 13 fields, saw 14\\nSkipping line 190609: expected 13 fields, saw 14\\nSkipping line 190610: expected 13 fields, saw 14\\nSkipping line 190611: expected 13 fields, saw 14\\nSkipping line 190612: expected 13 fields, saw 14\\nSkipping line 190613: expected 13 fields, saw 14\\nSkipping line 190614: expected 13 fields, saw 14\\nSkipping line 190615: expected 13 fields, saw 14\\nSkipping line 190616: expected 13 fields, saw 14\\nSkipping line 190617: expected 13 fields, saw 14\\nSkipping line 190618: expected 13 fields, saw 14\\nSkipping line 190619: expected 13 fields, saw 14\\nSkipping line 190620: expected 13 fields, saw 14\\nSkipping line 190621: expected 13 fields, saw 14\\nSkipping line 190622: expected 13 fields, saw 14\\nSkipping line 190623: expected 13 fields, saw 14\\nSkipping line 190624: expected 13 fields, saw 14\\nSkipping line 190625: expected 13 fields, saw 14\\nSkipping line 190626: expected 13 fields, saw 14\\nSkipping line 190627: expected 13 fields, saw 14\\nSkipping line 190661: expected 13 fields, saw 14\\n'\n"
     ]
    }
   ],
   "source": [
    "df3 = pd.read_csv('data_files/cost.txt', encoding='ISO-8859-1', delimiter='\\t', error_bad_lines=False)"
   ]
  },
  {
   "cell_type": "code",
   "execution_count": 35,
   "id": "58aa4e60",
   "metadata": {},
   "outputs": [],
   "source": [
    "# Keep desired columns\n",
    "temp_df = orders_data_fy17_fy21[['year_month', 'company_code_n', 'sold_to_customer_n_latest', 'bu', 'bu_n', 'material', 'ms_code', 'order_intake_quantity', 'order intake EUR']]\n",
    "\n",
    "# Parse 'year_month' column and create 'FY' column. FY start from 4 month\n",
    "temp_df['year_month_date'] = pd.to_datetime(temp_df['year_month'], format='%Y%m')\n",
    "temp_df['FY'] = np.where(temp_df['year_month_date'].dt.month >= 4, temp_df['year_month_date'].dt.year, temp_df['year_month_date'].dt.year - 1)\n",
    "\n",
    "# Create fiscal 'quarter' column\n",
    "quarter_dict = {1: 'Q4', 2: 'Q4', 3: 'Q4', 4: 'Q1', 5: 'Q1', 6: 'Q1', 7: 'Q2', 8: 'Q2', 9: 'Q2', 10: 'Q3', 11: 'Q3', 12: 'Q3'}\n",
    "temp_df['quarter'] = temp_df['year_month_date'].dt.month.map(quarter_dict)\n",
    "\n",
    "# Create 'half_year' column\n",
    "temp_df['half_year'] = np.where(temp_df['year_month_date'].dt.month.between(4, 9), 'HY1', 'HY2')\n",
    "\n",
    "# Rename columns\n",
    "temp_df = temp_df.rename(columns={'sold_to_customer_n_latest': 'customer', 'order intake EUR': 'order_intake_EUR'})\n"
   ]
  },
  {
   "cell_type": "code",
   "execution_count": 25,
   "id": "822a8f3a",
   "metadata": {},
   "outputs": [],
   "source": [
    "# Check new_df\n",
    "new_df.to_excel('data_files/new_file.xlsx', index=False)"
   ]
  },
  {
   "cell_type": "code",
   "execution_count": 36,
   "id": "f0a3566d",
   "metadata": {},
   "outputs": [
    {
     "name": "stderr",
     "output_type": "stream",
     "text": [
      "/var/folders/k0/5mz4jdsj64n5f2jltclyq9zh0000gn/T/ipykernel_11836/2938834960.py:4: SettingWithCopyWarning: \n",
      "A value is trying to be set on a copy of a slice from a DataFrame.\n",
      "Try using .loc[row_indexer,col_indexer] = value instead\n",
      "\n",
      "See the caveats in the documentation: https://pandas.pydata.org/pandas-docs/stable/user_guide/indexing.html#returning-a-view-versus-a-copy\n",
      "  temp_df2['year_month_date'] = pd.to_datetime(temp_df2['year_month'], format='%Y%m')\n",
      "/var/folders/k0/5mz4jdsj64n5f2jltclyq9zh0000gn/T/ipykernel_11836/2938834960.py:5: SettingWithCopyWarning: \n",
      "A value is trying to be set on a copy of a slice from a DataFrame.\n",
      "Try using .loc[row_indexer,col_indexer] = value instead\n",
      "\n",
      "See the caveats in the documentation: https://pandas.pydata.org/pandas-docs/stable/user_guide/indexing.html#returning-a-view-versus-a-copy\n",
      "  temp_df2['FY'] = np.where(temp_df2['year_month_date'].dt.month >= 4, temp_df2['year_month_date'].dt.year, temp_df2['year_month_date'].dt.year - 1)\n",
      "/var/folders/k0/5mz4jdsj64n5f2jltclyq9zh0000gn/T/ipykernel_11836/2938834960.py:9: SettingWithCopyWarning: \n",
      "A value is trying to be set on a copy of a slice from a DataFrame.\n",
      "Try using .loc[row_indexer,col_indexer] = value instead\n",
      "\n",
      "See the caveats in the documentation: https://pandas.pydata.org/pandas-docs/stable/user_guide/indexing.html#returning-a-view-versus-a-copy\n",
      "  temp_df2['quarter'] = temp_df2['year_month_date'].dt.month.map(quarter_dict)\n",
      "/var/folders/k0/5mz4jdsj64n5f2jltclyq9zh0000gn/T/ipykernel_11836/2938834960.py:12: SettingWithCopyWarning: \n",
      "A value is trying to be set on a copy of a slice from a DataFrame.\n",
      "Try using .loc[row_indexer,col_indexer] = value instead\n",
      "\n",
      "See the caveats in the documentation: https://pandas.pydata.org/pandas-docs/stable/user_guide/indexing.html#returning-a-view-versus-a-copy\n",
      "  temp_df2['half_year'] = np.where(temp_df2['year_month_date'].dt.month.between(4, 9), 'HY1', 'HY2')\n"
     ]
    }
   ],
   "source": [
    "temp_df2 = orders_data_fy21_fy22[['year_month', 'company_code_n', 'sold_to_customer_n_latest', 'bu', 'bu_n', 'material', 'ms_code', 'order_intake_quantity', 'Order Intake Euro']]\n",
    "\n",
    "# Parse 'year_month' column and create 'FY' column. FY start from 4 month\n",
    "temp_df2['year_month_date'] = pd.to_datetime(temp_df2['year_month'], format='%Y%m')\n",
    "temp_df2['FY'] = np.where(temp_df2['year_month_date'].dt.month >= 4, temp_df2['year_month_date'].dt.year, temp_df2['year_month_date'].dt.year - 1)\n",
    "\n",
    "# Create fiscal 'quarter' column\n",
    "quarter_dict = {1: 'Q4', 2: 'Q4', 3: 'Q4', 4: 'Q1', 5: 'Q1', 6: 'Q1', 7: 'Q2', 8: 'Q2', 9: 'Q2', 10: 'Q3', 11: 'Q3', 12: 'Q3'}\n",
    "temp_df2['quarter'] = temp_df2['year_month_date'].dt.month.map(quarter_dict)\n",
    "\n",
    "# Create 'half_year' column\n",
    "temp_df2['half_year'] = np.where(temp_df2['year_month_date'].dt.month.between(4, 9), 'HY1', 'HY2')\n",
    "\n",
    "# Rename columns\n",
    "temp_df2 = temp_df2.rename(columns={'sold_to_customer_n_latest': 'customer', 'Order Intake Euro': 'order_intake_EUR'})"
   ]
  },
  {
   "cell_type": "code",
   "execution_count": 32,
   "id": "b33f021f",
   "metadata": {},
   "outputs": [],
   "source": [
    "# Check new_df2\n",
    "temp_df2.to_excel('data_files/new_file2.xlsx', index=False)"
   ]
  },
  {
   "cell_type": "code",
   "execution_count": 37,
   "id": "38118381",
   "metadata": {},
   "outputs": [],
   "source": [
    "# combine two prepared df\n",
    "orders_data = pd.concat([temp_df, temp_df2], ignore_index=True)\n",
    "# Check sales_data\n",
    "orders_data.to_excel('data_files/orders_data.xlsx', index=False)"
   ]
  },
  {
   "cell_type": "code",
   "execution_count": null,
   "id": "c3ec14a2",
   "metadata": {},
   "outputs": [],
   "source": []
  }
 ],
 "metadata": {
  "kernelspec": {
   "display_name": "Python 3 (ipykernel)",
   "language": "python",
   "name": "python3"
  },
  "language_info": {
   "codemirror_mode": {
    "name": "ipython",
    "version": 3
   },
   "file_extension": ".py",
   "mimetype": "text/x-python",
   "name": "python",
   "nbconvert_exporter": "python",
   "pygments_lexer": "ipython3",
   "version": "3.9.12"
  }
 },
 "nbformat": 4,
 "nbformat_minor": 5
}
