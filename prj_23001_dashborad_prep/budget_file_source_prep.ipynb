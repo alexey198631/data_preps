{
 "cells": [
  {
   "cell_type": "code",
   "execution_count": null,
   "id": "171f7a0b",
   "metadata": {},
   "outputs": [],
   "source": [
    "\"\"\"\n",
    "There is the customer_master.xlsx file as a definition table for data preparation. \n",
    "It helps to exlude wrong inforamtion in an internal data source which cannot be corrected.\n",
    "\n",
    "columns: ['Customer', 'Tier', 'Accounts', 'Company', 'the_newest_OPCO',\n",
    "       'Customer Name', 'ONE_NAME', 'Indirect/Direct', 'Channel3', 'New Type4']\n",
    "\n",
    "There is a budget file which budget information for two fiscal years. \n",
    "\n",
    "columns: ['sold_to_customer', 'sold_to_customer_n', 'Country', 'Country Name',\n",
    "       'City', 'Type', 'OI Bgt FY21', 'OI Bgt FY22', 'Comments']\n",
    "\n",
    "Main goal of this code to combine these two files in one which would be used as one of \n",
    "Tableau data sources.\n",
    "\n",
    "\"\"\""
   ]
  },
  {
   "cell_type": "code",
   "execution_count": 53,
   "id": "24fbc634",
   "metadata": {},
   "outputs": [],
   "source": [
    "import pandas as pd\n",
    "import numpy as np\n",
    "\n",
    "#budget df preparation\n",
    "budget_df = pd.read_excel('data_files/budget_file.xlsx', sheet_name='Budget')\n",
    "budget_df = budget_df.loc[:,['sold_to_customer','sold_to_customer_n','Type', 'OI Bgt FY21', 'OI Bgt FY22']]\n",
    "budget_df.sold_to_customer = budget_df.sold_to_customer.astype('str') # the internal database has ID beginning with 0 in str format\n",
    "budget_df.sold_to_customer = \"0\" + budget_df.sold_to_customer\n",
    "\n",
    "#customer master df preparation\n",
    "customer_df = pd.read_excel('data_files/customer_master.xlsx', sheet_name='data')\n",
    "customer_df = customer_df.loc[:,['Customer', 'Tier', 'the_newest_OPCO',\n",
    "       'Customer Name', 'ONE_NAME', 'Indirect/Direct', 'Channel3', 'New Type4']]\n",
    "customer_df = customer_df.rename(columns={'Customer':'sold_to_customer','the_newest_OPCO':'OPCO', 'Channel3':'Channel', 'New Type4':'Type'})\n",
    "customer_df.sold_to_customer = customer_df.sold_to_customer.astype('str') # the internal database has ID beginning with 0 in str format\n",
    "customer_df.sold_to_customer = \"0\" + customer_df.sold_to_customer\n",
    "customer_df = customer_df.set_index('sold_to_customer')"
   ]
  },
  {
   "cell_type": "code",
   "execution_count": 54,
   "id": "36976b81",
   "metadata": {},
   "outputs": [],
   "source": [
    "df = budget_df.join(customer_df, on='sold_to_customer', how = 'left', lsuffix = 'l_', rsuffix = 'r_')"
   ]
  },
  {
   "cell_type": "code",
   "execution_count": 47,
   "id": "984ac9f3",
   "metadata": {},
   "outputs": [],
   "source": [
    "writer = pd.ExcelWriter('budget_file.xlsx', engine='xlsxwriter')\n",
    "df.to_excel(writer, sheet_name='budget_by_month')\n",
    "writer.save()"
   ]
  },
  {
   "cell_type": "code",
   "execution_count": 55,
   "id": "19251e2b",
   "metadata": {},
   "outputs": [],
   "source": [
    "df2=customer_df.dropna(subset=['ONE_NAME'])"
   ]
  }
 ],
 "metadata": {
  "kernelspec": {
   "display_name": "Python 3 (ipykernel)",
   "language": "python",
   "name": "python3"
  },
  "language_info": {
   "codemirror_mode": {
    "name": "ipython",
    "version": 3
   },
   "file_extension": ".py",
   "mimetype": "text/x-python",
   "name": "python",
   "nbconvert_exporter": "python",
   "pygments_lexer": "ipython3",
   "version": "3.9.12"
  }
 },
 "nbformat": 4,
 "nbformat_minor": 5
}
