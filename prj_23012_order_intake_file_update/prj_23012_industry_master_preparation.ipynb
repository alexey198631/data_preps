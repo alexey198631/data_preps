{
 "cells": [
  {
   "cell_type": "code",
   "execution_count": 4,
   "id": "0a1062cd",
   "metadata": {},
   "outputs": [],
   "source": [
    "import pandas as pd"
   ]
  },
  {
   "cell_type": "code",
   "execution_count": 6,
   "id": "ccc96d64",
   "metadata": {},
   "outputs": [],
   "source": [
    "oi_industries = pd.read_excel('data_files/sales_order_industry.xlsx', sheet_name='oi')\n",
    "sales_industries = pd.read_excel('data_files/sales_order_industry.xlsx', sheet_name='sales')\n",
    "\n",
    "full_set = pd.concat([oi_industries, sales_industries], )\n",
    "full_set.reset_index(inplace=True, drop=True)"
   ]
  },
  {
   "cell_type": "code",
   "execution_count": 16,
   "id": "617f9f9e",
   "metadata": {},
   "outputs": [],
   "source": [
    "full_set_no_dublicates = full_set.drop_duplicates(subset=['sales_order_so', 'ec_eu_industry_n',\n",
    "       'ec_eu_industry_segment_n', 'eu_industry_segment_n_latest'], keep='last')\n",
    "\n",
    "full_set_no_nan = full_set_no_dublicates.dropna(subset='sales_order_so')"
   ]
  },
  {
   "cell_type": "code",
   "execution_count": null,
   "id": "86645c71",
   "metadata": {},
   "outputs": [],
   "source": [
    "full_set_no_nan['eu_industry_segment_n_latest'].fillna(full_set_no_nan['ec_eu_industry_segment_n'], inplace=True)\n",
    "full_set_no_nan['ec_eu_industry_n'].fillna('Empty', inplace=True)\n",
    "full_set_no_nan['eu_industry_segment_n_latest'].fillna(full_set_no_nan['ec_eu_industry_n'], inplace=True)\n",
    "\n",
    "sorted_df = full_set_no_nan.sort_values(by='year_month')"
   ]
  },
  {
   "cell_type": "code",
   "execution_count": 31,
   "id": "093ddefa",
   "metadata": {},
   "outputs": [],
   "source": [
    "# Keep the last occurrence of each duplicate value in the 'so' column\n",
    "so_industries_refined = sorted_df.drop_duplicates(subset='sales_order_so', keep='last')[['sales_order_so', 'ec_eu_industry_n', 'eu_industry_segment_n_latest']]"
   ]
  },
  {
   "cell_type": "code",
   "execution_count": 33,
   "id": "584b9e90",
   "metadata": {},
   "outputs": [],
   "source": [
    "writer = pd.ExcelWriter(f'data_files/industries.xlsx')\n",
    "so_industries_refined.to_excel(writer, sheet_name='industries', index=False)\n",
    "writer.close()"
   ]
  },
  {
   "cell_type": "code",
   "execution_count": null,
   "id": "0c6251a3",
   "metadata": {},
   "outputs": [],
   "source": []
  }
 ],
 "metadata": {
  "kernelspec": {
   "display_name": "Python 3 (ipykernel)",
   "language": "python",
   "name": "python3"
  },
  "language_info": {
   "codemirror_mode": {
    "name": "ipython",
    "version": 3
   },
   "file_extension": ".py",
   "mimetype": "text/x-python",
   "name": "python",
   "nbconvert_exporter": "python",
   "pygments_lexer": "ipython3",
   "version": "3.10.9"
  }
 },
 "nbformat": 4,
 "nbformat_minor": 5
}
