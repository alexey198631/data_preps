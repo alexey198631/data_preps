{
 "cells": [
  {
   "cell_type": "code",
   "execution_count": null,
   "id": "64e7165d",
   "metadata": {},
   "outputs": [],
   "source": [
    "\"\"\"\n",
    "This Python application is designed to extract data from a CSV file and create separate pandas DataFrames \n",
    "for specific rows that contain key words such as 'Host Details', 'Panelist Details', and 'Attendee Details'. \n",
    "The program reads the CSV file row by row and detects the target rows containing the key words using a flag variable. \n",
    "When a target row is found, the program creates a new DataFrame and appends the subsequent rows to it until the next \n",
    "target row is found. Once all the target rows have been processed, the program returns a list of \n",
    "DataFrames containing the data from the CSV file that corresponds to each of the target rows. This application \n",
    "can be useful for data processing and analysis tasks that require separate DataFrames for different types of data, \n",
    "such as attendance reports or meeting logs.\n",
    "\"\"\""
   ]
  },
  {
   "cell_type": "code",
   "execution_count": 208,
   "id": "7c50e300",
   "metadata": {},
   "outputs": [],
   "source": [
    "import os\n",
    "import csv\n",
    "import datetime\n",
    "import pandas as pd\n",
    "\n",
    "key_words = ['Host Details', 'Panelist Details', 'Attendee Details']\n",
    "df_names = [x.replace(' ', '_').lower() for x in key_words]\n",
    "\n",
    "# Set the path to the folder containing the CSV files\n",
    "folder_path = 'data_files/csv/'\n",
    "\n",
    "# Get a list of all CSV files in the folder\n",
    "csv_files = [f for f in os.listdir(folder_path) if f.endswith('.csv')]"
   ]
  },
  {
   "cell_type": "code",
   "execution_count": 209,
   "id": "5c11a17e",
   "metadata": {},
   "outputs": [],
   "source": [
    "def section_data_list(file_path, key_words):\n",
    "    all_rows = []\n",
    "    key_words = key_words.copy()\n",
    "\n",
    "    with open(file_path, 'r') as csvfile:\n",
    "        csvreader = csv.reader(csvfile, delimiter=',', quotechar='\"')\n",
    "\n",
    "        # Read the CSV file row by row and process each row data\n",
    "        for row in csvreader:\n",
    "            all_rows.append(row)\n",
    "\n",
    "    key_indexes = []\n",
    "    for k in key_words:\n",
    "        for i, row in enumerate(all_rows):\n",
    "            if k in row:\n",
    "                key_indexes.append(i)\n",
    "                \n",
    "    var_names = [x.replace(' ', '_').lower() for x in key_words]\n",
    "    \n",
    "    # Create an empty dictionary to store the variables\n",
    "    section_data_list = {}\n",
    "    \n",
    "    for i in range(len(var_names)):\n",
    "        # Get the start and end indices for the current variable\n",
    "        start = key_indexes[i]\n",
    "        end = key_indexes[i+1] if i < len(var_names)-1 else None\n",
    "\n",
    "        section_data_list[var_names[i]] = all_rows[start:end]\n",
    "    \n",
    "    return section_data_list"
   ]
  },
  {
   "cell_type": "code",
   "execution_count": 210,
   "id": "76bee638",
   "metadata": {},
   "outputs": [],
   "source": [
    "def extract_section_data(key, section_data_list):\n",
    "    \n",
    "    data = section_data_list[key]\n",
    "    \n",
    "    # Create an empty list to store the rows after the target row\n",
    "    length_of_row = []\n",
    "    \n",
    "    for row in data[1:]:\n",
    "        length_of_row.append(len(row))\n",
    "\n",
    "    # Identify the minimum value from the list of lenght of rows\n",
    "    min_value = min(length_of_row)\n",
    "    \n",
    "    data_m = data[1:]\n",
    "\n",
    "    for i, row in enumerate(data_m):\n",
    "        if len(row) > min_value:\n",
    "            data_m[i] = row[:-1]\n",
    "        else:\n",
    "            data_m[i] = row\n",
    "\n",
    "    # Create a pandas DataFrame from the list of rows after the target row\n",
    "    df = pd.DataFrame(data_m[1:], columns=data_m[0])\n",
    "    df.name = key\n",
    "    \n",
    "    return df "
   ]
  },
  {
   "cell_type": "code",
   "execution_count": 211,
   "id": "5b6481c3",
   "metadata": {},
   "outputs": [],
   "source": [
    "list_of_file_paths = [folder_path + x for x in csv_files]\n",
    "\n",
    "for file_path in list_of_file_paths:\n",
    "    section_data_list = section_data_list(file_path, key_words)\n",
    "    dfs = []\n",
    "    for key in df_names:\n",
    "        dfs.append(extract_section_data(key, section_data_list))"
   ]
  },
  {
   "cell_type": "code",
   "execution_count": null,
   "id": "47a3cbf4",
   "metadata": {},
   "outputs": [],
   "source": [
    "\"\"\"\n",
    "The following code deals with data that contains information about participants of a webinar. \n",
    "Some participants have connected multiple times for various reasons, resulting in multiple entries for the same person.\n",
    "The goal is to remove all duplicate values while preserving the actual time elapsed from the first login to \n",
    "the last logout of the webinar.\n",
    "\n",
    "\"\"\"\n",
    "\n",
    "attendees_df = []\n",
    "for d in dfs:\n",
    "    if d.name == 'attendee_details':\n",
    "        attendees_df.append(d)\n",
    "        \n",
    "len(attendees_df)"
   ]
  },
  {
   "cell_type": "code",
   "execution_count": 219,
   "id": "95bb0620",
   "metadata": {},
   "outputs": [],
   "source": [
    "df = attendees_df[0]"
   ]
  },
  {
   "cell_type": "code",
   "execution_count": 214,
   "id": "b69f6092",
   "metadata": {},
   "outputs": [],
   "source": [
    "def right_format(df):\n",
    "    # change format of columns\n",
    "    df['Time in Session (minutes)'] = pd.to_numeric(df['Time in Session (minutes)'], errors='coerce')\n",
    "    df['Join Time'] = pd.to_datetime(df['Join Time'], errors='coerce').dt.time\n",
    "    df['Leave Time'] = pd.to_datetime(df['Leave Time'], errors='coerce').dt.time\n",
    "\n",
    "    # replace '--' values with None\n",
    "    df = df.replace('--', None)\n",
    "    return df\n",
    "\n",
    "df = right_format(df)"
   ]
  },
  {
   "cell_type": "code",
   "execution_count": 215,
   "id": "19443559",
   "metadata": {},
   "outputs": [],
   "source": [
    "# get the emails that appear more than once\n",
    "counts = df['Email'].value_counts()\n",
    "emails = counts[counts > 1].index.tolist()\n",
    "\n",
    "# filter out the rows that contain the exclude emails\n",
    "df_filtered = df[~df['Email'].isin(emails)]\n",
    "\n",
    "df_duplicated = df[df['Email'].isin(emails)]"
   ]
  },
  {
   "cell_type": "code",
   "execution_count": 216,
   "id": "06b442dc",
   "metadata": {},
   "outputs": [],
   "source": [
    "def keep_unique_email(df, value):\n",
    "    \n",
    "    key_df = df[df['Email'] == value]\n",
    "    \n",
    "    time1 = key_df['Join Time'].iloc[0]\n",
    "    time2 = key_df['Leave Time'].iloc[-1]\n",
    "        \n",
    "    key_df['Leave Time'].iloc[0] = time2\n",
    "        \n",
    "    # get difference between time1 and time2 in minutes\n",
    "    diff = (datetime.datetime.combine(datetime.date.today(), time2) - datetime.datetime.combine(datetime.date.today(), time1)).total_seconds() / 60\n",
    "        \n",
    "    key_df['Time in Session (minutes)'].iloc[0] = round(diff, 1)\n",
    "    key_df = key_df.drop_duplicates(subset='Email', keep='first')\n",
    "    \n",
    "    return key_df"
   ]
  },
  {
   "cell_type": "code",
   "execution_count": null,
   "id": "a5af3b34",
   "metadata": {},
   "outputs": [],
   "source": [
    "for email in emails:\n",
    "    prep_df = keep_unique_email(df_duplicated, email)\n",
    "    df_filtered = pd.concat([df_filtered, prep_df])"
   ]
  },
  {
   "cell_type": "code",
   "execution_count": null,
   "id": "de217ce5",
   "metadata": {},
   "outputs": [],
   "source": [
    "writer = pd.ExcelWriter('data_files/for_check.xlsx')\n",
    "df_filtered.to_excel(writer, sheet_name='test')\n",
    "writer.save()"
   ]
  }
 ],
 "metadata": {
  "kernelspec": {
   "display_name": "Python 3 (ipykernel)",
   "language": "python",
   "name": "python3"
  },
  "language_info": {
   "codemirror_mode": {
    "name": "ipython",
    "version": 3
   },
   "file_extension": ".py",
   "mimetype": "text/x-python",
   "name": "python",
   "nbconvert_exporter": "python",
   "pygments_lexer": "ipython3",
   "version": "3.10.9"
  }
 },
 "nbformat": 4,
 "nbformat_minor": 5
}
