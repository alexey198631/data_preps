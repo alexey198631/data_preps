{
 "cells": [
  {
   "cell_type": "code",
   "execution_count": 6,
   "id": "fdfed74b",
   "metadata": {},
   "outputs": [],
   "source": [
    "import sqlite3\n",
    "import pandas as pd"
   ]
  },
  {
   "cell_type": "code",
   "execution_count": 17,
   "id": "7453a408",
   "metadata": {},
   "outputs": [],
   "source": [
    "def rename_column(db_file, table_name, old_column_name, new_column_name):\n",
    "    # Connect to the database\n",
    "    conn = sqlite3.connect(db_file)\n",
    "    cursor = conn.cursor()\n",
    "\n",
    "    # Execute the ALTER TABLE statement to rename the column\n",
    "    alter_query = f\"ALTER TABLE {table_name} RENAME COLUMN {old_column_name} TO {new_column_name};\"\n",
    "    cursor.execute(alter_query)\n",
    "\n",
    "    # Commit the changes and close the connection\n",
    "    conn.commit()\n",
    "    conn.close()\n",
    "\n",
    "# Provide the necessary details\n",
    "database_file = 'data_files/order_data.db'\n",
    "table_name = 'orders'\n",
    "old_column_name = \"Column1\"\n",
    "new_column_name = \"source\"\n",
    "\n",
    "# Call the function to rename the column\n",
    "rename_column(database_file, table_name, old_column_name, new_column_name)"
   ]
  },
  {
   "cell_type": "code",
   "execution_count": 20,
   "id": "2c243499",
   "metadata": {},
   "outputs": [],
   "source": [
    "conn = sqlite3.connect('data_files/order_data.db')\n",
    "query = \"SELECT * FROM orders\"\n",
    "df_customers = pd.read_sql_query(query, conn)\n",
    "conn.close()"
   ]
  },
  {
   "cell_type": "code",
   "execution_count": 18,
   "id": "18f04513",
   "metadata": {},
   "outputs": [
    {
     "name": "stdout",
     "output_type": "stream",
     "text": [
      "company_code_n TEXT, year_month INTEGER, Date TIMESTAMP, FY TIMESTAMP, Sales group_case TEXT, customer_group_code TEXT, source TEXT, BU Group OAC TEXT, BU Group_case TEXT, bu2 TEXT, bu_n TEXT, sales_person_n TEXT, sales_order_so INTEGER, sold_to_customer TEXT, sold_to_customer_n TEXT, sold_to_region_n TEXT, eu_industry_n TEXT, ec_eu_customer_n TEXT, eu_region_n TEXT, ec_eu_industry_n TEXT, order_intake_amount_eur REAL, t&m ammount REAL, customer_name TEXT, Indirect_direct TEXT, channel TEXT, type TEXT, new TEXT, t&m_check TEXT, special case INTEGER, special case_jan REAL, for_bu TEXT, for fy22 t&M TEXT, Horn TEXT\n",
      "company_code_n, year_month, Date, FY, Sales group_case, customer_group_code, source, BU Group OAC, BU Group_case, bu2, bu_n, sales_person_n, sales_order_so, sold_to_customer, sold_to_customer_n, sold_to_region_n, eu_industry_n, ec_eu_customer_n, eu_region_n, ec_eu_industry_n, order_intake_amount_eur, t&m ammount, customer_name, Indirect_direct, channel, type, new, t&m_check, special case, special case_jan, for_bu, for fy22 t&M, Horn\n"
     ]
    }
   ],
   "source": [
    "# deleting not necessary columns from db\n",
    "\n",
    "# Connect to the database\n",
    "conn = sqlite3.connect('data_files/order_data.db')\n",
    "cursor = conn.cursor()\n",
    "\n",
    "# Define the table name\n",
    "table_name = 'orders'\n",
    "\n",
    "# Retrieve column information from sqlite_master table\n",
    "cursor.execute(f\"PRAGMA table_info({table_name})\")\n",
    "columns = cursor.fetchall()\n",
    "\n",
    "for_text_line = []\n",
    "for_columns = []\n",
    "# Iterate over the columns and print the name and datatype\n",
    "for column in columns:\n",
    "    column_name = column[1]\n",
    "    column_datatype = column[2]\n",
    "    for_text_line.append(f'{column_name} {column_datatype}')\n",
    "    for_columns.append(f'{column_name}')\n",
    "\n",
    "# Close the connection\n",
    "conn.close()\n",
    "\n",
    "result = ', '.join(str(item) for item in for_text_line)\n",
    "results2 = ', '.join(str(item) for item in for_columns)\n",
    "\n",
    "print(result)\n",
    "print(results2)"
   ]
  },
  {
   "cell_type": "code",
   "execution_count": 19,
   "id": "a9bb6348",
   "metadata": {},
   "outputs": [],
   "source": [
    "necessary_columns_with_types = \"\"\"company_code_n TEXT, year_month INTEGER, Date TIMESTAMP, FY TIMESTAMP, \n",
    "customer_group_code TEXT, source TEXT, bu2 TEXT, bu_n TEXT, sales_person_n TEXT, sales_order_so INTEGER, \n",
    "sold_to_customer TEXT, sold_to_customer_n TEXT, sold_to_region_n TEXT, eu_industry_n TEXT, ec_eu_customer_n TEXT, \n",
    "eu_region_n TEXT, ec_eu_industry_n TEXT, order_intake_amount_eur REAL\"\"\"\n",
    "\n",
    "necessary_columns = \"\"\"company_code_n, year_month, Date, FY, customer_group_code, source, bu2, bu_n, sales_person_n, \n",
    "sales_order_so, sold_to_customer, sold_to_customer_n, sold_to_region_n, eu_industry_n, ec_eu_customer_n, eu_region_n, \n",
    "ec_eu_industry_n, order_intake_amount_eur\"\"\"\n",
    "\n",
    "# Connect to the database\n",
    "conn = sqlite3.connect('data_files/order_data.db')\n",
    "cursor = conn.cursor()\n",
    "\n",
    "table_name = 'orders'\n",
    "\n",
    "# Create a new table without the 'word' column\n",
    "create_query = f\"CREATE TABLE new_table_name ({necessary_columns_with_types})\"  \n",
    "    \n",
    "cursor.execute(create_query)\n",
    "\n",
    "# Copy data from the old table to the new table\n",
    "copy_query = f\"INSERT INTO new_table_name ({necessary_columns}) SELECT {necessary_columns} FROM {table_name}\"\n",
    "cursor.execute(copy_query)\n",
    "\n",
    "# Drop the old table\n",
    "drop_query = f\"DROP TABLE {table_name}\"\n",
    "cursor.execute(drop_query)\n",
    "\n",
    "# Rename the new table to the original table name\n",
    "rename_query = f\"ALTER TABLE new_table_name RENAME TO {table_name}\"\n",
    "cursor.execute(rename_query)\n",
    "\n",
    "# Commit the changes and close the connection\n",
    "conn.commit()\n",
    "conn.close()"
   ]
  },
  {
   "cell_type": "code",
   "execution_count": null,
   "id": "631e3b46",
   "metadata": {},
   "outputs": [],
   "source": []
  }
 ],
 "metadata": {
  "kernelspec": {
   "display_name": "Python 3 (ipykernel)",
   "language": "python",
   "name": "python3"
  },
  "language_info": {
   "codemirror_mode": {
    "name": "ipython",
    "version": 3
   },
   "file_extension": ".py",
   "mimetype": "text/x-python",
   "name": "python",
   "nbconvert_exporter": "python",
   "pygments_lexer": "ipython3",
   "version": "3.10.9"
  }
 },
 "nbformat": 4,
 "nbformat_minor": 5
}
