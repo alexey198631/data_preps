{
 "cells": [
  {
   "cell_type": "markdown",
   "id": "b84cb5aa",
   "metadata": {},
   "source": [
    "This script is designed to automate the process of generating a report based on another report in a specific format required for a particular task. It compares the budget with the current performance and the performance of the previous year for the same time period across designated product groups. The source information is stored in a file, and to retrieve the data, it is necessary to sequentially substitute the value of each branch in the corresponding cell.\n",
    "\n",
    "To reduce designing time, it has been decided to save the updated file in a separate folder. Then, the script opens the file, saves and reads the data again, as the formula cells do not update automatically. The obtained data sets are then processed using functions to obtain the final result and save it in an Excel file. Afterwards, macros are applied to finalize the file.\n",
    "\n",
    "Therefore, this script automates the report generation process, performs data comparison and result processing, and enables the application of macros for further processing of the resulting file."
   ]
  },
  {
   "cell_type": "code",
   "execution_count": null,
   "id": "dc9f8328",
   "metadata": {},
   "outputs": [],
   "source": [
    "from openpyxl import load_workbook\n",
    "import pandas as pd\n",
    "import openpyxl\n",
    "import numpy as np\n",
    "import os"
   ]
  },
  {
   "cell_type": "code",
   "execution_count": null,
   "id": "281d484c",
   "metadata": {},
   "outputs": [],
   "source": [
    "# function which creates dataframe in special view for reporting\n",
    "def how_a_need(df):\n",
    "    \n",
    "    Transmitters = df.iloc[20:29, [1,3]]\n",
    "    Transmitters.reset_index(drop=True, inplace=True)\n",
    "    new_column_name = 'Transmitters'\n",
    "    Transmitters = Transmitters.rename(columns={Transmitters.columns[1]: new_column_name})\n",
    "    Transmitters = Transmitters.set_index(Transmitters.columns[0]).T.rename_axis(None, axis=1)\n",
    "    \n",
    "    \n",
    "    Flowmeters = df.iloc[33:42, [1,3]]\n",
    "    Flowmeters.reset_index(drop=True, inplace=True)\n",
    "    new_column_name = 'Flowmeters'\n",
    "    Flowmeters = Flowmeters.rename(columns={Flowmeters.columns[1]: new_column_name})\n",
    "    Flowmeters = Flowmeters.set_index(Flowmeters.columns[0]).T.rename_axis(None, axis=1)\n",
    "    \n",
    "    ASI = df.iloc[46:55, [1,3]]\n",
    "    ASI.reset_index(drop=True, inplace=True)\n",
    "    new_column_name = 'QA/ASI'\n",
    "    ASI = ASI.rename(columns={ASI.columns[1]: new_column_name})\n",
    "    ASI = ASI.set_index(ASI.columns[0]).T.rename_axis(None, axis=1)\n",
    "    \n",
    "    Analytical = df.iloc[59:68, [1,3]] \n",
    "    Analytical.reset_index(drop=True, inplace=True)\n",
    "    new_column_name = 'Analytical'\n",
    "    Analytical = Analytical.rename(columns={Analytical.columns[1]: new_column_name})\n",
    "    Analytical = Analytical.set_index(Analytical.columns[0]).T.rename_axis(None, axis=1)\n",
    "    \n",
    "    \n",
    "    Netsol = df.iloc[72:81, [1,3]]\n",
    "    Netsol.reset_index(drop=True, inplace=True)\n",
    "    new_column_name = 'Netsol'\n",
    "    Netsol = Netsol.rename(columns={Netsol.columns[1]: new_column_name})\n",
    "    Netsol = Netsol.set_index(Netsol.columns[0]).T.rename_axis(None, axis=1)\n",
    "    \n",
    "    combined_df = pd.concat([Transmitters, Flowmeters, ASI, Analytical, Netsol])\n",
    "    \n",
    "    right_order = ['FY23B', 'FY23A', 'FY22A', 'FY23B - GP', 'FY23A - GP', 'FY22A - GP', \n",
    "       'FY23B - GM', 'FY23A - GM', 'FY22A - GM']\n",
    "    \n",
    "    combined_df = combined_df[right_order]\n",
    "    \n",
    "    return combined_df"
   ]
  },
  {
   "cell_type": "code",
   "execution_count": 46,
   "id": "9fe5423e",
   "metadata": {},
   "outputs": [],
   "source": [
    "# read data from a source file\n",
    "workbook = load_workbook('data_files/p02_source.xlsx')\n",
    "\n",
    "sheet_with_opco = workbook['Opco (Domestic) OI']\n",
    "# get list of opco from the sheet\n",
    "values = []\n",
    "\n",
    "for row in sheet_with_opco['A2:A23']:\n",
    "    for cell in row:\n",
    "        values.append(cell.value)"
   ]
  },
  {
   "cell_type": "code",
   "execution_count": 50,
   "id": "d2e57f06",
   "metadata": {},
   "outputs": [],
   "source": [
    "# prepare data for further processing\n",
    "target_sheet = workbook['OpCo - Domestic ST & GM']\n",
    "\n",
    "for v in values:\n",
    "    target_sheet['P2'] = v\n",
    "    workbook.save(f'data_files/temp/p02_source_{v}.xlsx')\n",
    "    \n",
    "workbook.close()\n",
    "\n",
    "folder_path = 'data_files/temp'\n",
    "target_sheet = 'OpCo - Domestic ST & GM'\n",
    "\n",
    "dataframes_dict = {}\n",
    "\n",
    "for file_name in os.listdir(folder_path):\n",
    "    if file_name.endswith('.xls') or file_name.endswith('.xlsx'):\n",
    "        file_path = os.path.join(folder_path, file_name)\n",
    "        key = file_name.split('_')[-1].split('.')[0]  # Extract key from file name\n",
    "        \n",
    "        df = pd.read_excel(file_path, sheet_name=target_sheet)\n",
    "        dataframes_dict[key] = df"
   ]
  },
  {
   "cell_type": "markdown",
   "id": "de836047",
   "metadata": {},
   "source": [
    "! Now it is necessary to open each file and save it in the temp folder !"
   ]
  },
  {
   "cell_type": "code",
   "execution_count": null,
   "id": "9406a1d9",
   "metadata": {},
   "outputs": [],
   "source": [
    "output_file = 'data_files/outcome/output_file_domestic.xlsx'\n",
    "\n",
    "with pd.ExcelWriter(output_file) as writer:\n",
    "    for sheet_name, df in dataframes_dict.items():\n",
    "        df = how_a_need(df)\n",
    "        df.to_excel(writer, sheet_name=sheet_name)"
   ]
  },
  {
   "cell_type": "code",
   "execution_count": null,
   "id": "1798c209",
   "metadata": {},
   "outputs": [],
   "source": [
    "# another sheet \n",
    "workbook = load_workbook('data_files/p02_source.xlsx')\n",
    "target_sheet = workbook['OpCo - Total ST & GM']\n",
    "\n",
    "for v in values:\n",
    "    target_sheet['P2'] = v\n",
    "    workbook.save(f'data_files/temp_total/p02_source_{v}.xlsx')\n",
    "    \n",
    "workbook.close()\n",
    "\n",
    "folder_path = 'data_files/temp_total'  \n",
    "target_sheet = 'OpCo - Total ST & GM'\n",
    "\n",
    "dataframes_dict = {}\n",
    "\n",
    "for file_name in os.listdir(folder_path):\n",
    "    if file_name.endswith('.xls') or file_name.endswith('.xlsx'):\n",
    "        file_path = os.path.join(folder_path, file_name)\n",
    "        key = file_name.split('_')[-1].split('.')[0]  # Extract key from file name\n",
    "        \n",
    "        df = pd.read_excel(file_path, sheet_name=target_sheet)\n",
    "        dataframes_dict[key] = df"
   ]
  },
  {
   "cell_type": "markdown",
   "id": "d4ece79a",
   "metadata": {},
   "source": [
    "! Now it is necessary to open each file and save it in the temp folder !"
   ]
  },
  {
   "cell_type": "code",
   "execution_count": 116,
   "id": "2053f965",
   "metadata": {},
   "outputs": [],
   "source": [
    "output_file = 'data_files/outcome/output_file_total.xlsx'\n",
    "\n",
    "with pd.ExcelWriter(output_file) as writer:\n",
    "    for sheet_name, df in dataframes_dict.items():\n",
    "        df = how_a_need(df)\n",
    "        df.to_excel(writer, sheet_name=sheet_name)"
   ]
  }
 ],
 "metadata": {
  "kernelspec": {
   "display_name": "Python 3 (ipykernel)",
   "language": "python",
   "name": "python3"
  },
  "language_info": {
   "codemirror_mode": {
    "name": "ipython",
    "version": 3
   },
   "file_extension": ".py",
   "mimetype": "text/x-python",
   "name": "python",
   "nbconvert_exporter": "python",
   "pygments_lexer": "ipython3",
   "version": "3.10.9"
  }
 },
 "nbformat": 4,
 "nbformat_minor": 5
}
