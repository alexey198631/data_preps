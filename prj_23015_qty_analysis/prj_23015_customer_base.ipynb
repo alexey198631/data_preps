{
 "cells": [
  {
   "cell_type": "code",
   "execution_count": 5,
   "id": "179dd68d",
   "metadata": {},
   "outputs": [],
   "source": [
    "import pandas as pd\n",
    "import sqlite3"
   ]
  },
  {
   "cell_type": "code",
   "execution_count": 6,
   "id": "29ef9c51",
   "metadata": {},
   "outputs": [],
   "source": [
    "conn2 = sqlite3.connect('data_files/customer_data.db')\n",
    "query2 = \"SELECT * FROM customers\"\n",
    "df2 = pd.read_sql_query(query2, conn2)\n",
    "conn2.close()\n",
    "\n",
    "conn = sqlite3.connect('data_files/customer_data_31-05-2023.db')\n",
    "query = \"SELECT * FROM customers\"\n",
    "df1 = pd.read_sql_query(query, conn)\n",
    "conn.close()"
   ]
  },
  {
   "cell_type": "code",
   "execution_count": 7,
   "id": "71fcf50d",
   "metadata": {},
   "outputs": [],
   "source": [
    "# Create a new DataFrame where column A is not empty and column tier is empty\n",
    "one_check = df2[(df2['tier'].notnull()) & (df2['tier_new'].isnull())]"
   ]
  },
  {
   "cell_type": "code",
   "execution_count": 10,
   "id": "b7ced764",
   "metadata": {},
   "outputs": [],
   "source": [
    "# Connect to the SQLite database\n",
    "conn = sqlite3.connect('data_files/customer_data.db')\n",
    "cursor = conn.cursor()\n",
    "\n",
    "# Update the 'tier_new' column with data from 'tier' where 'tier_new' is empty and 'tier' is not empty\n",
    "update_query = \"\"\"\n",
    "UPDATE customers\n",
    "SET tier_new = tier\n",
    "WHERE tier_new IS NULL AND tier IS NOT NULL\n",
    "\"\"\"\n",
    "\n",
    "# Execute the update query\n",
    "cursor.execute(update_query)\n",
    "\n",
    "# Commit the changes to the database\n",
    "conn.commit()\n",
    "\n",
    "# Close the database connection\n",
    "conn.close()"
   ]
  },
  {
   "cell_type": "code",
   "execution_count": 9,
   "id": "f9d84dc6",
   "metadata": {},
   "outputs": [],
   "source": [
    "# Get unique values from column sold_to_customer in df1\n",
    "unique_values = df1['sold_to_customer'].unique().tolist()\n",
    "\n",
    "# Find values in df2['sold_to_customer'] that are not in the unique_values list\n",
    "not_in_unique_values = df2[~df2['sold_to_customer'].isin(unique_values)]"
   ]
  },
  {
   "cell_type": "code",
   "execution_count": 10,
   "id": "529045df",
   "metadata": {},
   "outputs": [
    {
     "data": {
      "text/plain": [
       "72"
      ]
     },
     "execution_count": 10,
     "metadata": {},
     "output_type": "execute_result"
    }
   ],
   "source": [
    "len(not_in_unique_values)"
   ]
  },
  {
   "cell_type": "code",
   "execution_count": null,
   "id": "c6176fca",
   "metadata": {},
   "outputs": [],
   "source": []
  }
 ],
 "metadata": {
  "kernelspec": {
   "display_name": "Python 3 (ipykernel)",
   "language": "python",
   "name": "python3"
  },
  "language_info": {
   "codemirror_mode": {
    "name": "ipython",
    "version": 3
   },
   "file_extension": ".py",
   "mimetype": "text/x-python",
   "name": "python",
   "nbconvert_exporter": "python",
   "pygments_lexer": "ipython3",
   "version": "3.10.9"
  }
 },
 "nbformat": 4,
 "nbformat_minor": 5
}
