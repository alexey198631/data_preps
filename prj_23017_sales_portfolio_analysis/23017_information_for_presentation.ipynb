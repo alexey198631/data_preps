{
 "cells": [
  {
   "cell_type": "code",
   "execution_count": 1,
   "id": "ea50994c",
   "metadata": {},
   "outputs": [],
   "source": [
    "import pandas as pd\n",
    "import numpy as np\n",
    "import importlib\n",
    "\n",
    "import data_file"
   ]
  },
  {
   "cell_type": "code",
   "execution_count": null,
   "id": "4c71ef93",
   "metadata": {},
   "outputs": [],
   "source": [
    "importlib.reload(data_file)"
   ]
  },
  {
   "cell_type": "code",
   "execution_count": 23,
   "id": "4538656c",
   "metadata": {},
   "outputs": [],
   "source": [
    "target_bu = data_file.target_bu"
   ]
  },
  {
   "cell_type": "code",
   "execution_count": 24,
   "id": "7d33131e",
   "metadata": {},
   "outputs": [],
   "source": [
    "df = pd.read_excel('data_files/order_intake.xlsx')"
   ]
  },
  {
   "cell_type": "code",
   "execution_count": 25,
   "id": "8de8d907",
   "metadata": {},
   "outputs": [],
   "source": [
    "# Create a mapping dictionary from non-null values in \"bu2\" and \"for_bu\" columns\n",
    "mapping_dict = df.dropna().set_index('bu2')['for_bu'].to_dict()"
   ]
  },
  {
   "cell_type": "code",
   "execution_count": 26,
   "id": "b8d50466",
   "metadata": {},
   "outputs": [],
   "source": [
    "# Fill NaN values in \"for_bu\" column using the mapping dictionary\n",
    "df['for_bu'] = df['for_bu'].fillna(df['bu2'].map(mapping_dict))"
   ]
  },
  {
   "cell_type": "code",
   "execution_count": 27,
   "id": "64a8c073",
   "metadata": {},
   "outputs": [],
   "source": [
    "# Convert 'FY' column to datetime if it's not already\n",
    "df['FY'] = pd.to_datetime(df['FY'])\n",
    "df['FY'] = df['FY'].dt.year"
   ]
  },
  {
   "cell_type": "code",
   "execution_count": 28,
   "id": "049a0557",
   "metadata": {},
   "outputs": [],
   "source": [
    "# make reference for target bu and all other projects\n",
    "def check_value(value):\n",
    "    if value in target_bu:\n",
    "        return 'product bu'\n",
    "    else:\n",
    "        return 'other'\n",
    "\n",
    "# Create the new column using apply\n",
    "df['department'] = df['bu2'].apply(lambda x: check_value(x))"
   ]
  },
  {
   "cell_type": "code",
   "execution_count": 39,
   "id": "0e60a4ea",
   "metadata": {},
   "outputs": [],
   "source": [
    "# there is product and other department\n",
    "\n",
    "customer_tiers_order_intake = df.pivot_table(index=['company_code_n', 'customer_name', 'tier', 'type', 'department',  df['FY']],\n",
    "                        values='order_intake_amount_eur', aggfunc='sum').reset_index()\n",
    "\n",
    "customer_tiers_order_intake = customer_tiers_order_intake.fillna(0)\n",
    "customer_tiers_order_intake['qty'] = 1\n",
    "\n",
    "# there is no product and other department\n",
    "\n",
    "customer_tiers_order_intake_no_d = df.pivot_table(index=['company_code_n', 'customer_name', 'tier', 'type',  df['FY']],\n",
    "                        values='order_intake_amount_eur', aggfunc='sum').reset_index()\n",
    "\n",
    "customer_tiers_order_intake_no_d = customer_tiers_order_intake_no_d.fillna(0)\n",
    "customer_tiers_order_intake_no_d['qty'] = 1\n",
    "\n",
    "writer = pd.ExcelWriter('outcome/test.xlsx')\n",
    "customer_tiers_order_intake_no_d.to_excel(writer, sheet_name='overall', index=False)\n",
    "customer_tiers_order_intake.to_excel(writer, sheet_name='fy', index=False)\n",
    "# Save the Excel file\n",
    "writer.close()"
   ]
  },
  {
   "cell_type": "code",
   "execution_count": 20,
   "id": "125568ba",
   "metadata": {},
   "outputs": [],
   "source": [
    "# Calculate the average deal size for each company_name and FY\n",
    "\n",
    "average_deal_size = df.groupby(['company_code_n','customer_name','tier', 'type','FY']).agg({'order_intake_amount_eur': 'mean', 'sales_order_so': 'count'}).reset_index()\n",
    "average_deal_size = average_deal_size.rename(columns={'sales_order_so': 'number_of_deals'})\n",
    "\n",
    "\n",
    "df_target_bu = df[df['bu2'].isin(target_bu)]\n",
    "\n",
    "average_deal_size_bu = df_target_bu.groupby(['company_code_n','customer_name','tier', 'type','FY']).agg({'order_intake_amount_eur': 'mean', 'sales_order_so': 'count'}).reset_index()\n",
    "average_deal_size_bu = average_deal_size_bu.rename(columns={'sales_order_so': 'number_of_deals'})\n",
    "\n",
    "\n",
    "writer = pd.ExcelWriter('outcome/average_deals.xlsx')\n",
    "average_deal_size.to_excel(writer, sheet_name='as', index=False)\n",
    "average_deal_size_bu.to_excel(writer, sheet_name='asbu', index=False)\n",
    "# Save the Excel file\n",
    "writer.close()"
   ]
  },
  {
   "cell_type": "code",
   "execution_count": null,
   "id": "da1eed92",
   "metadata": {},
   "outputs": [],
   "source": [
    "# Calculate the overall sum of order_intake_amount_eur for each company_code_n\n",
    "company_sum = df.groupby('company_code_n')['order_intake_amount_eur'].sum()\n",
    "\n",
    "# Sort the customers within each company_code_n based on their sum of order_intake_amount_eur in descending order\n",
    "df_sorted = df.groupby(['company_code_n', 'customer_name'])['order_intake_amount_eur'].sum().reset_index()\n",
    "\n",
    "df_sorted = df_sorted.sort_values(by=['company_code_n', 'order_intake_amount_eur'], ascending=[True, False])\n",
    "\n",
    "# Calculate the cumulative sum of order_intake_amount_eur within each company_code_n group\n",
    "df_sorted['cumulative_sum'] = df_sorted.groupby('company_code_n')['order_intake_amount_eur'].cumsum()\n",
    "\n",
    "# Calculate the cumulative percentage of order_intake_amount_eur for each company_code_n\n",
    "df_sorted['cumulative_percentage'] = df_sorted.groupby('company_code_n')['cumulative_sum'].transform(lambda x: x / x.max() * 100)\n",
    "\n",
    "# Categorize the customers based on specific percentage thresholds\n",
    "df_sorted['category'] = pd.cut(df_sorted['cumulative_percentage'], bins=[0, 70, 95, 100], labels=['A', 'B', 'C'], right=False)\n",
    "\n",
    "# Merge the categorization back to the original DataFrame\n",
    "merged_df = pd.merge(df, df_sorted[['company_code_n', 'customer_name', 'category']], on=['company_code_n', 'customer_name'], how='left')\n",
    "\n",
    "# Output the resulting DataFrame\n",
    "result = merged_df[['company_code_n', 'customer_name', 'category']]\n",
    "\n",
    "result['category']= result['category'].fillna('C')\n",
    "result = result.drop_duplicates()"
   ]
  },
  {
   "cell_type": "code",
   "execution_count": 30,
   "id": "d64883ea",
   "metadata": {},
   "outputs": [],
   "source": [
    "average_deal_size_x = average_deal_size.merge(result, on=['customer_name', 'company_code_n'])"
   ]
  },
  {
   "cell_type": "code",
   "execution_count": 31,
   "id": "52a2d448",
   "metadata": {},
   "outputs": [],
   "source": [
    "writer = pd.ExcelWriter('outcome/deals.xlsx')\n",
    "average_deal_size_x.to_excel(writer, sheet_name='test1', index=False)\n",
    "# Save the Excel file\n",
    "writer.close()"
   ]
  },
  {
   "cell_type": "code",
   "execution_count": 38,
   "id": "88b720f2",
   "metadata": {},
   "outputs": [],
   "source": [
    "# Grouping by 'company_code_n' and 'FY', and calculating the number of unique customers for each salesperson\n",
    "result = df.groupby(['company_code_n', 'FY', 'sales_person_n', 'tier'])['customer_name'].nunique()\n",
    "\n",
    "\n",
    "# Converting the Series to a DataFrame\n",
    "result_df = result.to_frame().reset_index()\n",
    "\n",
    "# Writing the DataFrame to an Excel file\n",
    "result_df.to_excel('result.xlsx', index=False)"
   ]
  },
  {
   "cell_type": "code",
   "execution_count": 39,
   "id": "91a2ada1",
   "metadata": {},
   "outputs": [],
   "source": [
    "# Grouping by 'company_code_n' and 'FY', and calculating the number of unique customers for each salesperson\n",
    "result_sales_person = df.groupby(['company_code_n', 'FY'])['sales_person_n'].nunique()\n",
    "result_customer = df.groupby(['company_code_n', 'FY'])['customer_name'].nunique()\n",
    "result_sales_order = df.groupby(['company_code_n', 'FY'])['sales_order_so'].nunique()\n",
    "result_order_intake = df.groupby(['company_code_n', 'FY'])['order_intake_amount_eur'].sum()\n",
    "\n",
    "# Converting the Series to a DataFrame\n",
    "result_df = result.to_frame().reset_index()\n",
    "\n",
    "# Writing the DataFrame to an Excel file\n",
    "result_df.to_excel('result_2.xlsx', index=False)"
   ]
  },
  {
   "cell_type": "code",
   "execution_count": 41,
   "id": "9b433945",
   "metadata": {},
   "outputs": [],
   "source": [
    "# Grouping and aggregating for 'sales_person_n'\n",
    "result_sales_person = df.groupby(['company_code_n', 'FY'])['sales_person_n'].nunique().reset_index()\n",
    "result_sales_person.rename(columns={'sales_person_n': 'sales_person_count'}, inplace=True)\n",
    "\n",
    "# Grouping and aggregating for 'customer_name'\n",
    "result_customer = df.groupby(['company_code_n', 'FY'])['customer_name'].nunique().reset_index()\n",
    "result_customer.rename(columns={'customer_name': 'customer_count'}, inplace=True)\n",
    "\n",
    "# Grouping and aggregating for 'sales_order_so'\n",
    "result_sales_order = df.groupby(['company_code_n', 'FY'])['sales_order_so'].nunique().reset_index()\n",
    "result_sales_order.rename(columns={'sales_order_so': 'sales_order_count'}, inplace=True)\n",
    "\n",
    "# Grouping and aggregating for 'order_intake_amount_eur'\n",
    "result_order_intake = df.groupby(['company_code_n', 'FY'])['order_intake_amount_eur'].sum().reset_index()\n",
    "result_order_intake.rename(columns={'order_intake_amount_eur': 'order_intake_sum'}, inplace=True)\n",
    "\n",
    "# Combining the results into a single DataFrame\n",
    "result_df = pd.merge(result_sales_person, result_customer, on=['company_code_n', 'FY'])\n",
    "result_df = pd.merge(result_df, result_sales_order, on=['company_code_n', 'FY'])\n",
    "result_df = pd.merge(result_df, result_order_intake, on=['company_code_n', 'FY'])\n",
    "\n",
    "# Writing the DataFrame to an Excel file\n",
    "result_df.to_excel('result_3.xlsx', index=False)\n"
   ]
  },
  {
   "cell_type": "code",
   "execution_count": 65,
   "id": "610dbd8d",
   "metadata": {},
   "outputs": [],
   "source": [
    "# Grouping the data by 'company_code_n' and calculating the statistics for each group\n",
    "statistics = df_mod.groupby(['company_code_n', 'tier'])['order_intake_amount_eur'].describe()\n",
    "\n",
    "# Saving the statistics for each group to an Excel file\n",
    "statistics.to_excel('statistics_by_company.xlsx')"
   ]
  },
  {
   "cell_type": "code",
   "execution_count": 60,
   "id": "8ef80bca",
   "metadata": {},
   "outputs": [],
   "source": [
    "df_mod = df[['company_code_n', 'tier','sales_order_so', 'order_intake_amount_eur']]"
   ]
  },
  {
   "cell_type": "code",
   "execution_count": 61,
   "id": "f87b4f91",
   "metadata": {},
   "outputs": [],
   "source": [
    "df_mod = df_mod.groupby(['company_code_n', 'tier', 'sales_order_so'])['order_intake_amount_eur'].sum().reset_index()"
   ]
  },
  {
   "cell_type": "code",
   "execution_count": 62,
   "id": "c0b5e94a",
   "metadata": {},
   "outputs": [],
   "source": [
    "df_mod = df_mod.drop(df_mod.loc[df_mod['order_intake_amount_eur'] == 0].index)"
   ]
  }
 ],
 "metadata": {
  "kernelspec": {
   "display_name": "Python 3 (ipykernel)",
   "language": "python",
   "name": "python3"
  },
  "language_info": {
   "codemirror_mode": {
    "name": "ipython",
    "version": 3
   },
   "file_extension": ".py",
   "mimetype": "text/x-python",
   "name": "python",
   "nbconvert_exporter": "python",
   "pygments_lexer": "ipython3",
   "version": "3.10.9"
  }
 },
 "nbformat": 4,
 "nbformat_minor": 5
}
