{
 "cells": [
  {
   "cell_type": "code",
   "execution_count": 6,
   "id": "78796e0f",
   "metadata": {},
   "outputs": [],
   "source": [
    "import pandas as pd\n",
    "import sqlite3"
   ]
  },
  {
   "cell_type": "code",
   "execution_count": 7,
   "id": "4a843974",
   "metadata": {},
   "outputs": [],
   "source": [
    "file_name = 'data_files/customers_tiers.xlsx'\n",
    "# Convert the sheet to a Pandas dataframe\n",
    "df = pd.read_excel(file_name, sheet_name='custumer_definition_table')"
   ]
  },
  {
   "cell_type": "code",
   "execution_count": 2,
   "id": "58ebfdf2",
   "metadata": {},
   "outputs": [],
   "source": [
    "file_name_orders = 'data_files/data.xlsx'\n",
    "df_orders = pd.read_excel(file_name_orders, sheet_name='Data')"
   ]
  },
  {
   "cell_type": "code",
   "execution_count": null,
   "id": "da6856f5",
   "metadata": {},
   "outputs": [],
   "source": [
    "conn = sqlite3.connect('data_files/order_data.db')\n",
    "df_orders.to_sql('orders', conn, index=False)\n",
    "conn.close()"
   ]
  },
  {
   "cell_type": "code",
   "execution_count": null,
   "id": "e147c8a7",
   "metadata": {},
   "outputs": [],
   "source": [
    "conn2 = sqlite3.connect('data_files/customer_data.db')\n",
    "df.to_sql('customers', conn2, index=False)\n",
    "conn2.close()"
   ]
  },
  {
   "cell_type": "code",
   "execution_count": 10,
   "id": "f4a2cb8a",
   "metadata": {},
   "outputs": [],
   "source": [
    "# Connect to the SQL database\n",
    "conn = sqlite3.connect('data_files/customer_data.db')\n",
    "\n",
    "# Drop the table if it exists\n",
    "drop_table_query = \"DROP TABLE IF EXISTS customers\"\n",
    "conn.execute(drop_table_query)\n",
    "\n",
    "# Create a new table based on the DataFrame\n",
    "create_table_query = f\"CREATE TABLE customers ({', '.join(df.columns)})\"\n",
    "conn.execute(create_table_query)\n",
    "\n",
    "# Insert data from the DataFrame into the new table\n",
    "insert_query = f\"INSERT INTO customers VALUES ({', '.join(['?']*len(df.columns))})\"\n",
    "conn.executemany(insert_query, df.values.tolist())\n",
    "\n",
    "# Commit the changes\n",
    "conn.commit()\n",
    "\n",
    "# Close the connection\n",
    "conn.close()"
   ]
  },
  {
   "cell_type": "code",
   "execution_count": null,
   "id": "8691ea96",
   "metadata": {},
   "outputs": [],
   "source": []
  }
 ],
 "metadata": {
  "kernelspec": {
   "display_name": "Python 3 (ipykernel)",
   "language": "python",
   "name": "python3"
  },
  "language_info": {
   "codemirror_mode": {
    "name": "ipython",
    "version": 3
   },
   "file_extension": ".py",
   "mimetype": "text/x-python",
   "name": "python",
   "nbconvert_exporter": "python",
   "pygments_lexer": "ipython3",
   "version": "3.10.9"
  }
 },
 "nbformat": 4,
 "nbformat_minor": 5
}
