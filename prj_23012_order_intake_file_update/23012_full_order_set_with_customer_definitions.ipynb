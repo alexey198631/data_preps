{
 "cells": [
  {
   "cell_type": "code",
   "execution_count": 55,
   "id": "42c2d850",
   "metadata": {},
   "outputs": [],
   "source": [
    "import pandas as pd\n",
    "import numpy as np\n",
    "import sqlite3\n",
    "import importlib\n",
    "\n",
    "# keeping company information in additional file\n",
    "import data_file"
   ]
  },
  {
   "cell_type": "code",
   "execution_count": 15,
   "id": "bc86b68d",
   "metadata": {},
   "outputs": [],
   "source": [
    "sales_person_n = data_file.sales_person_n\n",
    "exlbu=data_file.exlbu\n",
    "exlpanrter=data_file.exlpanrter"
   ]
  },
  {
   "cell_type": "code",
   "execution_count": 95,
   "id": "cd834a17",
   "metadata": {},
   "outputs": [],
   "source": [
    "conn = sqlite3.connect('data_files/order_data.db')\n",
    "query = \"SELECT * FROM orders\"  # Replace 'tablename' with your table name\n",
    "df_orders = pd.read_sql_query(query, conn)\n",
    "conn.close()\n",
    "\n",
    "conn2 = sqlite3.connect('data_files/customer_data.db')\n",
    "query = \"SELECT * FROM customers\"  # Replace 'tablename' with your table name\n",
    "df_customers = pd.read_sql_query(query, conn2)\n",
    "conn2.close()"
   ]
  },
  {
   "cell_type": "code",
   "execution_count": 96,
   "id": "9b8cb52a",
   "metadata": {},
   "outputs": [
    {
     "data": {
      "text/html": [
       "<div>\n",
       "<style scoped>\n",
       "    .dataframe tbody tr th:only-of-type {\n",
       "        vertical-align: middle;\n",
       "    }\n",
       "\n",
       "    .dataframe tbody tr th {\n",
       "        vertical-align: top;\n",
       "    }\n",
       "\n",
       "    .dataframe thead th {\n",
       "        text-align: right;\n",
       "    }\n",
       "</style>\n",
       "<table border=\"1\" class=\"dataframe\">\n",
       "  <thead>\n",
       "    <tr style=\"text-align: right;\">\n",
       "      <th></th>\n",
       "      <th>company_code_n</th>\n",
       "      <th>year_month</th>\n",
       "      <th>Date</th>\n",
       "      <th>FY</th>\n",
       "      <th>customer_group_code</th>\n",
       "      <th>source</th>\n",
       "      <th>bu2</th>\n",
       "      <th>bu_n</th>\n",
       "      <th>sales_person_n</th>\n",
       "      <th>sales_order_so</th>\n",
       "      <th>...</th>\n",
       "      <th>sold_to_customer_n</th>\n",
       "      <th>sold_to_region_n</th>\n",
       "      <th>eu_industry_n</th>\n",
       "      <th>ec_eu_customer_n</th>\n",
       "      <th>eu_region_n</th>\n",
       "      <th>ec_eu_industry_n</th>\n",
       "      <th>order_intake_amount_eur</th>\n",
       "      <th>sold_to_country_n</th>\n",
       "      <th>ec_eu_customer</th>\n",
       "      <th>ec_eu_country_n</th>\n",
       "    </tr>\n",
       "  </thead>\n",
       "  <tbody>\n",
       "  </tbody>\n",
       "</table>\n",
       "<p>0 rows × 21 columns</p>\n",
       "</div>"
      ],
      "text/plain": [
       "Empty DataFrame\n",
       "Columns: [company_code_n, year_month, Date, FY, customer_group_code, source, bu2, bu_n, sales_person_n, sales_order_so, sold_to_customer, sold_to_customer_n, sold_to_region_n, eu_industry_n, ec_eu_customer_n, eu_region_n, ec_eu_industry_n, order_intake_amount_eur, sold_to_country_n, ec_eu_customer, ec_eu_country_n]\n",
       "Index: []\n",
       "\n",
       "[0 rows x 21 columns]"
      ]
     },
     "execution_count": 96,
     "metadata": {},
     "output_type": "execute_result"
    }
   ],
   "source": [
    "df_orders['sold_to_customer'] = df_orders['sold_to_customer'].astype(str)\n",
    "df_customers['sold_to_customer'] = df_customers['sold_to_customer'].astype(str)\n",
    "df_orders[~df_orders['sold_to_customer'].isin(df_customers['sold_to_customer'].to_list())]"
   ]
  },
  {
   "cell_type": "code",
   "execution_count": 98,
   "id": "8cbc83b4",
   "metadata": {},
   "outputs": [
    {
     "data": {
      "text/plain": [
       "14657"
      ]
     },
     "execution_count": 98,
     "metadata": {},
     "output_type": "execute_result"
    }
   ],
   "source": [
    "len(df_customers)"
   ]
  },
  {
   "cell_type": "code",
   "execution_count": 40,
   "id": "d77e0e81",
   "metadata": {},
   "outputs": [],
   "source": [
    "# for testing purposes I keep this lines\n",
    "wdf = df_customers.copy()\n",
    "dfc = df_orders.copy()"
   ]
  },
  {
   "cell_type": "code",
   "execution_count": 41,
   "id": "28fa360b",
   "metadata": {},
   "outputs": [
    {
     "data": {
      "text/plain": [
       "202769"
      ]
     },
     "execution_count": 41,
     "metadata": {},
     "output_type": "execute_result"
    }
   ],
   "source": [
    "len(dfc)"
   ]
  },
  {
   "cell_type": "code",
   "execution_count": 42,
   "id": "f08e2b85",
   "metadata": {},
   "outputs": [],
   "source": [
    "bu_defin = pd.read_excel('data_files/bu_defin.xlsx')\n",
    "bu_defin = bu_defin.loc[:, 'bu2':]\n",
    "bu_defin['for_bu'] = bu_defin['for_bu'].astype(str)\n",
    "bu_defin['bu2'] = bu_defin['bu2'].astype(str)\n",
    "bu_defin['bu2'] = bu_defin['bu2'].str.strip()"
   ]
  },
  {
   "cell_type": "code",
   "execution_count": 43,
   "id": "01395867",
   "metadata": {},
   "outputs": [],
   "source": [
    "order_data = dfc.loc[:,['company_code_n', 'year_month', 'FY', \n",
    "       'bu2', 'sales_person_n', 'sales_order_so', 'sold_to_customer',\n",
    "       'sold_to_customer_n','order_intake_amount_eur']]\n",
    "\n",
    "order_data['bu2'] = order_data['bu2'].astype(str)\n",
    "order_data['bu2'] = order_data['bu2'].str.strip()\n",
    "\n",
    "# add bu column for future reports\n",
    "order_data = order_data.merge(bu_defin, how='left' )"
   ]
  },
  {
   "cell_type": "code",
   "execution_count": 21,
   "id": "8196dfac",
   "metadata": {},
   "outputs": [
    {
     "data": {
      "text/plain": [
       "202769"
      ]
     },
     "execution_count": 21,
     "metadata": {},
     "output_type": "execute_result"
    }
   ],
   "source": [
    "len(order_data)"
   ]
  },
  {
   "cell_type": "code",
   "execution_count": 44,
   "id": "46781272",
   "metadata": {},
   "outputs": [],
   "source": [
    "order_columns = list(order_data.columns) + ['customer_name', 'indirect_direct', 'tier', 'type', exlpanrter]"
   ]
  },
  {
   "cell_type": "code",
   "execution_count": 45,
   "id": "68310771",
   "metadata": {},
   "outputs": [
    {
     "name": "stdout",
     "output_type": "stream",
     "text": [
      "2\n",
      "202767\n"
     ]
    }
   ],
   "source": [
    "# special case with specific SO for agent\n",
    "agent_so = data_file.special_so\n",
    "agent_so_two = data_file.special_so_two \n",
    "agent_one = data_file.agent_one\n",
    "so_order_data = order_data[(order_data['sales_order_so'] == agent_so) | (order_data['sales_order_so'] == agent_so_two)]\n",
    "print(len(so_order_data))\n",
    "order_data = order_data[~((order_data['sales_order_so'] == agent_so) | (order_data['sales_order_so'] == agent_so_two))]\n",
    "print(len(order_data))\n",
    "\n",
    "so_order_data['customer_name'] = agent_one\n",
    "so_order_data['indirect_direct'] = 'Indirect'\n",
    "so_order_data['tier'] = 'Channel Partner'\n",
    "so_order_data['type'] = 'Agent'"
   ]
  },
  {
   "cell_type": "code",
   "execution_count": 46,
   "id": "0c87b746",
   "metadata": {},
   "outputs": [],
   "source": [
    "# special case with specific cutomers for agent\n",
    "partners_data = wdf.copy()\n",
    "agent_two = data_file.agent_two\n",
    "partners_data.loc[partners_data[exlpanrter].notna(), 'customer_name'] = agent_two\n",
    "partners_data = partners_data.loc[:, ['sold_to_customer', 'agent_person', 'company_code_n', 'sold_to_customer_n','customer_name', \n",
    "       'indirect_direct', 'channel', 'type', 'tier', exlpanrter]]\n",
    "\n",
    "partners_data['sold_to_customer'] = partners_data['sold_to_customer'].astype(str)"
   ]
  },
  {
   "cell_type": "code",
   "execution_count": 47,
   "id": "3980fa8a",
   "metadata": {},
   "outputs": [
    {
     "name": "stdout",
     "output_type": "stream",
     "text": [
      "202767\n",
      "3247\n",
      "199520\n"
     ]
    }
   ],
   "source": [
    "agent_partners = partners_data[partners_data['agent_person'].notna()]\n",
    "# agent sales records preparation\n",
    "agents_order_data = order_data[order_data['sales_person_n'].isin(sales_person_n)]\n",
    "print(len(order_data))\n",
    "print(len(agents_order_data))\n",
    "order_data = order_data[~order_data['sales_person_n'].isin(sales_person_n)]\n",
    "print(len(order_data))\n",
    "agents_order_data = agents_order_data.merge(agent_partners, left_on='sales_person_n', right_on='sold_to_customer_n', how='left')\n",
    "agents_order_data = agents_order_data.filter(regex='^(?!.*_y)')\n",
    "# Exclude '_x' from all column names\n",
    "agents_order_data.columns = agents_order_data.columns.str.replace('_x', '')\n",
    "agents_order_data = agents_order_data.loc[:, order_columns]\n",
    "agents_order_data['type'] = 'Agent'"
   ]
  },
  {
   "cell_type": "code",
   "execution_count": 48,
   "id": "7a54ca85",
   "metadata": {},
   "outputs": [],
   "source": [
    "# all partners except agents data preparation\n",
    "\"\"\"other_order_data = order_data[order_data['sold_to_customer'].isin(partners_data['sold_to_customer'])]\n",
    "print(len(order_data))\n",
    "print(len(other_order_data))\n",
    "checkthis = order_data[~order_data['sold_to_customer'].isin(partners_data['sold_to_customer'])]\n",
    "print(len(checkthis))\"\"\"\n",
    "\n",
    "other_order_data = order_data.copy()\n",
    "\n",
    "other_order_data = other_order_data.merge(partners_data, left_on='sold_to_customer', right_on='sold_to_customer', how='left')\n",
    "other_order_data = other_order_data.filter(regex='^(?!.*_y)')\n",
    "# Exclude '_x' from all column names\n",
    "other_order_data.columns = other_order_data.columns.str.replace('_x', '')\n",
    "other_order_data = other_order_data.loc[:, order_columns]\n",
    "# Update values in columns based on the specific value\n",
    "other_order_data.loc[((other_order_data['indirect_direct'] == 'Direct') & ( (other_order_data['tier'].notna()) | (other_order_data[exlpanrter].notna()) )), 'tier'] = 'Channel Partner'\n",
    "other_order_data.loc[((other_order_data['indirect_direct'] == 'Direct') & ( (other_order_data['tier'].notna()) | (other_order_data[exlpanrter].notna()) )), 'type'] = 'Agent'                                                                       "
   ]
  },
  {
   "cell_type": "code",
   "execution_count": null,
   "id": "e6394145",
   "metadata": {},
   "outputs": [],
   "source": [
    "checkthis['sold_to_customer_n'].unique()"
   ]
  },
  {
   "cell_type": "code",
   "execution_count": 49,
   "id": "650d045a",
   "metadata": {},
   "outputs": [
    {
     "data": {
      "text/plain": [
       "199520"
      ]
     },
     "execution_count": 49,
     "metadata": {},
     "output_type": "execute_result"
    }
   ],
   "source": [
    "len(other_order_data)"
   ]
  },
  {
   "cell_type": "code",
   "execution_count": 38,
   "id": "f38a1eea",
   "metadata": {},
   "outputs": [
    {
     "data": {
      "text/plain": [
       "-73"
      ]
     },
     "execution_count": 38,
     "metadata": {},
     "output_type": "execute_result"
    }
   ],
   "source": [
    "199445 + 3247 + 2 - 202767"
   ]
  },
  {
   "cell_type": "code",
   "execution_count": 50,
   "id": "6f598255",
   "metadata": {},
   "outputs": [],
   "source": [
    "# combining all the sales records\n",
    "full_data = pd.concat([other_order_data, agents_order_data, so_order_data])\n",
    "full_data.reset_index(inplace=True, drop=True)\n",
    "#full_data.drop_duplicates(inplace=True)"
   ]
  },
  {
   "cell_type": "code",
   "execution_count": 51,
   "id": "77cd4e43",
   "metadata": {},
   "outputs": [
    {
     "data": {
      "text/plain": [
       "202769"
      ]
     },
     "execution_count": 51,
     "metadata": {},
     "output_type": "execute_result"
    }
   ],
   "source": [
    "len(full_data)"
   ]
  },
  {
   "cell_type": "code",
   "execution_count": 52,
   "id": "a12a8821",
   "metadata": {},
   "outputs": [],
   "source": [
    "writer = pd.ExcelWriter('data_files/outcome/full_data.xlsx')\n",
    "# Save each DataFrame to a separate sheet in the same file\n",
    "full_data.to_excel(writer, sheet_name='results', index=False)\n",
    "# Save the file\n",
    "writer.close()"
   ]
  },
  {
   "cell_type": "code",
   "execution_count": 86,
   "id": "481f97fd",
   "metadata": {},
   "outputs": [],
   "source": [
    "conn = sqlite3.connect('data_files/order_data.db')\n",
    "query = \"SELECT * FROM orders\"  # Replace 'tablename' with your table name\n",
    "df_orders = pd.read_sql_query(query, conn)\n",
    "conn.close()"
   ]
  },
  {
   "cell_type": "code",
   "execution_count": 76,
   "id": "3117a8bb",
   "metadata": {},
   "outputs": [],
   "source": [
    "conn = sqlite3.connect('data_files/order_data.db')\n",
    "query = \"DELETE FROM orders WHERE year_month = 202305\"\n",
    "conn.execute(query)\n",
    "conn.commit()\n",
    "conn.close()"
   ]
  },
  {
   "cell_type": "code",
   "execution_count": 75,
   "id": "6110748f",
   "metadata": {},
   "outputs": [
    {
     "data": {
      "text/plain": [
       "201027"
      ]
     },
     "execution_count": 75,
     "metadata": {},
     "output_type": "execute_result"
    }
   ],
   "source": [
    "len(df_orders) - len(df_orders[df_orders['year_month'] == 202305])"
   ]
  },
  {
   "cell_type": "code",
   "execution_count": 87,
   "id": "729a3fa0",
   "metadata": {},
   "outputs": [
    {
     "data": {
      "text/plain": [
       "200981"
      ]
     },
     "execution_count": 87,
     "metadata": {},
     "output_type": "execute_result"
    }
   ],
   "source": [
    "len(df_orders)"
   ]
  },
  {
   "cell_type": "code",
   "execution_count": 83,
   "id": "c2be3a54",
   "metadata": {},
   "outputs": [
    {
     "data": {
      "text/plain": [
       "200989"
      ]
     },
     "execution_count": 83,
     "metadata": {},
     "output_type": "execute_result"
    }
   ],
   "source": [
    "201027 - 38"
   ]
  },
  {
   "cell_type": "code",
   "execution_count": 88,
   "id": "cd14350f",
   "metadata": {},
   "outputs": [
    {
     "data": {
      "text/html": [
       "<div>\n",
       "<style scoped>\n",
       "    .dataframe tbody tr th:only-of-type {\n",
       "        vertical-align: middle;\n",
       "    }\n",
       "\n",
       "    .dataframe tbody tr th {\n",
       "        vertical-align: top;\n",
       "    }\n",
       "\n",
       "    .dataframe thead th {\n",
       "        text-align: right;\n",
       "    }\n",
       "</style>\n",
       "<table border=\"1\" class=\"dataframe\">\n",
       "  <thead>\n",
       "    <tr style=\"text-align: right;\">\n",
       "      <th></th>\n",
       "      <th>company_code_n</th>\n",
       "      <th>year_month</th>\n",
       "      <th>Date</th>\n",
       "      <th>FY</th>\n",
       "      <th>customer_group_code</th>\n",
       "      <th>source</th>\n",
       "      <th>bu2</th>\n",
       "      <th>bu_n</th>\n",
       "      <th>sales_person_n</th>\n",
       "      <th>sales_order_so</th>\n",
       "      <th>...</th>\n",
       "      <th>sold_to_customer_n</th>\n",
       "      <th>sold_to_region_n</th>\n",
       "      <th>eu_industry_n</th>\n",
       "      <th>ec_eu_customer_n</th>\n",
       "      <th>eu_region_n</th>\n",
       "      <th>ec_eu_industry_n</th>\n",
       "      <th>order_intake_amount_eur</th>\n",
       "      <th>sold_to_country_n</th>\n",
       "      <th>ec_eu_customer</th>\n",
       "      <th>ec_eu_country_n</th>\n",
       "    </tr>\n",
       "  </thead>\n",
       "  <tbody>\n",
       "  </tbody>\n",
       "</table>\n",
       "<p>0 rows × 21 columns</p>\n",
       "</div>"
      ],
      "text/plain": [
       "Empty DataFrame\n",
       "Columns: [company_code_n, year_month, Date, FY, customer_group_code, source, bu2, bu_n, sales_person_n, sales_order_so, sold_to_customer, sold_to_customer_n, sold_to_region_n, eu_industry_n, ec_eu_customer_n, eu_region_n, ec_eu_industry_n, order_intake_amount_eur, sold_to_country_n, ec_eu_customer, ec_eu_country_n]\n",
       "Index: []\n",
       "\n",
       "[0 rows x 21 columns]"
      ]
     },
     "execution_count": 88,
     "metadata": {},
     "output_type": "execute_result"
    }
   ],
   "source": [
    "df_orders['sold_to_customer_n'] = df_orders['sold_to_customer_n'].fillna('')\n",
    "df_orders[df_orders['sold_to_customer_n'].str.contains('Yokogawa')] "
   ]
  },
  {
   "cell_type": "code",
   "execution_count": 85,
   "id": "e381880f",
   "metadata": {},
   "outputs": [],
   "source": [
    "conn = sqlite3.connect('data_files/order_data.db')\n",
    "query = \"DELETE FROM orders WHERE sold_to_customer_n LIKE '%Yokogawa%'\"\n",
    "conn.execute(query)\n",
    "conn.commit()\n",
    "conn.close()"
   ]
  },
  {
   "cell_type": "code",
   "execution_count": 90,
   "id": "8b630672",
   "metadata": {},
   "outputs": [],
   "source": [
    "df_orders['sold_to_customer'] = df_orders['sold_to_customer'].astype(str)\n",
    "df_customers['sold_to_customer'] = df_customers['sold_to_customer'].astype(str)\n",
    "xxx = df_orders[~df_orders['sold_to_customer'].isin(df_customers['sold_to_customer'].to_list())]"
   ]
  },
  {
   "cell_type": "code",
   "execution_count": 93,
   "id": "b08f05c7",
   "metadata": {},
   "outputs": [],
   "source": [
    "xxx = xxx.loc[:, ['company_code_n', 'customer_group_code', 'sold_to_customer', 'sold_to_customer_n']]"
   ]
  },
  {
   "cell_type": "code",
   "execution_count": 94,
   "id": "f737d046",
   "metadata": {},
   "outputs": [],
   "source": [
    "writer = pd.ExcelWriter('data_files/outcome/xxx.xlsx')\n",
    "# Save each DataFrame to a separate sheet in the same file\n",
    "xxx.to_excel(writer, sheet_name='results', index=False)\n",
    "# Save the file\n",
    "writer.close()"
   ]
  }
 ],
 "metadata": {
  "kernelspec": {
   "display_name": "Python 3 (ipykernel)",
   "language": "python",
   "name": "python3"
  },
  "language_info": {
   "codemirror_mode": {
    "name": "ipython",
    "version": 3
   },
   "file_extension": ".py",
   "mimetype": "text/x-python",
   "name": "python",
   "nbconvert_exporter": "python",
   "pygments_lexer": "ipython3",
   "version": "3.10.9"
  }
 },
 "nbformat": 4,
 "nbformat_minor": 5
}
