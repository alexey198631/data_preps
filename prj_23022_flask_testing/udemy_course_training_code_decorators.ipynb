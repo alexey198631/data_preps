{
 "cells": [
  {
   "cell_type": "markdown",
   "id": "705a9112",
   "metadata": {},
   "source": [
    "## Decorators\n",
    "\n",
    "Decorators can be used to add functionality like logging, caching, timing, authorization, and more."
   ]
  },
  {
   "cell_type": "markdown",
   "id": "97909688",
   "metadata": {},
   "source": [
    "Coding exercise: decorators\n",
    "\n",
    "We want you to build a decorator check_permission() that checks the user's role  (access level) and only allows 'admin ' to delete the database. If the user is not an admin, the decorator will raise a PermissionError, which is a built-in Python error, like the ones we have already seen. You may include an error message like You are not an admin. along with the PermissionError.\n",
    "\n",
    "Then you will need to create a function secure_delete_database() using the check_permission() decorator and the original delete_database() function."
   ]
  },
  {
   "cell_type": "code",
   "execution_count": 25,
   "id": "405a84f2",
   "metadata": {},
   "outputs": [
    {
     "name": "stdout",
     "output_type": "stream",
     "text": [
      "Database deleted!\n"
     ]
    }
   ],
   "source": [
    "# ---- Do not change the code below ----\n",
    "# User identity dictionary\n",
    "user = {\n",
    "    'id': 1,\n",
    "    'name': 'jose',\n",
    "    'role': 'admin'\n",
    "}\n",
    "\n",
    "# delete_database() function, DO NOT CHANGE\n",
    "def delete_database():\n",
    "    # perform deletion\n",
    "    print('Database deleted!')\n",
    "\n",
    "# ---- Do not change the code above ----\n",
    "\n",
    "\n",
    "# You code starts here:\n",
    "# Define a check_permission() decorator:\n",
    "def check_permission(func):\n",
    "    if user.get('role') == 'admin':\n",
    "        return func()\n",
    "    else:\n",
    "        raise PermissionError(\"You don't have permission to delete this database.\")\n",
    "\n",
    "@check_permission\n",
    "def secure_delete_database():\n",
    "    return delete_database()\n",
    "\n",
    "# Use the check_permission() decorator and delete_database() function to create a secure_delete_database() function"
   ]
  },
  {
   "cell_type": "code",
   "execution_count": 22,
   "id": "1b545368",
   "metadata": {},
   "outputs": [
    {
     "name": "stdout",
     "output_type": "stream",
     "text": [
      "Database deleted!\n"
     ]
    }
   ],
   "source": [
    "# more flexible and reusable way to make the decorator\n",
    "\n",
    "def check_permission(func):\n",
    "    def wrapper():\n",
    "        if user.get('role') == 'admin':\n",
    "            return func()\n",
    "        else:\n",
    "            raise PermissionError('You are not an admin.')\n",
    "    return wrapper\n",
    "\n",
    "secure_delete_database = check_permission(delete_database)\n",
    "secure_delete_database()"
   ]
  },
  {
   "cell_type": "markdown",
   "id": "b72b3c83",
   "metadata": {},
   "source": [
    "Exercise: a generic access control decorator\n",
    "\n",
    "When we are building a complicated system, it often involves many users with different roles (access levels). And for different roles, we may want to grant different privileges. For example, we may only want our admins to be able to delete some important files, while a regular user should not be able to modify them. This could be done without the help of a decorator indeed. However, there might be other operations that we would expect the same access control, and it could be repetitive to write the same piece of code that checks the user's access level in each of these functions.\n",
    "\n",
    "In this exercise, we will be dealing exactly with this problem. We ask you to create an @access_control decorator that checks the user's access level and decides whether that user has the privilege to call the function being decorated.\n",
    "\n",
    "Your decorator would work like this:\n",
    "\n",
    "    @access_control(access_level)\n",
    "    def delete_file(filename):\n",
    "        # perform the deletion operation\n",
    "        print(f'{filename} is deleted!')\n",
    "\n",
    "In the above example, delete_file() is a very dangerous but essential function that should only work for our system admins. We would want to wrap it with the @access_control decorator and this decorator would take in an access_level argument that sets the bar to decide whether one can call the function or not.\n",
    "\n",
    "Your decorator should meet the following requirements:\n",
    "\n",
    "    It takes in an argument access_level and uses it to compare with the user's current access level .\n",
    "\n",
    "    You can get the current user's role, represented by an integer, by calling the get_current_user_role() function. You don't need to implement this function, we will take care of it for you.\n",
    "\n",
    "    You may assume smaller access level value would have higher privilege. For example, 0 - admin, 1 - user, 2 - guest. So you can check if the user has proper access level like this:\n",
    "\n",
    "    if get_current_user_role() <= access_level:\n",
    "        # do something\n",
    "    else:\n",
    "        # forbid\n",
    "\n",
    "    If the user has the proper access level, we allow the user to call the function (that has this decorator).\n",
    "\n",
    "    If the user does not have a proper access level, we raise a PermissionError with the message You do not have the proper access level.\n",
    "\n",
    "    The decorator should be generic, which means it can be applied to any function that has any amount of arguments (or key word arguments).\n",
    "\n",
    "    Your decorator should keep the original function's __name__ and __doc__ strings.\n",
    "\n",
    "P.S: PermissionError is a Python built-in error, which works like the ones we've already seen, such as the ValueError."
   ]
  },
  {
   "cell_type": "code",
   "execution_count": 26,
   "id": "275a87e2",
   "metadata": {},
   "outputs": [],
   "source": [
    "\"\"\"\n",
    "Implement a @access_control decorator that can be used like this:\n",
    "@access_control(access_level)\n",
    "def delete_some_file(filename):\n",
    "    # perform the deletion operation\n",
    "    print('{} is deleted!'.format(filename))\n",
    "Your decorator should meet the following requirements:\n",
    "- It takes in an argument `access_level` and would compare the current user's role with the access level.\n",
    "- You can get the current user's role, represented by an integer, by calling the `get_current_user_role()` function.\n",
    "    You don't need to implement this function, we will take care of it for you.\n",
    "- You may assume smaller access level value would have higher privilege. For example, 0 - admin, 1 - user, 2 - guest.\n",
    "    So you can check if the user has proper access level like this:\n",
    "if get_current_user_role() <= access_level:\n",
    "    # do something\n",
    "else:\n",
    "    # forbid\n",
    "- If the user has the proper access level, we allow the user to call the function (that has this decorator).\n",
    "- If the user does not have a proper access level, we raise a `PermissionError` with the message:\n",
    "    'You do not have the proper access level.'\n",
    "- The decorator should be generic, which means it can be applied to any function that has any amount of\n",
    "    arguments (or key word arguments).\n",
    "- Your decorator should keep the original function's `__name__` and `__doc__` strings.\n",
    "\"\"\"\n",
    "from functools import wraps\n",
    "\n",
    "# DO NOT CHANGE\n",
    "def get_current_user_role() -> int:\n",
    "    # return the current user's role, represented by an int\n",
    "    # for example, 0 - admin, 1 - user, 2 - guest\n",
    "    # You don't need to change this function, we will replace it with a real function that returns the user's role\n",
    "    return 0\n",
    "\n",
    "\n",
    "def access_control(access_level: int):\n",
    "    # You code starts here:\n",
    "    def outer_wrapper(func):\n",
    "        @wraps(func)\n",
    "        def inner_wrapper(*arg, **kwargs):\n",
    "            if get_current_user_role() <= access_level:\n",
    "                return func(*arg, **kwargs)\n",
    "            else:\n",
    "                raise PermissionError('You do not have the proper access level.')\n",
    "            return inner_wrapper\n",
    "        return outer_wrapper"
   ]
  },
  {
   "cell_type": "code",
   "execution_count": 40,
   "id": "604c49f6",
   "metadata": {},
   "outputs": [
    {
     "name": "stdout",
     "output_type": "stream",
     "text": [
      "User's username did not start with 'j'.\n",
      "None\n"
     ]
    }
   ],
   "source": [
    "import functools\n",
    "\n",
    "# Try the various combinations below!\n",
    "user = {'username': 'jo', 'access_level': 'admin'}\n",
    "# user = {'username': 'bob', 'access_level': 'admin'}\n",
    "# user = {'username': 'jose123', 'access_level': 'user'}\n",
    "#user = {'username': 'bob', 'access_level': 'user'}\n",
    "\n",
    "\n",
    "def user_name_starts_with_j(func):\n",
    "    \"\"\"\n",
    "    This decorator only runs the function passed if the user's username starts with a j.\n",
    "    \"\"\"\n",
    "    @functools.wraps(func)\n",
    "    def secure_func(*args, **kwargs):\n",
    "        if user.get('username').startswith('j'):\n",
    "            return func(*args, **kwargs)\n",
    "        else:\n",
    "            print(\"User's username did not start with 'j'.\")\n",
    "    return secure_func\n",
    "\n",
    "\n",
    "def user_has_permission(func):\n",
    "    \"\"\"\n",
    "    This decorator only runs the function passed if the user's access_level is admin.\n",
    "    \"\"\"\n",
    "    @functools.wraps(func)\n",
    "    def secure_func(*args, **kwargs):\n",
    "        if user.get('access_level') == 'admin':\n",
    "            return func(*args, **kwargs)\n",
    "        else:\n",
    "            print(\"User's access_level was not 'admin'.\")\n",
    "    return secure_func\n",
    "\n",
    "@user_name_starts_with_j\n",
    "@user_has_permission\n",
    "def double_decorator():\n",
    "    return 'I ran.'\n",
    "\n",
    "print(double_decorator())"
   ]
  },
  {
   "cell_type": "code",
   "execution_count": 1,
   "id": "ffb6465e",
   "metadata": {},
   "outputs": [
    {
     "name": "stdout",
     "output_type": "stream",
     "text": [
      "HELLO\n"
     ]
    }
   ],
   "source": [
    "def uppercase_decorator(function):\n",
    "    def wrapper():\n",
    "        result = function()\n",
    "        return result.upper()\n",
    "    return wrapper\n",
    "\n",
    "@uppercase_decorator\n",
    "def say_hello():\n",
    "    return \"hello\"\n",
    "\n",
    "print(say_hello())"
   ]
  },
  {
   "cell_type": "code",
   "execution_count": 2,
   "id": "fbf08099",
   "metadata": {},
   "outputs": [],
   "source": [
    "say_hello = uppercase_decorator(say_hello)"
   ]
  },
  {
   "cell_type": "code",
   "execution_count": 5,
   "id": "3f93f9da",
   "metadata": {},
   "outputs": [
    {
     "name": "stdout",
     "output_type": "stream",
     "text": [
      "HELLO\n"
     ]
    }
   ],
   "source": [
    "print(say_hello())"
   ]
  },
  {
   "cell_type": "code",
   "execution_count": 7,
   "id": "9c718fa6",
   "metadata": {},
   "outputs": [
    {
     "name": "stdout",
     "output_type": "stream",
     "text": [
      "Hello, Alex!\n",
      "Hello, Alex!\n",
      "Hello, Alex!\n"
     ]
    }
   ],
   "source": [
    "def repeat(n):\n",
    "    def decorator_function(function):\n",
    "        def wrapper(*args, **kwargs):\n",
    "            for _ in range(n):\n",
    "                result = function(*args, **kwargs)\n",
    "            return result\n",
    "        return wrapper\n",
    "    return decorator_function\n",
    "\n",
    "@repeat(3)\n",
    "def greet(name):\n",
    "    print(f\"Hello, {name}!\")\n",
    "\n",
    "greet(\"Alex\")"
   ]
  },
  {
   "cell_type": "code",
   "execution_count": 9,
   "id": "aa7d29a0",
   "metadata": {},
   "outputs": [
    {
     "name": "stdout",
     "output_type": "stream",
     "text": [
      "For a we have эй.\n",
      "For b we have би.\n",
      "For c we have си.\n"
     ]
    }
   ],
   "source": [
    "def test_print(**kwargs):\n",
    "    for k, v in kwargs.items():\n",
    "        print(f'For {k} we have {v}.')\n",
    "        \n",
    "test_print(a='эй', b='би', c='си')"
   ]
  },
  {
   "cell_type": "code",
   "execution_count": 10,
   "id": "8b6567f0",
   "metadata": {},
   "outputs": [
    {
     "name": "stdout",
     "output_type": "stream",
     "text": [
      "For a we have эй.\n",
      "For b we have би.\n",
      "For c we have си.\n"
     ]
    }
   ],
   "source": [
    "test_print(**{'a': 'эй', 'b': 'би', 'c': 'си'})"
   ]
  },
  {
   "cell_type": "code",
   "execution_count": 28,
   "id": "88818938",
   "metadata": {},
   "outputs": [
    {
     "name": "stdout",
     "output_type": "stream",
     "text": [
      "<b><i>Hello, world!</i></b>\n"
     ]
    }
   ],
   "source": [
    "def make_bold(func):\n",
    "    def wrapper():\n",
    "        return \"<b>\" + func() + \"</b>\"\n",
    "    return wrapper\n",
    "\n",
    "def make_italic(func):\n",
    "    def wrapper():\n",
    "        return \"<i>\" + func() + \"</i>\"\n",
    "    return wrapper\n",
    "\n",
    "@make_bold\n",
    "@make_italic\n",
    "def say_hello():\n",
    "    return \"Hello, world!\"\n",
    "\n",
    "print(say_hello())"
   ]
  },
  {
   "cell_type": "code",
   "execution_count": 43,
   "id": "40b50a9c",
   "metadata": {},
   "outputs": [
    {
     "name": "stdout",
     "output_type": "stream",
     "text": [
      "1\n",
      "2\n",
      "a: 3\n",
      "b: 4\n"
     ]
    }
   ],
   "source": [
    "def example_func(*args, **kwargs):\n",
    "    for arg in args:\n",
    "        print(arg)\n",
    "    for key, value in kwargs.items():\n",
    "        print(f\"{key}: {value}\")\n",
    "\n",
    "example_func(1, 2, a=3, b=4)"
   ]
  },
  {
   "cell_type": "code",
   "execution_count": 44,
   "id": "565ab48a",
   "metadata": {},
   "outputs": [
    {
     "name": "stdout",
     "output_type": "stream",
     "text": [
      "1\n",
      "2\n"
     ]
    }
   ],
   "source": [
    "example_func(1, 2)"
   ]
  },
  {
   "cell_type": "code",
   "execution_count": 45,
   "id": "80d6ff0e",
   "metadata": {},
   "outputs": [
    {
     "name": "stdout",
     "output_type": "stream",
     "text": [
      "a: 3\n",
      "b: 4\n"
     ]
    }
   ],
   "source": [
    "example_func(a=3, b=4)"
   ]
  }
 ],
 "metadata": {
  "kernelspec": {
   "display_name": "Python 3 (ipykernel)",
   "language": "python",
   "name": "python3"
  },
  "language_info": {
   "codemirror_mode": {
    "name": "ipython",
    "version": 3
   },
   "file_extension": ".py",
   "mimetype": "text/x-python",
   "name": "python",
   "nbconvert_exporter": "python",
   "pygments_lexer": "ipython3",
   "version": "3.10.9"
  }
 },
 "nbformat": 4,
 "nbformat_minor": 5
}
