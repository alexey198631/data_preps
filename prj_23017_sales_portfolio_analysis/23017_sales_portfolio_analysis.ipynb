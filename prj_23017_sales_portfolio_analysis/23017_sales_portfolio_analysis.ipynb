{
 "cells": [
  {
   "cell_type": "code",
   "execution_count": 1,
   "id": "3f559222",
   "metadata": {},
   "outputs": [],
   "source": [
    "import pandas as pd\n",
    "import numpy as np\n",
    "import importlib\n",
    "\n",
    "# keeping company information in additional file\n",
    "import data_file"
   ]
  },
  {
   "cell_type": "code",
   "execution_count": null,
   "id": "07c5ecda",
   "metadata": {},
   "outputs": [],
   "source": [
    "importlib.reload(data_file)"
   ]
  },
  {
   "cell_type": "code",
   "execution_count": 3,
   "id": "02481953",
   "metadata": {},
   "outputs": [],
   "source": [
    "data_set = pd.read_excel('data_files/full_order_data_set.xlsx')"
   ]
  },
  {
   "cell_type": "code",
   "execution_count": 12,
   "id": "b04d231a",
   "metadata": {},
   "outputs": [],
   "source": [
    "cee_affiliates = data_file.cee_affiliates # list of target affiliates"
   ]
  },
  {
   "cell_type": "code",
   "execution_count": 14,
   "id": "4313d9c1",
   "metadata": {},
   "outputs": [],
   "source": [
    "target_df = data_set[data_set['company_code_n'].isin(cee_affiliates)]"
   ]
  },
  {
   "cell_type": "code",
   "execution_count": 136,
   "id": "8ace1468",
   "metadata": {},
   "outputs": [],
   "source": [
    "def group_identifier(dataframe, key, parameter):\n",
    "    \n",
    "    df = dataframe.copy()\n",
    "    \n",
    "    df['tier'] = df['tier'].fillna('Direct')\n",
    "    \n",
    "    if parameter == 'FY':\n",
    "        df['FY'] = pd.to_datetime(df['FY']).dt.year\n",
    "    \n",
    "    # Group the DataFrame by sales_person_n and for_bu, and calculate the sum of order_intake_amount_eur\n",
    "    grouped_df = df.groupby([key, 'tier', parameter])['order_intake_amount_eur'].sum().reset_index()\n",
    "\n",
    "    # Calculate the total order intake for each salesperson\n",
    "    total_order_intake = grouped_df.groupby(key)['order_intake_amount_eur'].sum().reset_index()\n",
    "\n",
    "    # Sort salespersons by their total sum\n",
    "    sorted_df = total_order_intake.sort_values('order_intake_amount_eur', ascending=False)\n",
    "\n",
    "    # Calculate the cumulative sum and the percentage of total order intake\n",
    "    sorted_df['cumulative_sum'] = sorted_df['order_intake_amount_eur'].cumsum()\n",
    "    sorted_df['percentage'] = sorted_df['cumulative_sum'] / sorted_df['order_intake_amount_eur'].sum()\n",
    "\n",
    "    # Assign identifiers 'A' or 'B' based on the percentage\n",
    "    sorted_df['identifier'] = 'A'\n",
    "    sorted_df.loc[sorted_df['percentage'] >= 0.8, 'identifier'] = 'B'\n",
    "\n",
    "    # Merge the identifier column with the sorted_df\n",
    "    merged_df = pd.merge(grouped_df, sorted_df[[key, 'identifier']], on=key)\n",
    "\n",
    "    # Pivot the merged_df to have for_bu as columns and sales_person_n as index\n",
    "    pivot_df = merged_df.pivot(index=[key, 'tier'], columns=parameter, values='order_intake_amount_eur')\n",
    "    \n",
    "    pivot_df.reset_index(inplace=True)\n",
    "\n",
    "    # Sort the pivot_df columns in ascending order\n",
    "    #pivot_df = pivot_df[sorted(pivot_df.columns)]\n",
    "    \n",
    "    # Sort the pivot_df rows based on the total sum in descending order\n",
    "    pivot_df['Total'] = pivot_df.sum(axis=1)\n",
    "    pivot_df = pivot_df.sort_values('Total', ascending=False)\n",
    "    \n",
    "    \n",
    "    columns = list(pivot_df.columns)\n",
    "    \n",
    "\n",
    "    # Add the identifier column to the pivot_df\n",
    "    pivot_df = pd.merge(pivot_df, sorted_df[[key, 'identifier']], left_on=key, right_on=key)\n",
    "    \n",
    "    \n",
    "    column_order = ['identifier'] + columns\n",
    "     \n",
    "    pivot_df = pivot_df[column_order]\n",
    "    \n",
    "    \n",
    "    if parameter == 'FY':\n",
    "        # Check for key with 0 or NaN sum for the last three years and assign 'x' to the new identifier column\n",
    "        pivot_df['check_status'] = ''\n",
    "        mask = pivot_df[column_order[-4: -1]].isna().all(axis=1) | (pivot_df[column_order[-4: -1]].sum(axis=1) == 0)\n",
    "        pivot_df.loc[mask, 'check_status'] = 'x'\n",
    "    \n",
    "    \n",
    "    \n",
    "    return pivot_df   "
   ]
  },
  {
   "cell_type": "code",
   "execution_count": 137,
   "id": "de0513dc",
   "metadata": {},
   "outputs": [],
   "source": [
    "def market_analysis_data_prep(data_df, target_affiliate):\n",
    "    df = data_df[data_df['company_code_n']==target_affiliate]\n",
    "    \n",
    "    \n",
    "    # analysis of how sales person contribute to bu orders \n",
    "    \n",
    "    sales_person_bu_orders = group_identifier(df,'sales_person_n' ,'for_bu')\n",
    "    sales_person_fy_orders = group_identifier(df, 'sales_person_n', 'FY')\n",
    "    customer_name_bu_orders = group_identifier(df,'sold_to_customer_n' ,'for_bu')\n",
    "    customer_name_fy_orders = group_identifier(df, 'sold_to_customer_n', 'FY')\n",
    "    \n",
    "    return sales_person_bu_orders, sales_person_fy_orders, customer_name_bu_orders, customer_name_fy_orders"
   ]
  },
  {
   "cell_type": "code",
   "execution_count": null,
   "id": "68c5c007",
   "metadata": {},
   "outputs": [],
   "source": [
    "# Create Excel writer object\n",
    "writer = pd.ExcelWriter('outcome/sales_summary.xlsx')\n",
    "\n",
    "for affiliate in cee_affiliates:\n",
    "    sales_person_bu_orders, sales_person_fy_orders, customer_name_bu_orders, customer_name_fy_orders = market_analysis_data_prep(data_set, affiliate)\n",
    "    \n",
    "    # Write dataframe to a new sheet in the Excel file\n",
    "    sales_person_bu_orders.to_excel(writer, sheet_name=f'bu_{affiliate}', index=False)\n",
    "    sales_person_fy_orders.to_excel(writer, sheet_name=f'fy_{affiliate}', index=False)\n",
    "    customer_name_bu_orders.to_excel(writer, sheet_name=f'cust_bu_{affiliate}', index=False)\n",
    "    customer_name_fy_orders.to_excel(writer, sheet_name=f'cust_fy_{affiliate}', index=False)\n",
    "\n",
    "\n",
    "# Save the Excel file\n",
    "writer.close()"
   ]
  }
 ],
 "metadata": {
  "kernelspec": {
   "display_name": "Python 3 (ipykernel)",
   "language": "python",
   "name": "python3"
  },
  "language_info": {
   "codemirror_mode": {
    "name": "ipython",
    "version": 3
   },
   "file_extension": ".py",
   "mimetype": "text/x-python",
   "name": "python",
   "nbconvert_exporter": "python",
   "pygments_lexer": "ipython3",
   "version": "3.10.9"
  }
 },
 "nbformat": 4,
 "nbformat_minor": 5
}
